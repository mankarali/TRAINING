{
 "cells": [
  {
   "cell_type": "markdown",
   "id": "50e6ddbb-52d3-4a02-9b69-100a4181e3b0",
   "metadata": {},
   "source": [
    "# DS107 Big Data : Lesson Ten Companion Notebook"
   ]
  },
  {
   "cell_type": "markdown",
   "id": "d1bd4bfc-9b15-4b80-87b4-b8b60eb56371",
   "metadata": {},
   "source": [
    "### Table of Contents <a class=\"anchor\" id=\"DS107L10_toc\"></a>\n",
    "\n",
    "* [Table of Contents](#DS107L10_toc)\n",
    "    * [Page 1 - Final Project](#DS107L10_page_1)\n",
    "    * [Page 2 - Lesson 10 Hands-On](#DS107L10_page_2)\n",
    "    "
   ]
  },
  {
   "cell_type": "markdown",
   "id": "ef5a8c65-ed48-4354-a257-e01b0fd733d4",
   "metadata": {},
   "source": [
    "<hr style=\"height:10px;border-width:0;color:gray;background-color:gray\">\n",
    "\n",
    "# Page 1 - Final Project<a class=\"anchor\" id=\"DS107L10_page_1\"></a>\n",
    "\n",
    "[Back to Top](#DS107L10_toc)\n",
    "\n",
    "<hr style=\"height:10px;border-width:0;color:gray;background-color:gray\">"
   ]
  },
  {
   "cell_type": "code",
   "execution_count": 1,
   "id": "1845f3b1-c286-4844-96c6-fd6bce5f034f",
   "metadata": {},
   "outputs": [
    {
     "data": {
      "text/html": [
       "\n",
       "        <iframe\n",
       "            width=\"720\"\n",
       "            height=\"480\"\n",
       "            src=\"https://player.vimeo.com/video/461912376\"\n",
       "            frameborder=\"0\"\n",
       "            allowfullscreen\n",
       "            \n",
       "        ></iframe>\n",
       "        "
      ],
      "text/plain": [
       "<IPython.lib.display.VimeoVideo at 0x2882e92d5e0>"
      ]
     },
     "execution_count": 1,
     "metadata": {},
     "output_type": "execute_result"
    }
   ],
   "source": [
    "from IPython.display import VimeoVideo\n",
    "# Tutorial Video Name: Final project review\n",
    "VimeoVideo('461912376', width=720, height=480)"
   ]
  },
  {
   "cell_type": "markdown",
   "id": "5b6ad526-95fa-43c4-bc43-1fe807708ed3",
   "metadata": {},
   "source": [
    "# Final Project\n",
    "\n",
    "The Big Data module has introduced you to the various topics of big data. Now it's time to create the final project. Here, you will apply the knowledge learned to create a working big data project."
   ]
  },
  {
   "cell_type": "markdown",
   "id": "7990ac7a-5a2f-4744-af14-1b7e385ea484",
   "metadata": {},
   "source": [
    "<hr style=\"height:10px;border-width:0;color:gray;background-color:gray\">\n",
    "\n",
    "# Page 2 - Lesson 10 Hands-On<a class=\"anchor\" id=\"DS107L10_page_2\"></a>\n",
    "\n",
    "[Back to Top](#DS107L10_toc)\n",
    "\n",
    "<hr style=\"height:10px;border-width:0;color:gray;background-color:gray\">\n"
   ]
  },
  {
   "cell_type": "markdown",
   "id": "612429df-e4ef-4d85-8460-5bc8914079c3",
   "metadata": {},
   "source": [
    "\n",
    "\n",
    "This Hands-­On **will** be graded, so make sure you complete each part. When you are done, please submit one document with all of your findings for grading.\n",
    "\n",
    "---\n",
    "\n",
    "## Part I\n",
    "\n",
    "Using Hive, count how many accidents occur for each type of vehicle (`Vehicle Body Type`). \n",
    "\n",
    "Use this data on **[Motor Vehicle Crashes](https://repo.exeterlms.com/documents/V2/DataScience/Big-Data/MVC-10k.zip)**.  Here is the information about the columns: \n",
    "\n",
    "- `Year` \n",
    "- `Case Vehicle ID` \n",
    "- `Vehicle Body Type` \n",
    "- `Registration Class` \n",
    "- `Action Prior to Accident`\n",
    "- `Type / Axles of Truck or Bus`\n",
    "- `Direction of Travel` \n",
    "- `Fuel Type` \n",
    "- `Vehicle Year`\n",
    "- `State of Registration` \n",
    "- `Number of Occupants` \n",
    "- `Engine Cylinders` \n",
    "- `Vehicle Make` \n",
    "- `Contributing Factor 1` \n",
    "- `Contributing Factor 1 Description` \n",
    "- `Contributing Factor 2` \n",
    "- `Contributing Factor 2 Description` \n",
    "- `Event Type` \n",
    "- `Partial VIN` \n",
    "\n",
    "---\n",
    "\n",
    "## Part II\n",
    "\n",
    "Using Spark MLib, predict the `condition_code` for asteroids.  It will be up to you what variables to include and what hyperparameters you should utilize.\n",
    "\n",
    "Use this data on **[asteroids](https://repo.exeterlms.com/documents/V2/DataScience/Big-Data/asteroids4.zip)**.\n",
    "\n",
    "<div class=\"panel panel-info\">\n",
    "    <div class=\"panel-heading\">\n",
    "        <h3 class=\"panel-title\">Tip!</h3>\n",
    "    </div>\n",
    "    <div class=\"panel-body\">\n",
    "        <p>It will be easier to remove any extraneous columns in Excel before you load your data into HDFS.</p>\n",
    "    </div>\n",
    "</div>\n",
    "\n",
    "\n",
    "For both parts, attach a short report containing your code, results, and conclusions.\n",
    "\n",
    "---\n",
    "\n",
    "## Alternative Assignment if You Can't Run Hadoop and/or Ambari\n",
    "\n",
    "If your computer refuses to run Hadoop and/or Ambari, **[here](https://repo.exeterlms.com/documents/V2/DataScience/Big-Data/L10examNew.zip)** is an alternative exam to test your understanding of the material. Please attach it instead.\n",
    "\n",
    "\n"
   ]
  }
 ],
 "metadata": {
  "kernelspec": {
   "display_name": "Python 3 (ipykernel)",
   "language": "python",
   "name": "python3"
  },
  "language_info": {
   "codemirror_mode": {
    "name": "ipython",
    "version": 3
   },
   "file_extension": ".py",
   "mimetype": "text/x-python",
   "name": "python",
   "nbconvert_exporter": "python",
   "pygments_lexer": "ipython3",
   "version": "3.9.7"
  },
  "toc": {
   "base_numbering": 1,
   "nav_menu": {},
   "number_sections": true,
   "sideBar": true,
   "skip_h1_title": false,
   "title_cell": "Table of Contents",
   "title_sidebar": "Contents",
   "toc_cell": false,
   "toc_position": {},
   "toc_section_display": true,
   "toc_window_display": false
  }
 },
 "nbformat": 4,
 "nbformat_minor": 5
}
