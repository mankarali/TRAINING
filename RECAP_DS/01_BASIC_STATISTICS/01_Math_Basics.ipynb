{
 "cells": [
  {
   "cell_type": "markdown",
   "metadata": {},
   "source": [
    "$$f(x) = x^2$$"
   ]
  },
  {
   "cell_type": "markdown",
   "metadata": {},
   "source": [
    "### The probability of getting (k) heads when flipping (n) coins is\n",
    "\\begin{equation*}\n",
    "P(E)   = {n \\choose k} p^k (1-p)^{ n-k}\n",
    "\\end{equation*}"
   ]
  },
  {
   "cell_type": "markdown",
   "metadata": {},
   "source": [
    "\\begin{equation}\n",
    "\\int y\\, \\mathrm{d}x\n",
    "\\end{equation}"
   ]
  },
  {
   "cell_type": "markdown",
   "metadata": {},
   "source": [
    "## Mean, Median, Mode\n",
    "\n",
    "Mean, median, and mode are different measures of center in a numerical data set. They each try to summarize a dataset with a single number to represent a \"typical\" data point from the dataset.\n",
    "\n",
    "__Mean:__ The \"average\" number; found by adding all data points and dividing by the number of data points.\n",
    "\n",
    "\n",
    "\\begin{equation}\n",
    "\\bar{y} = \\frac{\\sum y}{N}\n",
    "\\end{equation}\n",
    "\n",
    "- $\\sum y$ Take all the values and add them up\n",
    "- divide by the total number of observations you have"
   ]
  },
  {
   "cell_type": "markdown",
   "metadata": {},
   "source": [
    "__Median__ The middle number found by ordering all data points and picking out the one in the middle (or if there are two middle numbers, taking the mean of those two numbers).\n",
    "\n",
    "\n",
    "To get the median\n",
    "\n",
    "\\begin{equation}\n",
    "y = \\tilde{x}\n",
    "\\end{equation}\n",
    "\n",
    "$ y = [1,2,3,4,4,3,2,1] $\n",
    "\n",
    "$ y = 4 $\n",
    "\n",
    "\n",
    "The __mode__ is the most commonly occurring data point in a dataset. The mode is useful when there are a lot of repeated values in a dataset. There can be no mode, one mode, or multiple modes in a dataset."
   ]
  },
  {
   "cell_type": "markdown",
   "metadata": {},
   "source": [
    "## Standard Deviation\n",
    "\n",
    "__Standard deviation__ is a number used to tell how measurements for a group are spread out from the average (mean), or expected value. A low standard deviation means that most of the numbers are close to the average. A high standard deviation means that the numbers are more spread out.\n",
    "\n",
    "$$s = \\sqrt{\\frac{1}{N-1} \\sum_{i=1}^N (x_i - \\overline{x})^2}$$"
   ]
  },
  {
   "cell_type": "markdown",
   "metadata": {},
   "source": [
    "## Variance\n",
    "\n",
    "The __Variance__ is defined as: The average of the squared differences from the Mean. To calculate the variance follow these steps: Find the __Mean__, Then for each number: subtract the __Mean__ and square the result (the squared difference).\n",
    "\n",
    "$$\\sigma^2 = \\frac{\\displaystyle\\sum_{i=1}^{n}(x_i - \\mu)^2} {n}$$"
   ]
  },
  {
   "cell_type": "markdown",
   "metadata": {},
   "source": [
    "## What is RMSE\n",
    "\n",
    " $RMSE = \\sqrt{\\frac{1}{n}\\sum_{i=1}^{n}{\\Big(\\frac{d_i -f_i}{\\sum_i}\\Big)^2}}$\n",
    " \n",
    " \n",
    " ## Root mean squared error (RMSE)\n",
    "RMSE is a quadratic scoring rule that also measures the average magnitude of the error. It’s the square root of the average squared differences between prediction and actual observation. \n",
    "\n",
    " $RMSE = \\sqrt{\\frac{1}{n}\\Sigma_{i=1}^{n}{\\Big(\\frac{d_i -f_i}{\\Sigma_i}\\Big)^2}}$\n",
    " \n",
    " we can do this simply from sklearn:\n",
    "\n",
    "```python\n",
    "from sklearn.metrics import mean_squared_error\n",
    "from math import sqrt\n",
    "rmse = sqrt(mean_squared_error(y_actual, y_predicted))\n",
    "print(rmse)\n",
    "\n",
    "# another way\n",
    "n = len(predictions)\n",
    "rmse = np.linalg.norm(predictions - targets) / np.sqrt(n)\n",
    "\n",
    "# and another way\n",
    "from sklearn.metrics import mean_squared_error\n",
    "from math import sqrt\n",
    "expected = [0.0, 0.5, 0.0, 0.5, 0.0]\n",
    "predictions = [0.2, 0.4, 0.1, 0.6, 0.2]\n",
    "mse = mean_squared_error(expected, predictions)\n",
    "rmse = sqrt(mse)\n",
    "print('RMSE: %f' % rmse)\n",
    "\n",
    "```\n",
    "The mean square root and square root of it will be useful.\n"
   ]
  },
  {
   "cell_type": "code",
   "execution_count": 1,
   "metadata": {},
   "outputs": [],
   "source": [
    "#pip install sklearn"
   ]
  },
  {
   "cell_type": "code",
   "execution_count": 2,
   "metadata": {},
   "outputs": [
    {
     "name": "stdout",
     "output_type": "stream",
     "text": [
      "RMSE: 0.148324\n"
     ]
    }
   ],
   "source": [
    "from sklearn.metrics import mean_squared_error\n",
    "from math import sqrt\n",
    "expected = [0.0, 0.5, 0.0, 0.5, 0.0]\n",
    "predictions = [0.2, 0.4, 0.1, 0.6, 0.2]\n",
    "mse = mean_squared_error(expected, predictions)\n",
    "rmse = sqrt(mse)\n",
    "print('RMSE: %f' % rmse)"
   ]
  },
  {
   "cell_type": "code",
   "execution_count": null,
   "metadata": {},
   "outputs": [],
   "source": []
  }
 ],
 "metadata": {
  "kernelspec": {
   "display_name": "Python 3",
   "language": "python",
   "name": "python3"
  },
  "language_info": {
   "codemirror_mode": {
    "name": "ipython",
    "version": 3
   },
   "file_extension": ".py",
   "mimetype": "text/x-python",
   "name": "python",
   "nbconvert_exporter": "python",
   "pygments_lexer": "ipython3",
   "version": "3.7.9"
  },
  "toc": {
   "base_numbering": 1,
   "nav_menu": {},
   "number_sections": true,
   "sideBar": true,
   "skip_h1_title": false,
   "title_cell": "Table of Contents",
   "title_sidebar": "Contents",
   "toc_cell": false,
   "toc_position": {},
   "toc_section_display": true,
   "toc_window_display": false
  }
 },
 "nbformat": 4,
 "nbformat_minor": 5
}
