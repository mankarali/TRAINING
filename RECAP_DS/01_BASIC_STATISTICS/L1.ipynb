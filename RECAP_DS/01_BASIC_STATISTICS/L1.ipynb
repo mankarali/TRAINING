{
 "cells": [
  {
   "cell_type": "markdown",
   "metadata": {},
   "source": [
    "# Basic Statistics : Lesson One Companion Notebook"
   ]
  },
  {
   "cell_type": "code",
   "execution_count": 5,
   "metadata": {
    "tags": []
   },
   "outputs": [
    {
     "data": {
      "text/html": [
       "\n",
       "        <iframe\n",
       "            width=\"720\"\n",
       "            height=\"480\"\n",
       "            src=\"https://player.vimeo.com/video/321266541\"\n",
       "            frameborder=\"0\"\n",
       "            allowfullscreen\n",
       "        ></iframe>\n",
       "        "
      ],
      "text/plain": [
       "<IPython.lib.display.VimeoVideo at 0x24b1e9405c8>"
      ]
     },
     "execution_count": 5,
     "metadata": {},
     "output_type": "execute_result"
    }
   ],
   "source": [
    "from IPython.display import VimeoVideo\n",
    "# Tutorial Video Name: Introduction to Data Science\n",
    "VimeoVideo('321266541', width=720, height=480)"
   ]
  },
  {
   "cell_type": "markdown",
   "metadata": {},
   "source": [
    "### Table of Contents <a class=\"anchor\" id=\"DS101L1_toc\"></a>\n",
    "\n",
    "* [Table of Contents](#DS101L1_toc)\n",
    "    * [Page 1 - Overview and Objectives](#DS101L1_page_1)\n",
    "    * [Page 2 - What Is Data Sceince?](#DS101L1_page_2)\n",
    "    * [Page 3 - The Data Sceince Pipeline](#DS101L1_page_3)\n",
    "    * [Page 4 - Data Science Software](#DS101L1_page_4)\n",
    "    * [Page 5 - Your Path through Data Science](#DS101L1_page_5)\n",
    "    * [Page 6 - Basic Computer Skills](#DS101L1_page_6)\n",
    "    * [Page 7 - Key Terms](#DS101L1_page_7)\n",
    "    * [Page 8 - Final Project](#DS101L1_page_8)\n",
    "    "
   ]
  },
  {
   "cell_type": "markdown",
   "metadata": {},
   "source": [
    "The transcript for the above overview video **[is located here](https://repo.exeterlms.com/documents/V2/DataScience/Video-Transcripts/DSO101L01overview.zip)**.\n",
    "\n",
    "\n",
    "Welcome and congratulations on taking your first step towards becoming a data scientist! Whether you are brand new to the field or are from a closely related discipline, such as software engineering, and want to pick up some new Data Science skills, this course is for you! You will be taught everything you need to know so that you can change the world with Data Science!\n",
    "\n",
    "<hr style=\"height:10px;border-width:0;color:gray;background-color:gray\">\n",
    "\n",
    "# Page 1 - Overview of this Module<a class=\"anchor\" id=\"DS101L1_page_1\"></a>\n",
    "\n",
    "[Back to Top](#DS101L1_toc)\n",
    "\n",
    "<hr style=\"height:10px;border-width:0;color:gray;background-color:gray\">\n",
    "\n",
    "Your learning objectives for Basic Statistics are as follows:\n",
    "\n",
    "* Understand the Data Science field\n",
    "* Understand probability as it relates to statistical testing\n",
    "* Learn about variables and the normal distribution\n",
    "* Learn common descriptive and inferential statistics\n",
    "* Become familiar with high level data exploration and hypothesis testing\n",
    "\n",
    "\n",
    "---\n",
    "\n",
    "## Objectives of this Lesson\n",
    "\n",
    "By the end of this lesson, you will understand the following:\n",
    "\n",
    "* What Data Science is\n",
    "* The origins of Data Science as a discipline\n",
    "* Data Science software\n",
    "* Parts of the Data Science pipeline\n",
    "* Your path through the Data Science pipeline\n",
    "* The jobs you will be qualified for\n",
    "\n",
    "Your hands on will help you reflect on your own data science journey and what you are most looking forward to in this course."
   ]
  },
  {
   "cell_type": "markdown",
   "metadata": {},
   "source": [
    "<hr style=\"height:10px;border-width:0;color:gray;background-color:gray\">\n",
    "\n",
    "# Page 2 - What is Data Science?<a class=\"anchor\" id=\"DS101L1_page_2\"></a>\n",
    "\n",
    "[Back to Top](#DS101L1_toc)\n",
    "\n",
    "<hr style=\"height:10px;border-width:0;color:gray;background-color:gray\">\n"
   ]
  },
  {
   "cell_type": "code",
   "execution_count": 6,
   "metadata": {},
   "outputs": [
    {
     "data": {
      "text/html": [
       "\n",
       "        <iframe\n",
       "            width=\"720\"\n",
       "            height=\"480\"\n",
       "            src=\"https://player.vimeo.com/video/311777170\"\n",
       "            frameborder=\"0\"\n",
       "            allowfullscreen\n",
       "        ></iframe>\n",
       "        "
      ],
      "text/plain": [
       "<IPython.lib.display.VimeoVideo at 0x24b1e940bc8>"
      ]
     },
     "execution_count": 6,
     "metadata": {},
     "output_type": "execute_result"
    }
   ],
   "source": [
    "from IPython.display import VimeoVideo\n",
    "# Tutorial Video Name: What is Data Science?\n",
    "VimeoVideo('311777170', width=720, height=480)"
   ]
  },
  {
   "cell_type": "markdown",
   "metadata": {},
   "source": [
    "\n",
    "The transcript for the above topic tutorial video **[is located here](https://repo.exeterlms.com/documents/V2/DataScience/Video-Transcripts/DSO101-L01-pg2tutorial.zip)**.\n",
    "\n",
    "Data science is a relatively new field, with the term appearing for the very first time in 1997. Yes, that was more than 20 years ago - but things didn't pick up the pace for quite a while. When Harvard Business Review called **Data Science the Sexiest Job of the 21st Century in 2012** - well, that's when things got interesting!\n",
    "\n",
    "<div class=\"panel panel-success\">\n",
    "    <div class=\"panel-heading\">\n",
    "        <h3 class=\"panel-title\">Community Resource!</h3>\n",
    "    </div>\n",
    "    <div class=\"panel-body\">\n",
    "        <p>Read the article that started it all! Check out the <a href=\"https://hbr.org/2012/10/data-scientist-the-sexiest-job-of-the-21st-century\" target=\"_blank\">infamous Harvard Business Review article</a> calling Data Science sexy! </p>\n",
    "    </div>\n",
    "</div>\n",
    "\n",
    "Data science, at its core, is very interdisciplinary.  It combines the fields of statistics, computer science, mathematics, and communication/information science all together, with the main goal to derive insights from data.  Everyone these days can collect data - but only the lucky few can actually figure out what it means and supply others with the correct information to help them take action! \n",
    "\n",
    "Because data science is so new, people are entering it from a wide variety of different career paths. Statisticians, psychologists, program evaluators, and computer scientists are just some of those who eventually wound up as data scientists.  However, with the advent of formal training programs like bootcamps teaching Data Science, it's now possible to come at the career head on!\n",
    "\n",
    "Take a look at all the fields and skills that can feed into Data Science:\n",
    "\n",
    "![A graphic organizer showing the various components that make up data science. In center, a circle reads data science. Surrounding this circle are other circles, each with an arrow pointing to the interior data science circle. The external circles include data engineering, domain expertise, hacker mindset, visualization, advanced computing, statistics, math, and scientific method.](Media/101.2.png)\n",
    "\n",
    "\n",
    "\n",
    "According to the [Wall Street Journal](https://blogs.wsj.com/cio/2014/05/02/why-do-we-need-data-science-when-weve-had-statistics-for-centuries/):\n",
    "<p style=\"text-align:center;\"><i>\"The main difference between statistics and Data Science is that statisticians and researchers use data to explain the world around them, and data scientists use data to interact with the world around them.  No one cares how much data you've collected if you can't do anything with it! Another difference between statistics and Data Science is the level of programming you will be required to wield.\"</i></p>\n",
    "\n",
    "![A pyramid with four sections showing aspects of data science. The largest section on the bottom reads data. The next section reads information, the next section reads knowledge, and the topmost, smallest section reads wisdom. An arrow moves from data to information to knowledge to wisdom.](Media/101.3.jpg)\n",
    "\n",
    "---\n",
    "\n",
    "## What Kinds of Jobs Will You be Qualified For? \n",
    "\n",
    "Since Data Science has grown out of a number of fields, that also means that once you become a Data Scientist, you'll be qualified for a wide variety of things! The chart below lists (by skill level) the job titles, data science skills, and the applications for those skills.\n",
    "\n",
    "![A chart showing the job titles, skills needed, and applicatons for entry level, mid level, and high level data science jobs. ](Media/101.7.png)\n",
    "\n",
    "---\n",
    "\n",
    "## Professional Societies to Investigate\n",
    "\n",
    "A great addition to any resume is membership in a professional society! Professional societies give you access to a network of others in your field, education and training, field-specific job boards, and even discounts or access to journals and professional publications.  Membership is usually purchased on a yearly basis, and even though it can run you about $100 per year, the benefits may outweigh the costs.  Take a peek at some of these societies that are particularly relevant to Data Science, or join one from a previous specialization.  For instance, if you have a healthcare background, you may be interested in joining the American Medical Association.\n",
    "\n",
    "A few Data Science related societies:\n",
    "\n",
    "* **[American Statistical Association](https://www.amstat.org/)**\n",
    "\n",
    "* **[INFORMS](https://www.informs.org/Get-Involved/Welcome-Data-Scientists)**\n",
    "\n",
    "* **[Research Data Alliance](https://www.rd-alliance.org/)**\n",
    "\n",
    "* **[American Evaluation Association](https://www.eval.org/)**\n",
    "\n",
    "* **JupyterCon:** Although this isn't a professional society, they hold a once a year week-long training/conference in Jupyter Notebooks, which uses a wide variety of base programming languages, such as Julia, Python, and R. Check their [**community page**](https://jupyter.org/community) for more information about Jupyter events.\n"
   ]
  },
  {
   "cell_type": "markdown",
   "metadata": {},
   "source": [
    "<hr style=\"height:10px;border-width:0;color:gray;background-color:gray\">\n",
    "\n",
    "# Page 3 - The Data Science Pipeline<a class=\"anchor\" id=\"DS101L1_page_3\"></a>\n",
    "\n",
    "[Back to Top](#DS101L1_toc)\n",
    "\n",
    "<hr style=\"height:10px;border-width:0;color:gray;background-color:gray\">"
   ]
  },
  {
   "cell_type": "code",
   "execution_count": 7,
   "metadata": {},
   "outputs": [
    {
     "data": {
      "text/html": [
       "\n",
       "        <iframe\n",
       "            width=\"720\"\n",
       "            height=\"480\"\n",
       "            src=\"https://player.vimeo.com/video/312549979\"\n",
       "            frameborder=\"0\"\n",
       "            allowfullscreen\n",
       "        ></iframe>\n",
       "        "
      ],
      "text/plain": [
       "<IPython.lib.display.VimeoVideo at 0x24b1e944188>"
      ]
     },
     "execution_count": 7,
     "metadata": {},
     "output_type": "execute_result"
    }
   ],
   "source": [
    "from IPython.display import VimeoVideo\n",
    "# Tutorial Video Name: The Data Science Pipeline\n",
    "VimeoVideo('312549979', width=720, height=480)"
   ]
  },
  {
   "cell_type": "markdown",
   "metadata": {},
   "source": [
    "The transcript for the above topic tutorial video **[is located here](https://repo.exeterlms.com/documents/V2/DataScience/Video-Transcripts/DSO101-L01-pg3tutorial.zip)**.\n",
    "\n",
    "\n",
    "To give you an idea of the tasks you will face as a data scientist, let's walk through what the industry calls the Data Science Pipeline, which describes the pathway through which data flows. There are **four basic types** of tasks in the data science pipeline: **engineering**, **preparation**, **analytics**, and **operations**.  This course will give you a taste for all of them, but you may choose to specialize as you apply for jobs if a particular area calls to you.\n",
    "\n",
    "---\n",
    "\n",
    "![A data science workflow from left to right. First, raw data. Next, data extraction. Next, data wrangling, data cleaning, and preparation. Next, data analysis and machine learning. Finally, data visualization and reporting. Raw data and data extraction are the engineering phase. Data wrangling, data cleaning, and preparation are the preparation phase. Data analysis and machine learning are the analytics phase. Data visualization and reporting are the operations phase.](Media/101.5.png)\n",
    "\n",
    "---\n",
    "\n",
    "* **Raw Data:** Data can be collected in many ways, from pencil-and-paper surveys to complex computer databases.  It's a sure bet, however, that no matter what way information is collected, it will not be easily extracted or usable right away. As a data scientist, there are times when you will decide what data should be collected and the format it should be collected in, which makes things easier. However, there are many other times when you will be consulted far after data has already been gathered.\n",
    "\n",
    "* **Data Extraction:** Extraction is the process of pulling the data you'll need for analysis out of storage, so that it can be used. If data is being stored in a database, this typically involves querying in a programming language called SQL (pronounced \"sequel\" or \"S-Q-L\").\n",
    "\n",
    "* **Data Wrangling:** Because your data will invariably be collected, stored, or even extracted in a format that is difficult to use, you will need to \"wrangle\" it to ensure it is in the format you need for the particular analysis you'll perform.  Wrangling covers a wide variety of operations, but can include putting multiple datasets together, adding or removing data, recoding data, and changing the shape of your data. Data wrangling is typically done in software with statistical applications.\n",
    "\n",
    "* **Data Cleaning:** Data in the real world is messy, so give it a good scrubbing down! Removing any data entry errors, impossible values, and outliers that could bias your data will ensure that you're giving stakeholders the most accurate and realistic information possible.  You may also need to transform your data to ensure it meets the assumptions for the particular analysis you want to run.  By doing so, you're using the statistical test the way it was intended, which again will improve the accuracy of your results. Like data wrangling, data cleaning is typically done in statistical software.\n",
    "\n",
    "* **Data Analysis / Machine Learning:** Now that your data has been extracted, wrangled, and cleaned, it's time to finally run analyses to test hypotheses and determine how various pieces of data relate to each other.  While it's a data scientist's job to be well versed in advanced analytic techniques such as machine learning, modeling, and other multivariate tests, often you'll find that simple analytics such as determining the frequency with which something occurs or finding the average will do the trick. Data analysis will take place in statistical software, and if your dataset is large, then it may involve Big Data software such as **Spark**, **Hadoop**, or **Hive** to appropriately process and analyze data.\n",
    "\n",
    "* **Data Visualization / Reporting:** After you have run your analyses, simple or complicated, it's time to report them out in a meaningful way so that others can take action! Often this process involves data visualization, also called \"*data viz*\", in which you create graphics that not only catch the eye but also are capable of explaining complex analysis at a glance.  Data visualization can be done in statistical software, but often their visualization modules can be difficult and time consuming to use. Therefore, specific software like Tableau can be used to make visualizations easy, or others may branch into more typical software for visualization, such as the Microsoft Suite or Adobe Photoshop. Reporting will typically take place in a format that everyone can use and understand, such as a text document report or a slide show.\n",
    "    * In the past, data visualization and reporting were one of the keys areas where statistics fell down.  Visuals, when present at all, were usually clunky and hard to understand. With the evolution of data science, there is more emphasis being placed upon this last step.  If no one can understand the brilliant work you did, they won't be able to use it - and then you'll have wasted all that time. \n",
    "    \n",
    "Even though there is a whole chain of events that take place before data reporting, ironically, the final results are usually all a stakeholder will care about! It is, however, crucial that all these \"*behind-the-scenes*\" steps take place; without them, you run the risk of having inaccurate results that could mislead your company. \n",
    "\n",
    "<div class=\"panel panel-success\">\n",
    "    <div class=\"panel-heading\">\n",
    "        <h3 class=\"panel-title\">Additional Info!</h3>\n",
    "    </div>\n",
    "    <div class=\"panel-body\">\n",
    "        <p>If you would like to read more about what is data, please visit <a href=\"https://towardsdatascience.com/what-is-data-8f94ae3a56b4\"> this blog</a>.</p>\n",
    "    </div>\n",
    "</div>\n",
    "\n",
    "---\n",
    "\n",
    "## Extract, Transform, Load (ETL)\n",
    "\n",
    "ETL, or _Extract_, _Transform_, _Load_, describes a process concerned with data usage. \n",
    "\n",
    "* **Extract:** Retrieve, or _extract_, data from a database. \n",
    "* **Transform:** Data wrangling and analysis to produce meaningful information. \n",
    "* **Load:** Place the resulting data back into the database or data warehouse.\n"
   ]
  },
  {
   "cell_type": "markdown",
   "metadata": {},
   "source": [
    "<hr style=\"height:10px;border-width:0;color:gray;background-color:gray\">\n",
    "\n",
    "# Page 4 - Data Science Software<a class=\"anchor\" id=\"DS101L1_page_4\"></a>\n",
    "\n",
    "[Back to Top](#DS101L1_toc)\n",
    "\n",
    "<hr style=\"height:10px;border-width:0;color:gray;background-color:gray\">"
   ]
  },
  {
   "cell_type": "code",
   "execution_count": 9,
   "metadata": {},
   "outputs": [
    {
     "data": {
      "text/html": [
       "\n",
       "        <iframe\n",
       "            width=\"720\"\n",
       "            height=\"480\"\n",
       "            src=\"https://player.vimeo.com/video/312548970\"\n",
       "            frameborder=\"0\"\n",
       "            allowfullscreen\n",
       "        ></iframe>\n",
       "        "
      ],
      "text/plain": [
       "<IPython.lib.display.VimeoVideo at 0x24b1e944e48>"
      ]
     },
     "execution_count": 9,
     "metadata": {},
     "output_type": "execute_result"
    }
   ],
   "source": [
    "from IPython.display import VimeoVideo\n",
    "# Tutorial Video Name: Data Science Software\n",
    "VimeoVideo('312548970', width=720, height=480)"
   ]
  },
  {
   "cell_type": "markdown",
   "metadata": {},
   "source": [
    "\n",
    "The transcript for the above topic tutorial video **[is located here](https://repo.exeterlms.com/documents/V2/DataScience/Video-Transcripts/DSO101-L01-pg4tutorial.zip)**.\n",
    "\n",
    "A whole slew of technology is available for Data Science! Although this course will not touch all software, it is important to get a feel for the wide variety of programs that are out there.  You may choose to explore additional software on your own as you progress. The software listed in bold in the lists below are covered in this course.  The software you will encounter in this course has been chosen systematically; you will learn the software that is most widely used and asked for on job descriptions.\n",
    "\n",
    "---\n",
    "\n",
    "## Data Extraction Software\n",
    "\n",
    "* **SQL:**  SQL stands for ```Structured Query Language```, and you'll use it to communicate with a database. There are many \"*flavors*\" of SQL, depending on the company that runs it, though they all work relatively similarly.  **SQL Server**, **MySQL**, **PostgreSQL**, and **SQLite** are all slightly different versions of SQL.  If you learn one, you will most likely be able to pick up all the rest quite easily.  In addition, some data analysis programs like **Python** or **SAS** will allow you to integrate SQL commands within their programs.\n",
    "\n",
    "    <div class=\"panel panel-info\">\n",
    "        <div class=\"panel-heading\">\n",
    "            <h3 class=\"panel-title\">TIP!</h3>\n",
    "        </div>\n",
    "        <div class=\"panel-body\">\n",
    "            <p>Some employers may ask for Oracle as a skill. They run their database off...you guessed 'er, Chester! SQL! Yes, it's their own flavor, but you should be able to use Oracle and any of their middleware easily.</p>\n",
    "        </div>\n",
    "    </div>\n",
    "\n",
    "* **NoSQL**: Believe it or not, NoSQL actually stands for anything that is `NOT SQL`. Although this is not as commonly used in Data Science, it is still good to learn the basics.  As with SQL, there are many flavors of NoSQL, but we will focus on MongoDB, which is often used for web applications.\n",
    "\n",
    "* **SAP Business Objects:** Many businesses are using SAP as a way to manage their business operations and customer services.  Business Objects is a way for data scientists to interact with that database, pulling queries and conducting analyses with relative ease.  Especially if you're interested in business analyst positions, SAP could be a good program to know.\n",
    "\n",
    "    <div class=\"panel panel-success\">\n",
    "    <div class=\"panel-heading\">\n",
    "    <h3 class=\"panel-title\">Additional Resource!</h3>\n",
    "    </div>\n",
    "    <div class=\"panel-body\">\n",
    "    <p>Interested in learning more about SAP? Check out their product website <a href=\"https://www.sap.com/products/analytics/business-intelligence-bi.html\" target=\"_blank\">here</a>.</p>\n",
    "    </div>\n",
    "    </div>\n",
    "\n",
    "---\n",
    "\n",
    "## Data Analysis Software\n",
    "\n",
    "There are many, many different types of software out there to help you analyze data.  They all have different strengths, industry applications, and costs associated.  Once you learn the basics about the analyses and their applications, most can be run in any program, given you get familiar with the software.  You will cover Python and R in this course because they are open source **(read: free!)** and are also the most commonly asked for data analysis programs at this time.\n",
    "\n",
    "In order from most to least common:\n",
    "\n",
    "* **Python:** Although Python is an object-oriented programming language that can be used for dozens of different purposes, data scientists have made it their own with a series of packages that are Data Science specific. They even created their own version of Python, Anaconda, that runs a shell called Jupyter Notebooks, which allow for easy running of code.  \n",
    "\n",
    "    Packages like Pandas, Numpy, Seaborn, Matplotlib, Pyplot, Scipy, and Stats all allow data scientists to wrangle, analyze, and visualize data with ease. We will cover all these and more!\n",
    "\n",
    "* **R:** R is another open source program like Python, but it focuses on statistics-specific tasks, which can sometimes make it easier to run certain types of analyses.  There are oodles of different libraries (the package equivalent in R) to download for a wide variety of different tasks. The shell most often used with R is R Studio, though you can also use Jupyter - that's what the \"R\" at the end stands for!\n",
    "\n",
    "* **SAS:** Standing for `Statistical Analysis System`, SAS is most often used by businesses for data analysis. They have rather expensive corporate licenses, but SAS is very powerful and can process relatively large datasets (around half a million records) easily.  Because SAS is not open source, it can be slightly more difficult to find resources on learning it, but the code is typically more uniform than Python or R and it is much less likely that the program itself will have bugs or errors. Until recently, SAS required pure data science coding, but with the advent of SAS Enterprise Guide (EG), now users with less expertise in SAS can \"point and click\" their way through a wide variety of data wrangling tasks and statistical analyses.\n",
    "\n",
    "* **SPSS:** `Statistical Package for Social Sciences` (SPSS), is statistics software originally used in psychology and other social sciences.  It is also often used in medical research.  Although SPSS is not as powerful as Python, R, or SAS, and cannot handle extremely large datasets, its main advantage is a full range of \"point and click\" options for even the most advanced statistical analyses, with additional add-on packages for things like structural equation modeling.  SPSS makes it easy for a coding novice to still run and interpret analyses.\n",
    "\n",
    "* **MATLAB:** MATLAB stands for `Matrix Laboratory`, and is software used for complex modeling techniques and simulations, often related to the life sciences.  For instance, if you wanted to model the population growth of a particular animal, your absolute number one tool would be MATLAB.  \n",
    "\n",
    "* **MiniTab:** MiniTab was developed at Pennsylvania State University and was designed for Six Sigma business usage.  Like SPSS, it is easy to use, but trades that off for power and analysis complexity. It is also very expensive, though there are options to rent it.\n",
    "\n",
    "* **Stata:** Yet another stats package! Less popular than the others, probably because its use is typically confined to researchers.  You may run across Stata if you're interested in pursuing the fields of economics, sociology, political science, or epidemiology.  It can handle a large number of variables and records, but can become pricey depending on the options you choose.\n",
    "\n",
    "    ![Software comparison chart, with columns for Software, Cost, Usability, Analysis Capability, and Field of Expertise. For the Python row, the cost is free, it requires coding, has strong analysis capability, and can be used in any field of expertise.  For the R row, it is free, it requires coding, it has strong analysis capability, and it can be used in any field of expertise.  For SAS, it is moderately expensive (two dollar signs), has some point and click functionality, has strong analysis capability and can be used by any, but is often favored by business. For the SPSS row, it is relatively cheap (one dollar sign), has point and click functionality, has moderate analytic capability, and is often used in social sciences and medical fields. For the MATLAB row, it has moderate cost (two dollar signs), requires coding, has strong analytic capability, and is favored by the life sciences.  For the MiniTab row, it is very expensive (three dollar signs), has point and click functionality, has moderate analytic capability, and is used in business. For the Stata row, it is relatively cheap (one dollar sign), has some point and click functionality, has moderate capability, and is used in academia.  Lastly, for Mplus, it is moderately expensive (two dollar signs), requires coding, has strong analytic capability, and is used in academia.](Media/101.6.png)\n",
    "\n",
    "---\n",
    "\n",
    "## Big Data Analysis Software\n",
    "\n",
    "None of the software listed above can handle truly staggering amounts of data. That's where \"*Big Data*\" comes into play, with the following software:\n",
    "\n",
    "* **Hadoop:** Hadoop uses distributed processing to run analyses on large datasets. While it was the first big data program out there, analysis is somewhat limited and can take longer than some of the other big data programs.\n",
    "\n",
    "* **Spark:** Spark also uses distributed processing, but can stream and analyze data in real time much better than Hadoop.  Spark also can utilize a wide variety of analyses, including machine learning algorithms. However, Spark is not ideal for multiple users at a time.\n",
    "\n",
    "* **Hive:** Hive is a SQL-to-Hadoop engine that allows you to query large amounts of data with batch processing.\n",
    "\n",
    "---\n",
    "\n",
    "## Data Visualization and Reporting Software\n",
    "\n",
    "Although visualization can absolutely be done within any of the data analysis software programs listed above, it is often quicker and easier to use other programs, and other programs will provide you with more options and flexibility as well. A lot of visualization and reporting is done in software with which most folks are familiar.  For instance, don't underestimate the Microsoft Suite of products such as PowerPoint and Word for creating visuals and reports.  These programs have the advantage of being common knowledge, so your stakeholders will typically be able to open the documents you have created easily. It's in a format that's familiar to them.  \n",
    "\n",
    "However, there is also software that allows you to advance your graphics skills.  Some are pretty common, such as Adobe Photoshop or Paint. Others are a little more specialized, like Tableau, but nevertheless, still relatively easy to use.  \n",
    "\n",
    "* **Tableau:** Tableau was created with the field of data visualization in mind.  It is the definitive software for viz and many companies are looking for data scientists with experience in Tableau.  Tableau can also run a few very simple analyses.\n"
   ]
  },
  {
   "cell_type": "markdown",
   "metadata": {},
   "source": [
    "<hr style=\"height:10px;border-width:0;color:gray;background-color:gray\">\n",
    "\n",
    "# Page 5 - Your Path through Data Science<a class=\"anchor\" id=\"DS101L1_page_5\"></a>\n",
    "\n",
    "[Back to Top](#DS101L1_toc)\n",
    "\n",
    "<hr style=\"height:10px;border-width:0;color:gray;background-color:gray\">"
   ]
  },
  {
   "cell_type": "code",
   "execution_count": 10,
   "metadata": {},
   "outputs": [
    {
     "data": {
      "text/html": [
       "\n",
       "        <iframe\n",
       "            width=\"720\"\n",
       "            height=\"480\"\n",
       "            src=\"https://player.vimeo.com/video/312548994\"\n",
       "            frameborder=\"0\"\n",
       "            allowfullscreen\n",
       "        ></iframe>\n",
       "        "
      ],
      "text/plain": [
       "<IPython.lib.display.VimeoVideo at 0x24b1e949488>"
      ]
     },
     "execution_count": 10,
     "metadata": {},
     "output_type": "execute_result"
    }
   ],
   "source": [
    "from IPython.display import VimeoVideo\n",
    "# Tutorial Video Name: Your Path through Data Science Pipeline\n",
    "VimeoVideo('312548994', width=720, height=480)"
   ]
  },
  {
   "cell_type": "markdown",
   "metadata": {},
   "source": [
    "The transcript for the above topic tutorial video **[is located here](https://repo.exeterlms.com/documents/V2/DataScience/Video-Transcripts/DSO101-L01-pg5tutorial.zip)**.\n",
    "\n",
    "\n",
    "Here's a snapshot of your data science journey: \n",
    "\n",
    "---\n",
    "![A chart showing nine data science courses. Five courses should be done in order and include basic statistics, statistical programming in r, databases, programming foundations in python, and data wrangling and visualization. Four courses can be done in any order and include intermediate statistics, machine learning and modeling, metrics and data processing, and big data.](Media/101.1.png)\n",
    "\n",
    "---\n",
    "\n",
    "The curriculum is meant to follow the Data Science Pipeline as much as is practical, walking you through each step.\n",
    "\n",
    "* [**DSO101 Basic Statistics:**](#DS101L1_toc) In this module, you'll get a feel for the building blocks of statistics. These elements will make up some of the more complicated analyses you'll encounter later.\n",
    "\n",
    "* [**DSO102 Statistical Programming in R:**](../DS102-Statistical-Programming-in-R/DS102L1.ipynb) Put those statistics you learned in DSO101 to good use! You'll get familiar with R and then learn how to easily run statistics in R.\n",
    "\n",
    "* [**DSO109 Programming Foundations in Python:**](../DS109-Python/DS109L1.ipynb) You'll learn the basics of programming in Python here.  Although not Data Science specific, a general knowledge of programming will assist you as you get farther into machine learning and big data.\n",
    "\n",
    "* [**DSO108 Databases:**](../DS108-Databases/DS108L1.ipynb) This module will give you foundations in how to get your data through queries. You'll learn both SQL and NoSQL.\n",
    "\n",
    "* [**DSO104 Data Wrangling and Visualization:**](../DS104-Data-Wrangling-and- Visualization/DS104L1.ipynb) Once you have your data, you'll need to make sure it's in a format you can make use of for statistics! Data wrangling will teach you all the different ways data can be manipulated.  Then, you'll learn how to use visualization techniques to spice up your reports.  The easier it is for folks to understand your work, the more likely it will be used to influence decision making!\n",
    "\n",
    "* [**DSO105 Intermediate Statistics:**](../DS105-Intermediate-Statistics/DS105L1.ipynb) It's time to build on those basic statistics! Now that you know how to process data, you'll dive into some of the more complicated analyses in both Python and R.\n",
    "\n",
    "* [**DSO106 Machine Learning and Modeling:**](../DS106-Machine-Learning/DS106L1.ipynb) This course will teach modeling through advanced regression and both supervised and unsupervised machine learning.\n",
    "\n",
    "* [**DSO103 Metrics and Data Processing:**](../DS103-Metrics-and-Data-Processing/DS103L1.ipynb) Cap your shorter modules off by learning about how to create your own metrics and gaining the basics in Agile project management.\n",
    "\n",
    "* [**DSO107 Big Data:**](../DS107-Big-Data/DS107L1.ipynb) Learn how to deal with millions or billions of records through distributed processing and the power of AWS, Spark, and Hadoop!\n",
    "\n",
    "* [**DSO110 Final Group Project:**](../DS110-Final-Project/DS110L1.ipynb) Put all your newfound Data Science skills to good use in your final project, where you'll work within a group to choose a dataset that interests you, ask some meaningful questions, analyze your data, and provide conclusions.  This six-week module will culminate with a thirty minute presentation about your project to your peers and potential employers.\n",
    "\n",
    "<div class=\"panel panel-success\">\n",
    "    <div class=\"panel-heading\">\n",
    "        <h3 class=\"panel-title\">Additional Info!</h3>\n",
    "    </div>\n",
    "    <div class=\"panel-body\">\n",
    "        <p>If you would like to see examples of final projects, check out <a href=\"https://www.youtube.com/watch?v=MDco6gLG8hU&list=PLWQotQwcXkVbVb9ZMaT-AA9F5tKxHmliu&index=12\"><b>this one</b> </a>predicting whether bootcamp students are data scientists using machine learning and natural language processing or <a href=\"https://www.youtube.com/watch?v=ddz-_xqcxfI&feature=youtu.be\"><b>this one</b></a> using machine learning to predict unemployment. </p>\n",
    "    </div>\n",
    "</div>\n",
    "\n",
    "---"
   ]
  },
  {
   "cell_type": "markdown",
   "metadata": {},
   "source": [
    "\n",
    "## Summary\n",
    "\n",
    "In this lesson, you learned all about the field of data science, including its origins, positions in the field, professional societies, and typical software.  You also learned about the data science pipeline, and what you can expect from this program.\n",
    "\n",
    "<hr style=\"height:10px;border-width:0;color:gray;background-color:gray\">\n",
    "\n",
    "# Page 6 - Basic Computer Skills<a class=\"anchor\" id=\"DS101L1_page_6\"></a>\n",
    "\n",
    "[Back to Top](#DS101L1_toc)\n",
    "\n",
    "<hr style=\"height:10px;border-width:0;color:gray;background-color:gray\">\n",
    "\n",
    "The remaining lessons in this module assume that you have some basic computer skills.  However, everyone is coming from a different place in their lives! If you are not very comfortable working with computers or would like a refresher, please check out the following workshop links below, which cover the following topics: \n",
    "\n",
    "* **Navigate your file folder system**\n",
    "<br>\n",
    "* **Work with zip files and upload them to the LMS**\n",
    "<br>\n",
    "* **Check your grades and announcements in the LMS**\n",
    "<br>\n",
    "* **Take screenshots**\n",
    "<br>\n",
    "* **Use slack like a pro (attach files, view pinned items, videochat with other students)**\n",
    "<br>\n",
    "* **Use zoom like a pro (share your screen, minimize and mute yourself while working in office hour so you don’t get distracted, annotate)**\n",
    "<br>\n",
    "* **Keyboard shortcuts (copy, paste, undo, save)**\n",
    "<br>\n",
    "\n",
    "### Here are a few Workshops\n",
    "\n",
    "**[Workshop for Windows](https://vimeo.com/352609377)**\n",
    "\n"
   ]
  },
  {
   "cell_type": "code",
   "execution_count": 11,
   "metadata": {},
   "outputs": [
    {
     "data": {
      "text/html": [
       "\n",
       "        <iframe\n",
       "            width=\"720\"\n",
       "            height=\"480\"\n",
       "            src=\"https://player.vimeo.com/video/352609377\"\n",
       "            frameborder=\"0\"\n",
       "            allowfullscreen\n",
       "        ></iframe>\n",
       "        "
      ],
      "text/plain": [
       "<IPython.lib.display.VimeoVideo at 0x24b1e949a48>"
      ]
     },
     "execution_count": 11,
     "metadata": {},
     "output_type": "execute_result"
    }
   ],
   "source": [
    "from IPython.display import VimeoVideo\n",
    "# Tutorial Video Name: Your Path through Data Science Pipeline\n",
    "VimeoVideo('352609377', width=720, height=480)"
   ]
  },
  {
   "cell_type": "markdown",
   "metadata": {},
   "source": [
    "**[Workshop for Macs Part I](https://vimeo.com/352615114)** "
   ]
  },
  {
   "cell_type": "code",
   "execution_count": 12,
   "metadata": {},
   "outputs": [
    {
     "data": {
      "text/html": [
       "\n",
       "        <iframe\n",
       "            width=\"720\"\n",
       "            height=\"480\"\n",
       "            src=\"https://player.vimeo.com/video/352615114\"\n",
       "            frameborder=\"0\"\n",
       "            allowfullscreen\n",
       "        ></iframe>\n",
       "        "
      ],
      "text/plain": [
       "<IPython.lib.display.VimeoVideo at 0x24b1e949fc8>"
      ]
     },
     "execution_count": 12,
     "metadata": {},
     "output_type": "execute_result"
    }
   ],
   "source": [
    "from IPython.display import VimeoVideo\n",
    "# Tutorial Video Name: Your Path through Data Science Pipeline\n",
    "VimeoVideo('352615114', width=720, height=480)"
   ]
  },
  {
   "cell_type": "markdown",
   "metadata": {},
   "source": [
    "**[Workshop for Macs Part II](https://vimeo.com/352616280)**"
   ]
  },
  {
   "cell_type": "code",
   "execution_count": 13,
   "metadata": {},
   "outputs": [
    {
     "data": {
      "text/html": [
       "\n",
       "        <iframe\n",
       "            width=\"720\"\n",
       "            height=\"480\"\n",
       "            src=\"https://player.vimeo.com/video/352616280\"\n",
       "            frameborder=\"0\"\n",
       "            allowfullscreen\n",
       "        ></iframe>\n",
       "        "
      ],
      "text/plain": [
       "<IPython.lib.display.VimeoVideo at 0x24b1e94d6c8>"
      ]
     },
     "execution_count": 13,
     "metadata": {},
     "output_type": "execute_result"
    }
   ],
   "source": [
    "from IPython.display import VimeoVideo\n",
    "# Tutorial Video Name: Your Path through Data Science Pipeline\n",
    "VimeoVideo('352616280', width=720, height=480)"
   ]
  },
  {
   "cell_type": "markdown",
   "metadata": {},
   "source": [
    "<hr style=\"height:10px;border-width:0;color:gray;background-color:gray\">\n",
    "\n",
    "# Page 7 - Key Terms<a class=\"anchor\" id=\"DS101L1_page_7\"></a>\n",
    "\n",
    "[Back to Top](#DS101L1_toc)\n",
    "\n",
    "<hr style=\"height:10px;border-width:0;color:gray;background-color:gray\">\n",
    "\n",
    "\n",
    "Below is a list and short description of the important keywords learned in this lesson. Please read through and go back and review any concepts you do not fully understand. Great Work!\n",
    "\n",
    "<table class=\"table table-striped\">\n",
    "    <tr>\n",
    "        <th>Keyword</th>\n",
    "        <th>Description</th>\n",
    "    </tr>\n",
    "    <tr>\n",
    "        <td style=\"font-weight: bold;\" nowrap>Data Science</td>\n",
    "        <td>Interdisciplinary field that comes together to draw insight from data.</td>\n",
    "    </tr>\n",
    "    <tr>\n",
    "        <td style=\"font-weight: bold;\" nowrap>Engineering</td>\n",
    "        <td>Collecting raw data and extracting data.</td>\n",
    "    </tr>\n",
    "    <tr>\n",
    "        <td style=\"font-weight: bold;\" nowrap>Preparation</td>\n",
    "        <td>The process of cleaning, wrangling, and preparing your data for analysis.</td>\n",
    "    </tr>\n",
    "    <tr>\n",
    "        <td style=\"font-weight: bold;\" nowrap>Analytics</td>\n",
    "        <td>Testing hypotheses using data analysis and/or machine learning.</td>\n",
    "    </tr>\n",
    "    <tr>\n",
    "      <td style=\"font-weight: bold;\" nowrap>Operations</td>\n",
    "      <td>Visualizing and reporting upon your findings.</td>\n",
    "    </tr>\n",
    "    <tr>\n",
    "      <td style=\"font-weight: bold;\" nowrap>SQL</td>\n",
    "      <td>Primary tool for data extraction.</td>\n",
    "    </tr>\n",
    "    <tr>\n",
    "      <td style=\"font-weight: bold;\" nowrap>R</td>\n",
    "      <td>Open source tool for data analysis.</td>\n",
    "    </tr>\n",
    "    <tr>\n",
    "      <td style=\"font-weight: bold;\" nowrap>Python</td>\n",
    "      <td>Open source tool for data analysis; strong in machine learning.</td>\n",
    "    </tr>\n",
    "    <tr>\n",
    "      <td style=\"font-weight: bold;\" nowrap>Spark</td>\n",
    "      <td>Extremely fast big data program.</td>\n",
    "    </tr>\n",
    "    <tr>\n",
    "      <td style=\"font-weight: bold;\" nowrap>Hadoop</td>\n",
    "      <td>Big data program.</td>\n",
    "    </tr>\n",
    "    <tr>\n",
    "      <td style=\"font-weight: bold;\" nowrap>Tableau</td>\n",
    "      <td>Data visualization software.</td>\n",
    "    </tr>\n",
    "    <tr>\n",
    "      <td style=\"font-weight: bold;\" nowrap>Extract</td>\n",
    "      <td>Get data out of a database.</td>\n",
    "    </tr>\n",
    "    <tr>\n",
    "      <td style=\"font-weight: bold;\" nowrap>Transform</td>\n",
    "      <td>Get meaningful information out of your data.</td>\n",
    "    </tr>\n",
    "    <tr>\n",
    "      <td style=\"font-weight: bold;\" nowrap>Load</td>\n",
    "      <td>Put data back into your database.</td>\n",
    "    </tr>\n",
    "</table>"
   ]
  },
  {
   "cell_type": "markdown",
   "metadata": {},
   "source": [
    "<hr style=\"height:10px;border-width:0;color:gray;background-color:gray\">\n",
    "\n",
    "# Page 8 - Lesson One Final Project<a class=\"anchor\" id=\"DS101L1_page_8\"></a>\n",
    "\n",
    "[Back to Top](#DS101L1_toc)\n",
    "\n",
    "<hr style=\"height:10px;border-width:0;color:gray;background-color:gray\">\n"
   ]
  },
  {
   "cell_type": "markdown",
   "metadata": {},
   "source": [
    "\n",
    "For your Lesson 1 Hands-On, you will put together a document that tells a little bit about yourself and your aspirations.  `This Hands-­On will be graded`, so be sure you complete all requirements.\n",
    "\n",
    "<div class=\"panel panel-info\">\n",
    "    <div class=\"panel-heading\">\n",
    "        <h3 class=\"panel-title\">Tip!</h3>\n",
    "    </div>\n",
    "    <div class=\"panel-body\">\n",
    "        <p>To create text documents on <b>Windows</b>, you can use <code>Notepad</code>.  For <b>Mac</b> users, you can use <code>TextEdit</code>.</p>\n",
    "    </div>\n",
    "</div>\n",
    "\n",
    "<div class=\"panel panel-danger\">\n",
    "    <div class=\"panel-heading\">\n",
    "        <h3 class=\"panel-title\">Caution!</h3>\n",
    "    </div>\n",
    "    <div class=\"panel-body\">\n",
    "        <p>Do not submit your project until you have completed all requirements, as you will not be able to resubmit.</p>\n",
    "    </div>\n",
    "</div>\n",
    "\n",
    "---\n",
    "\n",
    "## Requirements\n",
    "\n",
    "Please answer the following questions:\n",
    "\n",
    "* What is your background up to this point? What field are you currently in or what career path were you previously on? What did you like about this field/path, and what didn't you like? \n",
    "\n",
    "* What drove you to change or start a career as a data scientist?\n",
    "\n",
    "* What part of the data scientist pipeline interests you the most? Do you have experience in any parts of the data science pipeline?\n",
    "\n",
    "<div class=\"panel panel-danger\">\n",
    "    <div class=\"panel-heading\">\n",
    "        <h3 class=\"panel-title\">Caution!</h3>\n",
    "    </div>\n",
    "    <div class=\"panel-body\">\n",
    "        <p>Be sure to zip and submit your entire document when finished!</p>\n",
    "    </div>\n",
    "</div>\n",
    "\n",
    "<div class=\"panel panel-info\">\n",
    "    <div class=\"panel-heading\">\n",
    "        <h3 class=\"panel-title\">Tip!</h3>\n",
    "    </div>\n",
    "    <div class=\"panel-body\">\n",
    "        <p>To zip your file on <b>Windows</b>, right click on the file and select \"Send to\", then select \"Compressed (zipped) folder\". For <b>Mac</b> users, right click on the file and select \"Compress\", then select your file from the options.</p>\n",
    "    </div>\n",
    "</div>"
   ]
  }
 ],
 "metadata": {
  "kernelspec": {
   "display_name": "Python 3",
   "language": "python",
   "name": "python3"
  },
  "language_info": {
   "codemirror_mode": {
    "name": "ipython",
    "version": 3
   },
   "file_extension": ".py",
   "mimetype": "text/x-python",
   "name": "python",
   "nbconvert_exporter": "python",
   "pygments_lexer": "ipython3",
   "version": "3.7.9"
  },
  "toc": {
   "base_numbering": 1,
   "nav_menu": {},
   "number_sections": true,
   "sideBar": true,
   "skip_h1_title": false,
   "title_cell": "Table of Contents",
   "title_sidebar": "Contents",
   "toc_cell": false,
   "toc_position": {},
   "toc_section_display": true,
   "toc_window_display": false
  }
 },
 "nbformat": 4,
 "nbformat_minor": 5
}
