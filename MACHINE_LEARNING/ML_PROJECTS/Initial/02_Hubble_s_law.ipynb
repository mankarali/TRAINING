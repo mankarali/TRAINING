{
 "cells": [
  {
   "cell_type": "markdown",
   "metadata": {},
   "source": [
    "## Perform a linear regression : Hubble's law"
   ]
  },
  {
   "cell_type": "code",
   "execution_count": 9,
   "metadata": {},
   "outputs": [
    {
     "name": "stdout",
     "output_type": "stream",
     "text": [
      "    distance  recession_velocity\n",
      "0      0.032                 170\n",
      "1      0.034                 290\n",
      "2      0.214                -130\n",
      "3      0.263                 -70\n",
      "4      0.275                -185\n",
      "5      0.275                -220\n",
      "6      0.450                 200\n",
      "7      0.500                 290\n",
      "8      0.500                 270\n",
      "9      0.630                 200\n",
      "10     0.800                 300\n",
      "11     0.900                 -30\n",
      "12     0.900                 650\n",
      "13     0.900                 150\n",
      "14     0.900                 500\n",
      "15     1.000                 920\n",
      "16     1.100                 450\n",
      "17     1.100                 500\n",
      "18     1.400                 500\n",
      "19     1.700                 960\n",
      "20     2.000                 500\n",
      "21     2.000                 850\n",
      "22     2.000                 800\n",
      "23     2.000                1090\n"
     ]
    },
    {
     "name": "stderr",
     "output_type": "stream",
     "text": [
      "C:\\Users\\Oz\\Anaconda3\\lib\\site-packages\\ipykernel_launcher.py:22: MatplotlibDeprecationWarning: Adding an axes using the same arguments as a previous axes currently reuses the earlier instance.  In a future version, a new instance will always be created and returned.  Meanwhile, this warning can be suppressed, and the future behavior ensured, by passing a unique label to each axes instance.\n"
     ]
    },
    {
     "data": {
      "image/png": "[encoded data removed]",
      "text/plain": [
       "<Figure size 432x288 with 1 Axes>"
      ]
     },
     "metadata": {
      "needs_background": "light"
     },
     "output_type": "display_data"
    },
    {
     "name": "stdout",
     "output_type": "stream",
     "text": [
      "coefficient of determination: 0.6235305209067517\n",
      "intercept: [-40.7836491]\n",
      "slope: [[454.15844092]]\n"
     ]
    }
   ],
   "source": [
    "import pandas as pd\n",
    "import matplotlib.pyplot as plt\n",
    "import numpy as np\n",
    "from sklearn.linear_model import LinearRegression\n",
    "\n",
    "data = pd.read_csv('https://s3-eu-west-1.amazonaws.com/static.oc-static.com/prod/courses/files/Parcours_data_scientist/decouvrez-les-librairies-python-pour-la-data-science/hubble_data.csv')\n",
    "print(data)\n",
    "\n",
    "data.describe()\n",
    "\n",
    "X = data.iloc[:,0].values.reshape(-1, 1) #selection of the 1st column of dataset (distance)\n",
    "Y = data.iloc[:,1].values.reshape(-1, 1) #selection of the 2nd column of dataset (recession_velocity)\n",
    "\n",
    "linear_regressor = LinearRegression()  # create object for the class\n",
    "linear_regressor.fit(X, Y)  # perform linear regression\n",
    "Y_pred = linear_regressor.predict(X)  # make predictions\n",
    "\n",
    "plt.scatter(X, Y, label=\"data\")\n",
    "plt.plot(X, Y_pred, color='red', label=\"fitted line\")\n",
    "\n",
    "# Axis titles\n",
    "ax = plt.axes()\n",
    "ax = ax.set(xlabel='distance', ylabel='recession velocity')\n",
    "\n",
    "# Labels\n",
    "plt.title(\"Hubble's law\")\n",
    "plt.legend()\n",
    "plt.show()\n",
    "\n",
    "model = LinearRegression().fit(X, Y_pred)\n",
    "r_sq = model.score(X, Y)\n",
    "\n",
    "print('coefficient of determination:', r_sq)\n",
    "print('intercept:', model.intercept_)\n",
    "print('slope:', model.coef_)\n"
   ]
  },
  {
   "cell_type": "code",
   "execution_count": null,
   "metadata": {},
   "outputs": [],
   "source": []
  }
 ],
 "metadata": {
  "kernelspec": {
   "display_name": "Python 3",
   "language": "python",
   "name": "python3"
  },
  "language_info": {
   "codemirror_mode": {
    "name": "ipython",
    "version": 3
   },
   "file_extension": ".py",
   "mimetype": "text/x-python",
   "name": "python",
   "nbconvert_exporter": "python",
   "pygments_lexer": "ipython3",
   "version": "3.7.4"
  }
 },
 "nbformat": 4,
 "nbformat_minor": 2
}
