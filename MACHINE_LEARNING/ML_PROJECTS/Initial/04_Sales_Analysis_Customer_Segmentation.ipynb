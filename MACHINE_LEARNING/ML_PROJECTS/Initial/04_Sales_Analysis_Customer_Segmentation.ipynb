{
 "cells": [
  {
   "cell_type": "markdown",
   "metadata": {},
   "source": [
    "# Sale Analysis - Activity"
   ]
  },
  {
   "cell_type": "markdown",
   "metadata": {},
   "source": [
    "Customer segmentation is the activity of dividing a broad consumer or business market, normally consisting of existing and potential customers, into sub-groups of consumers (known as segments) based on some type of shared characteristics. The overall aim of segmentation is to identify high yield segments – that is, those segments that are likely to be the most profitable or that have growth potential – so that these can be selected for special attention\n",
    "\n",
    "Data link : https://www.kaggle.com/kyanyoga/sample-sales-data"
   ]
  },
  {
   "cell_type": "markdown",
   "metadata": {},
   "source": [
    "## Part 1: A general look at the data"
   ]
  },
  {
   "cell_type": "code",
   "execution_count": 1,
   "metadata": {},
   "outputs": [
    {
     "data": {
      "text/html": [
       "<div>\n",
       "<style scoped>\n",
       "    .dataframe tbody tr th:only-of-type {\n",
       "        vertical-align: middle;\n",
       "    }\n",
       "\n",
       "    .dataframe tbody tr th {\n",
       "        vertical-align: top;\n",
       "    }\n",
       "\n",
       "    .dataframe thead th {\n",
       "        text-align: right;\n",
       "    }\n",
       "</style>\n",
       "<table border=\"1\" class=\"dataframe\">\n",
       "  <thead>\n",
       "    <tr style=\"text-align: right;\">\n",
       "      <th></th>\n",
       "      <th>ORDERNUMBER</th>\n",
       "      <th>QUANTITYORDERED</th>\n",
       "      <th>PRICEEACH</th>\n",
       "      <th>ORDERLINENUMBER</th>\n",
       "      <th>SALES</th>\n",
       "      <th>ORDERDATE</th>\n",
       "      <th>STATUS</th>\n",
       "      <th>QTR_ID</th>\n",
       "      <th>MONTH_ID</th>\n",
       "      <th>YEAR_ID</th>\n",
       "      <th>PRODUCTLINE</th>\n",
       "      <th>MSRP</th>\n",
       "      <th>PRODUCTCODE</th>\n",
       "      <th>CUSTOMERNAME</th>\n",
       "      <th>PHONE</th>\n",
       "      <th>ADDRESSLINE1</th>\n",
       "      <th>ADDRESSLINE2</th>\n",
       "      <th>CITY</th>\n",
       "      <th>STATE</th>\n",
       "      <th>POSTALCODE</th>\n",
       "      <th>COUNTRY</th>\n",
       "      <th>TERRITORY</th>\n",
       "      <th>CONTACTLASTNAME</th>\n",
       "      <th>CONTACTFIRSTNAME</th>\n",
       "      <th>DEALSIZE</th>\n",
       "    </tr>\n",
       "  </thead>\n",
       "  <tbody>\n",
       "    <tr>\n",
       "      <th>0</th>\n",
       "      <td>10107</td>\n",
       "      <td>30</td>\n",
       "      <td>95.70</td>\n",
       "      <td>2</td>\n",
       "      <td>2871.00</td>\n",
       "      <td>2/24/2003 0:00</td>\n",
       "      <td>Shipped</td>\n",
       "      <td>1</td>\n",
       "      <td>2</td>\n",
       "      <td>2003</td>\n",
       "      <td>Motorcycles</td>\n",
       "      <td>95</td>\n",
       "      <td>S10_1678</td>\n",
       "      <td>Land of Toys Inc.</td>\n",
       "      <td>2125557818</td>\n",
       "      <td>897 Long Airport Avenue</td>\n",
       "      <td>NaN</td>\n",
       "      <td>NYC</td>\n",
       "      <td>NY</td>\n",
       "      <td>10022</td>\n",
       "      <td>USA</td>\n",
       "      <td>NaN</td>\n",
       "      <td>Yu</td>\n",
       "      <td>Kwai</td>\n",
       "      <td>Small</td>\n",
       "    </tr>\n",
       "    <tr>\n",
       "      <th>1</th>\n",
       "      <td>10121</td>\n",
       "      <td>34</td>\n",
       "      <td>81.35</td>\n",
       "      <td>5</td>\n",
       "      <td>2765.90</td>\n",
       "      <td>5/7/2003 0:00</td>\n",
       "      <td>Shipped</td>\n",
       "      <td>2</td>\n",
       "      <td>5</td>\n",
       "      <td>2003</td>\n",
       "      <td>Motorcycles</td>\n",
       "      <td>95</td>\n",
       "      <td>S10_1678</td>\n",
       "      <td>Reims Collectables</td>\n",
       "      <td>26.47.1555</td>\n",
       "      <td>59 rue de l'Abbaye</td>\n",
       "      <td>NaN</td>\n",
       "      <td>Reims</td>\n",
       "      <td>NaN</td>\n",
       "      <td>51100</td>\n",
       "      <td>France</td>\n",
       "      <td>EMEA</td>\n",
       "      <td>Henriot</td>\n",
       "      <td>Paul</td>\n",
       "      <td>Small</td>\n",
       "    </tr>\n",
       "    <tr>\n",
       "      <th>2</th>\n",
       "      <td>10134</td>\n",
       "      <td>41</td>\n",
       "      <td>94.74</td>\n",
       "      <td>2</td>\n",
       "      <td>3884.34</td>\n",
       "      <td>7/1/2003 0:00</td>\n",
       "      <td>Shipped</td>\n",
       "      <td>3</td>\n",
       "      <td>7</td>\n",
       "      <td>2003</td>\n",
       "      <td>Motorcycles</td>\n",
       "      <td>95</td>\n",
       "      <td>S10_1678</td>\n",
       "      <td>Lyon Souveniers</td>\n",
       "      <td>+33 1 46 62 7555</td>\n",
       "      <td>27 rue du Colonel Pierre Avia</td>\n",
       "      <td>NaN</td>\n",
       "      <td>Paris</td>\n",
       "      <td>NaN</td>\n",
       "      <td>75508</td>\n",
       "      <td>France</td>\n",
       "      <td>EMEA</td>\n",
       "      <td>Da Cunha</td>\n",
       "      <td>Daniel</td>\n",
       "      <td>Medium</td>\n",
       "    </tr>\n",
       "    <tr>\n",
       "      <th>3</th>\n",
       "      <td>10145</td>\n",
       "      <td>45</td>\n",
       "      <td>83.26</td>\n",
       "      <td>6</td>\n",
       "      <td>3746.70</td>\n",
       "      <td>8/25/2003 0:00</td>\n",
       "      <td>Shipped</td>\n",
       "      <td>3</td>\n",
       "      <td>8</td>\n",
       "      <td>2003</td>\n",
       "      <td>Motorcycles</td>\n",
       "      <td>95</td>\n",
       "      <td>S10_1678</td>\n",
       "      <td>Toys4GrownUps.com</td>\n",
       "      <td>6265557265</td>\n",
       "      <td>78934 Hillside Dr.</td>\n",
       "      <td>NaN</td>\n",
       "      <td>Pasadena</td>\n",
       "      <td>CA</td>\n",
       "      <td>90003</td>\n",
       "      <td>USA</td>\n",
       "      <td>NaN</td>\n",
       "      <td>Young</td>\n",
       "      <td>Julie</td>\n",
       "      <td>Medium</td>\n",
       "    </tr>\n",
       "    <tr>\n",
       "      <th>4</th>\n",
       "      <td>10159</td>\n",
       "      <td>49</td>\n",
       "      <td>100.00</td>\n",
       "      <td>14</td>\n",
       "      <td>5205.27</td>\n",
       "      <td>10/10/2003 0:00</td>\n",
       "      <td>Shipped</td>\n",
       "      <td>4</td>\n",
       "      <td>10</td>\n",
       "      <td>2003</td>\n",
       "      <td>Motorcycles</td>\n",
       "      <td>95</td>\n",
       "      <td>S10_1678</td>\n",
       "      <td>Corporate Gift Ideas Co.</td>\n",
       "      <td>6505551386</td>\n",
       "      <td>7734 Strong St.</td>\n",
       "      <td>NaN</td>\n",
       "      <td>San Francisco</td>\n",
       "      <td>CA</td>\n",
       "      <td>NaN</td>\n",
       "      <td>USA</td>\n",
       "      <td>NaN</td>\n",
       "      <td>Brown</td>\n",
       "      <td>Julie</td>\n",
       "      <td>Medium</td>\n",
       "    </tr>\n",
       "  </tbody>\n",
       "</table>\n",
       "</div>"
      ],
      "text/plain": [
       "   ORDERNUMBER  QUANTITYORDERED  PRICEEACH  ORDERLINENUMBER    SALES  \\\n",
       "0        10107               30      95.70                2  2871.00   \n",
       "1        10121               34      81.35                5  2765.90   \n",
       "2        10134               41      94.74                2  3884.34   \n",
       "3        10145               45      83.26                6  3746.70   \n",
       "4        10159               49     100.00               14  5205.27   \n",
       "\n",
       "         ORDERDATE   STATUS  QTR_ID  MONTH_ID  YEAR_ID  PRODUCTLINE  MSRP  \\\n",
       "0   2/24/2003 0:00  Shipped       1         2     2003  Motorcycles    95   \n",
       "1    5/7/2003 0:00  Shipped       2         5     2003  Motorcycles    95   \n",
       "2    7/1/2003 0:00  Shipped       3         7     2003  Motorcycles    95   \n",
       "3   8/25/2003 0:00  Shipped       3         8     2003  Motorcycles    95   \n",
       "4  10/10/2003 0:00  Shipped       4        10     2003  Motorcycles    95   \n",
       "\n",
       "  PRODUCTCODE              CUSTOMERNAME             PHONE  \\\n",
       "0    S10_1678         Land of Toys Inc.        2125557818   \n",
       "1    S10_1678        Reims Collectables        26.47.1555   \n",
       "2    S10_1678           Lyon Souveniers  +33 1 46 62 7555   \n",
       "3    S10_1678         Toys4GrownUps.com        6265557265   \n",
       "4    S10_1678  Corporate Gift Ideas Co.        6505551386   \n",
       "\n",
       "                    ADDRESSLINE1 ADDRESSLINE2           CITY STATE POSTALCODE  \\\n",
       "0        897 Long Airport Avenue          NaN            NYC    NY      10022   \n",
       "1             59 rue de l'Abbaye          NaN          Reims   NaN      51100   \n",
       "2  27 rue du Colonel Pierre Avia          NaN          Paris   NaN      75508   \n",
       "3             78934 Hillside Dr.          NaN       Pasadena    CA      90003   \n",
       "4                7734 Strong St.          NaN  San Francisco    CA        NaN   \n",
       "\n",
       "  COUNTRY TERRITORY CONTACTLASTNAME CONTACTFIRSTNAME DEALSIZE  \n",
       "0     USA       NaN              Yu             Kwai    Small  \n",
       "1  France      EMEA         Henriot             Paul    Small  \n",
       "2  France      EMEA        Da Cunha           Daniel   Medium  \n",
       "3     USA       NaN           Young            Julie   Medium  \n",
       "4     USA       NaN           Brown            Julie   Medium  "
      ]
     },
     "execution_count": 1,
     "metadata": {},
     "output_type": "execute_result"
    }
   ],
   "source": [
    "# Import standard libraries\n",
    "import pandas as pd\n",
    "import numpy as np\n",
    "import seaborn as sns\n",
    "import matplotlib.pyplot as plt\n",
    "\n",
    "import datetime as dt\n",
    "\n",
    "# Load the data from the csv file into a Pandas Dataframe\n",
    "df = pd.read_csv(\"sales_data_sample.csv\", \n",
    "                 encoding = 'unicode_escape')\n",
    "pd.set_option('display.max_columns', None)\n",
    "df.head(5)\n",
    "\n",
    "#I had to prefix the string with r (to produce a raw string)\n",
    "\n",
    "# MSRP = manufacturer's suggested retail price"
   ]
  },
  {
   "cell_type": "markdown",
   "metadata": {},
   "source": [
    "## Part 2: Data preparation"
   ]
  },
  {
   "cell_type": "code",
   "execution_count": 2,
   "metadata": {},
   "outputs": [
    {
     "name": "stdout",
     "output_type": "stream",
     "text": [
      "<class 'pandas.core.frame.DataFrame'>\n",
      "RangeIndex: 2823 entries, 0 to 2822\n",
      "Data columns (total 20 columns):\n",
      " #   Column            Non-Null Count  Dtype  \n",
      "---  ------            --------------  -----  \n",
      " 0   ORDERNUMBER       2823 non-null   int64  \n",
      " 1   QUANTITYORDERED   2823 non-null   int64  \n",
      " 2   PRICEEACH         2823 non-null   float64\n",
      " 3   ORDERLINENUMBER   2823 non-null   int64  \n",
      " 4   SALES             2823 non-null   float64\n",
      " 5   ORDERDATE         2823 non-null   object \n",
      " 6   STATUS            2823 non-null   object \n",
      " 7   QTR_ID            2823 non-null   int64  \n",
      " 8   MONTH_ID          2823 non-null   int64  \n",
      " 9   YEAR_ID           2823 non-null   int64  \n",
      " 10  PRODUCTLINE       2823 non-null   object \n",
      " 11  MSRP              2823 non-null   int64  \n",
      " 12  PRODUCTCODE       2823 non-null   object \n",
      " 13  CUSTOMERNAME      2823 non-null   object \n",
      " 14  CITY              2823 non-null   object \n",
      " 15  COUNTRY           2823 non-null   object \n",
      " 16  TERRITORY         1749 non-null   object \n",
      " 17  CONTACTLASTNAME   2823 non-null   object \n",
      " 18  CONTACTFIRSTNAME  2823 non-null   object \n",
      " 19  DEALSIZE          2823 non-null   object \n",
      "dtypes: float64(2), int64(7), object(11)\n",
      "memory usage: 441.2+ KB\n"
     ]
    }
   ],
   "source": [
    "#Removing the variables which don't add significant value fot the analysis.\n",
    "to_drop = ['ADDRESSLINE1','ADDRESSLINE2','STATE','POSTALCODE', 'PHONE']\n",
    "df = df.drop(to_drop, axis=1)\n",
    "\n",
    "#Checking for null values and inconsistent data types\n",
    "df.info()"
   ]
  },
  {
   "cell_type": "markdown",
   "metadata": {},
   "source": [
    "TERRITORY variable will not be used, it doesn't have a significant effect on the analysis.\n",
    "Moreover we change the data type of variable 'ORDERDATE' from object to datetime"
   ]
  },
  {
   "cell_type": "code",
   "execution_count": 3,
   "metadata": {},
   "outputs": [],
   "source": [
    "df['ORDERDATE'] = pd.to_datetime(df['ORDERDATE'])"
   ]
  },
  {
   "cell_type": "code",
   "execution_count": 4,
   "metadata": {},
   "outputs": [
    {
     "data": {
      "text/html": [
       "<div>\n",
       "<style scoped>\n",
       "    .dataframe tbody tr th:only-of-type {\n",
       "        vertical-align: middle;\n",
       "    }\n",
       "\n",
       "    .dataframe tbody tr th {\n",
       "        vertical-align: top;\n",
       "    }\n",
       "\n",
       "    .dataframe thead th {\n",
       "        text-align: right;\n",
       "    }\n",
       "</style>\n",
       "<table border=\"1\" class=\"dataframe\">\n",
       "  <thead>\n",
       "    <tr style=\"text-align: right;\">\n",
       "      <th></th>\n",
       "      <th>QUANTITYORDERED</th>\n",
       "      <th>PRICEEACH</th>\n",
       "      <th>SALES</th>\n",
       "      <th>MSRP</th>\n",
       "    </tr>\n",
       "  </thead>\n",
       "  <tbody>\n",
       "    <tr>\n",
       "      <th>count</th>\n",
       "      <td>2823.000000</td>\n",
       "      <td>2823.000000</td>\n",
       "      <td>2823.000000</td>\n",
       "      <td>2823.000000</td>\n",
       "    </tr>\n",
       "    <tr>\n",
       "      <th>mean</th>\n",
       "      <td>35.092809</td>\n",
       "      <td>83.658544</td>\n",
       "      <td>3553.889072</td>\n",
       "      <td>100.715551</td>\n",
       "    </tr>\n",
       "    <tr>\n",
       "      <th>std</th>\n",
       "      <td>9.741443</td>\n",
       "      <td>20.174277</td>\n",
       "      <td>1841.865106</td>\n",
       "      <td>40.187912</td>\n",
       "    </tr>\n",
       "    <tr>\n",
       "      <th>min</th>\n",
       "      <td>6.000000</td>\n",
       "      <td>26.880000</td>\n",
       "      <td>482.130000</td>\n",
       "      <td>33.000000</td>\n",
       "    </tr>\n",
       "    <tr>\n",
       "      <th>25%</th>\n",
       "      <td>27.000000</td>\n",
       "      <td>68.860000</td>\n",
       "      <td>2203.430000</td>\n",
       "      <td>68.000000</td>\n",
       "    </tr>\n",
       "    <tr>\n",
       "      <th>50%</th>\n",
       "      <td>35.000000</td>\n",
       "      <td>95.700000</td>\n",
       "      <td>3184.800000</td>\n",
       "      <td>99.000000</td>\n",
       "    </tr>\n",
       "    <tr>\n",
       "      <th>75%</th>\n",
       "      <td>43.000000</td>\n",
       "      <td>100.000000</td>\n",
       "      <td>4508.000000</td>\n",
       "      <td>124.000000</td>\n",
       "    </tr>\n",
       "    <tr>\n",
       "      <th>max</th>\n",
       "      <td>97.000000</td>\n",
       "      <td>100.000000</td>\n",
       "      <td>14082.800000</td>\n",
       "      <td>214.000000</td>\n",
       "    </tr>\n",
       "  </tbody>\n",
       "</table>\n",
       "</div>"
      ],
      "text/plain": [
       "       QUANTITYORDERED    PRICEEACH         SALES         MSRP\n",
       "count      2823.000000  2823.000000   2823.000000  2823.000000\n",
       "mean         35.092809    83.658544   3553.889072   100.715551\n",
       "std           9.741443    20.174277   1841.865106    40.187912\n",
       "min           6.000000    26.880000    482.130000    33.000000\n",
       "25%          27.000000    68.860000   2203.430000    68.000000\n",
       "50%          35.000000    95.700000   3184.800000    99.000000\n",
       "75%          43.000000   100.000000   4508.000000   124.000000\n",
       "max          97.000000   100.000000  14082.800000   214.000000"
      ]
     },
     "execution_count": 4,
     "metadata": {},
     "output_type": "execute_result"
    }
   ],
   "source": [
    "#Summary stats of Quantitative variables\n",
    "quant_vars = ['QUANTITYORDERED','PRICEEACH','SALES','MSRP']\n",
    "df[quant_vars].describe()"
   ]
  },
  {
   "cell_type": "markdown",
   "metadata": {},
   "source": [
    "There is no negative values. There is no problemn with the data on the first level : means and standart deviation seem coherent."
   ]
  },
  {
   "cell_type": "markdown",
   "metadata": {},
   "source": [
    "## Part 3: Exploring the variables¶"
   ]
  },
  {
   "cell_type": "code",
   "execution_count": 5,
   "metadata": {},
   "outputs": [
    {
     "name": "stderr",
     "output_type": "stream",
     "text": [
      "C:\\ProgramData\\Anaconda3\\lib\\site-packages\\seaborn\\distributions.py:2619: FutureWarning: `distplot` is a deprecated function and will be removed in a future version. Please adapt your code to use either `displot` (a figure-level function with similar flexibility) or `histplot` (an axes-level function for histograms).\n",
      "  warnings.warn(msg, FutureWarning)\n"
     ]
    },
    {
     "data": {
      "text/plain": [
       "Text(0.5, 1.0, 'Quantity ordered Distribution')"
      ]
     },
     "execution_count": 5,
     "metadata": {},
     "output_type": "execute_result"
    },
    {
     "data": {
      "image/png": "[encoded data removed]",
      "text/plain": [
       "<Figure size 432x288 with 1 Axes>"
      ]
     },
     "metadata": {
      "needs_background": "light"
     },
     "output_type": "display_data"
    }
   ],
   "source": [
    "sns.distplot(df['QUANTITYORDERED'], kde=True);\n",
    "sns.set(rc={'figure.figsize':(15,4)})\n",
    "plt.ylabel('Frequency')\n",
    "plt.xlabel('Quantity ordered')\n",
    "plt.title(\"Quantity ordered Distribution\")"
   ]
  },
  {
   "cell_type": "markdown",
   "metadata": {},
   "source": [
    "This plot is the histogram of a the variable \"Quantity ordered\" whereas the line estimates the distribution from which the variable is derived.\n",
    "\n",
    "From the distribution plot of quantity, we can infer that the orders are bulk orders. Majority of the order's quantity are between 20-40 units. "
   ]
  },
  {
   "cell_type": "code",
   "execution_count": 6,
   "metadata": {},
   "outputs": [
    {
     "name": "stderr",
     "output_type": "stream",
     "text": [
      "C:\\ProgramData\\Anaconda3\\lib\\site-packages\\seaborn\\distributions.py:2619: FutureWarning: `distplot` is a deprecated function and will be removed in a future version. Please adapt your code to use either `displot` (a figure-level function with similar flexibility) or `histplot` (an axes-level function for histograms).\n",
      "  warnings.warn(msg, FutureWarning)\n"
     ]
    },
    {
     "data": {
      "text/plain": [
       "Text(0.5, 1.0, 'Price Distribution')"
      ]
     },
     "execution_count": 6,
     "metadata": {},
     "output_type": "execute_result"
    },
    {
     "data": {
      "image/png": "[encoded data removed]",
      "text/plain": [
       "<Figure size 1080x288 with 1 Axes>"
      ]
     },
     "metadata": {},
     "output_type": "display_data"
    }
   ],
   "source": [
    "sns.distplot(df['PRICEEACH'], kde=True);\n",
    "sns.set(rc={'figure.figsize':(15,4)})\n",
    "plt.ylabel('Frequency')\n",
    "plt.xlabel('Price')\n",
    "plt.title(\"Price Distribution\")"
   ]
  },
  {
   "cell_type": "markdown",
   "metadata": {},
   "source": [
    "The price distribution is overall homogeneous. But it is observed a highest price appears with the highest frequency."
   ]
  },
  {
   "cell_type": "code",
   "execution_count": 7,
   "metadata": {},
   "outputs": [
    {
     "name": "stderr",
     "output_type": "stream",
     "text": [
      "C:\\ProgramData\\Anaconda3\\lib\\site-packages\\seaborn\\distributions.py:2619: FutureWarning: `distplot` is a deprecated function and will be removed in a future version. Please adapt your code to use either `displot` (a figure-level function with similar flexibility) or `histplot` (an axes-level function for histograms).\n",
      "  warnings.warn(msg, FutureWarning)\n"
     ]
    },
    {
     "data": {
      "text/plain": [
       "Text(0.5, 1.0, 'Sales Distribution')"
      ]
     },
     "execution_count": 7,
     "metadata": {},
     "output_type": "execute_result"
    },
    {
     "data": {
      "image/png": "[encoded data removed]",
      "text/plain": [
       "<Figure size 1080x288 with 1 Axes>"
      ]
     },
     "metadata": {},
     "output_type": "display_data"
    }
   ],
   "source": [
    "sns.distplot(df['SALES'], kde=True);\n",
    "sns.set(rc={'figure.figsize':(15,4)})\n",
    "plt.ylabel('Frequency')\n",
    "plt.xlabel('Sales')\n",
    "plt.title(\"Sales Distribution\")"
   ]
  },
  {
   "cell_type": "code",
   "execution_count": 8,
   "metadata": {},
   "outputs": [
    {
     "data": {
      "text/plain": [
       "Shipped       0.927028\n",
       "Cancelled     0.021254\n",
       "Resolved      0.016649\n",
       "On Hold       0.015586\n",
       "In Process    0.014524\n",
       "Disputed      0.004959\n",
       "Name: STATUS, dtype: float64"
      ]
     },
     "execution_count": 8,
     "metadata": {},
     "output_type": "execute_result"
    }
   ],
   "source": [
    "#Analyzing the STATUS variable\n",
    "\n",
    "df['STATUS'].value_counts(normalize=True)"
   ]
  },
  {
   "cell_type": "code",
   "execution_count": 9,
   "metadata": {},
   "outputs": [
    {
     "data": {
      "text/plain": [
       "Medium    0.490259\n",
       "Small     0.454127\n",
       "Large     0.055615\n",
       "Name: DEALSIZE, dtype: float64"
      ]
     },
     "execution_count": 9,
     "metadata": {},
     "output_type": "execute_result"
    }
   ],
   "source": [
    "df['DEALSIZE'].value_counts(normalize=True)\n"
   ]
  },
  {
   "cell_type": "code",
   "execution_count": 10,
   "metadata": {},
   "outputs": [
    {
     "data": {
      "text/plain": [
       "Text(0.5, 1.0, 'Dealsize Distribution')"
      ]
     },
     "execution_count": 10,
     "metadata": {},
     "output_type": "execute_result"
    },
    {
     "data": {
      "image/png": "[encoded data removed]",
      "text/plain": [
       "<Figure size 432x432 with 1 Axes>"
      ]
     },
     "metadata": {},
     "output_type": "display_data"
    }
   ],
   "source": [
    "fig= plt.figure(figsize=(6,6))\n",
    "df['DEALSIZE'].value_counts(normalize=True).plot.bar() \n",
    "plt.ylabel('% Proportion')\n",
    "plt.xlabel('Size')\n",
    "plt.title(\"Dealsize Distribution\")"
   ]
  },
  {
   "cell_type": "code",
   "execution_count": 11,
   "metadata": {},
   "outputs": [
    {
     "data": {
      "image/png": "[encoded data removed]",
      "text/plain": [
       "<Figure size 432x432 with 1 Axes>"
      ]
     },
     "metadata": {},
     "output_type": "display_data"
    }
   ],
   "source": [
    "#Analyzing KPIs\n",
    "\n",
    "#Annual Revenue\n",
    "\n",
    "Years = [2003,2004,2005]\n",
    "fig= plt.figure(figsize=(6,6))\n",
    "df.groupby(['YEAR_ID']).sum()['SALES'].plot()\n",
    "plt.xticks(Years)\n",
    "plt.ylabel('Sales')\n",
    "plt.xlabel('Year')\n",
    "plt.title(\"Annual Revenue\")\n",
    "plt.show()"
   ]
  },
  {
   "cell_type": "code",
   "execution_count": 12,
   "metadata": {},
   "outputs": [
    {
     "data": {
      "text/plain": [
       "YEAR_ID\n",
       "2003    3516979.54\n",
       "2004    4724162.60\n",
       "2005    1791486.71\n",
       "Name: SALES, dtype: float64"
      ]
     },
     "execution_count": 12,
     "metadata": {},
     "output_type": "execute_result"
    }
   ],
   "source": [
    "df.groupby(['YEAR_ID']).sum()['SALES']"
   ]
  },
  {
   "cell_type": "code",
   "execution_count": 13,
   "metadata": {},
   "outputs": [
    {
     "data": {
      "text/plain": [
       "2004    1345\n",
       "2003    1000\n",
       "2005     478\n",
       "Name: YEAR_ID, dtype: int64"
      ]
     },
     "execution_count": 13,
     "metadata": {},
     "output_type": "execute_result"
    }
   ],
   "source": [
    "df['YEAR_ID'].value_counts()\n"
   ]
  },
  {
   "cell_type": "markdown",
   "metadata": {},
   "source": [
    "The sales in 2005 are very low compared to the previous years. It means we don't have the complete data for 2005, so analyzing the Annual Revenue can be misleading. Instead, we can analyze Monthy Revenue."
   ]
  },
  {
   "cell_type": "code",
   "execution_count": 14,
   "metadata": {},
   "outputs": [
    {
     "data": {
      "text/html": [
       "<div>\n",
       "<style scoped>\n",
       "    .dataframe tbody tr th:only-of-type {\n",
       "        vertical-align: middle;\n",
       "    }\n",
       "\n",
       "    .dataframe tbody tr th {\n",
       "        vertical-align: top;\n",
       "    }\n",
       "\n",
       "    .dataframe thead th {\n",
       "        text-align: right;\n",
       "    }\n",
       "</style>\n",
       "<table border=\"1\" class=\"dataframe\">\n",
       "  <thead>\n",
       "    <tr style=\"text-align: right;\">\n",
       "      <th>YEAR_ID</th>\n",
       "      <th>2003</th>\n",
       "      <th>2004</th>\n",
       "      <th>2005</th>\n",
       "    </tr>\n",
       "    <tr>\n",
       "      <th>MONTH_ID</th>\n",
       "      <th></th>\n",
       "      <th></th>\n",
       "      <th></th>\n",
       "    </tr>\n",
       "  </thead>\n",
       "  <tbody>\n",
       "    <tr>\n",
       "      <th>1</th>\n",
       "      <td>129753.60</td>\n",
       "      <td>316577.42</td>\n",
       "      <td>339543.42</td>\n",
       "    </tr>\n",
       "    <tr>\n",
       "      <th>2</th>\n",
       "      <td>140836.19</td>\n",
       "      <td>311419.53</td>\n",
       "      <td>358186.18</td>\n",
       "    </tr>\n",
       "    <tr>\n",
       "      <th>3</th>\n",
       "      <td>174504.90</td>\n",
       "      <td>205733.73</td>\n",
       "      <td>374262.76</td>\n",
       "    </tr>\n",
       "    <tr>\n",
       "      <th>4</th>\n",
       "      <td>201609.55</td>\n",
       "      <td>206148.12</td>\n",
       "      <td>261633.29</td>\n",
       "    </tr>\n",
       "    <tr>\n",
       "      <th>5</th>\n",
       "      <td>192673.11</td>\n",
       "      <td>273438.39</td>\n",
       "      <td>457861.06</td>\n",
       "    </tr>\n",
       "    <tr>\n",
       "      <th>6</th>\n",
       "      <td>168082.56</td>\n",
       "      <td>286674.22</td>\n",
       "      <td>NaN</td>\n",
       "    </tr>\n",
       "    <tr>\n",
       "      <th>7</th>\n",
       "      <td>187731.88</td>\n",
       "      <td>327144.09</td>\n",
       "      <td>NaN</td>\n",
       "    </tr>\n",
       "    <tr>\n",
       "      <th>8</th>\n",
       "      <td>197809.30</td>\n",
       "      <td>461501.27</td>\n",
       "      <td>NaN</td>\n",
       "    </tr>\n",
       "    <tr>\n",
       "      <th>9</th>\n",
       "      <td>263973.36</td>\n",
       "      <td>320750.91</td>\n",
       "      <td>NaN</td>\n",
       "    </tr>\n",
       "    <tr>\n",
       "      <th>10</th>\n",
       "      <td>568290.97</td>\n",
       "      <td>552924.25</td>\n",
       "      <td>NaN</td>\n",
       "    </tr>\n",
       "    <tr>\n",
       "      <th>11</th>\n",
       "      <td>1029837.66</td>\n",
       "      <td>1089048.01</td>\n",
       "      <td>NaN</td>\n",
       "    </tr>\n",
       "    <tr>\n",
       "      <th>12</th>\n",
       "      <td>261876.46</td>\n",
       "      <td>372802.66</td>\n",
       "      <td>NaN</td>\n",
       "    </tr>\n",
       "  </tbody>\n",
       "</table>\n",
       "</div>"
      ],
      "text/plain": [
       "YEAR_ID         2003        2004       2005\n",
       "MONTH_ID                                   \n",
       "1          129753.60   316577.42  339543.42\n",
       "2          140836.19   311419.53  358186.18\n",
       "3          174504.90   205733.73  374262.76\n",
       "4          201609.55   206148.12  261633.29\n",
       "5          192673.11   273438.39  457861.06\n",
       "6          168082.56   286674.22        NaN\n",
       "7          187731.88   327144.09        NaN\n",
       "8          197809.30   461501.27        NaN\n",
       "9          263973.36   320750.91        NaN\n",
       "10         568290.97   552924.25        NaN\n",
       "11        1029837.66  1089048.01        NaN\n",
       "12         261876.46   372802.66        NaN"
      ]
     },
     "execution_count": 14,
     "metadata": {},
     "output_type": "execute_result"
    }
   ],
   "source": [
    "#Monthly Revenue\n",
    "\n",
    "Sales=df.pivot_table('SALES', index='MONTH_ID', columns='YEAR_ID', aggfunc=\"sum\")\n",
    "Sales"
   ]
  },
  {
   "cell_type": "code",
   "execution_count": 15,
   "metadata": {},
   "outputs": [
    {
     "data": {
      "text/plain": [
       "Text(0.5, 1.0, 'Annual Revenue')"
      ]
     },
     "execution_count": 15,
     "metadata": {},
     "output_type": "execute_result"
    },
    {
     "data": {
      "image/png": "[encoded data removed]",
      "text/plain": [
       "<Figure size 576x360 with 1 Axes>"
      ]
     },
     "metadata": {},
     "output_type": "display_data"
    }
   ],
   "source": [
    "Sales.plot(figsize=(8,5))\n",
    "\n",
    "months = range(1,13)\n",
    "plt.xticks(months)\n",
    "\n",
    "plt.ylabel('Sales')\n",
    "plt.xlabel('Months')\n",
    "plt.title(\"Annual Revenue\")\n"
   ]
  },
  {
   "cell_type": "code",
   "execution_count": 16,
   "metadata": {},
   "outputs": [
    {
     "data": {
      "text/html": [
       "<div>\n",
       "<style scoped>\n",
       "    .dataframe tbody tr th:only-of-type {\n",
       "        vertical-align: middle;\n",
       "    }\n",
       "\n",
       "    .dataframe tbody tr th {\n",
       "        vertical-align: top;\n",
       "    }\n",
       "\n",
       "    .dataframe thead th {\n",
       "        text-align: right;\n",
       "    }\n",
       "</style>\n",
       "<table border=\"1\" class=\"dataframe\">\n",
       "  <thead>\n",
       "    <tr style=\"text-align: right;\">\n",
       "      <th>YEAR_ID</th>\n",
       "      <th>2003</th>\n",
       "      <th>2004</th>\n",
       "      <th>2005</th>\n",
       "    </tr>\n",
       "    <tr>\n",
       "      <th>MONTH_ID</th>\n",
       "      <th></th>\n",
       "      <th></th>\n",
       "      <th></th>\n",
       "    </tr>\n",
       "  </thead>\n",
       "  <tbody>\n",
       "    <tr>\n",
       "      <th>1</th>\n",
       "      <td>NaN</td>\n",
       "      <td>NaN</td>\n",
       "      <td>NaN</td>\n",
       "    </tr>\n",
       "    <tr>\n",
       "      <th>2</th>\n",
       "      <td>0.085413</td>\n",
       "      <td>-0.016293</td>\n",
       "      <td>0.054905</td>\n",
       "    </tr>\n",
       "    <tr>\n",
       "      <th>3</th>\n",
       "      <td>0.239063</td>\n",
       "      <td>-0.339368</td>\n",
       "      <td>0.044883</td>\n",
       "    </tr>\n",
       "    <tr>\n",
       "      <th>4</th>\n",
       "      <td>0.155323</td>\n",
       "      <td>0.002014</td>\n",
       "      <td>-0.300937</td>\n",
       "    </tr>\n",
       "    <tr>\n",
       "      <th>5</th>\n",
       "      <td>-0.044325</td>\n",
       "      <td>0.326417</td>\n",
       "      <td>0.750011</td>\n",
       "    </tr>\n",
       "    <tr>\n",
       "      <th>6</th>\n",
       "      <td>-0.127628</td>\n",
       "      <td>0.048405</td>\n",
       "      <td>0.000000</td>\n",
       "    </tr>\n",
       "    <tr>\n",
       "      <th>7</th>\n",
       "      <td>0.116903</td>\n",
       "      <td>0.141170</td>\n",
       "      <td>0.000000</td>\n",
       "    </tr>\n",
       "    <tr>\n",
       "      <th>8</th>\n",
       "      <td>0.053680</td>\n",
       "      <td>0.410697</td>\n",
       "      <td>0.000000</td>\n",
       "    </tr>\n",
       "    <tr>\n",
       "      <th>9</th>\n",
       "      <td>0.334484</td>\n",
       "      <td>-0.304984</td>\n",
       "      <td>0.000000</td>\n",
       "    </tr>\n",
       "    <tr>\n",
       "      <th>10</th>\n",
       "      <td>1.152835</td>\n",
       "      <td>0.723843</td>\n",
       "      <td>0.000000</td>\n",
       "    </tr>\n",
       "    <tr>\n",
       "      <th>11</th>\n",
       "      <td>0.812166</td>\n",
       "      <td>0.969615</td>\n",
       "      <td>0.000000</td>\n",
       "    </tr>\n",
       "    <tr>\n",
       "      <th>12</th>\n",
       "      <td>-0.745711</td>\n",
       "      <td>-0.657680</td>\n",
       "      <td>0.000000</td>\n",
       "    </tr>\n",
       "  </tbody>\n",
       "</table>\n",
       "</div>"
      ],
      "text/plain": [
       "YEAR_ID       2003      2004      2005\n",
       "MONTH_ID                              \n",
       "1              NaN       NaN       NaN\n",
       "2         0.085413 -0.016293  0.054905\n",
       "3         0.239063 -0.339368  0.044883\n",
       "4         0.155323  0.002014 -0.300937\n",
       "5        -0.044325  0.326417  0.750011\n",
       "6        -0.127628  0.048405  0.000000\n",
       "7         0.116903  0.141170  0.000000\n",
       "8         0.053680  0.410697  0.000000\n",
       "9         0.334484 -0.304984  0.000000\n",
       "10        1.152835  0.723843  0.000000\n",
       "11        0.812166  0.969615  0.000000\n",
       "12       -0.745711 -0.657680  0.000000"
      ]
     },
     "execution_count": 16,
     "metadata": {},
     "output_type": "execute_result"
    }
   ],
   "source": [
    "#Monthly Revenue Growth Rate\n",
    "\n",
    "monthly_growth = Sales.pct_change()\n",
    "monthly_growth"
   ]
  },
  {
   "cell_type": "code",
   "execution_count": 17,
   "metadata": {},
   "outputs": [
    {
     "data": {
      "text/plain": [
       "Text(0.5, 1.0, ' Monthly Sales Growth Rate')"
      ]
     },
     "execution_count": 17,
     "metadata": {},
     "output_type": "execute_result"
    },
    {
     "data": {
      "image/png": "[encoded data removed]",
      "text/plain": [
       "<Figure size 576x360 with 1 Axes>"
      ]
     },
     "metadata": {},
     "output_type": "display_data"
    }
   ],
   "source": [
    "monthly_growth = monthly_growth[monthly_growth != 0]\n",
    "monthly_growth.plot(figsize=(8,5))\n",
    "\n",
    "months = range(1,13)\n",
    "plt.xticks(months)\n",
    "\n",
    "plt.ylabel('Sales')\n",
    "plt.xlabel('Months')\n",
    "plt.title(\" Monthly Sales Growth Rate\")"
   ]
  },
  {
   "cell_type": "code",
   "execution_count": 18,
   "metadata": {},
   "outputs": [
    {
     "data": {
      "image/png": "[encoded data removed]",
      "text/plain": [
       "<Figure size 432x432 with 1 Axes>"
      ]
     },
     "metadata": {},
     "output_type": "display_data"
    }
   ],
   "source": [
    "#Top 10 countries by Sales\n",
    "\n",
    "fig= plt.figure(figsize=(6,6))\n",
    "\n",
    "df.groupby(['COUNTRY']).sum()['SALES'].sort_values(ascending=False).plot.bar()\n",
    "plt.ylabel('Total Sales')\n",
    "plt.xlabel('Country')\n",
    "plt.title(\"Annual Revenue\")\n",
    "plt.show()"
   ]
  },
  {
   "cell_type": "markdown",
   "metadata": {},
   "source": [
    "## Part 4: Segmentation with RFM Method"
   ]
  },
  {
   "cell_type": "code",
   "execution_count": 19,
   "metadata": {},
   "outputs": [
    {
     "data": {
      "text/html": [
       "<div>\n",
       "<style scoped>\n",
       "    .dataframe tbody tr th:only-of-type {\n",
       "        vertical-align: middle;\n",
       "    }\n",
       "\n",
       "    .dataframe tbody tr th {\n",
       "        vertical-align: top;\n",
       "    }\n",
       "\n",
       "    .dataframe thead th {\n",
       "        text-align: right;\n",
       "    }\n",
       "</style>\n",
       "<table border=\"1\" class=\"dataframe\">\n",
       "  <thead>\n",
       "    <tr style=\"text-align: right;\">\n",
       "      <th></th>\n",
       "      <th>ORDERNUMBER</th>\n",
       "      <th>QUANTITYORDERED</th>\n",
       "      <th>PRICEEACH</th>\n",
       "      <th>ORDERLINENUMBER</th>\n",
       "      <th>SALES</th>\n",
       "      <th>ORDERDATE</th>\n",
       "      <th>STATUS</th>\n",
       "      <th>QTR_ID</th>\n",
       "      <th>MONTH_ID</th>\n",
       "      <th>YEAR_ID</th>\n",
       "      <th>PRODUCTLINE</th>\n",
       "      <th>MSRP</th>\n",
       "      <th>PRODUCTCODE</th>\n",
       "      <th>CUSTOMERNAME</th>\n",
       "      <th>CITY</th>\n",
       "      <th>COUNTRY</th>\n",
       "      <th>TERRITORY</th>\n",
       "      <th>CONTACTLASTNAME</th>\n",
       "      <th>CONTACTFIRSTNAME</th>\n",
       "      <th>DEALSIZE</th>\n",
       "    </tr>\n",
       "  </thead>\n",
       "  <tbody>\n",
       "    <tr>\n",
       "      <th>0</th>\n",
       "      <td>10107</td>\n",
       "      <td>30</td>\n",
       "      <td>95.70</td>\n",
       "      <td>2</td>\n",
       "      <td>2871.00</td>\n",
       "      <td>2003-02-24</td>\n",
       "      <td>Shipped</td>\n",
       "      <td>1</td>\n",
       "      <td>2</td>\n",
       "      <td>2003</td>\n",
       "      <td>Motorcycles</td>\n",
       "      <td>95</td>\n",
       "      <td>S10_1678</td>\n",
       "      <td>Land of Toys Inc.</td>\n",
       "      <td>NYC</td>\n",
       "      <td>USA</td>\n",
       "      <td>NaN</td>\n",
       "      <td>Yu</td>\n",
       "      <td>Kwai</td>\n",
       "      <td>Small</td>\n",
       "    </tr>\n",
       "    <tr>\n",
       "      <th>1</th>\n",
       "      <td>10121</td>\n",
       "      <td>34</td>\n",
       "      <td>81.35</td>\n",
       "      <td>5</td>\n",
       "      <td>2765.90</td>\n",
       "      <td>2003-05-07</td>\n",
       "      <td>Shipped</td>\n",
       "      <td>2</td>\n",
       "      <td>5</td>\n",
       "      <td>2003</td>\n",
       "      <td>Motorcycles</td>\n",
       "      <td>95</td>\n",
       "      <td>S10_1678</td>\n",
       "      <td>Reims Collectables</td>\n",
       "      <td>Reims</td>\n",
       "      <td>France</td>\n",
       "      <td>EMEA</td>\n",
       "      <td>Henriot</td>\n",
       "      <td>Paul</td>\n",
       "      <td>Small</td>\n",
       "    </tr>\n",
       "    <tr>\n",
       "      <th>2</th>\n",
       "      <td>10134</td>\n",
       "      <td>41</td>\n",
       "      <td>94.74</td>\n",
       "      <td>2</td>\n",
       "      <td>3884.34</td>\n",
       "      <td>2003-07-01</td>\n",
       "      <td>Shipped</td>\n",
       "      <td>3</td>\n",
       "      <td>7</td>\n",
       "      <td>2003</td>\n",
       "      <td>Motorcycles</td>\n",
       "      <td>95</td>\n",
       "      <td>S10_1678</td>\n",
       "      <td>Lyon Souveniers</td>\n",
       "      <td>Paris</td>\n",
       "      <td>France</td>\n",
       "      <td>EMEA</td>\n",
       "      <td>Da Cunha</td>\n",
       "      <td>Daniel</td>\n",
       "      <td>Medium</td>\n",
       "    </tr>\n",
       "    <tr>\n",
       "      <th>3</th>\n",
       "      <td>10145</td>\n",
       "      <td>45</td>\n",
       "      <td>83.26</td>\n",
       "      <td>6</td>\n",
       "      <td>3746.70</td>\n",
       "      <td>2003-08-25</td>\n",
       "      <td>Shipped</td>\n",
       "      <td>3</td>\n",
       "      <td>8</td>\n",
       "      <td>2003</td>\n",
       "      <td>Motorcycles</td>\n",
       "      <td>95</td>\n",
       "      <td>S10_1678</td>\n",
       "      <td>Toys4GrownUps.com</td>\n",
       "      <td>Pasadena</td>\n",
       "      <td>USA</td>\n",
       "      <td>NaN</td>\n",
       "      <td>Young</td>\n",
       "      <td>Julie</td>\n",
       "      <td>Medium</td>\n",
       "    </tr>\n",
       "    <tr>\n",
       "      <th>4</th>\n",
       "      <td>10159</td>\n",
       "      <td>49</td>\n",
       "      <td>100.00</td>\n",
       "      <td>14</td>\n",
       "      <td>5205.27</td>\n",
       "      <td>2003-10-10</td>\n",
       "      <td>Shipped</td>\n",
       "      <td>4</td>\n",
       "      <td>10</td>\n",
       "      <td>2003</td>\n",
       "      <td>Motorcycles</td>\n",
       "      <td>95</td>\n",
       "      <td>S10_1678</td>\n",
       "      <td>Corporate Gift Ideas Co.</td>\n",
       "      <td>San Francisco</td>\n",
       "      <td>USA</td>\n",
       "      <td>NaN</td>\n",
       "      <td>Brown</td>\n",
       "      <td>Julie</td>\n",
       "      <td>Medium</td>\n",
       "    </tr>\n",
       "  </tbody>\n",
       "</table>\n",
       "</div>"
      ],
      "text/plain": [
       "   ORDERNUMBER  QUANTITYORDERED  PRICEEACH  ORDERLINENUMBER    SALES  \\\n",
       "0        10107               30      95.70                2  2871.00   \n",
       "1        10121               34      81.35                5  2765.90   \n",
       "2        10134               41      94.74                2  3884.34   \n",
       "3        10145               45      83.26                6  3746.70   \n",
       "4        10159               49     100.00               14  5205.27   \n",
       "\n",
       "   ORDERDATE   STATUS  QTR_ID  MONTH_ID  YEAR_ID  PRODUCTLINE  MSRP  \\\n",
       "0 2003-02-24  Shipped       1         2     2003  Motorcycles    95   \n",
       "1 2003-05-07  Shipped       2         5     2003  Motorcycles    95   \n",
       "2 2003-07-01  Shipped       3         7     2003  Motorcycles    95   \n",
       "3 2003-08-25  Shipped       3         8     2003  Motorcycles    95   \n",
       "4 2003-10-10  Shipped       4        10     2003  Motorcycles    95   \n",
       "\n",
       "  PRODUCTCODE              CUSTOMERNAME           CITY COUNTRY TERRITORY  \\\n",
       "0    S10_1678         Land of Toys Inc.            NYC     USA       NaN   \n",
       "1    S10_1678        Reims Collectables          Reims  France      EMEA   \n",
       "2    S10_1678           Lyon Souveniers          Paris  France      EMEA   \n",
       "3    S10_1678         Toys4GrownUps.com       Pasadena     USA       NaN   \n",
       "4    S10_1678  Corporate Gift Ideas Co.  San Francisco     USA       NaN   \n",
       "\n",
       "  CONTACTLASTNAME CONTACTFIRSTNAME DEALSIZE  \n",
       "0              Yu             Kwai    Small  \n",
       "1         Henriot             Paul    Small  \n",
       "2        Da Cunha           Daniel   Medium  \n",
       "3           Young            Julie   Medium  \n",
       "4           Brown            Julie   Medium  "
      ]
     },
     "execution_count": 19,
     "metadata": {},
     "output_type": "execute_result"
    }
   ],
   "source": [
    "df.head()"
   ]
  },
  {
   "cell_type": "markdown",
   "metadata": {},
   "source": [
    "RFM (Recency, Frequency, Monetary) analysis is a proven marketing model for behavior based customer segmentation. It groups customers based on their transaction history – how recently, how often and how much did they buy.\n",
    "\n",
    "RFM helps divide customers into various categories or clusters to identify customers who are more likely to respond to promotions and also for future personalization services.\n",
    "\n",
    "We consider we are analyzing the next day of latest order date in the data set. Creating a variable 'snapshot date' which is the latest date in data set.\n",
    "\n",
    "Recency : Recency is the number of days between the customer's latest order date and the snapshot date\n",
    "Frequency: Number of purchases made by the customer\n",
    "MonetaryValue: Revenue generated by the customer"
   ]
  },
  {
   "cell_type": "code",
   "execution_count": null,
   "metadata": {},
   "outputs": [],
   "source": []
  },
  {
   "cell_type": "code",
   "execution_count": 20,
   "metadata": {},
   "outputs": [
    {
     "data": {
      "text/html": [
       "<div>\n",
       "<style scoped>\n",
       "    .dataframe tbody tr th:only-of-type {\n",
       "        vertical-align: middle;\n",
       "    }\n",
       "\n",
       "    .dataframe tbody tr th {\n",
       "        vertical-align: top;\n",
       "    }\n",
       "\n",
       "    .dataframe thead th {\n",
       "        text-align: right;\n",
       "    }\n",
       "</style>\n",
       "<table border=\"1\" class=\"dataframe\">\n",
       "  <thead>\n",
       "    <tr style=\"text-align: right;\">\n",
       "      <th></th>\n",
       "      <th>Recency</th>\n",
       "      <th>Frequency</th>\n",
       "      <th>MonetaryValue</th>\n",
       "    </tr>\n",
       "    <tr>\n",
       "      <th>CUSTOMERNAME</th>\n",
       "      <th></th>\n",
       "      <th></th>\n",
       "      <th></th>\n",
       "    </tr>\n",
       "  </thead>\n",
       "  <tbody>\n",
       "    <tr>\n",
       "      <th>AV Stores, Co.</th>\n",
       "      <td>196</td>\n",
       "      <td>51</td>\n",
       "      <td>157807.81</td>\n",
       "    </tr>\n",
       "    <tr>\n",
       "      <th>Alpha Cognac</th>\n",
       "      <td>65</td>\n",
       "      <td>20</td>\n",
       "      <td>70488.44</td>\n",
       "    </tr>\n",
       "    <tr>\n",
       "      <th>Amica Models &amp; Co.</th>\n",
       "      <td>265</td>\n",
       "      <td>26</td>\n",
       "      <td>94117.26</td>\n",
       "    </tr>\n",
       "    <tr>\n",
       "      <th>Anna's Decorations, Ltd</th>\n",
       "      <td>84</td>\n",
       "      <td>46</td>\n",
       "      <td>153996.13</td>\n",
       "    </tr>\n",
       "    <tr>\n",
       "      <th>Atelier graphique</th>\n",
       "      <td>188</td>\n",
       "      <td>7</td>\n",
       "      <td>24179.96</td>\n",
       "    </tr>\n",
       "  </tbody>\n",
       "</table>\n",
       "</div>"
      ],
      "text/plain": [
       "                         Recency  Frequency  MonetaryValue\n",
       "CUSTOMERNAME                                              \n",
       "AV Stores, Co.               196         51      157807.81\n",
       "Alpha Cognac                  65         20       70488.44\n",
       "Amica Models & Co.           265         26       94117.26\n",
       "Anna's Decorations, Ltd       84         46      153996.13\n",
       "Atelier graphique            188          7       24179.96"
      ]
     },
     "execution_count": 20,
     "metadata": {},
     "output_type": "execute_result"
    }
   ],
   "source": [
    "# Calculate Recency, Frequency and Monetary value for each customer\n",
    "\n",
    "snapshot_date = df['ORDERDATE'].max() + dt.timedelta(days=1) #latest date in the data set\n",
    "\n",
    "df_RFM = df.groupby(['CUSTOMERNAME']).agg({\n",
    "    'ORDERDATE': lambda x: (snapshot_date - x.max()).days,\n",
    "    'ORDERNUMBER': 'count',\n",
    "    'SALES':'sum'})\n",
    "\n",
    "#Renaming the columns\n",
    "\n",
    "df_RFM.rename(columns={'ORDERDATE': 'Recency',\n",
    "                   'ORDERNUMBER': 'Frequency',\n",
    "                   'SALES': 'MonetaryValue'}, inplace=True)\n",
    "\n",
    "df_RFM.head()"
   ]
  },
  {
   "cell_type": "code",
   "execution_count": 21,
   "metadata": {},
   "outputs": [],
   "source": [
    "# Dividing into segments"
   ]
  },
  {
   "cell_type": "markdown",
   "metadata": {},
   "source": [
    "The R, F and M values are divived into quartile segments. Each quartile is associated with one value.\n",
    "M and F values are associated with a number from 1 to 4 included in ascending order of the quartile.\n",
    "R values are associated with a number from 1 to 4 included in descending order of the quartile."
   ]
  },
  {
   "cell_type": "code",
   "execution_count": 22,
   "metadata": {},
   "outputs": [
    {
     "data": {
      "text/html": [
       "<div>\n",
       "<style scoped>\n",
       "    .dataframe tbody tr th:only-of-type {\n",
       "        vertical-align: middle;\n",
       "    }\n",
       "\n",
       "    .dataframe tbody tr th {\n",
       "        vertical-align: top;\n",
       "    }\n",
       "\n",
       "    .dataframe thead th {\n",
       "        text-align: right;\n",
       "    }\n",
       "</style>\n",
       "<table border=\"1\" class=\"dataframe\">\n",
       "  <thead>\n",
       "    <tr style=\"text-align: right;\">\n",
       "      <th></th>\n",
       "      <th>Recency</th>\n",
       "      <th>Frequency</th>\n",
       "      <th>MonetaryValue</th>\n",
       "      <th>R</th>\n",
       "      <th>F</th>\n",
       "      <th>M</th>\n",
       "    </tr>\n",
       "    <tr>\n",
       "      <th>CUSTOMERNAME</th>\n",
       "      <th></th>\n",
       "      <th></th>\n",
       "      <th></th>\n",
       "      <th></th>\n",
       "      <th></th>\n",
       "      <th></th>\n",
       "    </tr>\n",
       "  </thead>\n",
       "  <tbody>\n",
       "    <tr>\n",
       "      <th>AV Stores, Co.</th>\n",
       "      <td>196</td>\n",
       "      <td>51</td>\n",
       "      <td>157807.81</td>\n",
       "      <td>2</td>\n",
       "      <td>4</td>\n",
       "      <td>4</td>\n",
       "    </tr>\n",
       "    <tr>\n",
       "      <th>Alpha Cognac</th>\n",
       "      <td>65</td>\n",
       "      <td>20</td>\n",
       "      <td>70488.44</td>\n",
       "      <td>4</td>\n",
       "      <td>2</td>\n",
       "      <td>2</td>\n",
       "    </tr>\n",
       "    <tr>\n",
       "      <th>Amica Models &amp; Co.</th>\n",
       "      <td>265</td>\n",
       "      <td>26</td>\n",
       "      <td>94117.26</td>\n",
       "      <td>1</td>\n",
       "      <td>2</td>\n",
       "      <td>3</td>\n",
       "    </tr>\n",
       "    <tr>\n",
       "      <th>Anna's Decorations, Ltd</th>\n",
       "      <td>84</td>\n",
       "      <td>46</td>\n",
       "      <td>153996.13</td>\n",
       "      <td>3</td>\n",
       "      <td>4</td>\n",
       "      <td>4</td>\n",
       "    </tr>\n",
       "    <tr>\n",
       "      <th>Atelier graphique</th>\n",
       "      <td>188</td>\n",
       "      <td>7</td>\n",
       "      <td>24179.96</td>\n",
       "      <td>2</td>\n",
       "      <td>1</td>\n",
       "      <td>1</td>\n",
       "    </tr>\n",
       "    <tr>\n",
       "      <th>Australian Collectables, Ltd</th>\n",
       "      <td>23</td>\n",
       "      <td>23</td>\n",
       "      <td>64591.46</td>\n",
       "      <td>4</td>\n",
       "      <td>2</td>\n",
       "      <td>1</td>\n",
       "    </tr>\n",
       "    <tr>\n",
       "      <th>Australian Collectors, Co.</th>\n",
       "      <td>184</td>\n",
       "      <td>55</td>\n",
       "      <td>200995.41</td>\n",
       "      <td>3</td>\n",
       "      <td>4</td>\n",
       "      <td>4</td>\n",
       "    </tr>\n",
       "    <tr>\n",
       "      <th>Australian Gift Network, Co</th>\n",
       "      <td>119</td>\n",
       "      <td>15</td>\n",
       "      <td>59469.12</td>\n",
       "      <td>3</td>\n",
       "      <td>1</td>\n",
       "      <td>1</td>\n",
       "    </tr>\n",
       "    <tr>\n",
       "      <th>Auto Assoc. &amp; Cie.</th>\n",
       "      <td>233</td>\n",
       "      <td>18</td>\n",
       "      <td>64834.32</td>\n",
       "      <td>1</td>\n",
       "      <td>1</td>\n",
       "      <td>1</td>\n",
       "    </tr>\n",
       "    <tr>\n",
       "      <th>Auto Canal Petit</th>\n",
       "      <td>55</td>\n",
       "      <td>27</td>\n",
       "      <td>93170.66</td>\n",
       "      <td>4</td>\n",
       "      <td>3</td>\n",
       "      <td>3</td>\n",
       "    </tr>\n",
       "  </tbody>\n",
       "</table>\n",
       "</div>"
      ],
      "text/plain": [
       "                              Recency  Frequency  MonetaryValue  R  F  M\n",
       "CUSTOMERNAME                                                            \n",
       "AV Stores, Co.                    196         51      157807.81  2  4  4\n",
       "Alpha Cognac                       65         20       70488.44  4  2  2\n",
       "Amica Models & Co.                265         26       94117.26  1  2  3\n",
       "Anna's Decorations, Ltd            84         46      153996.13  3  4  4\n",
       "Atelier graphique                 188          7       24179.96  2  1  1\n",
       "Australian Collectables, Ltd       23         23       64591.46  4  2  1\n",
       "Australian Collectors, Co.        184         55      200995.41  3  4  4\n",
       "Australian Gift Network, Co       119         15       59469.12  3  1  1\n",
       "Auto Assoc. & Cie.                233         18       64834.32  1  1  1\n",
       "Auto Canal Petit                   55         27       93170.66  4  3  3"
      ]
     },
     "execution_count": 22,
     "metadata": {},
     "output_type": "execute_result"
    }
   ],
   "source": [
    "# Create a spend quartile with 4 groups - a range between 1 and 5\n",
    "MonetaryValue_quartile = pd.qcut(df_RFM['MonetaryValue'], q=4, labels=range(1,5))\n",
    "Recency_quartile = pd.qcut(df_RFM['Recency'], q=4, labels=list(range(4, 0, -1)))\n",
    "Frequency_quartile = pd.qcut(df_RFM['Frequency'], q=4, labels=range(1,5))\n",
    "\n",
    "\n",
    "# Assign the quartile values to the Spend_Quartile column in data\n",
    "df_RFM['R'] = Recency_quartile\n",
    "df_RFM['F'] = Frequency_quartile\n",
    "df_RFM['M'] = MonetaryValue_quartile\n",
    "\n",
    "#df_RFM[['MonetaryValue_Quartile','Recency_quartile','Frequency_quartile']] = [MonetaryValue_quartile,Recency_quartile,Frequency_quartile]\n",
    "\n",
    "# Print data with sorted Spend values\n",
    "#print(df_RFM.sort_values('MonetaryValue'))\n",
    "\n",
    "df_RFM.head(10)"
   ]
  },
  {
   "cell_type": "code",
   "execution_count": 23,
   "metadata": {},
   "outputs": [
    {
     "data": {
      "text/html": [
       "<div>\n",
       "<style scoped>\n",
       "    .dataframe tbody tr th:only-of-type {\n",
       "        vertical-align: middle;\n",
       "    }\n",
       "\n",
       "    .dataframe tbody tr th {\n",
       "        vertical-align: top;\n",
       "    }\n",
       "\n",
       "    .dataframe thead th {\n",
       "        text-align: right;\n",
       "    }\n",
       "</style>\n",
       "<table border=\"1\" class=\"dataframe\">\n",
       "  <thead>\n",
       "    <tr style=\"text-align: right;\">\n",
       "      <th></th>\n",
       "      <th>Recency</th>\n",
       "      <th>Frequency</th>\n",
       "      <th>MonetaryValue</th>\n",
       "      <th>R</th>\n",
       "      <th>F</th>\n",
       "      <th>M</th>\n",
       "      <th>RFM_Score</th>\n",
       "    </tr>\n",
       "    <tr>\n",
       "      <th>CUSTOMERNAME</th>\n",
       "      <th></th>\n",
       "      <th></th>\n",
       "      <th></th>\n",
       "      <th></th>\n",
       "      <th></th>\n",
       "      <th></th>\n",
       "      <th></th>\n",
       "    </tr>\n",
       "  </thead>\n",
       "  <tbody>\n",
       "    <tr>\n",
       "      <th>AV Stores, Co.</th>\n",
       "      <td>196</td>\n",
       "      <td>51</td>\n",
       "      <td>157807.81</td>\n",
       "      <td>2</td>\n",
       "      <td>4</td>\n",
       "      <td>4</td>\n",
       "      <td>10</td>\n",
       "    </tr>\n",
       "    <tr>\n",
       "      <th>Alpha Cognac</th>\n",
       "      <td>65</td>\n",
       "      <td>20</td>\n",
       "      <td>70488.44</td>\n",
       "      <td>4</td>\n",
       "      <td>2</td>\n",
       "      <td>2</td>\n",
       "      <td>8</td>\n",
       "    </tr>\n",
       "    <tr>\n",
       "      <th>Amica Models &amp; Co.</th>\n",
       "      <td>265</td>\n",
       "      <td>26</td>\n",
       "      <td>94117.26</td>\n",
       "      <td>1</td>\n",
       "      <td>2</td>\n",
       "      <td>3</td>\n",
       "      <td>6</td>\n",
       "    </tr>\n",
       "    <tr>\n",
       "      <th>Anna's Decorations, Ltd</th>\n",
       "      <td>84</td>\n",
       "      <td>46</td>\n",
       "      <td>153996.13</td>\n",
       "      <td>3</td>\n",
       "      <td>4</td>\n",
       "      <td>4</td>\n",
       "      <td>11</td>\n",
       "    </tr>\n",
       "    <tr>\n",
       "      <th>Atelier graphique</th>\n",
       "      <td>188</td>\n",
       "      <td>7</td>\n",
       "      <td>24179.96</td>\n",
       "      <td>2</td>\n",
       "      <td>1</td>\n",
       "      <td>1</td>\n",
       "      <td>4</td>\n",
       "    </tr>\n",
       "  </tbody>\n",
       "</table>\n",
       "</div>"
      ],
      "text/plain": [
       "                         Recency  Frequency  MonetaryValue  R  F  M  RFM_Score\n",
       "CUSTOMERNAME                                                                  \n",
       "AV Stores, Co.               196         51      157807.81  2  4  4         10\n",
       "Alpha Cognac                  65         20       70488.44  4  2  2          8\n",
       "Amica Models & Co.           265         26       94117.26  1  2  3          6\n",
       "Anna's Decorations, Ltd       84         46      153996.13  3  4  4         11\n",
       "Atelier graphique            188          7       24179.96  2  1  1          4"
      ]
     },
     "execution_count": 23,
     "metadata": {},
     "output_type": "execute_result"
    }
   ],
   "source": [
    "#Calculating RFM Score\n",
    "\n",
    "df_RFM['RFM_Score'] = df_RFM[['R','F','M']].sum(axis=1)\n",
    "df_RFM.head()"
   ]
  },
  {
   "cell_type": "code",
   "execution_count": 24,
   "metadata": {},
   "outputs": [],
   "source": [
    "#labelling the RFM_Score"
   ]
  },
  {
   "cell_type": "markdown",
   "metadata": {},
   "source": [
    "* RFM Score > 10 - High Value Customer\n",
    "* RFM SCore < 10 and RFM Score >= 6 - Mid Value Customer\n",
    "* RFM Score < 6 - Low Value Customer"
   ]
  },
  {
   "cell_type": "code",
   "execution_count": 25,
   "metadata": {},
   "outputs": [
    {
     "name": "stderr",
     "output_type": "stream",
     "text": [
      "C:\\Users\\TURBUL~1\\AppData\\Local\\Temp/ipykernel_47012/1031963241.py:4: DeprecationWarning: `np.bool` is a deprecated alias for the builtin `bool`. To silence this warning, use `bool` by itself. Doing this will not modify any behavior and is safe. If you specifically wanted the numpy scalar type, use `np.bool_` here.\n",
      "Deprecated in NumPy 1.20; for more details and guidance: https://numpy.org/devdocs/release/1.20.0-notes.html#deprecations\n",
      "  if np.bool(df['RFM_Score'] >= 10):\n",
      "C:\\Users\\TURBUL~1\\AppData\\Local\\Temp/ipykernel_47012/1031963241.py:6: DeprecationWarning: `np.bool` is a deprecated alias for the builtin `bool`. To silence this warning, use `bool` by itself. Doing this will not modify any behavior and is safe. If you specifically wanted the numpy scalar type, use `np.bool_` here.\n",
      "Deprecated in NumPy 1.20; for more details and guidance: https://numpy.org/devdocs/release/1.20.0-notes.html#deprecations\n",
      "  elif np.bool((df['RFM_Score'] < 10) & (df['RFM_Score'] >= 6)):\n"
     ]
    },
    {
     "data": {
      "text/html": [
       "<div>\n",
       "<style scoped>\n",
       "    .dataframe tbody tr th:only-of-type {\n",
       "        vertical-align: middle;\n",
       "    }\n",
       "\n",
       "    .dataframe tbody tr th {\n",
       "        vertical-align: top;\n",
       "    }\n",
       "\n",
       "    .dataframe thead th {\n",
       "        text-align: right;\n",
       "    }\n",
       "</style>\n",
       "<table border=\"1\" class=\"dataframe\">\n",
       "  <thead>\n",
       "    <tr style=\"text-align: right;\">\n",
       "      <th></th>\n",
       "      <th>Recency</th>\n",
       "      <th>Frequency</th>\n",
       "      <th>MonetaryValue</th>\n",
       "      <th>R</th>\n",
       "      <th>F</th>\n",
       "      <th>M</th>\n",
       "      <th>RFM_Score</th>\n",
       "      <th>RFM_Level</th>\n",
       "    </tr>\n",
       "    <tr>\n",
       "      <th>CUSTOMERNAME</th>\n",
       "      <th></th>\n",
       "      <th></th>\n",
       "      <th></th>\n",
       "      <th></th>\n",
       "      <th></th>\n",
       "      <th></th>\n",
       "      <th></th>\n",
       "      <th></th>\n",
       "    </tr>\n",
       "  </thead>\n",
       "  <tbody>\n",
       "    <tr>\n",
       "      <th>AV Stores, Co.</th>\n",
       "      <td>196</td>\n",
       "      <td>51</td>\n",
       "      <td>157807.81</td>\n",
       "      <td>2</td>\n",
       "      <td>4</td>\n",
       "      <td>4</td>\n",
       "      <td>10</td>\n",
       "      <td>High Value Customer</td>\n",
       "    </tr>\n",
       "    <tr>\n",
       "      <th>Alpha Cognac</th>\n",
       "      <td>65</td>\n",
       "      <td>20</td>\n",
       "      <td>70488.44</td>\n",
       "      <td>4</td>\n",
       "      <td>2</td>\n",
       "      <td>2</td>\n",
       "      <td>8</td>\n",
       "      <td>Mid Value Customer</td>\n",
       "    </tr>\n",
       "    <tr>\n",
       "      <th>Amica Models &amp; Co.</th>\n",
       "      <td>265</td>\n",
       "      <td>26</td>\n",
       "      <td>94117.26</td>\n",
       "      <td>1</td>\n",
       "      <td>2</td>\n",
       "      <td>3</td>\n",
       "      <td>6</td>\n",
       "      <td>Mid Value Customer</td>\n",
       "    </tr>\n",
       "    <tr>\n",
       "      <th>Anna's Decorations, Ltd</th>\n",
       "      <td>84</td>\n",
       "      <td>46</td>\n",
       "      <td>153996.13</td>\n",
       "      <td>3</td>\n",
       "      <td>4</td>\n",
       "      <td>4</td>\n",
       "      <td>11</td>\n",
       "      <td>High Value Customer</td>\n",
       "    </tr>\n",
       "    <tr>\n",
       "      <th>Atelier graphique</th>\n",
       "      <td>188</td>\n",
       "      <td>7</td>\n",
       "      <td>24179.96</td>\n",
       "      <td>2</td>\n",
       "      <td>1</td>\n",
       "      <td>1</td>\n",
       "      <td>4</td>\n",
       "      <td>Low Value Customer</td>\n",
       "    </tr>\n",
       "  </tbody>\n",
       "</table>\n",
       "</div>"
      ],
      "text/plain": [
       "                         Recency  Frequency  MonetaryValue  R  F  M  \\\n",
       "CUSTOMERNAME                                                          \n",
       "AV Stores, Co.               196         51      157807.81  2  4  4   \n",
       "Alpha Cognac                  65         20       70488.44  4  2  2   \n",
       "Amica Models & Co.           265         26       94117.26  1  2  3   \n",
       "Anna's Decorations, Ltd       84         46      153996.13  3  4  4   \n",
       "Atelier graphique            188          7       24179.96  2  1  1   \n",
       "\n",
       "                         RFM_Score            RFM_Level  \n",
       "CUSTOMERNAME                                             \n",
       "AV Stores, Co.                  10  High Value Customer  \n",
       "Alpha Cognac                     8   Mid Value Customer  \n",
       "Amica Models & Co.               6   Mid Value Customer  \n",
       "Anna's Decorations, Ltd         11  High Value Customer  \n",
       "Atelier graphique                4   Low Value Customer  "
      ]
     },
     "execution_count": 25,
     "metadata": {},
     "output_type": "execute_result"
    }
   ],
   "source": [
    "#Naming Levels\n",
    "# Define rfm_level function\n",
    "def rfm_level(df):\n",
    "    if np.bool(df['RFM_Score'] >= 10):\n",
    "        return 'High Value Customer'\n",
    "    elif np.bool((df['RFM_Score'] < 10) & (df['RFM_Score'] >= 6)):\n",
    "        return 'Mid Value Customer'\n",
    "    else:\n",
    "        return 'Low Value Customer'\n",
    "    \n",
    "# Create a new variable RFM_Level\n",
    "df_RFM['RFM_Level'] = df_RFM.apply(rfm_level, axis=1)\n",
    "\n",
    "# Print the header with top 5 rows to the console\n",
    "df_RFM.head()"
   ]
  },
  {
   "cell_type": "code",
   "execution_count": 26,
   "metadata": {},
   "outputs": [
    {
     "data": {
      "text/plain": [
       "Text(0.5, 1.0, 'RFM Level Distribution')"
      ]
     },
     "execution_count": 26,
     "metadata": {},
     "output_type": "execute_result"
    },
    {
     "data": {
      "image/png": "[encoded data removed]",
      "text/plain": [
       "<Figure size 432x432 with 1 Axes>"
      ]
     },
     "metadata": {},
     "output_type": "display_data"
    }
   ],
   "source": [
    "fig= plt.figure(figsize=(6,6))\n",
    "df_RFM['RFM_Level'].value_counts(normalize=True).plot.bar() \n",
    "plt.ylabel('% Proportion')\n",
    "plt.xlabel('RFM Level')\n",
    "plt.title(\"RFM Level Distribution\")"
   ]
  },
  {
   "cell_type": "code",
   "execution_count": 27,
   "metadata": {},
   "outputs": [
    {
     "name": "stdout",
     "output_type": "stream",
     "text": [
      "                    Recency Frequency MonetaryValue      \n",
      "                       mean      mean          mean count\n",
      "RFM_Level                                                \n",
      "High Value Customer    85.0      54.3      193532.1    26\n",
      "Low Value Customer    293.8      15.0       52414.6    27\n",
      "Mid Value Customer    171.2      25.8       91938.5    39\n"
     ]
    }
   ],
   "source": [
    "#Analyzing customer segments\n",
    "\n",
    "# Calculate average values for each RFM_Level, and return a size of each segment \n",
    "rfm_level_agg = df_RFM.groupby(['RFM_Level']).agg({\n",
    "    'Recency': 'mean',\n",
    "    'Frequency': 'mean',\n",
    "    'MonetaryValue':['mean','count']}).round(1)\n",
    "\n",
    "# Print the aggregated dataset\n",
    "print(rfm_level_agg)"
   ]
  },
  {
   "cell_type": "markdown",
   "metadata": {},
   "source": [
    "## Part 4: Segmentation with K-Means Clustering"
   ]
  },
  {
   "cell_type": "markdown",
   "metadata": {},
   "source": [
    "K Means Assumptions\n",
    "\n",
    "* All variables have symmetrical (Normal) Distribution\n",
    "* All Variables have same average value(approx)\n",
    "* All Variables have same variance(approx)"
   ]
  },
  {
   "cell_type": "code",
   "execution_count": 28,
   "metadata": {},
   "outputs": [
    {
     "data": {
      "text/html": [
       "<div>\n",
       "<style scoped>\n",
       "    .dataframe tbody tr th:only-of-type {\n",
       "        vertical-align: middle;\n",
       "    }\n",
       "\n",
       "    .dataframe tbody tr th {\n",
       "        vertical-align: top;\n",
       "    }\n",
       "\n",
       "    .dataframe thead th {\n",
       "        text-align: right;\n",
       "    }\n",
       "</style>\n",
       "<table border=\"1\" class=\"dataframe\">\n",
       "  <thead>\n",
       "    <tr style=\"text-align: right;\">\n",
       "      <th></th>\n",
       "      <th>Recency</th>\n",
       "      <th>Frequency</th>\n",
       "      <th>MonetaryValue</th>\n",
       "    </tr>\n",
       "    <tr>\n",
       "      <th>CUSTOMERNAME</th>\n",
       "      <th></th>\n",
       "      <th></th>\n",
       "      <th></th>\n",
       "    </tr>\n",
       "  </thead>\n",
       "  <tbody>\n",
       "    <tr>\n",
       "      <th>AV Stores, Co.</th>\n",
       "      <td>196</td>\n",
       "      <td>51</td>\n",
       "      <td>157807.81</td>\n",
       "    </tr>\n",
       "    <tr>\n",
       "      <th>Alpha Cognac</th>\n",
       "      <td>65</td>\n",
       "      <td>20</td>\n",
       "      <td>70488.44</td>\n",
       "    </tr>\n",
       "    <tr>\n",
       "      <th>Amica Models &amp; Co.</th>\n",
       "      <td>265</td>\n",
       "      <td>26</td>\n",
       "      <td>94117.26</td>\n",
       "    </tr>\n",
       "    <tr>\n",
       "      <th>Anna's Decorations, Ltd</th>\n",
       "      <td>84</td>\n",
       "      <td>46</td>\n",
       "      <td>153996.13</td>\n",
       "    </tr>\n",
       "    <tr>\n",
       "      <th>Atelier graphique</th>\n",
       "      <td>188</td>\n",
       "      <td>7</td>\n",
       "      <td>24179.96</td>\n",
       "    </tr>\n",
       "  </tbody>\n",
       "</table>\n",
       "</div>"
      ],
      "text/plain": [
       "                         Recency  Frequency  MonetaryValue\n",
       "CUSTOMERNAME                                              \n",
       "AV Stores, Co.               196         51      157807.81\n",
       "Alpha Cognac                  65         20       70488.44\n",
       "Amica Models & Co.           265         26       94117.26\n",
       "Anna's Decorations, Ltd       84         46      153996.13\n",
       "Atelier graphique            188          7       24179.96"
      ]
     },
     "execution_count": 28,
     "metadata": {},
     "output_type": "execute_result"
    }
   ],
   "source": [
    "#Check the distribution of the variables\n",
    "\n",
    "data = df_RFM[['Recency','Frequency','MonetaryValue']]\n",
    "data.head()"
   ]
  },
  {
   "cell_type": "code",
   "execution_count": 29,
   "metadata": {},
   "outputs": [
    {
     "name": "stderr",
     "output_type": "stream",
     "text": [
      "C:\\ProgramData\\Anaconda3\\lib\\site-packages\\seaborn\\distributions.py:2619: FutureWarning: `distplot` is a deprecated function and will be removed in a future version. Please adapt your code to use either `displot` (a figure-level function with similar flexibility) or `histplot` (an axes-level function for histograms).\n",
      "  warnings.warn(msg, FutureWarning)\n"
     ]
    },
    {
     "data": {
      "text/plain": [
       "Text(0.5, 1.0, 'MonetaryValue Distribution')"
      ]
     },
     "execution_count": 29,
     "metadata": {},
     "output_type": "execute_result"
    },
    {
     "data": {
      "image/png": "[encoded data removed]",
      "text/plain": [
       "<Figure size 1080x288 with 3 Axes>"
      ]
     },
     "metadata": {},
     "output_type": "display_data"
    }
   ],
   "source": [
    "\n",
    "plt.subplot(1, 3, 1)\n",
    "\n",
    "sns.distplot(df_RFM['Recency'], kde=False);\n",
    "sns.set(rc={'figure.figsize':(15,5)})\n",
    "plt.ylabel('Frequency')\n",
    "plt.title(\"Recency Distribution\")\n",
    "\n",
    "plt.subplot(1, 3, 2)\n",
    "\n",
    "sns.distplot(df_RFM['Frequency'], kde=False);\n",
    "sns.set(rc={'figure.figsize':(15,2)})\n",
    "plt.ylabel('Frequency')\n",
    "plt.title(\"Frequency Distribution\")\n",
    "\n",
    "plt.subplot(1, 3, 3)\n",
    "\n",
    "sns.distplot(df_RFM['MonetaryValue'], kde=False);\n",
    "sns.set(rc={'figure.figsize':(5,2)})\n",
    "plt.ylabel('Frequency')\n",
    "plt.title(\"MonetaryValue Distribution\")"
   ]
  },
  {
   "cell_type": "code",
   "execution_count": 30,
   "metadata": {},
   "outputs": [
    {
     "data": {
      "text/html": [
       "<div>\n",
       "<style scoped>\n",
       "    .dataframe tbody tr th:only-of-type {\n",
       "        vertical-align: middle;\n",
       "    }\n",
       "\n",
       "    .dataframe tbody tr th {\n",
       "        vertical-align: top;\n",
       "    }\n",
       "\n",
       "    .dataframe thead th {\n",
       "        text-align: right;\n",
       "    }\n",
       "</style>\n",
       "<table border=\"1\" class=\"dataframe\">\n",
       "  <thead>\n",
       "    <tr style=\"text-align: right;\">\n",
       "      <th></th>\n",
       "      <th>Recency</th>\n",
       "      <th>Frequency</th>\n",
       "      <th>MonetaryValue</th>\n",
       "    </tr>\n",
       "    <tr>\n",
       "      <th>CUSTOMERNAME</th>\n",
       "      <th></th>\n",
       "      <th></th>\n",
       "      <th></th>\n",
       "    </tr>\n",
       "  </thead>\n",
       "  <tbody>\n",
       "    <tr>\n",
       "      <th>AV Stores, Co.</th>\n",
       "      <td>5.278115</td>\n",
       "      <td>3.931826</td>\n",
       "      <td>11.969133</td>\n",
       "    </tr>\n",
       "    <tr>\n",
       "      <th>Alpha Cognac</th>\n",
       "      <td>4.174387</td>\n",
       "      <td>2.995732</td>\n",
       "      <td>11.163204</td>\n",
       "    </tr>\n",
       "    <tr>\n",
       "      <th>Amica Models &amp; Co.</th>\n",
       "      <td>5.579730</td>\n",
       "      <td>3.258097</td>\n",
       "      <td>11.452297</td>\n",
       "    </tr>\n",
       "    <tr>\n",
       "      <th>Anna's Decorations, Ltd</th>\n",
       "      <td>4.430817</td>\n",
       "      <td>3.828641</td>\n",
       "      <td>11.944683</td>\n",
       "    </tr>\n",
       "    <tr>\n",
       "      <th>Atelier graphique</th>\n",
       "      <td>5.236442</td>\n",
       "      <td>1.945910</td>\n",
       "      <td>10.093279</td>\n",
       "    </tr>\n",
       "  </tbody>\n",
       "</table>\n",
       "</div>"
      ],
      "text/plain": [
       "                          Recency  Frequency  MonetaryValue\n",
       "CUSTOMERNAME                                               \n",
       "AV Stores, Co.           5.278115   3.931826      11.969133\n",
       "Alpha Cognac             4.174387   2.995732      11.163204\n",
       "Amica Models & Co.       5.579730   3.258097      11.452297\n",
       "Anna's Decorations, Ltd  4.430817   3.828641      11.944683\n",
       "Atelier graphique        5.236442   1.945910      10.093279"
      ]
     },
     "execution_count": 30,
     "metadata": {},
     "output_type": "execute_result"
    }
   ],
   "source": [
    "#Removing the skewness by performing log transformation on the variables\n",
    "\n",
    "data_log = np.log(data)\n",
    "data_log.head()"
   ]
  },
  {
   "cell_type": "code",
   "execution_count": 31,
   "metadata": {},
   "outputs": [
    {
     "name": "stderr",
     "output_type": "stream",
     "text": [
      "C:\\ProgramData\\Anaconda3\\lib\\site-packages\\seaborn\\distributions.py:2619: FutureWarning: `distplot` is a deprecated function and will be removed in a future version. Please adapt your code to use either `displot` (a figure-level function with similar flexibility) or `histplot` (an axes-level function for histograms).\n",
      "  warnings.warn(msg, FutureWarning)\n",
      "C:\\ProgramData\\Anaconda3\\lib\\site-packages\\seaborn\\distributions.py:2619: FutureWarning: `distplot` is a deprecated function and will be removed in a future version. Please adapt your code to use either `displot` (a figure-level function with similar flexibility) or `histplot` (an axes-level function for histograms).\n",
      "  warnings.warn(msg, FutureWarning)\n",
      "C:\\ProgramData\\Anaconda3\\lib\\site-packages\\seaborn\\distributions.py:2619: FutureWarning: `distplot` is a deprecated function and will be removed in a future version. Please adapt your code to use either `displot` (a figure-level function with similar flexibility) or `histplot` (an axes-level function for histograms).\n",
      "  warnings.warn(msg, FutureWarning)\n"
     ]
    },
    {
     "data": {
      "text/plain": [
       "Text(0.5, 1.0, 'Sales Distribution')"
      ]
     },
     "execution_count": 31,
     "metadata": {},
     "output_type": "execute_result"
    },
    {
     "data": {
      "image/png": "[encoded data removed]",
      "text/plain": [
       "<Figure size 360x144 with 1 Axes>"
      ]
     },
     "metadata": {},
     "output_type": "display_data"
    }
   ],
   "source": [
    "#Distribution of Recency, Frequency and MonetaryValue after Log Transformation\n",
    "\n",
    "sns.distplot(data_log['Recency'], kde=True)\n",
    "sns.distplot(data_log['Frequency'], kde=True)\n",
    "sns.distplot(data_log['MonetaryValue'], kde=True);\n",
    "sns.set(rc={'figure.figsize':(15,10)})\n",
    "plt.ylabel('Frequency')\n",
    "plt.xlabel('Sales')\n",
    "plt.title(\"Sales Distribution\")"
   ]
  },
  {
   "cell_type": "code",
   "execution_count": 32,
   "metadata": {},
   "outputs": [
    {
     "data": {
      "text/html": [
       "<div>\n",
       "<style scoped>\n",
       "    .dataframe tbody tr th:only-of-type {\n",
       "        vertical-align: middle;\n",
       "    }\n",
       "\n",
       "    .dataframe tbody tr th {\n",
       "        vertical-align: top;\n",
       "    }\n",
       "\n",
       "    .dataframe thead th {\n",
       "        text-align: right;\n",
       "    }\n",
       "</style>\n",
       "<table border=\"1\" class=\"dataframe\">\n",
       "  <thead>\n",
       "    <tr style=\"text-align: right;\">\n",
       "      <th></th>\n",
       "      <th>Recency</th>\n",
       "      <th>Frequency</th>\n",
       "      <th>MonetaryValue</th>\n",
       "    </tr>\n",
       "  </thead>\n",
       "  <tbody>\n",
       "    <tr>\n",
       "      <th>count</th>\n",
       "      <td>92.00</td>\n",
       "      <td>92.00</td>\n",
       "      <td>92.00</td>\n",
       "    </tr>\n",
       "    <tr>\n",
       "      <th>mean</th>\n",
       "      <td>0.00</td>\n",
       "      <td>-0.00</td>\n",
       "      <td>0.00</td>\n",
       "    </tr>\n",
       "    <tr>\n",
       "      <th>std</th>\n",
       "      <td>1.01</td>\n",
       "      <td>1.01</td>\n",
       "      <td>1.01</td>\n",
       "    </tr>\n",
       "    <tr>\n",
       "      <th>min</th>\n",
       "      <td>-3.51</td>\n",
       "      <td>-3.67</td>\n",
       "      <td>-3.82</td>\n",
       "    </tr>\n",
       "    <tr>\n",
       "      <th>25%</th>\n",
       "      <td>-0.24</td>\n",
       "      <td>-0.41</td>\n",
       "      <td>-0.39</td>\n",
       "    </tr>\n",
       "    <tr>\n",
       "      <th>50%</th>\n",
       "      <td>0.37</td>\n",
       "      <td>0.06</td>\n",
       "      <td>-0.04</td>\n",
       "    </tr>\n",
       "    <tr>\n",
       "      <th>75%</th>\n",
       "      <td>0.53</td>\n",
       "      <td>0.45</td>\n",
       "      <td>0.52</td>\n",
       "    </tr>\n",
       "    <tr>\n",
       "      <th>max</th>\n",
       "      <td>1.12</td>\n",
       "      <td>4.03</td>\n",
       "      <td>3.92</td>\n",
       "    </tr>\n",
       "  </tbody>\n",
       "</table>\n",
       "</div>"
      ],
      "text/plain": [
       "       Recency  Frequency  MonetaryValue\n",
       "count    92.00      92.00          92.00\n",
       "mean      0.00      -0.00           0.00\n",
       "std       1.01       1.01           1.01\n",
       "min      -3.51      -3.67          -3.82\n",
       "25%      -0.24      -0.41          -0.39\n",
       "50%       0.37       0.06          -0.04\n",
       "75%       0.53       0.45           0.52\n",
       "max       1.12       4.03           3.92"
      ]
     },
     "execution_count": 32,
     "metadata": {},
     "output_type": "execute_result"
    }
   ],
   "source": [
    "#Standardizing the variables using StandardScaler() for equal variance and mean\n",
    "\n",
    "#StandardSccaler\n",
    "from sklearn.preprocessing import StandardScaler\n",
    "\n",
    "#KMeans\n",
    "from sklearn.cluster import KMeans\n",
    "\n",
    "#file directoryy\n",
    "import os\n",
    "\n",
    "# Initialize a scaler\n",
    "scaler = StandardScaler()\n",
    "\n",
    "# Fit the scaler\n",
    "scaler.fit(data_log)\n",
    "\n",
    "# Scale and center the data\n",
    "data_normalized = scaler.transform(data_log)\n",
    "\n",
    "# Create a pandas DataFrame\n",
    "data_normalized = pd.DataFrame(data_normalized, index=data_log.index, columns=data_log.columns)\n",
    "\n",
    "# Print summary statistics\n",
    "data_normalized.describe().round(2)"
   ]
  },
  {
   "cell_type": "markdown",
   "metadata": {},
   "source": [
    "Choosing number of Clusters using Elbow Method"
   ]
  },
  {
   "cell_type": "code",
   "execution_count": 34,
   "metadata": {},
   "outputs": [
    {
     "name": "stderr",
     "output_type": "stream",
     "text": [
      "C:\\ProgramData\\Anaconda3\\lib\\site-packages\\sklearn\\cluster\\_kmeans.py:881: UserWarning: KMeans is known to have a memory leak on Windows with MKL, when there are less chunks than available threads. You can avoid it by setting the environment variable OMP_NUM_THREADS=1.\n",
      "  warnings.warn(\n"
     ]
    },
    {
     "data": {
      "image/png": "[encoded data removed]",
      "text/plain": [
       "<Figure size 720x432 with 1 Axes>"
      ]
     },
     "metadata": {},
     "output_type": "display_data"
    }
   ],
   "source": [
    "# Fit KMeans and calculate SSE for each k\n",
    "sum_of_squared_error={}\n",
    "for k in range(1, 21):\n",
    "    kmeans = KMeans(n_clusters=k, random_state=1)\n",
    "    kmeans.fit(data_normalized)\n",
    "    sum_of_squared_error[k] = kmeans.inertia_ \n",
    "\n",
    "    \n",
    "plt.figure(figsize=(10,6))\n",
    "# Add the plot title \"The Elbow Method\"\n",
    "plt.title('The Elbow Method')\n",
    "\n",
    "# Add X-axis label \"k\"\n",
    "plt.xlabel('k')\n",
    "\n",
    "# Add Y-axis label \"SSE\"\n",
    "plt.ylabel('SSE')\n",
    "\n",
    "# Plot SSE values for each key in the dictionary\n",
    "sns.pointplot(x=list(sum_of_squared_error.keys()), y=list(sum_of_squared_error.values()))\n",
    "plt.text(4.5,60,\"Largest Angle\",bbox=dict(facecolor='lightgreen', alpha=0.5))\n",
    "plt.show()"
   ]
  },
  {
   "cell_type": "markdown",
   "metadata": {},
   "source": [
    "Running KMeans with 5 clusters"
   ]
  },
  {
   "cell_type": "code",
   "execution_count": 35,
   "metadata": {},
   "outputs": [
    {
     "data": {
      "text/html": [
       "<div>\n",
       "<style scoped>\n",
       "    .dataframe tbody tr th:only-of-type {\n",
       "        vertical-align: middle;\n",
       "    }\n",
       "\n",
       "    .dataframe tbody tr th {\n",
       "        vertical-align: top;\n",
       "    }\n",
       "\n",
       "    .dataframe thead th {\n",
       "        text-align: right;\n",
       "    }\n",
       "</style>\n",
       "<table border=\"1\" class=\"dataframe\">\n",
       "  <thead>\n",
       "    <tr style=\"text-align: right;\">\n",
       "      <th></th>\n",
       "      <th>Recency</th>\n",
       "      <th>Frequency</th>\n",
       "      <th>MonetaryValue</th>\n",
       "      <th>Cluster</th>\n",
       "    </tr>\n",
       "    <tr>\n",
       "      <th>CUSTOMERNAME</th>\n",
       "      <th></th>\n",
       "      <th></th>\n",
       "      <th></th>\n",
       "      <th></th>\n",
       "    </tr>\n",
       "  </thead>\n",
       "  <tbody>\n",
       "    <tr>\n",
       "      <th>AV Stores, Co.</th>\n",
       "      <td>196</td>\n",
       "      <td>51</td>\n",
       "      <td>157807.81</td>\n",
       "      <td>3</td>\n",
       "    </tr>\n",
       "    <tr>\n",
       "      <th>Alpha Cognac</th>\n",
       "      <td>65</td>\n",
       "      <td>20</td>\n",
       "      <td>70488.44</td>\n",
       "      <td>0</td>\n",
       "    </tr>\n",
       "    <tr>\n",
       "      <th>Amica Models &amp; Co.</th>\n",
       "      <td>265</td>\n",
       "      <td>26</td>\n",
       "      <td>94117.26</td>\n",
       "      <td>0</td>\n",
       "    </tr>\n",
       "    <tr>\n",
       "      <th>Anna's Decorations, Ltd</th>\n",
       "      <td>84</td>\n",
       "      <td>46</td>\n",
       "      <td>153996.13</td>\n",
       "      <td>3</td>\n",
       "    </tr>\n",
       "    <tr>\n",
       "      <th>Atelier graphique</th>\n",
       "      <td>188</td>\n",
       "      <td>7</td>\n",
       "      <td>24179.96</td>\n",
       "      <td>2</td>\n",
       "    </tr>\n",
       "  </tbody>\n",
       "</table>\n",
       "</div>"
      ],
      "text/plain": [
       "                         Recency  Frequency  MonetaryValue  Cluster\n",
       "CUSTOMERNAME                                                       \n",
       "AV Stores, Co.               196         51      157807.81        3\n",
       "Alpha Cognac                  65         20       70488.44        0\n",
       "Amica Models & Co.           265         26       94117.26        0\n",
       "Anna's Decorations, Ltd       84         46      153996.13        3\n",
       "Atelier graphique            188          7       24179.96        2"
      ]
     },
     "execution_count": 35,
     "metadata": {},
     "output_type": "execute_result"
    }
   ],
   "source": [
    "# Initialize KMeans\n",
    "kmeans = KMeans(n_clusters=5, random_state=1) \n",
    "\n",
    "# Fit k-means clustering on the normalized data set\n",
    "kmeans.fit(data_normalized)\n",
    "\n",
    "# Extract cluster labels\n",
    "cluster_labels = kmeans.labels_\n",
    "\n",
    "# Assigning Cluster Labels to Raw Data\n",
    "# Create a DataFrame by adding a new cluster label column\n",
    "data_rfm = data.assign(Cluster=cluster_labels)\n",
    "data_rfm.head()"
   ]
  },
  {
   "cell_type": "code",
   "execution_count": 36,
   "metadata": {},
   "outputs": [
    {
     "data": {
      "text/html": [
       "<div>\n",
       "<style scoped>\n",
       "    .dataframe tbody tr th:only-of-type {\n",
       "        vertical-align: middle;\n",
       "    }\n",
       "\n",
       "    .dataframe tbody tr th {\n",
       "        vertical-align: top;\n",
       "    }\n",
       "\n",
       "    .dataframe thead tr th {\n",
       "        text-align: left;\n",
       "    }\n",
       "\n",
       "    .dataframe thead tr:last-of-type th {\n",
       "        text-align: right;\n",
       "    }\n",
       "</style>\n",
       "<table border=\"1\" class=\"dataframe\">\n",
       "  <thead>\n",
       "    <tr>\n",
       "      <th></th>\n",
       "      <th>Recency</th>\n",
       "      <th>Frequency</th>\n",
       "      <th colspan=\"2\" halign=\"left\">MonetaryValue</th>\n",
       "    </tr>\n",
       "    <tr>\n",
       "      <th></th>\n",
       "      <th>mean</th>\n",
       "      <th>mean</th>\n",
       "      <th>mean</th>\n",
       "      <th>count</th>\n",
       "    </tr>\n",
       "    <tr>\n",
       "      <th>Cluster</th>\n",
       "      <th></th>\n",
       "      <th></th>\n",
       "      <th></th>\n",
       "      <th></th>\n",
       "    </tr>\n",
       "  </thead>\n",
       "  <tbody>\n",
       "    <tr>\n",
       "      <th>0</th>\n",
       "      <td>209.2</td>\n",
       "      <td>22.1</td>\n",
       "      <td>78633.2</td>\n",
       "      <td>43</td>\n",
       "    </tr>\n",
       "    <tr>\n",
       "      <th>1</th>\n",
       "      <td>2.0</td>\n",
       "      <td>38.8</td>\n",
       "      <td>132201.6</td>\n",
       "      <td>4</td>\n",
       "    </tr>\n",
       "    <tr>\n",
       "      <th>2</th>\n",
       "      <td>324.2</td>\n",
       "      <td>10.7</td>\n",
       "      <td>35628.7</td>\n",
       "      <td>12</td>\n",
       "    </tr>\n",
       "    <tr>\n",
       "      <th>3</th>\n",
       "      <td>126.5</td>\n",
       "      <td>37.1</td>\n",
       "      <td>133158.0</td>\n",
       "      <td>31</td>\n",
       "    </tr>\n",
       "    <tr>\n",
       "      <th>4</th>\n",
       "      <td>2.0</td>\n",
       "      <td>219.5</td>\n",
       "      <td>783576.1</td>\n",
       "      <td>2</td>\n",
       "    </tr>\n",
       "  </tbody>\n",
       "</table>\n",
       "</div>"
      ],
      "text/plain": [
       "        Recency Frequency MonetaryValue      \n",
       "           mean      mean          mean count\n",
       "Cluster                                      \n",
       "0         209.2      22.1       78633.2    43\n",
       "1           2.0      38.8      132201.6     4\n",
       "2         324.2      10.7       35628.7    12\n",
       "3         126.5      37.1      133158.0    31\n",
       "4           2.0     219.5      783576.1     2"
      ]
     },
     "execution_count": 36,
     "metadata": {},
     "output_type": "execute_result"
    }
   ],
   "source": [
    "# Group the data by cluster\n",
    "grouped = data_rfm.groupby(['Cluster'])\n",
    "\n",
    "# Calculate average RFM values and segment sizes per cluster value\n",
    "grouped.agg({\n",
    "    'Recency': 'mean',\n",
    "    'Frequency': 'mean',\n",
    "    'MonetaryValue': ['mean', 'count']\n",
    "  }).round(1)"
   ]
  },
  {
   "cell_type": "code",
   "execution_count": null,
   "metadata": {},
   "outputs": [],
   "source": []
  }
 ],
 "metadata": {
  "kernelspec": {
   "display_name": "Python 3 (ipykernel)",
   "language": "python",
   "name": "python3"
  },
  "language_info": {
   "codemirror_mode": {
    "name": "ipython",
    "version": 3
   },
   "file_extension": ".py",
   "mimetype": "text/x-python",
   "name": "python",
   "nbconvert_exporter": "python",
   "pygments_lexer": "ipython3",
   "version": "3.9.7"
  },
  "toc": {
   "base_numbering": 1,
   "nav_menu": {},
   "number_sections": true,
   "sideBar": true,
   "skip_h1_title": false,
   "title_cell": "Table of Contents",
   "title_sidebar": "Contents",
   "toc_cell": false,
   "toc_position": {},
   "toc_section_display": true,
   "toc_window_display": false
  }
 },
 "nbformat": 4,
 "nbformat_minor": 2
}
