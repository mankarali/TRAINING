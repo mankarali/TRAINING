{
 "cells": [
  {
   "cell_type": "markdown",
   "metadata": {},
   "source": [
    "# XGBoost\n",
    "\n",
    "Installation Guide\n",
    "\n",
    "Following [part 1](https://www.ibm.com/developerworks/community/blogs/jfp/entry/Installing_XGBoost_For_Anaconda_on_Windows?lang=en) works for me.\n",
    "\n",
    "However, I do need to download [windows x64 binaries](http://www.picnet.com.au/blogs/guido/post/2016/09/22/xgboost-windows-x64-binaries-for-download/)\n",
    "\n",
    "That's all that I needed\n",
    "\n",
    "More info:\n",
    "\n",
    "http://www.picnet.com.au/blogs/guido/post/2016/09/22/how-to-build-xgboost-on-windows/\n",
    "\n",
    "http://xgboost.readthedocs.io/en/latest/build.html\n",
    "\n",
    "https://github.com/dmlc/xgboost/blob/master/doc/build.md#python-package-installation\n",
    "\n",
    "\n",
    "\n",
    "\n"
   ]
  },
  {
   "cell_type": "code",
   "execution_count": 3,
   "metadata": {},
   "outputs": [],
   "source": [
    "import xgboost as xgb\n",
    "import numpy as np"
   ]
  },
  {
   "cell_type": "code",
   "execution_count": 4,
   "metadata": {},
   "outputs": [],
   "source": [
    "data = np.random.rand(5,10) # 5 entities, each contains 10 features\n",
    "label = np.random.randint(2, size=5) # binary target\n",
    "dtrain = xgb.DMatrix( data, label=label)"
   ]
  },
  {
   "cell_type": "code",
   "execution_count": 5,
   "metadata": {},
   "outputs": [],
   "source": [
    "dtest = dtrain"
   ]
  },
  {
   "cell_type": "code",
   "execution_count": 6,
   "metadata": {},
   "outputs": [],
   "source": [
    "param = {'bst:max_depth':2, 'bst:eta':1, 'silent':1, 'objective':'binary:logistic' }\n",
    "param['nthread'] = 4\n",
    "param['eval_metric'] = 'auc'"
   ]
  },
  {
   "cell_type": "code",
   "execution_count": 7,
   "metadata": {},
   "outputs": [],
   "source": [
    "evallist  = [(dtest,'eval'), (dtrain,'train')]"
   ]
  },
  {
   "cell_type": "code",
   "execution_count": 8,
   "metadata": {},
   "outputs": [
    {
     "name": "stdout",
     "output_type": "stream",
     "text": [
      "[22:12:46] WARNING: ..\\src\\learner.cc:576: \n",
      "Parameters: { \"bst:eta\", \"bst:max_depth\", \"silent\" } might not be used.\n",
      "\n",
      "  This could be a false alarm, with some parameters getting used by language bindings but\n",
      "  then being mistakenly passed down to XGBoost core, or some parameter actually being used\n",
      "  but getting flagged wrongly here. Please open an issue if you find any such cases.\n",
      "\n",
      "\n",
      "[0]\teval-auc:0.50000\ttrain-auc:0.50000\n",
      "[1]\teval-auc:0.50000\ttrain-auc:0.50000\n",
      "[2]\teval-auc:0.50000\ttrain-auc:0.50000\n",
      "[3]\teval-auc:0.50000\ttrain-auc:0.50000\n",
      "[4]\teval-auc:0.50000\ttrain-auc:0.50000\n",
      "[5]\teval-auc:0.50000\ttrain-auc:0.50000\n",
      "[6]\teval-auc:0.50000\ttrain-auc:0.50000\n",
      "[7]\teval-auc:0.50000\ttrain-auc:0.50000\n",
      "[8]\teval-auc:0.50000\ttrain-auc:0.50000\n",
      "[9]\teval-auc:0.50000\ttrain-auc:0.50000\n"
     ]
    }
   ],
   "source": [
    "num_round = 10\n",
    "bst = xgb.train( param, dtrain, num_round, evallist )"
   ]
  },
  {
   "cell_type": "code",
   "execution_count": null,
   "metadata": {},
   "outputs": [],
   "source": []
  }
 ],
 "metadata": {
  "kernelspec": {
   "display_name": "Python 3 (ipykernel)",
   "language": "python",
   "name": "python3"
  },
  "language_info": {
   "codemirror_mode": {
    "name": "ipython",
    "version": 3
   },
   "file_extension": ".py",
   "mimetype": "text/x-python",
   "name": "python",
   "nbconvert_exporter": "python",
   "pygments_lexer": "ipython3",
   "version": "3.9.7"
  },
  "toc": {
   "base_numbering": 1,
   "nav_menu": {},
   "number_sections": true,
   "sideBar": true,
   "skip_h1_title": false,
   "title_cell": "Table of Contents",
   "title_sidebar": "Contents",
   "toc_cell": false,
   "toc_position": {},
   "toc_section_display": true,
   "toc_window_display": false
  }
 },
 "nbformat": 4,
 "nbformat_minor": 2
}
