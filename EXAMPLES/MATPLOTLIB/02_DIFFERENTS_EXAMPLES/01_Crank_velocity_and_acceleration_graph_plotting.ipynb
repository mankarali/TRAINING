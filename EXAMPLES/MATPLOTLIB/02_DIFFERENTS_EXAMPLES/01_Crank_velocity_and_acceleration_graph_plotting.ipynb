{
 "cells": [
  {
   "cell_type": "code",
   "execution_count": 2,
   "metadata": {},
   "outputs": [
    {
     "data": {
      "application/vnd.jupyter.widget-view+json": {
       "model_id": "a0b6f7b3bebe418593649b50396682d6",
       "version_major": 2,
       "version_minor": 0
      },
      "text/plain": [
       "interactive(children=(IntSlider(value=180, description='theta', max=360), FloatSlider(value=0.35, description=…"
      ]
     },
     "metadata": {},
     "output_type": "display_data"
    }
   ],
   "source": [
    "import matplotlib.pyplot as plt\n",
    "import warnings\n",
    "warnings.filterwarnings('ignore')\n",
    "from numpy import * \n",
    "\n",
    "from ipywidgets import interactive\n",
    "\n",
    "def f(theta,c,cR): # creating a function that give angle to crank c = crank radius  cR = connecting rod length\n",
    "    g = plt.figure(figsize=(10,10))\n",
    "    ax = g.add_subplot(311)\n",
    "    ax2 = g.add_subplot(312)\n",
    "    ax3 = g.add_subplot(313)\n",
    "    omega =20 # crank speed in radians per second\n",
    "\n",
    "    xa= 0 # starting point of x cordinate of crank\n",
    "\n",
    "    ya = 0 # starting point of y cordinate of crank\n",
    "\n",
    "    xb = c*cos(radians(theta)) # ending/starting point of x cordinate of crank/connecting rod\n",
    "\n",
    "    yb = c*sin(radians(theta))  # ending/starting point of y cordinate of crank/connecting rod\n",
    "\n",
    "    xc = xb + sqrt(cR**2-yb**2) # ending x cordinate of connecting rod\n",
    "    \n",
    "\n",
    "    yc =0 # ending y cordinate of connecting rod\n",
    "    ax = g.add_subplot(311)\n",
    "\n",
    "    x =([xa,xb,xc]) \n",
    "\n",
    "    y =([ya,yb,yc])\n",
    "\n",
    "    plt.xlabel ('distance in meter')\n",
    "\n",
    "    plt.ylabel('distance')\n",
    "\n",
    "    plt.title('connecting rod mechanism in python')\n",
    "    plt.grid('on')\n",
    "\n",
    "    ax.plot(x,y)\n",
    "    print('distance of piston from crankshaft is ',xc ,\" m\")\n",
    "\n",
    "    #plt.axis('equal') #make length  x and y coordinate equal\n",
    "    \n",
    "    ##VELCOITY GRAPH PLOTTING \n",
    "    \n",
    "    ax2 = g.add_subplot(312)\n",
    "    \n",
    "    t = linspace(0,theta,360)\n",
    " \n",
    "    n = cR/c\n",
    "    velocity = omega*c*(sin(radians(t))+(sin(2*radians(t)))/(2*n)) # formula from page 524 rs khurmi theory of machine\n",
    "    v = omega*c*(sin(radians(theta))+(sin(2*radians(theta)))/(2*n))\n",
    "    ax2.plot(t,velocity)\n",
    "    plt.title('Velocity graph')\n",
    "    plt.xlabel('theta')\n",
    "    plt.ylabel('velocity')\n",
    "    plt.grid('on')\n",
    "    #plt.axis('equal')\n",
    "    print(\"velocity of crank at \",theta,\" is \", v,\"m/s\")\n",
    "    \n",
    "    \n",
    "    ##ACCELERATION GRAPH PLOTTING \n",
    "    ax3 = g.add_subplot(313)\n",
    "    t = linspace(0,theta,360)\n",
    "    n = cR/c            # ratio of connecting rod length / crank radius\n",
    "    acceleration = omega**2*c*(cos(radians(t))+(cos(2*radians(t)))/(n)) # formula from page 525 rs khurmi theory of machine\n",
    "    a = omega**2*c*(cos(radians(theta))+(cos(2*radians(theta)))/(n))\n",
    "    ax3.plot(t,acceleration)\n",
    "    plt.title('Acceleration graph')\n",
    "    plt.xlabel('theta')\n",
    "    plt.ylabel('acceleration')\n",
    "    plt.grid('on')\n",
    "    #plt.axis('equal')\n",
    "    print(\"acceleration of crank at \",theta,\" is \", a ,\"m/s^2\")\n",
    "    plt.tight_layout()\n",
    "    \n",
    "\n",
    "    \n",
    "    #print('velocity at particular angle is ',velocity)\n",
    "\n",
    "interactive_plot = interactive(f,theta=(0,360),c = (0,0.7),cR = (0.5,1),continous_update = False)\n",
    "\n",
    "interactive_plot"
   ]
  },
  {
   "cell_type": "code",
   "execution_count": null,
   "metadata": {},
   "outputs": [],
   "source": []
  }
 ],
 "metadata": {
  "kernelspec": {
   "display_name": "Python 3",
   "language": "python",
   "name": "python3"
  },
  "language_info": {
   "codemirror_mode": {
    "name": "ipython",
    "version": 3
   },
   "file_extension": ".py",
   "mimetype": "text/x-python",
   "name": "python",
   "nbconvert_exporter": "python",
   "pygments_lexer": "ipython3",
   "version": "3.7.9"
  },
  "toc": {
   "base_numbering": 1,
   "nav_menu": {},
   "number_sections": true,
   "sideBar": true,
   "skip_h1_title": false,
   "title_cell": "Table of Contents",
   "title_sidebar": "Contents",
   "toc_cell": false,
   "toc_position": {},
   "toc_section_display": true,
   "toc_window_display": false
  }
 },
 "nbformat": 4,
 "nbformat_minor": 4
}
