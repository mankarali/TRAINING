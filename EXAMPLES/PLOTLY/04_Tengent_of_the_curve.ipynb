{
 "cells": [
  {
   "cell_type": "code",
   "execution_count": 1,
   "metadata": {},
   "outputs": [
    {
     "data": {
      "application/vnd.jupyter.widget-view+json": {
       "model_id": "ad72d98bc4fe460ab69a1ace66e97813",
       "version_major": 2,
       "version_minor": 0
      },
      "text/plain": [
       "interactive(children=(IntSlider(value=0, description='x1', max=15, min=-15), Output()), _dom_classes=('widget-…"
      ]
     },
     "metadata": {},
     "output_type": "display_data"
    }
   ],
   "source": [
    "import numpy as np\n",
    "import matplotlib.pyplot as plt\n",
    "import ipywidgets as widgets\n",
    "from ipywidgets import interactive\n",
    "def f(x): \n",
    "    return -x**2-4*x+4\n",
    "\n",
    "# Define parabola derivative\n",
    "def slope(x): \n",
    "    return -2*x -4\n",
    "\n",
    "# Define x data range for parabola\n",
    "x = np.linspace(-15,15,100)\n",
    "\n",
    "def t(x1):\n",
    "  # Choose point to plot tangent line\n",
    "  \n",
    "  y1 = f(x1)\n",
    "\n",
    "  # Define tangent line\n",
    "  # y = m*(x - x1) + y1\n",
    "  def line(x, x1, y1):\n",
    "      return slope(x1)*(x - x1) + y1\n",
    "\n",
    "  # Define x data range for tangent line\n",
    "  xrange = np.linspace(x1-1, x1+1, 10)\n",
    "\n",
    "  # Plot the figure\n",
    "  plt.figure()\n",
    "  plt.plot(x, f(x))\n",
    "  plt.scatter(x1, y1, color='C1', s=100)\n",
    "  plt.plot(xrange, line(xrange, x1, y1), 'C1--', linewidth = 5)\n",
    "\n",
    "interactive_plot = interactive(t ,x1 = (-15,15),step =100)\n",
    "interactive_plot"
   ]
  },
  {
   "cell_type": "code",
   "execution_count": null,
   "metadata": {},
   "outputs": [],
   "source": []
  }
 ],
 "metadata": {
  "kernelspec": {
   "display_name": "Python 3",
   "language": "python",
   "name": "python3"
  },
  "language_info": {
   "codemirror_mode": {
    "name": "ipython",
    "version": 3
   },
   "file_extension": ".py",
   "mimetype": "text/x-python",
   "name": "python",
   "nbconvert_exporter": "python",
   "pygments_lexer": "ipython3",
   "version": "3.7.9"
  },
  "toc": {
   "base_numbering": 1,
   "nav_menu": {},
   "number_sections": true,
   "sideBar": true,
   "skip_h1_title": false,
   "title_cell": "Table of Contents",
   "title_sidebar": "Contents",
   "toc_cell": false,
   "toc_position": {},
   "toc_section_display": true,
   "toc_window_display": false
  }
 },
 "nbformat": 4,
 "nbformat_minor": 4
}
