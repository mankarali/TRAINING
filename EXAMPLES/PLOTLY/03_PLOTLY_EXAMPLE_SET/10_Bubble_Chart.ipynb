{
 "cells": [
  {
   "cell_type": "markdown",
   "metadata": {},
   "source": [
    "# Bubble Chart"
   ]
  },
  {
   "cell_type": "code",
   "execution_count": 7,
   "metadata": {},
   "outputs": [],
   "source": [
    "import numpy as np\n",
    "import pandas as pd\n",
    "import plotly.graph_objects as go\n",
    "import plotly.offline as po\n",
    "from plotly.offline import download_plotlyjs, init_notebook_mode, plot, iplot\n",
    "import matplotlib.pyplot as plt\n",
    "import dash\n",
    "import plotly.express as px\n",
    "import random\n",
    "import plotly.figure_factory as ff"
   ]
  },
  {
   "cell_type": "code",
   "execution_count": 8,
   "metadata": {},
   "outputs": [
    {
     "data": {
      "application/vnd.plotly.v1+json": {
       "config": {
        "plotlyServerURL": "https://plot.ly"
       },
       "data": [
        {
         "marker": {
          "size": [
           15,
           32,
           74,
           69,
           86,
           62,
           26,
           2,
           2
          ]
         },
         "mode": "markers",
         "type": "scatter",
         "x": [
          1,
          2,
          3,
          4,
          5,
          6,
          7,
          8,
          9
         ],
         "y": [
          15,
          32,
          74,
          69,
          86,
          62,
          26,
          2,
          2
         ]
        }
       ],
       "layout": {
        "template": {
         "data": {
          "bar": [
           {
            "error_x": {
             "color": "#2a3f5f"
            },
            "error_y": {
             "color": "#2a3f5f"
            },
            "marker": {
             "line": {
              "color": "#E5ECF6",
              "width": 0.5
             },
             "pattern": {
              "fillmode": "overlay",
              "size": 10,
              "solidity": 0.2
             }
            },
            "type": "bar"
           }
          ],
          "barpolar": [
           {
            "marker": {
             "line": {
              "color": "#E5ECF6",
              "width": 0.5
             },
             "pattern": {
              "fillmode": "overlay",
              "size": 10,
              "solidity": 0.2
             }
            },
            "type": "barpolar"
           }
          ],
          "carpet": [
           {
            "aaxis": {
             "endlinecolor": "#2a3f5f",
             "gridcolor": "white",
             "linecolor": "white",
             "minorgridcolor": "white",
             "startlinecolor": "#2a3f5f"
            },
            "baxis": {
             "endlinecolor": "#2a3f5f",
             "gridcolor": "white",
             "linecolor": "white",
             "minorgridcolor": "white",
             "startlinecolor": "#2a3f5f"
            },
            "type": "carpet"
           }
          ],
          "choropleth": [
           {
            "colorbar": {
             "outlinewidth": 0,
             "ticks": ""
            },
            "type": "choropleth"
           }
          ],
          "contour": [
           {
            "colorbar": {
             "outlinewidth": 0,
             "ticks": ""
            },
            "colorscale": [
             [
              0,
              "#0d0887"
             ],
             [
              0.1111111111111111,
              "#46039f"
             ],
             [
              0.2222222222222222,
              "#7201a8"
             ],
             [
              0.3333333333333333,
              "#9c179e"
             ],
             [
              0.4444444444444444,
              "#bd3786"
             ],
             [
              0.5555555555555556,
              "#d8576b"
             ],
             [
              0.6666666666666666,
              "#ed7953"
             ],
             [
              0.7777777777777778,
              "#fb9f3a"
             ],
             [
              0.8888888888888888,
              "#fdca26"
             ],
             [
              1,
              "#f0f921"
             ]
            ],
            "type": "contour"
           }
          ],
          "contourcarpet": [
           {
            "colorbar": {
             "outlinewidth": 0,
             "ticks": ""
            },
            "type": "contourcarpet"
           }
          ],
          "heatmap": [
           {
            "colorbar": {
             "outlinewidth": 0,
             "ticks": ""
            },
            "colorscale": [
             [
              0,
              "#0d0887"
             ],
             [
              0.1111111111111111,
              "#46039f"
             ],
             [
              0.2222222222222222,
              "#7201a8"
             ],
             [
              0.3333333333333333,
              "#9c179e"
             ],
             [
              0.4444444444444444,
              "#bd3786"
             ],
             [
              0.5555555555555556,
              "#d8576b"
             ],
             [
              0.6666666666666666,
              "#ed7953"
             ],
             [
              0.7777777777777778,
              "#fb9f3a"
             ],
             [
              0.8888888888888888,
              "#fdca26"
             ],
             [
              1,
              "#f0f921"
             ]
            ],
            "type": "heatmap"
           }
          ],
          "heatmapgl": [
           {
            "colorbar": {
             "outlinewidth": 0,
             "ticks": ""
            },
            "colorscale": [
             [
              0,
              "#0d0887"
             ],
             [
              0.1111111111111111,
              "#46039f"
             ],
             [
              0.2222222222222222,
              "#7201a8"
             ],
             [
              0.3333333333333333,
              "#9c179e"
             ],
             [
              0.4444444444444444,
              "#bd3786"
             ],
             [
              0.5555555555555556,
              "#d8576b"
             ],
             [
              0.6666666666666666,
              "#ed7953"
             ],
             [
              0.7777777777777778,
              "#fb9f3a"
             ],
             [
              0.8888888888888888,
              "#fdca26"
             ],
             [
              1,
              "#f0f921"
             ]
            ],
            "type": "heatmapgl"
           }
          ],
          "histogram": [
           {
            "marker": {
             "pattern": {
              "fillmode": "overlay",
              "size": 10,
              "solidity": 0.2
             }
            },
            "type": "histogram"
           }
          ],
          "histogram2d": [
           {
            "colorbar": {
             "outlinewidth": 0,
             "ticks": ""
            },
            "colorscale": [
             [
              0,
              "#0d0887"
             ],
             [
              0.1111111111111111,
              "#46039f"
             ],
             [
              0.2222222222222222,
              "#7201a8"
             ],
             [
              0.3333333333333333,
              "#9c179e"
             ],
             [
              0.4444444444444444,
              "#bd3786"
             ],
             [
              0.5555555555555556,
              "#d8576b"
             ],
             [
              0.6666666666666666,
              "#ed7953"
             ],
             [
              0.7777777777777778,
              "#fb9f3a"
             ],
             [
              0.8888888888888888,
              "#fdca26"
             ],
             [
              1,
              "#f0f921"
             ]
            ],
            "type": "histogram2d"
           }
          ],
          "histogram2dcontour": [
           {
            "colorbar": {
             "outlinewidth": 0,
             "ticks": ""
            },
            "colorscale": [
             [
              0,
              "#0d0887"
             ],
             [
              0.1111111111111111,
              "#46039f"
             ],
             [
              0.2222222222222222,
              "#7201a8"
             ],
             [
              0.3333333333333333,
              "#9c179e"
             ],
             [
              0.4444444444444444,
              "#bd3786"
             ],
             [
              0.5555555555555556,
              "#d8576b"
             ],
             [
              0.6666666666666666,
              "#ed7953"
             ],
             [
              0.7777777777777778,
              "#fb9f3a"
             ],
             [
              0.8888888888888888,
              "#fdca26"
             ],
             [
              1,
              "#f0f921"
             ]
            ],
            "type": "histogram2dcontour"
           }
          ],
          "mesh3d": [
           {
            "colorbar": {
             "outlinewidth": 0,
             "ticks": ""
            },
            "type": "mesh3d"
           }
          ],
          "parcoords": [
           {
            "line": {
             "colorbar": {
              "outlinewidth": 0,
              "ticks": ""
             }
            },
            "type": "parcoords"
           }
          ],
          "pie": [
           {
            "automargin": true,
            "type": "pie"
           }
          ],
          "scatter": [
           {
            "marker": {
             "colorbar": {
              "outlinewidth": 0,
              "ticks": ""
             }
            },
            "type": "scatter"
           }
          ],
          "scatter3d": [
           {
            "line": {
             "colorbar": {
              "outlinewidth": 0,
              "ticks": ""
             }
            },
            "marker": {
             "colorbar": {
              "outlinewidth": 0,
              "ticks": ""
             }
            },
            "type": "scatter3d"
           }
          ],
          "scattercarpet": [
           {
            "marker": {
             "colorbar": {
              "outlinewidth": 0,
              "ticks": ""
             }
            },
            "type": "scattercarpet"
           }
          ],
          "scattergeo": [
           {
            "marker": {
             "colorbar": {
              "outlinewidth": 0,
              "ticks": ""
             }
            },
            "type": "scattergeo"
           }
          ],
          "scattergl": [
           {
            "marker": {
             "colorbar": {
              "outlinewidth": 0,
              "ticks": ""
             }
            },
            "type": "scattergl"
           }
          ],
          "scattermapbox": [
           {
            "marker": {
             "colorbar": {
              "outlinewidth": 0,
              "ticks": ""
             }
            },
            "type": "scattermapbox"
           }
          ],
          "scatterpolar": [
           {
            "marker": {
             "colorbar": {
              "outlinewidth": 0,
              "ticks": ""
             }
            },
            "type": "scatterpolar"
           }
          ],
          "scatterpolargl": [
           {
            "marker": {
             "colorbar": {
              "outlinewidth": 0,
              "ticks": ""
             }
            },
            "type": "scatterpolargl"
           }
          ],
          "scatterternary": [
           {
            "marker": {
             "colorbar": {
              "outlinewidth": 0,
              "ticks": ""
             }
            },
            "type": "scatterternary"
           }
          ],
          "surface": [
           {
            "colorbar": {
             "outlinewidth": 0,
             "ticks": ""
            },
            "colorscale": [
             [
              0,
              "#0d0887"
             ],
             [
              0.1111111111111111,
              "#46039f"
             ],
             [
              0.2222222222222222,
              "#7201a8"
             ],
             [
              0.3333333333333333,
              "#9c179e"
             ],
             [
              0.4444444444444444,
              "#bd3786"
             ],
             [
              0.5555555555555556,
              "#d8576b"
             ],
             [
              0.6666666666666666,
              "#ed7953"
             ],
             [
              0.7777777777777778,
              "#fb9f3a"
             ],
             [
              0.8888888888888888,
              "#fdca26"
             ],
             [
              1,
              "#f0f921"
             ]
            ],
            "type": "surface"
           }
          ],
          "table": [
           {
            "cells": {
             "fill": {
              "color": "#EBF0F8"
             },
             "line": {
              "color": "white"
             }
            },
            "header": {
             "fill": {
              "color": "#C8D4E3"
             },
             "line": {
              "color": "white"
             }
            },
            "type": "table"
           }
          ]
         },
         "layout": {
          "annotationdefaults": {
           "arrowcolor": "#2a3f5f",
           "arrowhead": 0,
           "arrowwidth": 1
          },
          "autotypenumbers": "strict",
          "coloraxis": {
           "colorbar": {
            "outlinewidth": 0,
            "ticks": ""
           }
          },
          "colorscale": {
           "diverging": [
            [
             0,
             "#8e0152"
            ],
            [
             0.1,
             "#c51b7d"
            ],
            [
             0.2,
             "#de77ae"
            ],
            [
             0.3,
             "#f1b6da"
            ],
            [
             0.4,
             "#fde0ef"
            ],
            [
             0.5,
             "#f7f7f7"
            ],
            [
             0.6,
             "#e6f5d0"
            ],
            [
             0.7,
             "#b8e186"
            ],
            [
             0.8,
             "#7fbc41"
            ],
            [
             0.9,
             "#4d9221"
            ],
            [
             1,
             "#276419"
            ]
           ],
           "sequential": [
            [
             0,
             "#0d0887"
            ],
            [
             0.1111111111111111,
             "#46039f"
            ],
            [
             0.2222222222222222,
             "#7201a8"
            ],
            [
             0.3333333333333333,
             "#9c179e"
            ],
            [
             0.4444444444444444,
             "#bd3786"
            ],
            [
             0.5555555555555556,
             "#d8576b"
            ],
            [
             0.6666666666666666,
             "#ed7953"
            ],
            [
             0.7777777777777778,
             "#fb9f3a"
            ],
            [
             0.8888888888888888,
             "#fdca26"
            ],
            [
             1,
             "#f0f921"
            ]
           ],
           "sequentialminus": [
            [
             0,
             "#0d0887"
            ],
            [
             0.1111111111111111,
             "#46039f"
            ],
            [
             0.2222222222222222,
             "#7201a8"
            ],
            [
             0.3333333333333333,
             "#9c179e"
            ],
            [
             0.4444444444444444,
             "#bd3786"
            ],
            [
             0.5555555555555556,
             "#d8576b"
            ],
            [
             0.6666666666666666,
             "#ed7953"
            ],
            [
             0.7777777777777778,
             "#fb9f3a"
            ],
            [
             0.8888888888888888,
             "#fdca26"
            ],
            [
             1,
             "#f0f921"
            ]
           ]
          },
          "colorway": [
           "#636efa",
           "#EF553B",
           "#00cc96",
           "#ab63fa",
           "#FFA15A",
           "#19d3f3",
           "#FF6692",
           "#B6E880",
           "#FF97FF",
           "#FECB52"
          ],
          "font": {
           "color": "#2a3f5f"
          },
          "geo": {
           "bgcolor": "white",
           "lakecolor": "white",
           "landcolor": "#E5ECF6",
           "showlakes": true,
           "showland": true,
           "subunitcolor": "white"
          },
          "hoverlabel": {
           "align": "left"
          },
          "hovermode": "closest",
          "mapbox": {
           "style": "light"
          },
          "paper_bgcolor": "white",
          "plot_bgcolor": "#E5ECF6",
          "polar": {
           "angularaxis": {
            "gridcolor": "white",
            "linecolor": "white",
            "ticks": ""
           },
           "bgcolor": "#E5ECF6",
           "radialaxis": {
            "gridcolor": "white",
            "linecolor": "white",
            "ticks": ""
           }
          },
          "scene": {
           "xaxis": {
            "backgroundcolor": "#E5ECF6",
            "gridcolor": "white",
            "gridwidth": 2,
            "linecolor": "white",
            "showbackground": true,
            "ticks": "",
            "zerolinecolor": "white"
           },
           "yaxis": {
            "backgroundcolor": "#E5ECF6",
            "gridcolor": "white",
            "gridwidth": 2,
            "linecolor": "white",
            "showbackground": true,
            "ticks": "",
            "zerolinecolor": "white"
           },
           "zaxis": {
            "backgroundcolor": "#E5ECF6",
            "gridcolor": "white",
            "gridwidth": 2,
            "linecolor": "white",
            "showbackground": true,
            "ticks": "",
            "zerolinecolor": "white"
           }
          },
          "shapedefaults": {
           "line": {
            "color": "#2a3f5f"
           }
          },
          "ternary": {
           "aaxis": {
            "gridcolor": "white",
            "linecolor": "white",
            "ticks": ""
           },
           "baxis": {
            "gridcolor": "white",
            "linecolor": "white",
            "ticks": ""
           },
           "bgcolor": "#E5ECF6",
           "caxis": {
            "gridcolor": "white",
            "linecolor": "white",
            "ticks": ""
           }
          },
          "title": {
           "x": 0.05
          },
          "xaxis": {
           "automargin": true,
           "gridcolor": "white",
           "linecolor": "white",
           "ticks": "",
           "title": {
            "standoff": 15
           },
           "zerolinecolor": "white",
           "zerolinewidth": 2
          },
          "yaxis": {
           "automargin": true,
           "gridcolor": "white",
           "linecolor": "white",
           "ticks": "",
           "title": {
            "standoff": 15
           },
           "zerolinecolor": "white",
           "zerolinewidth": 2
          }
         }
        }
       }
      },
      "text/html": [
       "<div>                            <div id=\"92c7c396-262c-4e51-989c-f4e1ed16aebb\" class=\"plotly-graph-div\" style=\"height:525px; width:100%;\"></div>            <script type=\"text/javascript\">                require([\"plotly\"], function(Plotly) {                    window.PLOTLYENV=window.PLOTLYENV || {};                                    if (document.getElementById(\"92c7c396-262c-4e51-989c-f4e1ed16aebb\")) {                    Plotly.newPlot(                        \"92c7c396-262c-4e51-989c-f4e1ed16aebb\",                        [{\"marker\":{\"size\":[15,32,74,69,86,62,26,2,2]},\"mode\":\"markers\",\"type\":\"scatter\",\"x\":[1,2,3,4,5,6,7,8,9],\"y\":[15,32,74,69,86,62,26,2,2]}],                        {\"template\":{\"data\":{\"bar\":[{\"error_x\":{\"color\":\"#2a3f5f\"},\"error_y\":{\"color\":\"#2a3f5f\"},\"marker\":{\"line\":{\"color\":\"#E5ECF6\",\"width\":0.5},\"pattern\":{\"fillmode\":\"overlay\",\"size\":10,\"solidity\":0.2}},\"type\":\"bar\"}],\"barpolar\":[{\"marker\":{\"line\":{\"color\":\"#E5ECF6\",\"width\":0.5},\"pattern\":{\"fillmode\":\"overlay\",\"size\":10,\"solidity\":0.2}},\"type\":\"barpolar\"}],\"carpet\":[{\"aaxis\":{\"endlinecolor\":\"#2a3f5f\",\"gridcolor\":\"white\",\"linecolor\":\"white\",\"minorgridcolor\":\"white\",\"startlinecolor\":\"#2a3f5f\"},\"baxis\":{\"endlinecolor\":\"#2a3f5f\",\"gridcolor\":\"white\",\"linecolor\":\"white\",\"minorgridcolor\":\"white\",\"startlinecolor\":\"#2a3f5f\"},\"type\":\"carpet\"}],\"choropleth\":[{\"colorbar\":{\"outlinewidth\":0,\"ticks\":\"\"},\"type\":\"choropleth\"}],\"contour\":[{\"colorbar\":{\"outlinewidth\":0,\"ticks\":\"\"},\"colorscale\":[[0.0,\"#0d0887\"],[0.1111111111111111,\"#46039f\"],[0.2222222222222222,\"#7201a8\"],[0.3333333333333333,\"#9c179e\"],[0.4444444444444444,\"#bd3786\"],[0.5555555555555556,\"#d8576b\"],[0.6666666666666666,\"#ed7953\"],[0.7777777777777778,\"#fb9f3a\"],[0.8888888888888888,\"#fdca26\"],[1.0,\"#f0f921\"]],\"type\":\"contour\"}],\"contourcarpet\":[{\"colorbar\":{\"outlinewidth\":0,\"ticks\":\"\"},\"type\":\"contourcarpet\"}],\"heatmap\":[{\"colorbar\":{\"outlinewidth\":0,\"ticks\":\"\"},\"colorscale\":[[0.0,\"#0d0887\"],[0.1111111111111111,\"#46039f\"],[0.2222222222222222,\"#7201a8\"],[0.3333333333333333,\"#9c179e\"],[0.4444444444444444,\"#bd3786\"],[0.5555555555555556,\"#d8576b\"],[0.6666666666666666,\"#ed7953\"],[0.7777777777777778,\"#fb9f3a\"],[0.8888888888888888,\"#fdca26\"],[1.0,\"#f0f921\"]],\"type\":\"heatmap\"}],\"heatmapgl\":[{\"colorbar\":{\"outlinewidth\":0,\"ticks\":\"\"},\"colorscale\":[[0.0,\"#0d0887\"],[0.1111111111111111,\"#46039f\"],[0.2222222222222222,\"#7201a8\"],[0.3333333333333333,\"#9c179e\"],[0.4444444444444444,\"#bd3786\"],[0.5555555555555556,\"#d8576b\"],[0.6666666666666666,\"#ed7953\"],[0.7777777777777778,\"#fb9f3a\"],[0.8888888888888888,\"#fdca26\"],[1.0,\"#f0f921\"]],\"type\":\"heatmapgl\"}],\"histogram\":[{\"marker\":{\"pattern\":{\"fillmode\":\"overlay\",\"size\":10,\"solidity\":0.2}},\"type\":\"histogram\"}],\"histogram2d\":[{\"colorbar\":{\"outlinewidth\":0,\"ticks\":\"\"},\"colorscale\":[[0.0,\"#0d0887\"],[0.1111111111111111,\"#46039f\"],[0.2222222222222222,\"#7201a8\"],[0.3333333333333333,\"#9c179e\"],[0.4444444444444444,\"#bd3786\"],[0.5555555555555556,\"#d8576b\"],[0.6666666666666666,\"#ed7953\"],[0.7777777777777778,\"#fb9f3a\"],[0.8888888888888888,\"#fdca26\"],[1.0,\"#f0f921\"]],\"type\":\"histogram2d\"}],\"histogram2dcontour\":[{\"colorbar\":{\"outlinewidth\":0,\"ticks\":\"\"},\"colorscale\":[[0.0,\"#0d0887\"],[0.1111111111111111,\"#46039f\"],[0.2222222222222222,\"#7201a8\"],[0.3333333333333333,\"#9c179e\"],[0.4444444444444444,\"#bd3786\"],[0.5555555555555556,\"#d8576b\"],[0.6666666666666666,\"#ed7953\"],[0.7777777777777778,\"#fb9f3a\"],[0.8888888888888888,\"#fdca26\"],[1.0,\"#f0f921\"]],\"type\":\"histogram2dcontour\"}],\"mesh3d\":[{\"colorbar\":{\"outlinewidth\":0,\"ticks\":\"\"},\"type\":\"mesh3d\"}],\"parcoords\":[{\"line\":{\"colorbar\":{\"outlinewidth\":0,\"ticks\":\"\"}},\"type\":\"parcoords\"}],\"pie\":[{\"automargin\":true,\"type\":\"pie\"}],\"scatter\":[{\"marker\":{\"colorbar\":{\"outlinewidth\":0,\"ticks\":\"\"}},\"type\":\"scatter\"}],\"scatter3d\":[{\"line\":{\"colorbar\":{\"outlinewidth\":0,\"ticks\":\"\"}},\"marker\":{\"colorbar\":{\"outlinewidth\":0,\"ticks\":\"\"}},\"type\":\"scatter3d\"}],\"scattercarpet\":[{\"marker\":{\"colorbar\":{\"outlinewidth\":0,\"ticks\":\"\"}},\"type\":\"scattercarpet\"}],\"scattergeo\":[{\"marker\":{\"colorbar\":{\"outlinewidth\":0,\"ticks\":\"\"}},\"type\":\"scattergeo\"}],\"scattergl\":[{\"marker\":{\"colorbar\":{\"outlinewidth\":0,\"ticks\":\"\"}},\"type\":\"scattergl\"}],\"scattermapbox\":[{\"marker\":{\"colorbar\":{\"outlinewidth\":0,\"ticks\":\"\"}},\"type\":\"scattermapbox\"}],\"scatterpolar\":[{\"marker\":{\"colorbar\":{\"outlinewidth\":0,\"ticks\":\"\"}},\"type\":\"scatterpolar\"}],\"scatterpolargl\":[{\"marker\":{\"colorbar\":{\"outlinewidth\":0,\"ticks\":\"\"}},\"type\":\"scatterpolargl\"}],\"scatterternary\":[{\"marker\":{\"colorbar\":{\"outlinewidth\":0,\"ticks\":\"\"}},\"type\":\"scatterternary\"}],\"surface\":[{\"colorbar\":{\"outlinewidth\":0,\"ticks\":\"\"},\"colorscale\":[[0.0,\"#0d0887\"],[0.1111111111111111,\"#46039f\"],[0.2222222222222222,\"#7201a8\"],[0.3333333333333333,\"#9c179e\"],[0.4444444444444444,\"#bd3786\"],[0.5555555555555556,\"#d8576b\"],[0.6666666666666666,\"#ed7953\"],[0.7777777777777778,\"#fb9f3a\"],[0.8888888888888888,\"#fdca26\"],[1.0,\"#f0f921\"]],\"type\":\"surface\"}],\"table\":[{\"cells\":{\"fill\":{\"color\":\"#EBF0F8\"},\"line\":{\"color\":\"white\"}},\"header\":{\"fill\":{\"color\":\"#C8D4E3\"},\"line\":{\"color\":\"white\"}},\"type\":\"table\"}]},\"layout\":{\"annotationdefaults\":{\"arrowcolor\":\"#2a3f5f\",\"arrowhead\":0,\"arrowwidth\":1},\"autotypenumbers\":\"strict\",\"coloraxis\":{\"colorbar\":{\"outlinewidth\":0,\"ticks\":\"\"}},\"colorscale\":{\"diverging\":[[0,\"#8e0152\"],[0.1,\"#c51b7d\"],[0.2,\"#de77ae\"],[0.3,\"#f1b6da\"],[0.4,\"#fde0ef\"],[0.5,\"#f7f7f7\"],[0.6,\"#e6f5d0\"],[0.7,\"#b8e186\"],[0.8,\"#7fbc41\"],[0.9,\"#4d9221\"],[1,\"#276419\"]],\"sequential\":[[0.0,\"#0d0887\"],[0.1111111111111111,\"#46039f\"],[0.2222222222222222,\"#7201a8\"],[0.3333333333333333,\"#9c179e\"],[0.4444444444444444,\"#bd3786\"],[0.5555555555555556,\"#d8576b\"],[0.6666666666666666,\"#ed7953\"],[0.7777777777777778,\"#fb9f3a\"],[0.8888888888888888,\"#fdca26\"],[1.0,\"#f0f921\"]],\"sequentialminus\":[[0.0,\"#0d0887\"],[0.1111111111111111,\"#46039f\"],[0.2222222222222222,\"#7201a8\"],[0.3333333333333333,\"#9c179e\"],[0.4444444444444444,\"#bd3786\"],[0.5555555555555556,\"#d8576b\"],[0.6666666666666666,\"#ed7953\"],[0.7777777777777778,\"#fb9f3a\"],[0.8888888888888888,\"#fdca26\"],[1.0,\"#f0f921\"]]},\"colorway\":[\"#636efa\",\"#EF553B\",\"#00cc96\",\"#ab63fa\",\"#FFA15A\",\"#19d3f3\",\"#FF6692\",\"#B6E880\",\"#FF97FF\",\"#FECB52\"],\"font\":{\"color\":\"#2a3f5f\"},\"geo\":{\"bgcolor\":\"white\",\"lakecolor\":\"white\",\"landcolor\":\"#E5ECF6\",\"showlakes\":true,\"showland\":true,\"subunitcolor\":\"white\"},\"hoverlabel\":{\"align\":\"left\"},\"hovermode\":\"closest\",\"mapbox\":{\"style\":\"light\"},\"paper_bgcolor\":\"white\",\"plot_bgcolor\":\"#E5ECF6\",\"polar\":{\"angularaxis\":{\"gridcolor\":\"white\",\"linecolor\":\"white\",\"ticks\":\"\"},\"bgcolor\":\"#E5ECF6\",\"radialaxis\":{\"gridcolor\":\"white\",\"linecolor\":\"white\",\"ticks\":\"\"}},\"scene\":{\"xaxis\":{\"backgroundcolor\":\"#E5ECF6\",\"gridcolor\":\"white\",\"gridwidth\":2,\"linecolor\":\"white\",\"showbackground\":true,\"ticks\":\"\",\"zerolinecolor\":\"white\"},\"yaxis\":{\"backgroundcolor\":\"#E5ECF6\",\"gridcolor\":\"white\",\"gridwidth\":2,\"linecolor\":\"white\",\"showbackground\":true,\"ticks\":\"\",\"zerolinecolor\":\"white\"},\"zaxis\":{\"backgroundcolor\":\"#E5ECF6\",\"gridcolor\":\"white\",\"gridwidth\":2,\"linecolor\":\"white\",\"showbackground\":true,\"ticks\":\"\",\"zerolinecolor\":\"white\"}},\"shapedefaults\":{\"line\":{\"color\":\"#2a3f5f\"}},\"ternary\":{\"aaxis\":{\"gridcolor\":\"white\",\"linecolor\":\"white\",\"ticks\":\"\"},\"baxis\":{\"gridcolor\":\"white\",\"linecolor\":\"white\",\"ticks\":\"\"},\"bgcolor\":\"#E5ECF6\",\"caxis\":{\"gridcolor\":\"white\",\"linecolor\":\"white\",\"ticks\":\"\"}},\"title\":{\"x\":0.05},\"xaxis\":{\"automargin\":true,\"gridcolor\":\"white\",\"linecolor\":\"white\",\"ticks\":\"\",\"title\":{\"standoff\":15},\"zerolinecolor\":\"white\",\"zerolinewidth\":2},\"yaxis\":{\"automargin\":true,\"gridcolor\":\"white\",\"linecolor\":\"white\",\"ticks\":\"\",\"title\":{\"standoff\":15},\"zerolinecolor\":\"white\",\"zerolinewidth\":2}}}},                        {\"responsive\": true}                    ).then(function(){\n",
       "                            \n",
       "var gd = document.getElementById('92c7c396-262c-4e51-989c-f4e1ed16aebb');\n",
       "var x = new MutationObserver(function (mutations, observer) {{\n",
       "        var display = window.getComputedStyle(gd).display;\n",
       "        if (!display || display === 'none') {{\n",
       "            console.log([gd, 'removed!']);\n",
       "            Plotly.purge(gd);\n",
       "            observer.disconnect();\n",
       "        }}\n",
       "}});\n",
       "\n",
       "// Listen for the removal of the full notebook cells\n",
       "var notebookContainer = gd.closest('#notebook-container');\n",
       "if (notebookContainer) {{\n",
       "    x.observe(notebookContainer, {childList: true});\n",
       "}}\n",
       "\n",
       "// Listen for the clearing of the current output cell\n",
       "var outputEl = gd.closest('.output');\n",
       "if (outputEl) {{\n",
       "    x.observe(outputEl, {childList: true});\n",
       "}}\n",
       "\n",
       "                        })                };                });            </script>        </div>"
      ]
     },
     "metadata": {},
     "output_type": "display_data"
    }
   ],
   "source": [
    "#Simple Bubble Chart\n",
    "x = np.arange(1,10)\n",
    "y = np.random.randint(1,100,9)\n",
    "op = np.random.uniform(0.2,1 ,9)\n",
    "data = go.Scatter(\n",
    "                  x = x,\n",
    "                  y = y,\n",
    "                  mode = 'markers',\n",
    "                  marker = dict(size = y),\n",
    "                 )\n",
    "\n",
    "fig = go.Figure(data=data)\n",
    "fig.show()"
   ]
  },
  {
   "cell_type": "code",
   "execution_count": 9,
   "metadata": {},
   "outputs": [
    {
     "data": {
      "application/vnd.plotly.v1+json": {
       "config": {
        "plotlyServerURL": "https://plot.ly"
       },
       "data": [
        {
         "marker": {
          "opacity": [
           0.24347931909154064,
           0.7415890717577438,
           0.4524015215525755,
           0.6108570730247425,
           0.5366157306384532,
           0.9752793356182348,
           0.5551741714093932,
           0.5960377469120546,
           0.7753044826659141
          ],
          "size": [
           52,
           14,
           82,
           11,
           45,
           28,
           48,
           16,
           56
          ]
         },
         "mode": "markers",
         "type": "scatter",
         "x": [
          1,
          2,
          3,
          4,
          5,
          6,
          7,
          8,
          9
         ],
         "y": [
          52,
          14,
          82,
          11,
          45,
          28,
          48,
          16,
          56
         ]
        }
       ],
       "layout": {
        "template": {
         "data": {
          "bar": [
           {
            "error_x": {
             "color": "#2a3f5f"
            },
            "error_y": {
             "color": "#2a3f5f"
            },
            "marker": {
             "line": {
              "color": "#E5ECF6",
              "width": 0.5
             },
             "pattern": {
              "fillmode": "overlay",
              "size": 10,
              "solidity": 0.2
             }
            },
            "type": "bar"
           }
          ],
          "barpolar": [
           {
            "marker": {
             "line": {
              "color": "#E5ECF6",
              "width": 0.5
             },
             "pattern": {
              "fillmode": "overlay",
              "size": 10,
              "solidity": 0.2
             }
            },
            "type": "barpolar"
           }
          ],
          "carpet": [
           {
            "aaxis": {
             "endlinecolor": "#2a3f5f",
             "gridcolor": "white",
             "linecolor": "white",
             "minorgridcolor": "white",
             "startlinecolor": "#2a3f5f"
            },
            "baxis": {
             "endlinecolor": "#2a3f5f",
             "gridcolor": "white",
             "linecolor": "white",
             "minorgridcolor": "white",
             "startlinecolor": "#2a3f5f"
            },
            "type": "carpet"
           }
          ],
          "choropleth": [
           {
            "colorbar": {
             "outlinewidth": 0,
             "ticks": ""
            },
            "type": "choropleth"
           }
          ],
          "contour": [
           {
            "colorbar": {
             "outlinewidth": 0,
             "ticks": ""
            },
            "colorscale": [
             [
              0,
              "#0d0887"
             ],
             [
              0.1111111111111111,
              "#46039f"
             ],
             [
              0.2222222222222222,
              "#7201a8"
             ],
             [
              0.3333333333333333,
              "#9c179e"
             ],
             [
              0.4444444444444444,
              "#bd3786"
             ],
             [
              0.5555555555555556,
              "#d8576b"
             ],
             [
              0.6666666666666666,
              "#ed7953"
             ],
             [
              0.7777777777777778,
              "#fb9f3a"
             ],
             [
              0.8888888888888888,
              "#fdca26"
             ],
             [
              1,
              "#f0f921"
             ]
            ],
            "type": "contour"
           }
          ],
          "contourcarpet": [
           {
            "colorbar": {
             "outlinewidth": 0,
             "ticks": ""
            },
            "type": "contourcarpet"
           }
          ],
          "heatmap": [
           {
            "colorbar": {
             "outlinewidth": 0,
             "ticks": ""
            },
            "colorscale": [
             [
              0,
              "#0d0887"
             ],
             [
              0.1111111111111111,
              "#46039f"
             ],
             [
              0.2222222222222222,
              "#7201a8"
             ],
             [
              0.3333333333333333,
              "#9c179e"
             ],
             [
              0.4444444444444444,
              "#bd3786"
             ],
             [
              0.5555555555555556,
              "#d8576b"
             ],
             [
              0.6666666666666666,
              "#ed7953"
             ],
             [
              0.7777777777777778,
              "#fb9f3a"
             ],
             [
              0.8888888888888888,
              "#fdca26"
             ],
             [
              1,
              "#f0f921"
             ]
            ],
            "type": "heatmap"
           }
          ],
          "heatmapgl": [
           {
            "colorbar": {
             "outlinewidth": 0,
             "ticks": ""
            },
            "colorscale": [
             [
              0,
              "#0d0887"
             ],
             [
              0.1111111111111111,
              "#46039f"
             ],
             [
              0.2222222222222222,
              "#7201a8"
             ],
             [
              0.3333333333333333,
              "#9c179e"
             ],
             [
              0.4444444444444444,
              "#bd3786"
             ],
             [
              0.5555555555555556,
              "#d8576b"
             ],
             [
              0.6666666666666666,
              "#ed7953"
             ],
             [
              0.7777777777777778,
              "#fb9f3a"
             ],
             [
              0.8888888888888888,
              "#fdca26"
             ],
             [
              1,
              "#f0f921"
             ]
            ],
            "type": "heatmapgl"
           }
          ],
          "histogram": [
           {
            "marker": {
             "pattern": {
              "fillmode": "overlay",
              "size": 10,
              "solidity": 0.2
             }
            },
            "type": "histogram"
           }
          ],
          "histogram2d": [
           {
            "colorbar": {
             "outlinewidth": 0,
             "ticks": ""
            },
            "colorscale": [
             [
              0,
              "#0d0887"
             ],
             [
              0.1111111111111111,
              "#46039f"
             ],
             [
              0.2222222222222222,
              "#7201a8"
             ],
             [
              0.3333333333333333,
              "#9c179e"
             ],
             [
              0.4444444444444444,
              "#bd3786"
             ],
             [
              0.5555555555555556,
              "#d8576b"
             ],
             [
              0.6666666666666666,
              "#ed7953"
             ],
             [
              0.7777777777777778,
              "#fb9f3a"
             ],
             [
              0.8888888888888888,
              "#fdca26"
             ],
             [
              1,
              "#f0f921"
             ]
            ],
            "type": "histogram2d"
           }
          ],
          "histogram2dcontour": [
           {
            "colorbar": {
             "outlinewidth": 0,
             "ticks": ""
            },
            "colorscale": [
             [
              0,
              "#0d0887"
             ],
             [
              0.1111111111111111,
              "#46039f"
             ],
             [
              0.2222222222222222,
              "#7201a8"
             ],
             [
              0.3333333333333333,
              "#9c179e"
             ],
             [
              0.4444444444444444,
              "#bd3786"
             ],
             [
              0.5555555555555556,
              "#d8576b"
             ],
             [
              0.6666666666666666,
              "#ed7953"
             ],
             [
              0.7777777777777778,
              "#fb9f3a"
             ],
             [
              0.8888888888888888,
              "#fdca26"
             ],
             [
              1,
              "#f0f921"
             ]
            ],
            "type": "histogram2dcontour"
           }
          ],
          "mesh3d": [
           {
            "colorbar": {
             "outlinewidth": 0,
             "ticks": ""
            },
            "type": "mesh3d"
           }
          ],
          "parcoords": [
           {
            "line": {
             "colorbar": {
              "outlinewidth": 0,
              "ticks": ""
             }
            },
            "type": "parcoords"
           }
          ],
          "pie": [
           {
            "automargin": true,
            "type": "pie"
           }
          ],
          "scatter": [
           {
            "marker": {
             "colorbar": {
              "outlinewidth": 0,
              "ticks": ""
             }
            },
            "type": "scatter"
           }
          ],
          "scatter3d": [
           {
            "line": {
             "colorbar": {
              "outlinewidth": 0,
              "ticks": ""
             }
            },
            "marker": {
             "colorbar": {
              "outlinewidth": 0,
              "ticks": ""
             }
            },
            "type": "scatter3d"
           }
          ],
          "scattercarpet": [
           {
            "marker": {
             "colorbar": {
              "outlinewidth": 0,
              "ticks": ""
             }
            },
            "type": "scattercarpet"
           }
          ],
          "scattergeo": [
           {
            "marker": {
             "colorbar": {
              "outlinewidth": 0,
              "ticks": ""
             }
            },
            "type": "scattergeo"
           }
          ],
          "scattergl": [
           {
            "marker": {
             "colorbar": {
              "outlinewidth": 0,
              "ticks": ""
             }
            },
            "type": "scattergl"
           }
          ],
          "scattermapbox": [
           {
            "marker": {
             "colorbar": {
              "outlinewidth": 0,
              "ticks": ""
             }
            },
            "type": "scattermapbox"
           }
          ],
          "scatterpolar": [
           {
            "marker": {
             "colorbar": {
              "outlinewidth": 0,
              "ticks": ""
             }
            },
            "type": "scatterpolar"
           }
          ],
          "scatterpolargl": [
           {
            "marker": {
             "colorbar": {
              "outlinewidth": 0,
              "ticks": ""
             }
            },
            "type": "scatterpolargl"
           }
          ],
          "scatterternary": [
           {
            "marker": {
             "colorbar": {
              "outlinewidth": 0,
              "ticks": ""
             }
            },
            "type": "scatterternary"
           }
          ],
          "surface": [
           {
            "colorbar": {
             "outlinewidth": 0,
             "ticks": ""
            },
            "colorscale": [
             [
              0,
              "#0d0887"
             ],
             [
              0.1111111111111111,
              "#46039f"
             ],
             [
              0.2222222222222222,
              "#7201a8"
             ],
             [
              0.3333333333333333,
              "#9c179e"
             ],
             [
              0.4444444444444444,
              "#bd3786"
             ],
             [
              0.5555555555555556,
              "#d8576b"
             ],
             [
              0.6666666666666666,
              "#ed7953"
             ],
             [
              0.7777777777777778,
              "#fb9f3a"
             ],
             [
              0.8888888888888888,
              "#fdca26"
             ],
             [
              1,
              "#f0f921"
             ]
            ],
            "type": "surface"
           }
          ],
          "table": [
           {
            "cells": {
             "fill": {
              "color": "#EBF0F8"
             },
             "line": {
              "color": "white"
             }
            },
            "header": {
             "fill": {
              "color": "#C8D4E3"
             },
             "line": {
              "color": "white"
             }
            },
            "type": "table"
           }
          ]
         },
         "layout": {
          "annotationdefaults": {
           "arrowcolor": "#2a3f5f",
           "arrowhead": 0,
           "arrowwidth": 1
          },
          "autotypenumbers": "strict",
          "coloraxis": {
           "colorbar": {
            "outlinewidth": 0,
            "ticks": ""
           }
          },
          "colorscale": {
           "diverging": [
            [
             0,
             "#8e0152"
            ],
            [
             0.1,
             "#c51b7d"
            ],
            [
             0.2,
             "#de77ae"
            ],
            [
             0.3,
             "#f1b6da"
            ],
            [
             0.4,
             "#fde0ef"
            ],
            [
             0.5,
             "#f7f7f7"
            ],
            [
             0.6,
             "#e6f5d0"
            ],
            [
             0.7,
             "#b8e186"
            ],
            [
             0.8,
             "#7fbc41"
            ],
            [
             0.9,
             "#4d9221"
            ],
            [
             1,
             "#276419"
            ]
           ],
           "sequential": [
            [
             0,
             "#0d0887"
            ],
            [
             0.1111111111111111,
             "#46039f"
            ],
            [
             0.2222222222222222,
             "#7201a8"
            ],
            [
             0.3333333333333333,
             "#9c179e"
            ],
            [
             0.4444444444444444,
             "#bd3786"
            ],
            [
             0.5555555555555556,
             "#d8576b"
            ],
            [
             0.6666666666666666,
             "#ed7953"
            ],
            [
             0.7777777777777778,
             "#fb9f3a"
            ],
            [
             0.8888888888888888,
             "#fdca26"
            ],
            [
             1,
             "#f0f921"
            ]
           ],
           "sequentialminus": [
            [
             0,
             "#0d0887"
            ],
            [
             0.1111111111111111,
             "#46039f"
            ],
            [
             0.2222222222222222,
             "#7201a8"
            ],
            [
             0.3333333333333333,
             "#9c179e"
            ],
            [
             0.4444444444444444,
             "#bd3786"
            ],
            [
             0.5555555555555556,
             "#d8576b"
            ],
            [
             0.6666666666666666,
             "#ed7953"
            ],
            [
             0.7777777777777778,
             "#fb9f3a"
            ],
            [
             0.8888888888888888,
             "#fdca26"
            ],
            [
             1,
             "#f0f921"
            ]
           ]
          },
          "colorway": [
           "#636efa",
           "#EF553B",
           "#00cc96",
           "#ab63fa",
           "#FFA15A",
           "#19d3f3",
           "#FF6692",
           "#B6E880",
           "#FF97FF",
           "#FECB52"
          ],
          "font": {
           "color": "#2a3f5f"
          },
          "geo": {
           "bgcolor": "white",
           "lakecolor": "white",
           "landcolor": "#E5ECF6",
           "showlakes": true,
           "showland": true,
           "subunitcolor": "white"
          },
          "hoverlabel": {
           "align": "left"
          },
          "hovermode": "closest",
          "mapbox": {
           "style": "light"
          },
          "paper_bgcolor": "white",
          "plot_bgcolor": "#E5ECF6",
          "polar": {
           "angularaxis": {
            "gridcolor": "white",
            "linecolor": "white",
            "ticks": ""
           },
           "bgcolor": "#E5ECF6",
           "radialaxis": {
            "gridcolor": "white",
            "linecolor": "white",
            "ticks": ""
           }
          },
          "scene": {
           "xaxis": {
            "backgroundcolor": "#E5ECF6",
            "gridcolor": "white",
            "gridwidth": 2,
            "linecolor": "white",
            "showbackground": true,
            "ticks": "",
            "zerolinecolor": "white"
           },
           "yaxis": {
            "backgroundcolor": "#E5ECF6",
            "gridcolor": "white",
            "gridwidth": 2,
            "linecolor": "white",
            "showbackground": true,
            "ticks": "",
            "zerolinecolor": "white"
           },
           "zaxis": {
            "backgroundcolor": "#E5ECF6",
            "gridcolor": "white",
            "gridwidth": 2,
            "linecolor": "white",
            "showbackground": true,
            "ticks": "",
            "zerolinecolor": "white"
           }
          },
          "shapedefaults": {
           "line": {
            "color": "#2a3f5f"
           }
          },
          "ternary": {
           "aaxis": {
            "gridcolor": "white",
            "linecolor": "white",
            "ticks": ""
           },
           "baxis": {
            "gridcolor": "white",
            "linecolor": "white",
            "ticks": ""
           },
           "bgcolor": "#E5ECF6",
           "caxis": {
            "gridcolor": "white",
            "linecolor": "white",
            "ticks": ""
           }
          },
          "title": {
           "x": 0.05
          },
          "xaxis": {
           "automargin": true,
           "gridcolor": "white",
           "linecolor": "white",
           "ticks": "",
           "title": {
            "standoff": 15
           },
           "zerolinecolor": "white",
           "zerolinewidth": 2
          },
          "yaxis": {
           "automargin": true,
           "gridcolor": "white",
           "linecolor": "white",
           "ticks": "",
           "title": {
            "standoff": 15
           },
           "zerolinecolor": "white",
           "zerolinewidth": 2
          }
         }
        }
       }
      },
      "text/html": [
       "<div>                            <div id=\"267a96f1-5e2b-4e94-8476-099f2ce8e72a\" class=\"plotly-graph-div\" style=\"height:525px; width:100%;\"></div>            <script type=\"text/javascript\">                require([\"plotly\"], function(Plotly) {                    window.PLOTLYENV=window.PLOTLYENV || {};                                    if (document.getElementById(\"267a96f1-5e2b-4e94-8476-099f2ce8e72a\")) {                    Plotly.newPlot(                        \"267a96f1-5e2b-4e94-8476-099f2ce8e72a\",                        [{\"marker\":{\"opacity\":[0.24347931909154064,0.7415890717577438,0.4524015215525755,0.6108570730247425,0.5366157306384532,0.9752793356182348,0.5551741714093932,0.5960377469120546,0.7753044826659141],\"size\":[52,14,82,11,45,28,48,16,56]},\"mode\":\"markers\",\"type\":\"scatter\",\"x\":[1,2,3,4,5,6,7,8,9],\"y\":[52,14,82,11,45,28,48,16,56]}],                        {\"template\":{\"data\":{\"bar\":[{\"error_x\":{\"color\":\"#2a3f5f\"},\"error_y\":{\"color\":\"#2a3f5f\"},\"marker\":{\"line\":{\"color\":\"#E5ECF6\",\"width\":0.5},\"pattern\":{\"fillmode\":\"overlay\",\"size\":10,\"solidity\":0.2}},\"type\":\"bar\"}],\"barpolar\":[{\"marker\":{\"line\":{\"color\":\"#E5ECF6\",\"width\":0.5},\"pattern\":{\"fillmode\":\"overlay\",\"size\":10,\"solidity\":0.2}},\"type\":\"barpolar\"}],\"carpet\":[{\"aaxis\":{\"endlinecolor\":\"#2a3f5f\",\"gridcolor\":\"white\",\"linecolor\":\"white\",\"minorgridcolor\":\"white\",\"startlinecolor\":\"#2a3f5f\"},\"baxis\":{\"endlinecolor\":\"#2a3f5f\",\"gridcolor\":\"white\",\"linecolor\":\"white\",\"minorgridcolor\":\"white\",\"startlinecolor\":\"#2a3f5f\"},\"type\":\"carpet\"}],\"choropleth\":[{\"colorbar\":{\"outlinewidth\":0,\"ticks\":\"\"},\"type\":\"choropleth\"}],\"contour\":[{\"colorbar\":{\"outlinewidth\":0,\"ticks\":\"\"},\"colorscale\":[[0.0,\"#0d0887\"],[0.1111111111111111,\"#46039f\"],[0.2222222222222222,\"#7201a8\"],[0.3333333333333333,\"#9c179e\"],[0.4444444444444444,\"#bd3786\"],[0.5555555555555556,\"#d8576b\"],[0.6666666666666666,\"#ed7953\"],[0.7777777777777778,\"#fb9f3a\"],[0.8888888888888888,\"#fdca26\"],[1.0,\"#f0f921\"]],\"type\":\"contour\"}],\"contourcarpet\":[{\"colorbar\":{\"outlinewidth\":0,\"ticks\":\"\"},\"type\":\"contourcarpet\"}],\"heatmap\":[{\"colorbar\":{\"outlinewidth\":0,\"ticks\":\"\"},\"colorscale\":[[0.0,\"#0d0887\"],[0.1111111111111111,\"#46039f\"],[0.2222222222222222,\"#7201a8\"],[0.3333333333333333,\"#9c179e\"],[0.4444444444444444,\"#bd3786\"],[0.5555555555555556,\"#d8576b\"],[0.6666666666666666,\"#ed7953\"],[0.7777777777777778,\"#fb9f3a\"],[0.8888888888888888,\"#fdca26\"],[1.0,\"#f0f921\"]],\"type\":\"heatmap\"}],\"heatmapgl\":[{\"colorbar\":{\"outlinewidth\":0,\"ticks\":\"\"},\"colorscale\":[[0.0,\"#0d0887\"],[0.1111111111111111,\"#46039f\"],[0.2222222222222222,\"#7201a8\"],[0.3333333333333333,\"#9c179e\"],[0.4444444444444444,\"#bd3786\"],[0.5555555555555556,\"#d8576b\"],[0.6666666666666666,\"#ed7953\"],[0.7777777777777778,\"#fb9f3a\"],[0.8888888888888888,\"#fdca26\"],[1.0,\"#f0f921\"]],\"type\":\"heatmapgl\"}],\"histogram\":[{\"marker\":{\"pattern\":{\"fillmode\":\"overlay\",\"size\":10,\"solidity\":0.2}},\"type\":\"histogram\"}],\"histogram2d\":[{\"colorbar\":{\"outlinewidth\":0,\"ticks\":\"\"},\"colorscale\":[[0.0,\"#0d0887\"],[0.1111111111111111,\"#46039f\"],[0.2222222222222222,\"#7201a8\"],[0.3333333333333333,\"#9c179e\"],[0.4444444444444444,\"#bd3786\"],[0.5555555555555556,\"#d8576b\"],[0.6666666666666666,\"#ed7953\"],[0.7777777777777778,\"#fb9f3a\"],[0.8888888888888888,\"#fdca26\"],[1.0,\"#f0f921\"]],\"type\":\"histogram2d\"}],\"histogram2dcontour\":[{\"colorbar\":{\"outlinewidth\":0,\"ticks\":\"\"},\"colorscale\":[[0.0,\"#0d0887\"],[0.1111111111111111,\"#46039f\"],[0.2222222222222222,\"#7201a8\"],[0.3333333333333333,\"#9c179e\"],[0.4444444444444444,\"#bd3786\"],[0.5555555555555556,\"#d8576b\"],[0.6666666666666666,\"#ed7953\"],[0.7777777777777778,\"#fb9f3a\"],[0.8888888888888888,\"#fdca26\"],[1.0,\"#f0f921\"]],\"type\":\"histogram2dcontour\"}],\"mesh3d\":[{\"colorbar\":{\"outlinewidth\":0,\"ticks\":\"\"},\"type\":\"mesh3d\"}],\"parcoords\":[{\"line\":{\"colorbar\":{\"outlinewidth\":0,\"ticks\":\"\"}},\"type\":\"parcoords\"}],\"pie\":[{\"automargin\":true,\"type\":\"pie\"}],\"scatter\":[{\"marker\":{\"colorbar\":{\"outlinewidth\":0,\"ticks\":\"\"}},\"type\":\"scatter\"}],\"scatter3d\":[{\"line\":{\"colorbar\":{\"outlinewidth\":0,\"ticks\":\"\"}},\"marker\":{\"colorbar\":{\"outlinewidth\":0,\"ticks\":\"\"}},\"type\":\"scatter3d\"}],\"scattercarpet\":[{\"marker\":{\"colorbar\":{\"outlinewidth\":0,\"ticks\":\"\"}},\"type\":\"scattercarpet\"}],\"scattergeo\":[{\"marker\":{\"colorbar\":{\"outlinewidth\":0,\"ticks\":\"\"}},\"type\":\"scattergeo\"}],\"scattergl\":[{\"marker\":{\"colorbar\":{\"outlinewidth\":0,\"ticks\":\"\"}},\"type\":\"scattergl\"}],\"scattermapbox\":[{\"marker\":{\"colorbar\":{\"outlinewidth\":0,\"ticks\":\"\"}},\"type\":\"scattermapbox\"}],\"scatterpolar\":[{\"marker\":{\"colorbar\":{\"outlinewidth\":0,\"ticks\":\"\"}},\"type\":\"scatterpolar\"}],\"scatterpolargl\":[{\"marker\":{\"colorbar\":{\"outlinewidth\":0,\"ticks\":\"\"}},\"type\":\"scatterpolargl\"}],\"scatterternary\":[{\"marker\":{\"colorbar\":{\"outlinewidth\":0,\"ticks\":\"\"}},\"type\":\"scatterternary\"}],\"surface\":[{\"colorbar\":{\"outlinewidth\":0,\"ticks\":\"\"},\"colorscale\":[[0.0,\"#0d0887\"],[0.1111111111111111,\"#46039f\"],[0.2222222222222222,\"#7201a8\"],[0.3333333333333333,\"#9c179e\"],[0.4444444444444444,\"#bd3786\"],[0.5555555555555556,\"#d8576b\"],[0.6666666666666666,\"#ed7953\"],[0.7777777777777778,\"#fb9f3a\"],[0.8888888888888888,\"#fdca26\"],[1.0,\"#f0f921\"]],\"type\":\"surface\"}],\"table\":[{\"cells\":{\"fill\":{\"color\":\"#EBF0F8\"},\"line\":{\"color\":\"white\"}},\"header\":{\"fill\":{\"color\":\"#C8D4E3\"},\"line\":{\"color\":\"white\"}},\"type\":\"table\"}]},\"layout\":{\"annotationdefaults\":{\"arrowcolor\":\"#2a3f5f\",\"arrowhead\":0,\"arrowwidth\":1},\"autotypenumbers\":\"strict\",\"coloraxis\":{\"colorbar\":{\"outlinewidth\":0,\"ticks\":\"\"}},\"colorscale\":{\"diverging\":[[0,\"#8e0152\"],[0.1,\"#c51b7d\"],[0.2,\"#de77ae\"],[0.3,\"#f1b6da\"],[0.4,\"#fde0ef\"],[0.5,\"#f7f7f7\"],[0.6,\"#e6f5d0\"],[0.7,\"#b8e186\"],[0.8,\"#7fbc41\"],[0.9,\"#4d9221\"],[1,\"#276419\"]],\"sequential\":[[0.0,\"#0d0887\"],[0.1111111111111111,\"#46039f\"],[0.2222222222222222,\"#7201a8\"],[0.3333333333333333,\"#9c179e\"],[0.4444444444444444,\"#bd3786\"],[0.5555555555555556,\"#d8576b\"],[0.6666666666666666,\"#ed7953\"],[0.7777777777777778,\"#fb9f3a\"],[0.8888888888888888,\"#fdca26\"],[1.0,\"#f0f921\"]],\"sequentialminus\":[[0.0,\"#0d0887\"],[0.1111111111111111,\"#46039f\"],[0.2222222222222222,\"#7201a8\"],[0.3333333333333333,\"#9c179e\"],[0.4444444444444444,\"#bd3786\"],[0.5555555555555556,\"#d8576b\"],[0.6666666666666666,\"#ed7953\"],[0.7777777777777778,\"#fb9f3a\"],[0.8888888888888888,\"#fdca26\"],[1.0,\"#f0f921\"]]},\"colorway\":[\"#636efa\",\"#EF553B\",\"#00cc96\",\"#ab63fa\",\"#FFA15A\",\"#19d3f3\",\"#FF6692\",\"#B6E880\",\"#FF97FF\",\"#FECB52\"],\"font\":{\"color\":\"#2a3f5f\"},\"geo\":{\"bgcolor\":\"white\",\"lakecolor\":\"white\",\"landcolor\":\"#E5ECF6\",\"showlakes\":true,\"showland\":true,\"subunitcolor\":\"white\"},\"hoverlabel\":{\"align\":\"left\"},\"hovermode\":\"closest\",\"mapbox\":{\"style\":\"light\"},\"paper_bgcolor\":\"white\",\"plot_bgcolor\":\"#E5ECF6\",\"polar\":{\"angularaxis\":{\"gridcolor\":\"white\",\"linecolor\":\"white\",\"ticks\":\"\"},\"bgcolor\":\"#E5ECF6\",\"radialaxis\":{\"gridcolor\":\"white\",\"linecolor\":\"white\",\"ticks\":\"\"}},\"scene\":{\"xaxis\":{\"backgroundcolor\":\"#E5ECF6\",\"gridcolor\":\"white\",\"gridwidth\":2,\"linecolor\":\"white\",\"showbackground\":true,\"ticks\":\"\",\"zerolinecolor\":\"white\"},\"yaxis\":{\"backgroundcolor\":\"#E5ECF6\",\"gridcolor\":\"white\",\"gridwidth\":2,\"linecolor\":\"white\",\"showbackground\":true,\"ticks\":\"\",\"zerolinecolor\":\"white\"},\"zaxis\":{\"backgroundcolor\":\"#E5ECF6\",\"gridcolor\":\"white\",\"gridwidth\":2,\"linecolor\":\"white\",\"showbackground\":true,\"ticks\":\"\",\"zerolinecolor\":\"white\"}},\"shapedefaults\":{\"line\":{\"color\":\"#2a3f5f\"}},\"ternary\":{\"aaxis\":{\"gridcolor\":\"white\",\"linecolor\":\"white\",\"ticks\":\"\"},\"baxis\":{\"gridcolor\":\"white\",\"linecolor\":\"white\",\"ticks\":\"\"},\"bgcolor\":\"#E5ECF6\",\"caxis\":{\"gridcolor\":\"white\",\"linecolor\":\"white\",\"ticks\":\"\"}},\"title\":{\"x\":0.05},\"xaxis\":{\"automargin\":true,\"gridcolor\":\"white\",\"linecolor\":\"white\",\"ticks\":\"\",\"title\":{\"standoff\":15},\"zerolinecolor\":\"white\",\"zerolinewidth\":2},\"yaxis\":{\"automargin\":true,\"gridcolor\":\"white\",\"linecolor\":\"white\",\"ticks\":\"\",\"title\":{\"standoff\":15},\"zerolinecolor\":\"white\",\"zerolinewidth\":2}}}},                        {\"responsive\": true}                    ).then(function(){\n",
       "                            \n",
       "var gd = document.getElementById('267a96f1-5e2b-4e94-8476-099f2ce8e72a');\n",
       "var x = new MutationObserver(function (mutations, observer) {{\n",
       "        var display = window.getComputedStyle(gd).display;\n",
       "        if (!display || display === 'none') {{\n",
       "            console.log([gd, 'removed!']);\n",
       "            Plotly.purge(gd);\n",
       "            observer.disconnect();\n",
       "        }}\n",
       "}});\n",
       "\n",
       "// Listen for the removal of the full notebook cells\n",
       "var notebookContainer = gd.closest('#notebook-container');\n",
       "if (notebookContainer) {{\n",
       "    x.observe(notebookContainer, {childList: true});\n",
       "}}\n",
       "\n",
       "// Listen for the clearing of the current output cell\n",
       "var outputEl = gd.closest('.output');\n",
       "if (outputEl) {{\n",
       "    x.observe(outputEl, {childList: true});\n",
       "}}\n",
       "\n",
       "                        })                };                });            </script>        </div>"
      ]
     },
     "metadata": {},
     "output_type": "display_data"
    }
   ],
   "source": [
    "x = np.arange(1,10)\n",
    "y = np.random.randint(1,100,9)\n",
    "op = np.random.uniform(0.2,1 ,9)\n",
    "data = go.Scatter(\n",
    "                  x = x,\n",
    "                  y = y,\n",
    "                  mode = 'markers',\n",
    "                  marker = dict(size = y,opacity = op), # Changing opacity & size of bubbles\n",
    "                  )\n",
    "\n",
    "fig = go.Figure(data=data)\n",
    "fig.show()"
   ]
  },
  {
   "cell_type": "code",
   "execution_count": 10,
   "metadata": {},
   "outputs": [
    {
     "data": {
      "application/vnd.plotly.v1+json": {
       "config": {
        "plotlyServerURL": "https://plot.ly"
       },
       "data": [
        {
         "marker": {
          "color": [
           "#98028c",
           "#332ecd",
           "#934a93",
           "#673730",
           "#a87d3f",
           "#7ef14b",
           "#42b983",
           "#c12103",
           "#529c1f",
           "#f15790"
          ],
          "size": [
           65,
           26,
           62,
           53,
           82,
           92,
           50,
           80,
           46
          ]
         },
         "mode": "markers",
         "type": "scatter",
         "x": [
          1,
          2,
          3,
          4,
          5,
          6,
          7,
          8,
          9
         ],
         "y": [
          65,
          26,
          62,
          53,
          82,
          92,
          50,
          80,
          46
         ]
        }
       ],
       "layout": {
        "template": {
         "data": {
          "bar": [
           {
            "error_x": {
             "color": "#2a3f5f"
            },
            "error_y": {
             "color": "#2a3f5f"
            },
            "marker": {
             "line": {
              "color": "#E5ECF6",
              "width": 0.5
             },
             "pattern": {
              "fillmode": "overlay",
              "size": 10,
              "solidity": 0.2
             }
            },
            "type": "bar"
           }
          ],
          "barpolar": [
           {
            "marker": {
             "line": {
              "color": "#E5ECF6",
              "width": 0.5
             },
             "pattern": {
              "fillmode": "overlay",
              "size": 10,
              "solidity": 0.2
             }
            },
            "type": "barpolar"
           }
          ],
          "carpet": [
           {
            "aaxis": {
             "endlinecolor": "#2a3f5f",
             "gridcolor": "white",
             "linecolor": "white",
             "minorgridcolor": "white",
             "startlinecolor": "#2a3f5f"
            },
            "baxis": {
             "endlinecolor": "#2a3f5f",
             "gridcolor": "white",
             "linecolor": "white",
             "minorgridcolor": "white",
             "startlinecolor": "#2a3f5f"
            },
            "type": "carpet"
           }
          ],
          "choropleth": [
           {
            "colorbar": {
             "outlinewidth": 0,
             "ticks": ""
            },
            "type": "choropleth"
           }
          ],
          "contour": [
           {
            "colorbar": {
             "outlinewidth": 0,
             "ticks": ""
            },
            "colorscale": [
             [
              0,
              "#0d0887"
             ],
             [
              0.1111111111111111,
              "#46039f"
             ],
             [
              0.2222222222222222,
              "#7201a8"
             ],
             [
              0.3333333333333333,
              "#9c179e"
             ],
             [
              0.4444444444444444,
              "#bd3786"
             ],
             [
              0.5555555555555556,
              "#d8576b"
             ],
             [
              0.6666666666666666,
              "#ed7953"
             ],
             [
              0.7777777777777778,
              "#fb9f3a"
             ],
             [
              0.8888888888888888,
              "#fdca26"
             ],
             [
              1,
              "#f0f921"
             ]
            ],
            "type": "contour"
           }
          ],
          "contourcarpet": [
           {
            "colorbar": {
             "outlinewidth": 0,
             "ticks": ""
            },
            "type": "contourcarpet"
           }
          ],
          "heatmap": [
           {
            "colorbar": {
             "outlinewidth": 0,
             "ticks": ""
            },
            "colorscale": [
             [
              0,
              "#0d0887"
             ],
             [
              0.1111111111111111,
              "#46039f"
             ],
             [
              0.2222222222222222,
              "#7201a8"
             ],
             [
              0.3333333333333333,
              "#9c179e"
             ],
             [
              0.4444444444444444,
              "#bd3786"
             ],
             [
              0.5555555555555556,
              "#d8576b"
             ],
             [
              0.6666666666666666,
              "#ed7953"
             ],
             [
              0.7777777777777778,
              "#fb9f3a"
             ],
             [
              0.8888888888888888,
              "#fdca26"
             ],
             [
              1,
              "#f0f921"
             ]
            ],
            "type": "heatmap"
           }
          ],
          "heatmapgl": [
           {
            "colorbar": {
             "outlinewidth": 0,
             "ticks": ""
            },
            "colorscale": [
             [
              0,
              "#0d0887"
             ],
             [
              0.1111111111111111,
              "#46039f"
             ],
             [
              0.2222222222222222,
              "#7201a8"
             ],
             [
              0.3333333333333333,
              "#9c179e"
             ],
             [
              0.4444444444444444,
              "#bd3786"
             ],
             [
              0.5555555555555556,
              "#d8576b"
             ],
             [
              0.6666666666666666,
              "#ed7953"
             ],
             [
              0.7777777777777778,
              "#fb9f3a"
             ],
             [
              0.8888888888888888,
              "#fdca26"
             ],
             [
              1,
              "#f0f921"
             ]
            ],
            "type": "heatmapgl"
           }
          ],
          "histogram": [
           {
            "marker": {
             "pattern": {
              "fillmode": "overlay",
              "size": 10,
              "solidity": 0.2
             }
            },
            "type": "histogram"
           }
          ],
          "histogram2d": [
           {
            "colorbar": {
             "outlinewidth": 0,
             "ticks": ""
            },
            "colorscale": [
             [
              0,
              "#0d0887"
             ],
             [
              0.1111111111111111,
              "#46039f"
             ],
             [
              0.2222222222222222,
              "#7201a8"
             ],
             [
              0.3333333333333333,
              "#9c179e"
             ],
             [
              0.4444444444444444,
              "#bd3786"
             ],
             [
              0.5555555555555556,
              "#d8576b"
             ],
             [
              0.6666666666666666,
              "#ed7953"
             ],
             [
              0.7777777777777778,
              "#fb9f3a"
             ],
             [
              0.8888888888888888,
              "#fdca26"
             ],
             [
              1,
              "#f0f921"
             ]
            ],
            "type": "histogram2d"
           }
          ],
          "histogram2dcontour": [
           {
            "colorbar": {
             "outlinewidth": 0,
             "ticks": ""
            },
            "colorscale": [
             [
              0,
              "#0d0887"
             ],
             [
              0.1111111111111111,
              "#46039f"
             ],
             [
              0.2222222222222222,
              "#7201a8"
             ],
             [
              0.3333333333333333,
              "#9c179e"
             ],
             [
              0.4444444444444444,
              "#bd3786"
             ],
             [
              0.5555555555555556,
              "#d8576b"
             ],
             [
              0.6666666666666666,
              "#ed7953"
             ],
             [
              0.7777777777777778,
              "#fb9f3a"
             ],
             [
              0.8888888888888888,
              "#fdca26"
             ],
             [
              1,
              "#f0f921"
             ]
            ],
            "type": "histogram2dcontour"
           }
          ],
          "mesh3d": [
           {
            "colorbar": {
             "outlinewidth": 0,
             "ticks": ""
            },
            "type": "mesh3d"
           }
          ],
          "parcoords": [
           {
            "line": {
             "colorbar": {
              "outlinewidth": 0,
              "ticks": ""
             }
            },
            "type": "parcoords"
           }
          ],
          "pie": [
           {
            "automargin": true,
            "type": "pie"
           }
          ],
          "scatter": [
           {
            "marker": {
             "colorbar": {
              "outlinewidth": 0,
              "ticks": ""
             }
            },
            "type": "scatter"
           }
          ],
          "scatter3d": [
           {
            "line": {
             "colorbar": {
              "outlinewidth": 0,
              "ticks": ""
             }
            },
            "marker": {
             "colorbar": {
              "outlinewidth": 0,
              "ticks": ""
             }
            },
            "type": "scatter3d"
           }
          ],
          "scattercarpet": [
           {
            "marker": {
             "colorbar": {
              "outlinewidth": 0,
              "ticks": ""
             }
            },
            "type": "scattercarpet"
           }
          ],
          "scattergeo": [
           {
            "marker": {
             "colorbar": {
              "outlinewidth": 0,
              "ticks": ""
             }
            },
            "type": "scattergeo"
           }
          ],
          "scattergl": [
           {
            "marker": {
             "colorbar": {
              "outlinewidth": 0,
              "ticks": ""
             }
            },
            "type": "scattergl"
           }
          ],
          "scattermapbox": [
           {
            "marker": {
             "colorbar": {
              "outlinewidth": 0,
              "ticks": ""
             }
            },
            "type": "scattermapbox"
           }
          ],
          "scatterpolar": [
           {
            "marker": {
             "colorbar": {
              "outlinewidth": 0,
              "ticks": ""
             }
            },
            "type": "scatterpolar"
           }
          ],
          "scatterpolargl": [
           {
            "marker": {
             "colorbar": {
              "outlinewidth": 0,
              "ticks": ""
             }
            },
            "type": "scatterpolargl"
           }
          ],
          "scatterternary": [
           {
            "marker": {
             "colorbar": {
              "outlinewidth": 0,
              "ticks": ""
             }
            },
            "type": "scatterternary"
           }
          ],
          "surface": [
           {
            "colorbar": {
             "outlinewidth": 0,
             "ticks": ""
            },
            "colorscale": [
             [
              0,
              "#0d0887"
             ],
             [
              0.1111111111111111,
              "#46039f"
             ],
             [
              0.2222222222222222,
              "#7201a8"
             ],
             [
              0.3333333333333333,
              "#9c179e"
             ],
             [
              0.4444444444444444,
              "#bd3786"
             ],
             [
              0.5555555555555556,
              "#d8576b"
             ],
             [
              0.6666666666666666,
              "#ed7953"
             ],
             [
              0.7777777777777778,
              "#fb9f3a"
             ],
             [
              0.8888888888888888,
              "#fdca26"
             ],
             [
              1,
              "#f0f921"
             ]
            ],
            "type": "surface"
           }
          ],
          "table": [
           {
            "cells": {
             "fill": {
              "color": "#EBF0F8"
             },
             "line": {
              "color": "white"
             }
            },
            "header": {
             "fill": {
              "color": "#C8D4E3"
             },
             "line": {
              "color": "white"
             }
            },
            "type": "table"
           }
          ]
         },
         "layout": {
          "annotationdefaults": {
           "arrowcolor": "#2a3f5f",
           "arrowhead": 0,
           "arrowwidth": 1
          },
          "autotypenumbers": "strict",
          "coloraxis": {
           "colorbar": {
            "outlinewidth": 0,
            "ticks": ""
           }
          },
          "colorscale": {
           "diverging": [
            [
             0,
             "#8e0152"
            ],
            [
             0.1,
             "#c51b7d"
            ],
            [
             0.2,
             "#de77ae"
            ],
            [
             0.3,
             "#f1b6da"
            ],
            [
             0.4,
             "#fde0ef"
            ],
            [
             0.5,
             "#f7f7f7"
            ],
            [
             0.6,
             "#e6f5d0"
            ],
            [
             0.7,
             "#b8e186"
            ],
            [
             0.8,
             "#7fbc41"
            ],
            [
             0.9,
             "#4d9221"
            ],
            [
             1,
             "#276419"
            ]
           ],
           "sequential": [
            [
             0,
             "#0d0887"
            ],
            [
             0.1111111111111111,
             "#46039f"
            ],
            [
             0.2222222222222222,
             "#7201a8"
            ],
            [
             0.3333333333333333,
             "#9c179e"
            ],
            [
             0.4444444444444444,
             "#bd3786"
            ],
            [
             0.5555555555555556,
             "#d8576b"
            ],
            [
             0.6666666666666666,
             "#ed7953"
            ],
            [
             0.7777777777777778,
             "#fb9f3a"
            ],
            [
             0.8888888888888888,
             "#fdca26"
            ],
            [
             1,
             "#f0f921"
            ]
           ],
           "sequentialminus": [
            [
             0,
             "#0d0887"
            ],
            [
             0.1111111111111111,
             "#46039f"
            ],
            [
             0.2222222222222222,
             "#7201a8"
            ],
            [
             0.3333333333333333,
             "#9c179e"
            ],
            [
             0.4444444444444444,
             "#bd3786"
            ],
            [
             0.5555555555555556,
             "#d8576b"
            ],
            [
             0.6666666666666666,
             "#ed7953"
            ],
            [
             0.7777777777777778,
             "#fb9f3a"
            ],
            [
             0.8888888888888888,
             "#fdca26"
            ],
            [
             1,
             "#f0f921"
            ]
           ]
          },
          "colorway": [
           "#636efa",
           "#EF553B",
           "#00cc96",
           "#ab63fa",
           "#FFA15A",
           "#19d3f3",
           "#FF6692",
           "#B6E880",
           "#FF97FF",
           "#FECB52"
          ],
          "font": {
           "color": "#2a3f5f"
          },
          "geo": {
           "bgcolor": "white",
           "lakecolor": "white",
           "landcolor": "#E5ECF6",
           "showlakes": true,
           "showland": true,
           "subunitcolor": "white"
          },
          "hoverlabel": {
           "align": "left"
          },
          "hovermode": "closest",
          "mapbox": {
           "style": "light"
          },
          "paper_bgcolor": "white",
          "plot_bgcolor": "#E5ECF6",
          "polar": {
           "angularaxis": {
            "gridcolor": "white",
            "linecolor": "white",
            "ticks": ""
           },
           "bgcolor": "#E5ECF6",
           "radialaxis": {
            "gridcolor": "white",
            "linecolor": "white",
            "ticks": ""
           }
          },
          "scene": {
           "xaxis": {
            "backgroundcolor": "#E5ECF6",
            "gridcolor": "white",
            "gridwidth": 2,
            "linecolor": "white",
            "showbackground": true,
            "ticks": "",
            "zerolinecolor": "white"
           },
           "yaxis": {
            "backgroundcolor": "#E5ECF6",
            "gridcolor": "white",
            "gridwidth": 2,
            "linecolor": "white",
            "showbackground": true,
            "ticks": "",
            "zerolinecolor": "white"
           },
           "zaxis": {
            "backgroundcolor": "#E5ECF6",
            "gridcolor": "white",
            "gridwidth": 2,
            "linecolor": "white",
            "showbackground": true,
            "ticks": "",
            "zerolinecolor": "white"
           }
          },
          "shapedefaults": {
           "line": {
            "color": "#2a3f5f"
           }
          },
          "ternary": {
           "aaxis": {
            "gridcolor": "white",
            "linecolor": "white",
            "ticks": ""
           },
           "baxis": {
            "gridcolor": "white",
            "linecolor": "white",
            "ticks": ""
           },
           "bgcolor": "#E5ECF6",
           "caxis": {
            "gridcolor": "white",
            "linecolor": "white",
            "ticks": ""
           }
          },
          "title": {
           "x": 0.05
          },
          "xaxis": {
           "automargin": true,
           "gridcolor": "white",
           "linecolor": "white",
           "ticks": "",
           "title": {
            "standoff": 15
           },
           "zerolinecolor": "white",
           "zerolinewidth": 2
          },
          "yaxis": {
           "automargin": true,
           "gridcolor": "white",
           "linecolor": "white",
           "ticks": "",
           "title": {
            "standoff": 15
           },
           "zerolinecolor": "white",
           "zerolinewidth": 2
          }
         }
        }
       }
      },
      "text/html": [
       "<div>                            <div id=\"f1f98859-0e28-43b8-8961-f18a615ffadb\" class=\"plotly-graph-div\" style=\"height:525px; width:100%;\"></div>            <script type=\"text/javascript\">                require([\"plotly\"], function(Plotly) {                    window.PLOTLYENV=window.PLOTLYENV || {};                                    if (document.getElementById(\"f1f98859-0e28-43b8-8961-f18a615ffadb\")) {                    Plotly.newPlot(                        \"f1f98859-0e28-43b8-8961-f18a615ffadb\",                        [{\"marker\":{\"color\":[\"#98028c\",\"#332ecd\",\"#934a93\",\"#673730\",\"#a87d3f\",\"#7ef14b\",\"#42b983\",\"#c12103\",\"#529c1f\",\"#f15790\"],\"size\":[65,26,62,53,82,92,50,80,46]},\"mode\":\"markers\",\"type\":\"scatter\",\"x\":[1,2,3,4,5,6,7,8,9],\"y\":[65,26,62,53,82,92,50,80,46]}],                        {\"template\":{\"data\":{\"bar\":[{\"error_x\":{\"color\":\"#2a3f5f\"},\"error_y\":{\"color\":\"#2a3f5f\"},\"marker\":{\"line\":{\"color\":\"#E5ECF6\",\"width\":0.5},\"pattern\":{\"fillmode\":\"overlay\",\"size\":10,\"solidity\":0.2}},\"type\":\"bar\"}],\"barpolar\":[{\"marker\":{\"line\":{\"color\":\"#E5ECF6\",\"width\":0.5},\"pattern\":{\"fillmode\":\"overlay\",\"size\":10,\"solidity\":0.2}},\"type\":\"barpolar\"}],\"carpet\":[{\"aaxis\":{\"endlinecolor\":\"#2a3f5f\",\"gridcolor\":\"white\",\"linecolor\":\"white\",\"minorgridcolor\":\"white\",\"startlinecolor\":\"#2a3f5f\"},\"baxis\":{\"endlinecolor\":\"#2a3f5f\",\"gridcolor\":\"white\",\"linecolor\":\"white\",\"minorgridcolor\":\"white\",\"startlinecolor\":\"#2a3f5f\"},\"type\":\"carpet\"}],\"choropleth\":[{\"colorbar\":{\"outlinewidth\":0,\"ticks\":\"\"},\"type\":\"choropleth\"}],\"contour\":[{\"colorbar\":{\"outlinewidth\":0,\"ticks\":\"\"},\"colorscale\":[[0.0,\"#0d0887\"],[0.1111111111111111,\"#46039f\"],[0.2222222222222222,\"#7201a8\"],[0.3333333333333333,\"#9c179e\"],[0.4444444444444444,\"#bd3786\"],[0.5555555555555556,\"#d8576b\"],[0.6666666666666666,\"#ed7953\"],[0.7777777777777778,\"#fb9f3a\"],[0.8888888888888888,\"#fdca26\"],[1.0,\"#f0f921\"]],\"type\":\"contour\"}],\"contourcarpet\":[{\"colorbar\":{\"outlinewidth\":0,\"ticks\":\"\"},\"type\":\"contourcarpet\"}],\"heatmap\":[{\"colorbar\":{\"outlinewidth\":0,\"ticks\":\"\"},\"colorscale\":[[0.0,\"#0d0887\"],[0.1111111111111111,\"#46039f\"],[0.2222222222222222,\"#7201a8\"],[0.3333333333333333,\"#9c179e\"],[0.4444444444444444,\"#bd3786\"],[0.5555555555555556,\"#d8576b\"],[0.6666666666666666,\"#ed7953\"],[0.7777777777777778,\"#fb9f3a\"],[0.8888888888888888,\"#fdca26\"],[1.0,\"#f0f921\"]],\"type\":\"heatmap\"}],\"heatmapgl\":[{\"colorbar\":{\"outlinewidth\":0,\"ticks\":\"\"},\"colorscale\":[[0.0,\"#0d0887\"],[0.1111111111111111,\"#46039f\"],[0.2222222222222222,\"#7201a8\"],[0.3333333333333333,\"#9c179e\"],[0.4444444444444444,\"#bd3786\"],[0.5555555555555556,\"#d8576b\"],[0.6666666666666666,\"#ed7953\"],[0.7777777777777778,\"#fb9f3a\"],[0.8888888888888888,\"#fdca26\"],[1.0,\"#f0f921\"]],\"type\":\"heatmapgl\"}],\"histogram\":[{\"marker\":{\"pattern\":{\"fillmode\":\"overlay\",\"size\":10,\"solidity\":0.2}},\"type\":\"histogram\"}],\"histogram2d\":[{\"colorbar\":{\"outlinewidth\":0,\"ticks\":\"\"},\"colorscale\":[[0.0,\"#0d0887\"],[0.1111111111111111,\"#46039f\"],[0.2222222222222222,\"#7201a8\"],[0.3333333333333333,\"#9c179e\"],[0.4444444444444444,\"#bd3786\"],[0.5555555555555556,\"#d8576b\"],[0.6666666666666666,\"#ed7953\"],[0.7777777777777778,\"#fb9f3a\"],[0.8888888888888888,\"#fdca26\"],[1.0,\"#f0f921\"]],\"type\":\"histogram2d\"}],\"histogram2dcontour\":[{\"colorbar\":{\"outlinewidth\":0,\"ticks\":\"\"},\"colorscale\":[[0.0,\"#0d0887\"],[0.1111111111111111,\"#46039f\"],[0.2222222222222222,\"#7201a8\"],[0.3333333333333333,\"#9c179e\"],[0.4444444444444444,\"#bd3786\"],[0.5555555555555556,\"#d8576b\"],[0.6666666666666666,\"#ed7953\"],[0.7777777777777778,\"#fb9f3a\"],[0.8888888888888888,\"#fdca26\"],[1.0,\"#f0f921\"]],\"type\":\"histogram2dcontour\"}],\"mesh3d\":[{\"colorbar\":{\"outlinewidth\":0,\"ticks\":\"\"},\"type\":\"mesh3d\"}],\"parcoords\":[{\"line\":{\"colorbar\":{\"outlinewidth\":0,\"ticks\":\"\"}},\"type\":\"parcoords\"}],\"pie\":[{\"automargin\":true,\"type\":\"pie\"}],\"scatter\":[{\"marker\":{\"colorbar\":{\"outlinewidth\":0,\"ticks\":\"\"}},\"type\":\"scatter\"}],\"scatter3d\":[{\"line\":{\"colorbar\":{\"outlinewidth\":0,\"ticks\":\"\"}},\"marker\":{\"colorbar\":{\"outlinewidth\":0,\"ticks\":\"\"}},\"type\":\"scatter3d\"}],\"scattercarpet\":[{\"marker\":{\"colorbar\":{\"outlinewidth\":0,\"ticks\":\"\"}},\"type\":\"scattercarpet\"}],\"scattergeo\":[{\"marker\":{\"colorbar\":{\"outlinewidth\":0,\"ticks\":\"\"}},\"type\":\"scattergeo\"}],\"scattergl\":[{\"marker\":{\"colorbar\":{\"outlinewidth\":0,\"ticks\":\"\"}},\"type\":\"scattergl\"}],\"scattermapbox\":[{\"marker\":{\"colorbar\":{\"outlinewidth\":0,\"ticks\":\"\"}},\"type\":\"scattermapbox\"}],\"scatterpolar\":[{\"marker\":{\"colorbar\":{\"outlinewidth\":0,\"ticks\":\"\"}},\"type\":\"scatterpolar\"}],\"scatterpolargl\":[{\"marker\":{\"colorbar\":{\"outlinewidth\":0,\"ticks\":\"\"}},\"type\":\"scatterpolargl\"}],\"scatterternary\":[{\"marker\":{\"colorbar\":{\"outlinewidth\":0,\"ticks\":\"\"}},\"type\":\"scatterternary\"}],\"surface\":[{\"colorbar\":{\"outlinewidth\":0,\"ticks\":\"\"},\"colorscale\":[[0.0,\"#0d0887\"],[0.1111111111111111,\"#46039f\"],[0.2222222222222222,\"#7201a8\"],[0.3333333333333333,\"#9c179e\"],[0.4444444444444444,\"#bd3786\"],[0.5555555555555556,\"#d8576b\"],[0.6666666666666666,\"#ed7953\"],[0.7777777777777778,\"#fb9f3a\"],[0.8888888888888888,\"#fdca26\"],[1.0,\"#f0f921\"]],\"type\":\"surface\"}],\"table\":[{\"cells\":{\"fill\":{\"color\":\"#EBF0F8\"},\"line\":{\"color\":\"white\"}},\"header\":{\"fill\":{\"color\":\"#C8D4E3\"},\"line\":{\"color\":\"white\"}},\"type\":\"table\"}]},\"layout\":{\"annotationdefaults\":{\"arrowcolor\":\"#2a3f5f\",\"arrowhead\":0,\"arrowwidth\":1},\"autotypenumbers\":\"strict\",\"coloraxis\":{\"colorbar\":{\"outlinewidth\":0,\"ticks\":\"\"}},\"colorscale\":{\"diverging\":[[0,\"#8e0152\"],[0.1,\"#c51b7d\"],[0.2,\"#de77ae\"],[0.3,\"#f1b6da\"],[0.4,\"#fde0ef\"],[0.5,\"#f7f7f7\"],[0.6,\"#e6f5d0\"],[0.7,\"#b8e186\"],[0.8,\"#7fbc41\"],[0.9,\"#4d9221\"],[1,\"#276419\"]],\"sequential\":[[0.0,\"#0d0887\"],[0.1111111111111111,\"#46039f\"],[0.2222222222222222,\"#7201a8\"],[0.3333333333333333,\"#9c179e\"],[0.4444444444444444,\"#bd3786\"],[0.5555555555555556,\"#d8576b\"],[0.6666666666666666,\"#ed7953\"],[0.7777777777777778,\"#fb9f3a\"],[0.8888888888888888,\"#fdca26\"],[1.0,\"#f0f921\"]],\"sequentialminus\":[[0.0,\"#0d0887\"],[0.1111111111111111,\"#46039f\"],[0.2222222222222222,\"#7201a8\"],[0.3333333333333333,\"#9c179e\"],[0.4444444444444444,\"#bd3786\"],[0.5555555555555556,\"#d8576b\"],[0.6666666666666666,\"#ed7953\"],[0.7777777777777778,\"#fb9f3a\"],[0.8888888888888888,\"#fdca26\"],[1.0,\"#f0f921\"]]},\"colorway\":[\"#636efa\",\"#EF553B\",\"#00cc96\",\"#ab63fa\",\"#FFA15A\",\"#19d3f3\",\"#FF6692\",\"#B6E880\",\"#FF97FF\",\"#FECB52\"],\"font\":{\"color\":\"#2a3f5f\"},\"geo\":{\"bgcolor\":\"white\",\"lakecolor\":\"white\",\"landcolor\":\"#E5ECF6\",\"showlakes\":true,\"showland\":true,\"subunitcolor\":\"white\"},\"hoverlabel\":{\"align\":\"left\"},\"hovermode\":\"closest\",\"mapbox\":{\"style\":\"light\"},\"paper_bgcolor\":\"white\",\"plot_bgcolor\":\"#E5ECF6\",\"polar\":{\"angularaxis\":{\"gridcolor\":\"white\",\"linecolor\":\"white\",\"ticks\":\"\"},\"bgcolor\":\"#E5ECF6\",\"radialaxis\":{\"gridcolor\":\"white\",\"linecolor\":\"white\",\"ticks\":\"\"}},\"scene\":{\"xaxis\":{\"backgroundcolor\":\"#E5ECF6\",\"gridcolor\":\"white\",\"gridwidth\":2,\"linecolor\":\"white\",\"showbackground\":true,\"ticks\":\"\",\"zerolinecolor\":\"white\"},\"yaxis\":{\"backgroundcolor\":\"#E5ECF6\",\"gridcolor\":\"white\",\"gridwidth\":2,\"linecolor\":\"white\",\"showbackground\":true,\"ticks\":\"\",\"zerolinecolor\":\"white\"},\"zaxis\":{\"backgroundcolor\":\"#E5ECF6\",\"gridcolor\":\"white\",\"gridwidth\":2,\"linecolor\":\"white\",\"showbackground\":true,\"ticks\":\"\",\"zerolinecolor\":\"white\"}},\"shapedefaults\":{\"line\":{\"color\":\"#2a3f5f\"}},\"ternary\":{\"aaxis\":{\"gridcolor\":\"white\",\"linecolor\":\"white\",\"ticks\":\"\"},\"baxis\":{\"gridcolor\":\"white\",\"linecolor\":\"white\",\"ticks\":\"\"},\"bgcolor\":\"#E5ECF6\",\"caxis\":{\"gridcolor\":\"white\",\"linecolor\":\"white\",\"ticks\":\"\"}},\"title\":{\"x\":0.05},\"xaxis\":{\"automargin\":true,\"gridcolor\":\"white\",\"linecolor\":\"white\",\"ticks\":\"\",\"title\":{\"standoff\":15},\"zerolinecolor\":\"white\",\"zerolinewidth\":2},\"yaxis\":{\"automargin\":true,\"gridcolor\":\"white\",\"linecolor\":\"white\",\"ticks\":\"\",\"title\":{\"standoff\":15},\"zerolinecolor\":\"white\",\"zerolinewidth\":2}}}},                        {\"responsive\": true}                    ).then(function(){\n",
       "                            \n",
       "var gd = document.getElementById('f1f98859-0e28-43b8-8961-f18a615ffadb');\n",
       "var x = new MutationObserver(function (mutations, observer) {{\n",
       "        var display = window.getComputedStyle(gd).display;\n",
       "        if (!display || display === 'none') {{\n",
       "            console.log([gd, 'removed!']);\n",
       "            Plotly.purge(gd);\n",
       "            observer.disconnect();\n",
       "        }}\n",
       "}});\n",
       "\n",
       "// Listen for the removal of the full notebook cells\n",
       "var notebookContainer = gd.closest('#notebook-container');\n",
       "if (notebookContainer) {{\n",
       "    x.observe(notebookContainer, {childList: true});\n",
       "}}\n",
       "\n",
       "// Listen for the clearing of the current output cell\n",
       "var outputEl = gd.closest('.output');\n",
       "if (outputEl) {{\n",
       "    x.observe(outputEl, {childList: true});\n",
       "}}\n",
       "\n",
       "                        })                };                });            </script>        </div>"
      ]
     },
     "metadata": {},
     "output_type": "display_data"
    }
   ],
   "source": [
    "x = np.arange(1,10)\n",
    "y = np.random.randint(1,100,9)\n",
    "op = np.random.uniform(0.2,1 ,9)\n",
    "hexval = [hex(x) for x in np.random.randint(0,16777215,10)]\n",
    "hexval = ['#' + hexval[i][2:] for i in range(0,10)] #Generate Hex color list\n",
    "data = go.Scatter(\n",
    "                  x = x,\n",
    "                  y = y,\n",
    "                  mode = 'markers',\n",
    "                  marker = dict(size = y,color = hexval) # Changing color & size of bubbles \n",
    "                  )\n",
    "\n",
    "fig = go.Figure(data=data)\n",
    "fig.show()"
   ]
  },
  {
   "cell_type": "code",
   "execution_count": 11,
   "metadata": {},
   "outputs": [
    {
     "data": {
      "text/html": [
       "<div>\n",
       "<style scoped>\n",
       "    .dataframe tbody tr th:only-of-type {\n",
       "        vertical-align: middle;\n",
       "    }\n",
       "\n",
       "    .dataframe tbody tr th {\n",
       "        vertical-align: top;\n",
       "    }\n",
       "\n",
       "    .dataframe thead th {\n",
       "        text-align: right;\n",
       "    }\n",
       "</style>\n",
       "<table border=\"1\" class=\"dataframe\">\n",
       "  <thead>\n",
       "    <tr style=\"text-align: right;\">\n",
       "      <th></th>\n",
       "      <th>country</th>\n",
       "      <th>year</th>\n",
       "      <th>sex</th>\n",
       "      <th>age</th>\n",
       "      <th>suicides_no</th>\n",
       "      <th>population</th>\n",
       "      <th>suicides/100k pop</th>\n",
       "      <th>country-year</th>\n",
       "      <th>HDI for year</th>\n",
       "      <th>gdp_for_year ($)</th>\n",
       "      <th>gdp_per_capita ($)</th>\n",
       "      <th>generation</th>\n",
       "    </tr>\n",
       "  </thead>\n",
       "  <tbody>\n",
       "    <tr>\n",
       "      <th>0</th>\n",
       "      <td>Albania</td>\n",
       "      <td>1987</td>\n",
       "      <td>male</td>\n",
       "      <td>15-24 years</td>\n",
       "      <td>21</td>\n",
       "      <td>312900</td>\n",
       "      <td>6.71</td>\n",
       "      <td>Albania1987</td>\n",
       "      <td>NaN</td>\n",
       "      <td>2,156,624,900</td>\n",
       "      <td>796</td>\n",
       "      <td>Generation X</td>\n",
       "    </tr>\n",
       "    <tr>\n",
       "      <th>1</th>\n",
       "      <td>Albania</td>\n",
       "      <td>1987</td>\n",
       "      <td>male</td>\n",
       "      <td>35-54 years</td>\n",
       "      <td>16</td>\n",
       "      <td>308000</td>\n",
       "      <td>5.19</td>\n",
       "      <td>Albania1987</td>\n",
       "      <td>NaN</td>\n",
       "      <td>2,156,624,900</td>\n",
       "      <td>796</td>\n",
       "      <td>Silent</td>\n",
       "    </tr>\n",
       "    <tr>\n",
       "      <th>2</th>\n",
       "      <td>Albania</td>\n",
       "      <td>1987</td>\n",
       "      <td>female</td>\n",
       "      <td>15-24 years</td>\n",
       "      <td>14</td>\n",
       "      <td>289700</td>\n",
       "      <td>4.83</td>\n",
       "      <td>Albania1987</td>\n",
       "      <td>NaN</td>\n",
       "      <td>2,156,624,900</td>\n",
       "      <td>796</td>\n",
       "      <td>Generation X</td>\n",
       "    </tr>\n",
       "    <tr>\n",
       "      <th>3</th>\n",
       "      <td>Albania</td>\n",
       "      <td>1987</td>\n",
       "      <td>male</td>\n",
       "      <td>75+ years</td>\n",
       "      <td>1</td>\n",
       "      <td>21800</td>\n",
       "      <td>4.59</td>\n",
       "      <td>Albania1987</td>\n",
       "      <td>NaN</td>\n",
       "      <td>2,156,624,900</td>\n",
       "      <td>796</td>\n",
       "      <td>G.I. Generation</td>\n",
       "    </tr>\n",
       "    <tr>\n",
       "      <th>4</th>\n",
       "      <td>Albania</td>\n",
       "      <td>1987</td>\n",
       "      <td>male</td>\n",
       "      <td>25-34 years</td>\n",
       "      <td>9</td>\n",
       "      <td>274300</td>\n",
       "      <td>3.28</td>\n",
       "      <td>Albania1987</td>\n",
       "      <td>NaN</td>\n",
       "      <td>2,156,624,900</td>\n",
       "      <td>796</td>\n",
       "      <td>Boomers</td>\n",
       "    </tr>\n",
       "    <tr>\n",
       "      <th>5</th>\n",
       "      <td>Albania</td>\n",
       "      <td>1987</td>\n",
       "      <td>female</td>\n",
       "      <td>75+ years</td>\n",
       "      <td>1</td>\n",
       "      <td>35600</td>\n",
       "      <td>2.81</td>\n",
       "      <td>Albania1987</td>\n",
       "      <td>NaN</td>\n",
       "      <td>2,156,624,900</td>\n",
       "      <td>796</td>\n",
       "      <td>G.I. Generation</td>\n",
       "    </tr>\n",
       "    <tr>\n",
       "      <th>6</th>\n",
       "      <td>Albania</td>\n",
       "      <td>1987</td>\n",
       "      <td>female</td>\n",
       "      <td>35-54 years</td>\n",
       "      <td>6</td>\n",
       "      <td>278800</td>\n",
       "      <td>2.15</td>\n",
       "      <td>Albania1987</td>\n",
       "      <td>NaN</td>\n",
       "      <td>2,156,624,900</td>\n",
       "      <td>796</td>\n",
       "      <td>Silent</td>\n",
       "    </tr>\n",
       "    <tr>\n",
       "      <th>7</th>\n",
       "      <td>Albania</td>\n",
       "      <td>1987</td>\n",
       "      <td>female</td>\n",
       "      <td>25-34 years</td>\n",
       "      <td>4</td>\n",
       "      <td>257200</td>\n",
       "      <td>1.56</td>\n",
       "      <td>Albania1987</td>\n",
       "      <td>NaN</td>\n",
       "      <td>2,156,624,900</td>\n",
       "      <td>796</td>\n",
       "      <td>Boomers</td>\n",
       "    </tr>\n",
       "    <tr>\n",
       "      <th>8</th>\n",
       "      <td>Albania</td>\n",
       "      <td>1987</td>\n",
       "      <td>male</td>\n",
       "      <td>55-74 years</td>\n",
       "      <td>1</td>\n",
       "      <td>137500</td>\n",
       "      <td>0.73</td>\n",
       "      <td>Albania1987</td>\n",
       "      <td>NaN</td>\n",
       "      <td>2,156,624,900</td>\n",
       "      <td>796</td>\n",
       "      <td>G.I. Generation</td>\n",
       "    </tr>\n",
       "    <tr>\n",
       "      <th>9</th>\n",
       "      <td>Albania</td>\n",
       "      <td>1987</td>\n",
       "      <td>female</td>\n",
       "      <td>5-14 years</td>\n",
       "      <td>0</td>\n",
       "      <td>311000</td>\n",
       "      <td>0.00</td>\n",
       "      <td>Albania1987</td>\n",
       "      <td>NaN</td>\n",
       "      <td>2,156,624,900</td>\n",
       "      <td>796</td>\n",
       "      <td>Generation X</td>\n",
       "    </tr>\n",
       "  </tbody>\n",
       "</table>\n",
       "</div>"
      ],
      "text/plain": [
       "   country  year     sex          age  suicides_no  population  \\\n",
       "0  Albania  1987    male  15-24 years           21      312900   \n",
       "1  Albania  1987    male  35-54 years           16      308000   \n",
       "2  Albania  1987  female  15-24 years           14      289700   \n",
       "3  Albania  1987    male    75+ years            1       21800   \n",
       "4  Albania  1987    male  25-34 years            9      274300   \n",
       "5  Albania  1987  female    75+ years            1       35600   \n",
       "6  Albania  1987  female  35-54 years            6      278800   \n",
       "7  Albania  1987  female  25-34 years            4      257200   \n",
       "8  Albania  1987    male  55-74 years            1      137500   \n",
       "9  Albania  1987  female   5-14 years            0      311000   \n",
       "\n",
       "   suicides/100k pop country-year  HDI for year  gdp_for_year ($)   \\\n",
       "0               6.71  Albania1987           NaN      2,156,624,900   \n",
       "1               5.19  Albania1987           NaN      2,156,624,900   \n",
       "2               4.83  Albania1987           NaN      2,156,624,900   \n",
       "3               4.59  Albania1987           NaN      2,156,624,900   \n",
       "4               3.28  Albania1987           NaN      2,156,624,900   \n",
       "5               2.81  Albania1987           NaN      2,156,624,900   \n",
       "6               2.15  Albania1987           NaN      2,156,624,900   \n",
       "7               1.56  Albania1987           NaN      2,156,624,900   \n",
       "8               0.73  Albania1987           NaN      2,156,624,900   \n",
       "9               0.00  Albania1987           NaN      2,156,624,900   \n",
       "\n",
       "   gdp_per_capita ($)       generation  \n",
       "0                 796     Generation X  \n",
       "1                 796           Silent  \n",
       "2                 796     Generation X  \n",
       "3                 796  G.I. Generation  \n",
       "4                 796          Boomers  \n",
       "5                 796  G.I. Generation  \n",
       "6                 796           Silent  \n",
       "7                 796          Boomers  \n",
       "8                 796  G.I. Generation  \n",
       "9                 796     Generation X  "
      ]
     },
     "execution_count": 11,
     "metadata": {},
     "output_type": "execute_result"
    }
   ],
   "source": [
    "suicide = pd.read_csv(\"suicide.csv\") \n",
    "suicide.head(10)"
   ]
  },
  {
   "cell_type": "code",
   "execution_count": 12,
   "metadata": {},
   "outputs": [
    {
     "data": {
      "application/vnd.plotly.v1+json": {
       "config": {
        "plotlyServerURL": "https://plot.ly"
       },
       "data": [
        {
         "hovertemplate": "<b>%{hovertext}</b><br><br>age=15-24 years<br>population=%{x}<br>suicides_no=%{marker.size}<extra></extra>",
         "hovertext": [
          "Albania",
          "Albania",
          "Antigua and Barbuda",
          "Antigua and Barbuda",
          "Argentina",
          "Argentina",
          "Australia",
          "Australia",
          "Austria",
          "Austria",
          "Bahamas",
          "Bahamas",
          "Bahrain",
          "Bahrain",
          "Barbados",
          "Barbados",
          "Belgium",
          "Belgium",
          "Belize",
          "Belize",
          "Brazil",
          "Brazil",
          "Bulgaria",
          "Bulgaria",
          "Canada",
          "Canada",
          "Chile",
          "Chile",
          "Colombia",
          "Colombia",
          "Costa Rica",
          "Costa Rica",
          "Ecuador",
          "Ecuador",
          "Finland",
          "Finland",
          "France",
          "France",
          "Greece",
          "Greece",
          "Guatemala",
          "Guatemala",
          "Iceland",
          "Iceland",
          "Ireland",
          "Ireland",
          "Israel",
          "Israel",
          "Italy",
          "Italy",
          "Jamaica",
          "Jamaica",
          "Japan",
          "Japan",
          "Kuwait",
          "Kuwait",
          "Luxembourg",
          "Luxembourg",
          "Malta",
          "Malta",
          "Mauritius",
          "Mauritius",
          "Mexico",
          "Mexico",
          "Netherlands",
          "Netherlands",
          "New Zealand",
          "New Zealand",
          "Norway",
          "Norway",
          "Panama",
          "Panama",
          "Paraguay",
          "Paraguay",
          "Portugal",
          "Portugal",
          "Puerto Rico",
          "Puerto Rico",
          "Republic of Korea",
          "Republic of Korea",
          "Saint Lucia",
          "Saint Lucia",
          "Saint Vincent and Grenadines",
          "Saint Vincent and Grenadines",
          "Seychelles",
          "Seychelles",
          "Singapore",
          "Singapore",
          "Spain",
          "Spain",
          "Suriname",
          "Suriname",
          "Sweden",
          "Sweden",
          "Thailand",
          "Thailand",
          "Trinidad and Tobago",
          "Trinidad and Tobago",
          "Turkmenistan",
          "Turkmenistan",
          "Ukraine",
          "Ukraine",
          "United Kingdom",
          "United Kingdom",
          "United States",
          "United States",
          "Uruguay",
          "Uruguay"
         ],
         "legendgroup": "15-24 years",
         "marker": {
          "color": "#636efa",
          "size": [
           21,
           14,
           0,
           0,
           179,
           93,
           354,
           73,
           185,
           49,
           0,
           0,
           1,
           0,
           0,
           0,
           121,
           35,
           1,
           0,
           713,
           291,
           81,
           35,
           532,
           100,
           116,
           38,
           301,
           118,
           22,
           7,
           79,
           78,
           135,
           26,
           641,
           175,
           34,
           12,
           45,
           21,
           4,
           0,
           29,
           7,
           26,
           7,
           245,
           63,
           5,
           0,
           1065,
           569,
           1,
           1,
           4,
           3,
           0,
           0,
           28,
           24,
           405,
           113,
           117,
           44,
           93,
           20,
           80,
           12,
           16,
           8,
           12,
           11,
           80,
           24,
           25,
           5,
           493,
           221,
           2,
           0,
           0,
           0,
           0,
           0,
           21,
           16,
           216,
           68,
           8,
           8,
           102,
           32,
           621,
           531,
           25,
           8,
           33,
           24,
           488,
           128,
           461,
           105,
           4109,
           815,
           18,
           7
          ],
          "sizemode": "area",
          "sizeref": 1.8577777777777778,
          "symbol": "circle"
         },
         "mode": "markers",
         "name": "15-24 years",
         "orientation": "v",
         "showlegend": true,
         "type": "scatter",
         "x": [
          312900,
          289700,
          7583,
          7421,
          2460600,
          2398400,
          1383900,
          1329700,
          632704,
          611922,
          25100,
          26200,
          38600,
          49400,
          26400,
          26400,
          756300,
          725700,
          18966,
          18791,
          14119488,
          14145640,
          619800,
          595300,
          2085000,
          2019400,
          1293700,
          1265500,
          3533143,
          3468807,
          306700,
          295000,
          999500,
          1023900,
          355900,
          341900,
          4370700,
          4228600,
          754200,
          738200,
          826321,
          831270,
          21700,
          21000,
          313100,
          301200,
          386400,
          364500,
          4807700,
          4637300,
          255648,
          255517,
          9167000,
          8757000,
          159300,
          164300,
          27400,
          26500,
          24000,
          25500,
          102000,
          105000,
          8726000,
          8559000,
          1268600,
          1216200,
          295500,
          286500,
          339300,
          322900,
          243100,
          237800,
          377753,
          389735,
          833470,
          816075,
          348900,
          344700,
          4536200,
          4265300,
          14600,
          14800,
          11800,
          12015,
          7400,
          7400,
          253600,
          240100,
          3362100,
          3213800,
          40204,
          43517,
          604100,
          575200,
          5884434,
          5761312,
          131200,
          132200,
          344800,
          340700,
          3543900,
          3459900,
          4665275,
          4483586,
          19327000,
          18925000,
          250800,
          243700
         ],
         "xaxis": "x",
         "y": [
          21,
          14,
          0,
          0,
          179,
          93,
          354,
          73,
          185,
          49,
          0,
          0,
          1,
          0,
          0,
          0,
          121,
          35,
          1,
          0,
          713,
          291,
          81,
          35,
          532,
          100,
          116,
          38,
          301,
          118,
          22,
          7,
          79,
          78,
          135,
          26,
          641,
          175,
          34,
          12,
          45,
          21,
          4,
          0,
          29,
          7,
          26,
          7,
          245,
          63,
          5,
          0,
          1065,
          569,
          1,
          1,
          4,
          3,
          0,
          0,
          28,
          24,
          405,
          113,
          117,
          44,
          93,
          20,
          80,
          12,
          16,
          8,
          12,
          11,
          80,
          24,
          25,
          5,
          493,
          221,
          2,
          0,
          0,
          0,
          0,
          0,
          21,
          16,
          216,
          68,
          8,
          8,
          102,
          32,
          621,
          531,
          25,
          8,
          33,
          24,
          488,
          128,
          461,
          105,
          4109,
          815,
          18,
          7
         ],
         "yaxis": "y"
        },
        {
         "hovertemplate": "<b>%{hovertext}</b><br><br>age=35-54 years<br>population=%{x}<br>suicides_no=%{marker.size}<extra></extra>",
         "hovertext": [
          "Albania",
          "Albania",
          "Antigua and Barbuda",
          "Antigua and Barbuda",
          "Argentina",
          "Argentina",
          "Australia",
          "Australia",
          "Austria",
          "Austria",
          "Bahamas",
          "Bahamas",
          "Bahrain",
          "Bahrain",
          "Barbados",
          "Barbados",
          "Belgium",
          "Belgium",
          "Belize",
          "Belize",
          "Brazil",
          "Brazil",
          "Bulgaria",
          "Bulgaria",
          "Canada",
          "Canada",
          "Chile",
          "Chile",
          "Colombia",
          "Colombia",
          "Costa Rica",
          "Costa Rica",
          "Ecuador",
          "Ecuador",
          "Finland",
          "Finland",
          "France",
          "France",
          "Greece",
          "Greece",
          "Guatemala",
          "Guatemala",
          "Iceland",
          "Iceland",
          "Ireland",
          "Ireland",
          "Israel",
          "Israel",
          "Italy",
          "Italy",
          "Jamaica",
          "Jamaica",
          "Japan",
          "Japan",
          "Kuwait",
          "Kuwait",
          "Luxembourg",
          "Luxembourg",
          "Malta",
          "Malta",
          "Mauritius",
          "Mauritius",
          "Mexico",
          "Mexico",
          "Netherlands",
          "Netherlands",
          "New Zealand",
          "New Zealand",
          "Norway",
          "Norway",
          "Panama",
          "Panama",
          "Paraguay",
          "Paraguay",
          "Portugal",
          "Portugal",
          "Puerto Rico",
          "Puerto Rico",
          "Republic of Korea",
          "Republic of Korea",
          "Saint Lucia",
          "Saint Lucia",
          "Saint Vincent and Grenadines",
          "Saint Vincent and Grenadines",
          "Seychelles",
          "Seychelles",
          "Singapore",
          "Singapore",
          "Spain",
          "Spain",
          "Suriname",
          "Suriname",
          "Sweden",
          "Sweden",
          "Thailand",
          "Thailand",
          "Trinidad and Tobago",
          "Trinidad and Tobago",
          "Turkmenistan",
          "Turkmenistan",
          "Ukraine",
          "Ukraine",
          "United Kingdom",
          "United Kingdom",
          "United States",
          "United States",
          "Uruguay",
          "Uruguay"
         ],
         "legendgroup": "35-54 years",
         "marker": {
          "color": "#EF553B",
          "size": [
           16,
           6,
           0,
           0,
           482,
           209,
           554,
           145,
           471,
           155,
           2,
           0,
           3,
           0,
           2,
           1,
           483,
           215,
           1,
           0,
           1100,
           349,
           283,
           81,
           874,
           298,
           160,
           34,
           147,
           27,
           34,
           5,
           73,
           16,
           422,
           122,
           2855,
           1124,
           81,
           35,
           49,
           13,
           6,
           2,
           54,
           21,
           45,
           16,
           873,
           343,
           1,
           0,
           6688,
           2496,
           4,
           2,
           19,
           8,
           0,
           0,
           36,
           6,
           378,
           68,
           329,
           210,
           92,
           28,
           149,
           60,
           16,
           4,
           15,
           4,
           190,
           69,
           72,
           16,
           781,
           229,
           2,
           0,
           0,
           0,
           2,
           0,
           43,
           33,
           479,
           180,
           12,
           1,
           394,
           185,
           458,
           227,
           23,
           9,
           54,
           21,
           3093,
           770,
           1072,
           417,
           6569,
           2270,
           59,
           19
          ],
          "sizemode": "area",
          "sizeref": 1.8577777777777778,
          "symbol": "circle"
         },
         "mode": "markers",
         "name": "35-54 years",
         "orientation": "v",
         "showlegend": true,
         "type": "scatter",
         "x": [
          308000,
          278800,
          6059,
          5927,
          3409100,
          3418300,
          2031000,
          1950500,
          949485,
          947458,
          22700,
          24200,
          47700,
          27300,
          24400,
          20200,
          1239800,
          1222000,
          10860,
          10635,
          12796733,
          13229129,
          1181700,
          1197400,
          3179200,
          3176700,
          1268600,
          1338500,
          2567656,
          2755678,
          234100,
          231900,
          773400,
          775400,
          687900,
          667400,
          6973100,
          6839200,
          1253400,
          1282300,
          588914,
          625628,
          27100,
          26200,
          380400,
          366500,
          427100,
          441800,
          7292700,
          7483400,
          187389,
          179252,
          18218000,
          18301000,
          257900,
          134100,
          51000,
          48600,
          46400,
          43900,
          98200,
          100300,
          6187000,
          6389000,
          1950400,
          1860400,
          384800,
          381900,
          511400,
          489000,
          198200,
          189800,
          313985,
          301417,
          1126680,
          1230247,
          348000,
          398300,
          4617500,
          4388200,
          8700,
          10000,
          7471,
          7072,
          4600,
          4700,
          318100,
          311000,
          4474500,
          4549700,
          33400,
          33647,
          1124000,
          1085200,
          5107474,
          5381053,
          108600,
          111700,
          242600,
          247500,
          6206800,
          6881800,
          6997144,
          6986157,
          28222000,
          29359000,
          341200,
          352300
         ],
         "xaxis": "x",
         "y": [
          16,
          6,
          0,
          0,
          482,
          209,
          554,
          145,
          471,
          155,
          2,
          0,
          3,
          0,
          2,
          1,
          483,
          215,
          1,
          0,
          1100,
          349,
          283,
          81,
          874,
          298,
          160,
          34,
          147,
          27,
          34,
          5,
          73,
          16,
          422,
          122,
          2855,
          1124,
          81,
          35,
          49,
          13,
          6,
          2,
          54,
          21,
          45,
          16,
          873,
          343,
          1,
          0,
          6688,
          2496,
          4,
          2,
          19,
          8,
          0,
          0,
          36,
          6,
          378,
          68,
          329,
          210,
          92,
          28,
          149,
          60,
          16,
          4,
          15,
          4,
          190,
          69,
          72,
          16,
          781,
          229,
          2,
          0,
          0,
          0,
          2,
          0,
          43,
          33,
          479,
          180,
          12,
          1,
          394,
          185,
          458,
          227,
          23,
          9,
          54,
          21,
          3093,
          770,
          1072,
          417,
          6569,
          2270,
          59,
          19
         ],
         "yaxis": "y"
        },
        {
         "hovertemplate": "<b>%{hovertext}</b><br><br>age=75+ years<br>population=%{x}<br>suicides_no=%{marker.size}<extra></extra>",
         "hovertext": [
          "Albania",
          "Albania",
          "Antigua and Barbuda",
          "Antigua and Barbuda",
          "Argentina",
          "Argentina",
          "Australia",
          "Australia",
          "Austria",
          "Austria",
          "Bahamas",
          "Bahamas",
          "Bahrain",
          "Bahrain",
          "Barbados",
          "Barbados",
          "Belgium",
          "Belgium",
          "Belize",
          "Belize",
          "Brazil",
          "Brazil",
          "Bulgaria",
          "Bulgaria",
          "Canada",
          "Canada",
          "Chile",
          "Chile",
          "Colombia",
          "Colombia",
          "Costa Rica",
          "Costa Rica",
          "Ecuador",
          "Ecuador",
          "Finland",
          "Finland",
          "France",
          "France",
          "Greece",
          "Greece",
          "Guatemala",
          "Guatemala",
          "Iceland",
          "Iceland",
          "Ireland",
          "Ireland",
          "Israel",
          "Israel",
          "Italy",
          "Italy",
          "Jamaica",
          "Jamaica",
          "Japan",
          "Japan",
          "Kuwait",
          "Kuwait",
          "Luxembourg",
          "Luxembourg",
          "Malta",
          "Malta",
          "Mauritius",
          "Mauritius",
          "Mexico",
          "Mexico",
          "Netherlands",
          "Netherlands",
          "New Zealand",
          "New Zealand",
          "Norway",
          "Norway",
          "Panama",
          "Panama",
          "Paraguay",
          "Paraguay",
          "Portugal",
          "Portugal",
          "Puerto Rico",
          "Puerto Rico",
          "Republic of Korea",
          "Republic of Korea",
          "Saint Lucia",
          "Saint Lucia",
          "Saint Vincent and Grenadines",
          "Saint Vincent and Grenadines",
          "Seychelles",
          "Seychelles",
          "Singapore",
          "Singapore",
          "Spain",
          "Spain",
          "Suriname",
          "Suriname",
          "Sweden",
          "Sweden",
          "Thailand",
          "Thailand",
          "Trinidad and Tobago",
          "Trinidad and Tobago",
          "Turkmenistan",
          "Turkmenistan",
          "Ukraine",
          "Ukraine",
          "United Kingdom",
          "United Kingdom",
          "United States",
          "United States",
          "Uruguay",
          "Uruguay"
         ],
         "legendgroup": "75+ years",
         "marker": {
          "color": "#00cc96",
          "size": [
           1,
           1,
           0,
           0,
           200,
           57,
           111,
           38,
           208,
           126,
           0,
           0,
           0,
           0,
           0,
           0,
           222,
           113,
           0,
           0,
           149,
           28,
           228,
           101,
           117,
           47,
           19,
           0,
           14,
           2,
           5,
           0,
           6,
           1,
           57,
           7,
           1491,
           730,
           54,
           14,
           5,
           2,
           2,
           0,
           5,
           6,
           32,
           18,
           563,
           248,
           0,
           0,
           1446,
           1718,
           0,
           0,
           3,
           3,
           1,
           0,
           2,
           0,
           54,
           4,
           111,
           66,
           28,
           9,
           35,
           6,
           3,
           0,
           3,
           1,
           121,
           44,
           23,
           4,
           44,
           30,
           0,
           0,
           0,
           0,
           0,
           0,
           17,
           16,
           335,
           127,
           2,
           1,
           124,
           73,
           36,
           20,
           4,
           0,
           5,
           8,
           506,
           486,
           248,
           174,
           2532,
           504,
           36,
           7
          ],
          "sizemode": "area",
          "sizeref": 1.8577777777777778,
          "symbol": "circle"
         },
         "mode": "markers",
         "name": "75+ years",
         "orientation": "v",
         "showlegend": true,
         "type": "scatter",
         "x": [
          21800,
          35600,
          1081,
          538,
          369800,
          547000,
          244800,
          421200,
          161591,
          352121,
          2900,
          1600,
          1500,
          1600,
          7000,
          4000,
          214800,
          422000,
          1535,
          1261,
          655621,
          1018461,
          172900,
          238800,
          408700,
          679400,
          93700,
          151300,
          183612,
          257621,
          14000,
          19300,
          52900,
          65600,
          80200,
          182100,
          1314800,
          2524500,
          243200,
          326300,
          38144,
          44390,
          4600,
          6500,
          58500,
          89800,
          73000,
          83500,
          1195000,
          2115000,
          41941,
          32142,
          1982000,
          3230000,
          3700,
          3300,
          7200,
          14400,
          5300,
          8000,
          9000,
          4800,
          456000,
          599100,
          265500,
          499000,
          51100,
          86700,
          105000,
          178600,
          15600,
          16600,
          21474,
          29224,
          174464,
          308299,
          50100,
          59700,
          163700,
          389400,
          1600,
          1000,
          1500,
          948,
          1200,
          500,
          18300,
          27700,
          736300,
          1261300,
          2919,
          3776,
          247100,
          397900,
          319010,
          463349,
          9300,
          12300,
          16500,
          31400,
          654800,
          1816100,
          1272201,
          2508896,
          4295000,
          7872000,
          47700,
          74100
         ],
         "xaxis": "x",
         "y": [
          1,
          1,
          0,
          0,
          200,
          57,
          111,
          38,
          208,
          126,
          0,
          0,
          0,
          0,
          0,
          0,
          222,
          113,
          0,
          0,
          149,
          28,
          228,
          101,
          117,
          47,
          19,
          0,
          14,
          2,
          5,
          0,
          6,
          1,
          57,
          7,
          1491,
          730,
          54,
          14,
          5,
          2,
          2,
          0,
          5,
          6,
          32,
          18,
          563,
          248,
          0,
          0,
          1446,
          1718,
          0,
          0,
          3,
          3,
          1,
          0,
          2,
          0,
          54,
          4,
          111,
          66,
          28,
          9,
          35,
          6,
          3,
          0,
          3,
          1,
          121,
          44,
          23,
          4,
          44,
          30,
          0,
          0,
          0,
          0,
          0,
          0,
          17,
          16,
          335,
          127,
          2,
          1,
          124,
          73,
          36,
          20,
          4,
          0,
          5,
          8,
          506,
          486,
          248,
          174,
          2532,
          504,
          36,
          7
         ],
         "yaxis": "y"
        },
        {
         "hovertemplate": "<b>%{hovertext}</b><br><br>age=25-34 years<br>population=%{x}<br>suicides_no=%{marker.size}<extra></extra>",
         "hovertext": [
          "Albania",
          "Albania",
          "Antigua and Barbuda",
          "Antigua and Barbuda",
          "Argentina",
          "Argentina",
          "Australia",
          "Australia",
          "Austria",
          "Austria",
          "Bahamas",
          "Bahamas",
          "Bahrain",
          "Bahrain",
          "Barbados",
          "Barbados",
          "Belgium",
          "Belgium",
          "Belize",
          "Belize",
          "Brazil",
          "Brazil",
          "Bulgaria",
          "Bulgaria",
          "Canada",
          "Canada",
          "Chile",
          "Chile",
          "Colombia",
          "Colombia",
          "Costa Rica",
          "Costa Rica",
          "Ecuador",
          "Ecuador",
          "Finland",
          "Finland",
          "France",
          "France",
          "Greece",
          "Greece",
          "Guatemala",
          "Guatemala",
          "Iceland",
          "Iceland",
          "Ireland",
          "Ireland",
          "Israel",
          "Israel",
          "Italy",
          "Italy",
          "Jamaica",
          "Jamaica",
          "Japan",
          "Japan",
          "Kuwait",
          "Kuwait",
          "Luxembourg",
          "Luxembourg",
          "Malta",
          "Malta",
          "Mauritius",
          "Mauritius",
          "Mexico",
          "Mexico",
          "Netherlands",
          "Netherlands",
          "New Zealand",
          "New Zealand",
          "Norway",
          "Norway",
          "Panama",
          "Panama",
          "Paraguay",
          "Paraguay",
          "Portugal",
          "Portugal",
          "Puerto Rico",
          "Puerto Rico",
          "Republic of Korea",
          "Republic of Korea",
          "Saint Lucia",
          "Saint Lucia",
          "Saint Vincent and Grenadines",
          "Saint Vincent and Grenadines",
          "Seychelles",
          "Seychelles",
          "Singapore",
          "Singapore",
          "Spain",
          "Spain",
          "Suriname",
          "Suriname",
          "Sweden",
          "Sweden",
          "Thailand",
          "Thailand",
          "Trinidad and Tobago",
          "Trinidad and Tobago",
          "Turkmenistan",
          "Turkmenistan",
          "Ukraine",
          "Ukraine",
          "United Kingdom",
          "United Kingdom",
          "United States",
          "United States",
          "Uruguay",
          "Uruguay"
         ],
         "legendgroup": "25-34 years",
         "marker": {
          "color": "#ab63fa",
          "size": [
           9,
           4,
           0,
           0,
           192,
           89,
           374,
           70,
           247,
           62,
           1,
           0,
           3,
           1,
           1,
           0,
           273,
           100,
           2,
           0,
           865,
           266,
           110,
           28,
           709,
           178,
           147,
           29,
           192,
           29,
           29,
           8,
           74,
           26,
           222,
           44,
           1369,
           414,
           46,
           9,
           63,
           16,
           4,
           2,
           39,
           8,
           33,
           13,
           425,
           99,
           1,
           1,
           1904,
           782,
           6,
           1,
           10,
           3,
           0,
           0,
           21,
           10,
           382,
           64,
           189,
           111,
           79,
           24,
           94,
           29,
           18,
           5,
           6,
           2,
           90,
           33,
           46,
           4,
           675,
           254,
           3,
           1,
           0,
           0,
           1,
           0,
           48,
           36,
           277,
           90,
           13,
           1,
           174,
           57,
           454,
           265,
           30,
           7,
           50,
           12,
           1383,
           176,
           618,
           168,
           5370,
           1285,
           15,
           7
          ],
          "sizemode": "area",
          "sizeref": 1.8577777777777778,
          "symbol": "circle"
         },
         "mode": "markers",
         "name": "25-34 years",
         "orientation": "v",
         "showlegend": true,
         "type": "scatter",
         "x": [
          274300,
          257200,
          6101,
          5893,
          2276200,
          2226200,
          1345900,
          1327700,
          581153,
          573764,
          20900,
          21100,
          63900,
          27500,
          22200,
          22200,
          789200,
          759300,
          11815,
          11413,
          11266240,
          11393405,
          634200,
          625200,
          2290800,
          2317300,
          1050700,
          1044400,
          2615813,
          2651735,
          235100,
          229800,
          718200,
          708700,
          397800,
          379700,
          4211300,
          4214400,
          684500,
          692400,
          531366,
          567102,
          21100,
          19900,
          251100,
          250700,
          323100,
          323100,
          4142000,
          4091900,
          170248,
          177282,
          8031000,
          7874000,
          249500,
          150100,
          31100,
          31200,
          27700,
          28500,
          91300,
          92900,
          5659000,
          5728000,
          1233700,
          1186400,
          262900,
          269900,
          321100,
          305900,
          175200,
          166900,
          286352,
          275955,
          719493,
          731428,
          244900,
          275800,
          3973800,
          3813900,
          8900,
          10200,
          7722,
          7324,
          5800,
          4800,
          293500,
          277400,
          2833500,
          2801900,
          30977,
          29656,
          580200,
          554200,
          4380094,
          4549086,
          102500,
          102500,
          265600,
          274700,
          3890300,
          3953000,
          4130709,
          4073306,
          21670000,
          21645000,
          207100,
          206100
         ],
         "xaxis": "x",
         "y": [
          9,
          4,
          0,
          0,
          192,
          89,
          374,
          70,
          247,
          62,
          1,
          0,
          3,
          1,
          1,
          0,
          273,
          100,
          2,
          0,
          865,
          266,
          110,
          28,
          709,
          178,
          147,
          29,
          192,
          29,
          29,
          8,
          74,
          26,
          222,
          44,
          1369,
          414,
          46,
          9,
          63,
          16,
          4,
          2,
          39,
          8,
          33,
          13,
          425,
          99,
          1,
          1,
          1904,
          782,
          6,
          1,
          10,
          3,
          0,
          0,
          21,
          10,
          382,
          64,
          189,
          111,
          79,
          24,
          94,
          29,
          18,
          5,
          6,
          2,
          90,
          33,
          46,
          4,
          675,
          254,
          3,
          1,
          0,
          0,
          1,
          0,
          48,
          36,
          277,
          90,
          13,
          1,
          174,
          57,
          454,
          265,
          30,
          7,
          50,
          12,
          1383,
          176,
          618,
          168,
          5370,
          1285,
          15,
          7
         ],
         "yaxis": "y"
        },
        {
         "hovertemplate": "<b>%{hovertext}</b><br><br>age=55-74 years<br>population=%{x}<br>suicides_no=%{marker.size}<extra></extra>",
         "hovertext": [
          "Albania",
          "Albania",
          "Antigua and Barbuda",
          "Antigua and Barbuda",
          "Argentina",
          "Argentina",
          "Australia",
          "Australia",
          "Austria",
          "Austria",
          "Bahamas",
          "Bahamas",
          "Bahrain",
          "Bahrain",
          "Barbados",
          "Barbados",
          "Belgium",
          "Belgium",
          "Belize",
          "Belize",
          "Brazil",
          "Brazil",
          "Bulgaria",
          "Bulgaria",
          "Canada",
          "Canada",
          "Chile",
          "Chile",
          "Colombia",
          "Colombia",
          "Costa Rica",
          "Costa Rica",
          "Ecuador",
          "Ecuador",
          "Finland",
          "Finland",
          "France",
          "France",
          "Greece",
          "Greece",
          "Guatemala",
          "Guatemala",
          "Iceland",
          "Iceland",
          "Ireland",
          "Ireland",
          "Israel",
          "Israel",
          "Italy",
          "Italy",
          "Jamaica",
          "Jamaica",
          "Japan",
          "Japan",
          "Kuwait",
          "Kuwait",
          "Luxembourg",
          "Luxembourg",
          "Malta",
          "Malta",
          "Mauritius",
          "Mauritius",
          "Mexico",
          "Mexico",
          "Netherlands",
          "Netherlands",
          "New Zealand",
          "New Zealand",
          "Norway",
          "Norway",
          "Panama",
          "Panama",
          "Paraguay",
          "Paraguay",
          "Portugal",
          "Portugal",
          "Puerto Rico",
          "Puerto Rico",
          "Republic of Korea",
          "Republic of Korea",
          "Saint Lucia",
          "Saint Lucia",
          "Saint Vincent and Grenadines",
          "Saint Vincent and Grenadines",
          "Seychelles",
          "Seychelles",
          "Singapore",
          "Singapore",
          "Spain",
          "Spain",
          "Suriname",
          "Suriname",
          "Sweden",
          "Sweden",
          "Thailand",
          "Thailand",
          "Trinidad and Tobago",
          "Trinidad and Tobago",
          "Turkmenistan",
          "Turkmenistan",
          "Ukraine",
          "Ukraine",
          "United Kingdom",
          "United Kingdom",
          "United States",
          "United States",
          "Uruguay",
          "Uruguay"
         ],
         "legendgroup": "55-74 years",
         "marker": {
          "color": "#FFA15A",
          "size": [
           1,
           0,
           0,
           0,
           532,
           224,
           328,
           110,
           332,
           230,
           0,
           0,
           1,
           0,
           1,
           0,
           433,
           232,
           0,
           0,
           647,
           197,
           346,
           177,
           535,
           171,
           120,
           23,
           86,
           10,
           7,
           0,
           20,
           5,
           225,
           99,
           2198,
           1122,
           78,
           43,
           16,
           3,
           10,
           5,
           58,
           17,
           57,
           24,
           1146,
           496,
           4,
           0,
           3988,
           2938,
           1,
           0,
           12,
           9,
           0,
           0,
           6,
           3,
           161,
           20,
           246,
           189,
           64,
           18,
           125,
           54,
           9,
           3,
           4,
           1,
           225,
           79,
           67,
           9,
           380,
           152,
           3,
           0,
           0,
           0,
           0,
           0,
           42,
           29,
           693,
           320,
           5,
           0,
           281,
           117,
           239,
           96,
           9,
           2,
           28,
           28,
           1934,
           1024,
           857,
           464,
           5482,
           1596,
           63,
           25
          ],
          "sizemode": "area",
          "sizeref": 1.8577777777777778,
          "symbol": "circle"
         },
         "mode": "markers",
         "name": "55-74 years",
         "orientation": "v",
         "showlegend": true,
         "type": "scatter",
         "x": [
          137500,
          144600,
          3738,
          2798,
          2034500,
          2347300,
          1227000,
          1318600,
          591322,
          826662,
          12100,
          10200,
          11800,
          8900,
          13000,
          19300,
          893500,
          1040900,
          5789,
          5866,
          5163568,
          5891414,
          849500,
          946200,
          1896900,
          2148300,
          563900,
          674400,
          1044703,
          1210423,
          97700,
          104200,
          318600,
          338600,
          380700,
          506400,
          4576100,
          5333200,
          917400,
          1027900,
          286727,
          293688,
          18100,
          17000,
          247700,
          272000,
          248000,
          293000,
          5097300,
          6102400,
          106214,
          116815,
          9718000,
          11656000,
          24300,
          38400,
          39000,
          31500,
          28600,
          24000,
          45800,
          49500,
          2409000,
          2727000,
          1134600,
          1318400,
          238500,
          260500,
          379500,
          426400,
          90700,
          86600,
          134656,
          145386,
          827812,
          1003976,
          200800,
          228600,
          1607800,
          2113500,
          4900,
          6300,
          4835,
          4058,
          3600,
          2700,
          128900,
          132300,
          3244700,
          3808600,
          15788,
          16552,
          819700,
          908000,
          2100709,
          2269321,
          52700,
          57900,
          106800,
          148000,
          3652600,
          6070300,
          5141737,
          5919684,
          18190000,
          21497000,
          239600,
          274100
         ],
         "xaxis": "x",
         "y": [
          1,
          0,
          0,
          0,
          532,
          224,
          328,
          110,
          332,
          230,
          0,
          0,
          1,
          0,
          1,
          0,
          433,
          232,
          0,
          0,
          647,
          197,
          346,
          177,
          535,
          171,
          120,
          23,
          86,
          10,
          7,
          0,
          20,
          5,
          225,
          99,
          2198,
          1122,
          78,
          43,
          16,
          3,
          10,
          5,
          58,
          17,
          57,
          24,
          1146,
          496,
          4,
          0,
          3988,
          2938,
          1,
          0,
          12,
          9,
          0,
          0,
          6,
          3,
          161,
          20,
          246,
          189,
          64,
          18,
          125,
          54,
          9,
          3,
          4,
          1,
          225,
          79,
          67,
          9,
          380,
          152,
          3,
          0,
          0,
          0,
          0,
          0,
          42,
          29,
          693,
          320,
          5,
          0,
          281,
          117,
          239,
          96,
          9,
          2,
          28,
          28,
          1934,
          1024,
          857,
          464,
          5482,
          1596,
          63,
          25
         ],
         "yaxis": "y"
        },
        {
         "hovertemplate": "<b>%{hovertext}</b><br><br>age=5-14 years<br>population=%{x}<br>suicides_no=%{marker.size}<extra></extra>",
         "hovertext": [
          "Albania",
          "Albania",
          "Antigua and Barbuda",
          "Antigua and Barbuda",
          "Argentina",
          "Argentina",
          "Australia",
          "Australia",
          "Austria",
          "Austria",
          "Bahamas",
          "Bahamas",
          "Bahrain",
          "Bahrain",
          "Barbados",
          "Barbados",
          "Belgium",
          "Belgium",
          "Belize",
          "Belize",
          "Brazil",
          "Brazil",
          "Bulgaria",
          "Bulgaria",
          "Canada",
          "Canada",
          "Chile",
          "Chile",
          "Colombia",
          "Colombia",
          "Costa Rica",
          "Costa Rica",
          "Ecuador",
          "Ecuador",
          "Finland",
          "Finland",
          "France",
          "France",
          "Greece",
          "Greece",
          "Guatemala",
          "Guatemala",
          "Iceland",
          "Iceland",
          "Ireland",
          "Ireland",
          "Israel",
          "Israel",
          "Italy",
          "Italy",
          "Jamaica",
          "Jamaica",
          "Japan",
          "Japan",
          "Kuwait",
          "Kuwait",
          "Luxembourg",
          "Luxembourg",
          "Malta",
          "Malta",
          "Mauritius",
          "Mauritius",
          "Mexico",
          "Mexico",
          "Netherlands",
          "Netherlands",
          "New Zealand",
          "New Zealand",
          "Norway",
          "Norway",
          "Panama",
          "Panama",
          "Paraguay",
          "Paraguay",
          "Portugal",
          "Portugal",
          "Puerto Rico",
          "Puerto Rico",
          "Republic of Korea",
          "Republic of Korea",
          "Saint Lucia",
          "Saint Lucia",
          "Saint Vincent and Grenadines",
          "Saint Vincent and Grenadines",
          "Seychelles",
          "Seychelles",
          "Singapore",
          "Singapore",
          "Spain",
          "Spain",
          "Suriname",
          "Suriname",
          "Sweden",
          "Sweden",
          "Thailand",
          "Thailand",
          "Trinidad and Tobago",
          "Trinidad and Tobago",
          "Turkmenistan",
          "Turkmenistan",
          "Ukraine",
          "Ukraine",
          "United Kingdom",
          "United Kingdom",
          "United States",
          "United States",
          "Uruguay",
          "Uruguay"
         ],
         "legendgroup": "5-14 years",
         "marker": {
          "color": "#19d3f3",
          "size": [
           0,
           0,
           0,
           0,
           15,
           14,
           6,
           1,
           2,
           2,
           0,
           0,
           0,
           0,
           1,
           0,
           11,
           0,
           0,
           0,
           35,
           32,
           15,
           7,
           25,
           5,
           6,
           1,
           16,
           9,
           2,
           0,
           8,
           4,
           4,
           0,
           33,
           9,
           3,
           1,
           6,
           2,
           1,
           0,
           1,
           0,
           0,
           0,
           11,
           4,
           1,
           0,
           52,
           17,
           0,
           0,
           0,
           0,
           0,
           0,
           4,
           0,
           36,
           16,
           3,
           1,
           7,
           1,
           3,
           2,
           2,
           1,
           3,
           0,
           3,
           2,
           1,
           0,
           27,
           15,
           0,
           0,
           0,
           0,
           0,
           0,
           0,
           0,
           17,
           2,
           1,
           0,
           2,
           0,
           47,
           41,
           1,
           1,
           5,
           4,
           53,
           9,
           7,
           3,
           199,
           52,
           1,
           1
          ],
          "sizemode": "area",
          "sizeref": 1.8577777777777778,
          "symbol": "circle"
         },
         "mode": "markers",
         "name": "5-14 years",
         "orientation": "v",
         "showlegend": true,
         "type": "scatter",
         "x": [
          311000,
          338200,
          6623,
          6499,
          3101300,
          3010700,
          1264900,
          1201300,
          440140,
          461684,
          26400,
          27500,
          42500,
          43200,
          24300,
          24300,
          628100,
          599700,
          23345,
          23793,
          16751806,
          16390962,
          674100,
          640300,
          1843600,
          1752800,
          1255100,
          1209200,
          3924075,
          3796166,
          310000,
          322900,
          1309500,
          1272500,
          324400,
          309700,
          3752400,
          3562500,
          753600,
          714000,
          1256693,
          1218497,
          21800,
          20600,
          340100,
          358600,
          445200,
          469400,
          3826100,
          3633300,
          270343,
          277969,
          8959000,
          8523000,
          207600,
          213800,
          20200,
          21300,
          26900,
          28600,
          103900,
          108600,
          10423000,
          10086000,
          942700,
          901100,
          269800,
          259000,
          281600,
          268800,
          285900,
          274400,
          485452,
          500586,
          819857,
          787188,
          351000,
          338600,
          4259100,
          3986500,
          15000,
          15300,
          13490,
          13801,
          7700,
          7900,
          195600,
          211300,
          3161900,
          2977400,
          39799,
          41778,
          518700,
          494700,
          6175269,
          5985299,
          125100,
          132300,
          423500,
          417000,
          3683900,
          3560800,
          3625848,
          3435125,
          17486000,
          16660000,
          267000,
          275200
         ],
         "xaxis": "x",
         "y": [
          0,
          0,
          0,
          0,
          15,
          14,
          6,
          1,
          2,
          2,
          0,
          0,
          0,
          0,
          1,
          0,
          11,
          0,
          0,
          0,
          35,
          32,
          15,
          7,
          25,
          5,
          6,
          1,
          16,
          9,
          2,
          0,
          8,
          4,
          4,
          0,
          33,
          9,
          3,
          1,
          6,
          2,
          1,
          0,
          1,
          0,
          0,
          0,
          11,
          4,
          1,
          0,
          52,
          17,
          0,
          0,
          0,
          0,
          0,
          0,
          4,
          0,
          36,
          16,
          3,
          1,
          7,
          1,
          3,
          2,
          2,
          1,
          3,
          0,
          3,
          2,
          1,
          0,
          27,
          15,
          0,
          0,
          0,
          0,
          0,
          0,
          0,
          0,
          17,
          2,
          1,
          0,
          2,
          0,
          47,
          41,
          1,
          1,
          5,
          4,
          53,
          9,
          7,
          3,
          199,
          52,
          1,
          1
         ],
         "yaxis": "y"
        }
       ],
       "layout": {
        "legend": {
         "itemsizing": "constant",
         "title": {
          "text": "age"
         },
         "tracegroupgap": 0
        },
        "margin": {
         "t": 60
        },
        "template": {
         "data": {
          "bar": [
           {
            "error_x": {
             "color": "#2a3f5f"
            },
            "error_y": {
             "color": "#2a3f5f"
            },
            "marker": {
             "line": {
              "color": "#E5ECF6",
              "width": 0.5
             },
             "pattern": {
              "fillmode": "overlay",
              "size": 10,
              "solidity": 0.2
             }
            },
            "type": "bar"
           }
          ],
          "barpolar": [
           {
            "marker": {
             "line": {
              "color": "#E5ECF6",
              "width": 0.5
             },
             "pattern": {
              "fillmode": "overlay",
              "size": 10,
              "solidity": 0.2
             }
            },
            "type": "barpolar"
           }
          ],
          "carpet": [
           {
            "aaxis": {
             "endlinecolor": "#2a3f5f",
             "gridcolor": "white",
             "linecolor": "white",
             "minorgridcolor": "white",
             "startlinecolor": "#2a3f5f"
            },
            "baxis": {
             "endlinecolor": "#2a3f5f",
             "gridcolor": "white",
             "linecolor": "white",
             "minorgridcolor": "white",
             "startlinecolor": "#2a3f5f"
            },
            "type": "carpet"
           }
          ],
          "choropleth": [
           {
            "colorbar": {
             "outlinewidth": 0,
             "ticks": ""
            },
            "type": "choropleth"
           }
          ],
          "contour": [
           {
            "colorbar": {
             "outlinewidth": 0,
             "ticks": ""
            },
            "colorscale": [
             [
              0,
              "#0d0887"
             ],
             [
              0.1111111111111111,
              "#46039f"
             ],
             [
              0.2222222222222222,
              "#7201a8"
             ],
             [
              0.3333333333333333,
              "#9c179e"
             ],
             [
              0.4444444444444444,
              "#bd3786"
             ],
             [
              0.5555555555555556,
              "#d8576b"
             ],
             [
              0.6666666666666666,
              "#ed7953"
             ],
             [
              0.7777777777777778,
              "#fb9f3a"
             ],
             [
              0.8888888888888888,
              "#fdca26"
             ],
             [
              1,
              "#f0f921"
             ]
            ],
            "type": "contour"
           }
          ],
          "contourcarpet": [
           {
            "colorbar": {
             "outlinewidth": 0,
             "ticks": ""
            },
            "type": "contourcarpet"
           }
          ],
          "heatmap": [
           {
            "colorbar": {
             "outlinewidth": 0,
             "ticks": ""
            },
            "colorscale": [
             [
              0,
              "#0d0887"
             ],
             [
              0.1111111111111111,
              "#46039f"
             ],
             [
              0.2222222222222222,
              "#7201a8"
             ],
             [
              0.3333333333333333,
              "#9c179e"
             ],
             [
              0.4444444444444444,
              "#bd3786"
             ],
             [
              0.5555555555555556,
              "#d8576b"
             ],
             [
              0.6666666666666666,
              "#ed7953"
             ],
             [
              0.7777777777777778,
              "#fb9f3a"
             ],
             [
              0.8888888888888888,
              "#fdca26"
             ],
             [
              1,
              "#f0f921"
             ]
            ],
            "type": "heatmap"
           }
          ],
          "heatmapgl": [
           {
            "colorbar": {
             "outlinewidth": 0,
             "ticks": ""
            },
            "colorscale": [
             [
              0,
              "#0d0887"
             ],
             [
              0.1111111111111111,
              "#46039f"
             ],
             [
              0.2222222222222222,
              "#7201a8"
             ],
             [
              0.3333333333333333,
              "#9c179e"
             ],
             [
              0.4444444444444444,
              "#bd3786"
             ],
             [
              0.5555555555555556,
              "#d8576b"
             ],
             [
              0.6666666666666666,
              "#ed7953"
             ],
             [
              0.7777777777777778,
              "#fb9f3a"
             ],
             [
              0.8888888888888888,
              "#fdca26"
             ],
             [
              1,
              "#f0f921"
             ]
            ],
            "type": "heatmapgl"
           }
          ],
          "histogram": [
           {
            "marker": {
             "pattern": {
              "fillmode": "overlay",
              "size": 10,
              "solidity": 0.2
             }
            },
            "type": "histogram"
           }
          ],
          "histogram2d": [
           {
            "colorbar": {
             "outlinewidth": 0,
             "ticks": ""
            },
            "colorscale": [
             [
              0,
              "#0d0887"
             ],
             [
              0.1111111111111111,
              "#46039f"
             ],
             [
              0.2222222222222222,
              "#7201a8"
             ],
             [
              0.3333333333333333,
              "#9c179e"
             ],
             [
              0.4444444444444444,
              "#bd3786"
             ],
             [
              0.5555555555555556,
              "#d8576b"
             ],
             [
              0.6666666666666666,
              "#ed7953"
             ],
             [
              0.7777777777777778,
              "#fb9f3a"
             ],
             [
              0.8888888888888888,
              "#fdca26"
             ],
             [
              1,
              "#f0f921"
             ]
            ],
            "type": "histogram2d"
           }
          ],
          "histogram2dcontour": [
           {
            "colorbar": {
             "outlinewidth": 0,
             "ticks": ""
            },
            "colorscale": [
             [
              0,
              "#0d0887"
             ],
             [
              0.1111111111111111,
              "#46039f"
             ],
             [
              0.2222222222222222,
              "#7201a8"
             ],
             [
              0.3333333333333333,
              "#9c179e"
             ],
             [
              0.4444444444444444,
              "#bd3786"
             ],
             [
              0.5555555555555556,
              "#d8576b"
             ],
             [
              0.6666666666666666,
              "#ed7953"
             ],
             [
              0.7777777777777778,
              "#fb9f3a"
             ],
             [
              0.8888888888888888,
              "#fdca26"
             ],
             [
              1,
              "#f0f921"
             ]
            ],
            "type": "histogram2dcontour"
           }
          ],
          "mesh3d": [
           {
            "colorbar": {
             "outlinewidth": 0,
             "ticks": ""
            },
            "type": "mesh3d"
           }
          ],
          "parcoords": [
           {
            "line": {
             "colorbar": {
              "outlinewidth": 0,
              "ticks": ""
             }
            },
            "type": "parcoords"
           }
          ],
          "pie": [
           {
            "automargin": true,
            "type": "pie"
           }
          ],
          "scatter": [
           {
            "marker": {
             "colorbar": {
              "outlinewidth": 0,
              "ticks": ""
             }
            },
            "type": "scatter"
           }
          ],
          "scatter3d": [
           {
            "line": {
             "colorbar": {
              "outlinewidth": 0,
              "ticks": ""
             }
            },
            "marker": {
             "colorbar": {
              "outlinewidth": 0,
              "ticks": ""
             }
            },
            "type": "scatter3d"
           }
          ],
          "scattercarpet": [
           {
            "marker": {
             "colorbar": {
              "outlinewidth": 0,
              "ticks": ""
             }
            },
            "type": "scattercarpet"
           }
          ],
          "scattergeo": [
           {
            "marker": {
             "colorbar": {
              "outlinewidth": 0,
              "ticks": ""
             }
            },
            "type": "scattergeo"
           }
          ],
          "scattergl": [
           {
            "marker": {
             "colorbar": {
              "outlinewidth": 0,
              "ticks": ""
             }
            },
            "type": "scattergl"
           }
          ],
          "scattermapbox": [
           {
            "marker": {
             "colorbar": {
              "outlinewidth": 0,
              "ticks": ""
             }
            },
            "type": "scattermapbox"
           }
          ],
          "scatterpolar": [
           {
            "marker": {
             "colorbar": {
              "outlinewidth": 0,
              "ticks": ""
             }
            },
            "type": "scatterpolar"
           }
          ],
          "scatterpolargl": [
           {
            "marker": {
             "colorbar": {
              "outlinewidth": 0,
              "ticks": ""
             }
            },
            "type": "scatterpolargl"
           }
          ],
          "scatterternary": [
           {
            "marker": {
             "colorbar": {
              "outlinewidth": 0,
              "ticks": ""
             }
            },
            "type": "scatterternary"
           }
          ],
          "surface": [
           {
            "colorbar": {
             "outlinewidth": 0,
             "ticks": ""
            },
            "colorscale": [
             [
              0,
              "#0d0887"
             ],
             [
              0.1111111111111111,
              "#46039f"
             ],
             [
              0.2222222222222222,
              "#7201a8"
             ],
             [
              0.3333333333333333,
              "#9c179e"
             ],
             [
              0.4444444444444444,
              "#bd3786"
             ],
             [
              0.5555555555555556,
              "#d8576b"
             ],
             [
              0.6666666666666666,
              "#ed7953"
             ],
             [
              0.7777777777777778,
              "#fb9f3a"
             ],
             [
              0.8888888888888888,
              "#fdca26"
             ],
             [
              1,
              "#f0f921"
             ]
            ],
            "type": "surface"
           }
          ],
          "table": [
           {
            "cells": {
             "fill": {
              "color": "#EBF0F8"
             },
             "line": {
              "color": "white"
             }
            },
            "header": {
             "fill": {
              "color": "#C8D4E3"
             },
             "line": {
              "color": "white"
             }
            },
            "type": "table"
           }
          ]
         },
         "layout": {
          "annotationdefaults": {
           "arrowcolor": "#2a3f5f",
           "arrowhead": 0,
           "arrowwidth": 1
          },
          "autotypenumbers": "strict",
          "coloraxis": {
           "colorbar": {
            "outlinewidth": 0,
            "ticks": ""
           }
          },
          "colorscale": {
           "diverging": [
            [
             0,
             "#8e0152"
            ],
            [
             0.1,
             "#c51b7d"
            ],
            [
             0.2,
             "#de77ae"
            ],
            [
             0.3,
             "#f1b6da"
            ],
            [
             0.4,
             "#fde0ef"
            ],
            [
             0.5,
             "#f7f7f7"
            ],
            [
             0.6,
             "#e6f5d0"
            ],
            [
             0.7,
             "#b8e186"
            ],
            [
             0.8,
             "#7fbc41"
            ],
            [
             0.9,
             "#4d9221"
            ],
            [
             1,
             "#276419"
            ]
           ],
           "sequential": [
            [
             0,
             "#0d0887"
            ],
            [
             0.1111111111111111,
             "#46039f"
            ],
            [
             0.2222222222222222,
             "#7201a8"
            ],
            [
             0.3333333333333333,
             "#9c179e"
            ],
            [
             0.4444444444444444,
             "#bd3786"
            ],
            [
             0.5555555555555556,
             "#d8576b"
            ],
            [
             0.6666666666666666,
             "#ed7953"
            ],
            [
             0.7777777777777778,
             "#fb9f3a"
            ],
            [
             0.8888888888888888,
             "#fdca26"
            ],
            [
             1,
             "#f0f921"
            ]
           ],
           "sequentialminus": [
            [
             0,
             "#0d0887"
            ],
            [
             0.1111111111111111,
             "#46039f"
            ],
            [
             0.2222222222222222,
             "#7201a8"
            ],
            [
             0.3333333333333333,
             "#9c179e"
            ],
            [
             0.4444444444444444,
             "#bd3786"
            ],
            [
             0.5555555555555556,
             "#d8576b"
            ],
            [
             0.6666666666666666,
             "#ed7953"
            ],
            [
             0.7777777777777778,
             "#fb9f3a"
            ],
            [
             0.8888888888888888,
             "#fdca26"
            ],
            [
             1,
             "#f0f921"
            ]
           ]
          },
          "colorway": [
           "#636efa",
           "#EF553B",
           "#00cc96",
           "#ab63fa",
           "#FFA15A",
           "#19d3f3",
           "#FF6692",
           "#B6E880",
           "#FF97FF",
           "#FECB52"
          ],
          "font": {
           "color": "#2a3f5f"
          },
          "geo": {
           "bgcolor": "white",
           "lakecolor": "white",
           "landcolor": "#E5ECF6",
           "showlakes": true,
           "showland": true,
           "subunitcolor": "white"
          },
          "hoverlabel": {
           "align": "left"
          },
          "hovermode": "closest",
          "mapbox": {
           "style": "light"
          },
          "paper_bgcolor": "white",
          "plot_bgcolor": "#E5ECF6",
          "polar": {
           "angularaxis": {
            "gridcolor": "white",
            "linecolor": "white",
            "ticks": ""
           },
           "bgcolor": "#E5ECF6",
           "radialaxis": {
            "gridcolor": "white",
            "linecolor": "white",
            "ticks": ""
           }
          },
          "scene": {
           "xaxis": {
            "backgroundcolor": "#E5ECF6",
            "gridcolor": "white",
            "gridwidth": 2,
            "linecolor": "white",
            "showbackground": true,
            "ticks": "",
            "zerolinecolor": "white"
           },
           "yaxis": {
            "backgroundcolor": "#E5ECF6",
            "gridcolor": "white",
            "gridwidth": 2,
            "linecolor": "white",
            "showbackground": true,
            "ticks": "",
            "zerolinecolor": "white"
           },
           "zaxis": {
            "backgroundcolor": "#E5ECF6",
            "gridcolor": "white",
            "gridwidth": 2,
            "linecolor": "white",
            "showbackground": true,
            "ticks": "",
            "zerolinecolor": "white"
           }
          },
          "shapedefaults": {
           "line": {
            "color": "#2a3f5f"
           }
          },
          "ternary": {
           "aaxis": {
            "gridcolor": "white",
            "linecolor": "white",
            "ticks": ""
           },
           "baxis": {
            "gridcolor": "white",
            "linecolor": "white",
            "ticks": ""
           },
           "bgcolor": "#E5ECF6",
           "caxis": {
            "gridcolor": "white",
            "linecolor": "white",
            "ticks": ""
           }
          },
          "title": {
           "x": 0.05
          },
          "xaxis": {
           "automargin": true,
           "gridcolor": "white",
           "linecolor": "white",
           "ticks": "",
           "title": {
            "standoff": 15
           },
           "zerolinecolor": "white",
           "zerolinewidth": 2
          },
          "yaxis": {
           "automargin": true,
           "gridcolor": "white",
           "linecolor": "white",
           "ticks": "",
           "title": {
            "standoff": 15
           },
           "zerolinecolor": "white",
           "zerolinewidth": 2
          }
         }
        },
        "xaxis": {
         "anchor": "y",
         "domain": [
          0,
          1
         ],
         "title": {
          "text": "population"
         }
        },
        "yaxis": {
         "anchor": "x",
         "domain": [
          0,
          1
         ],
         "title": {
          "text": "suicides_no"
         }
        }
       }
      },
      "text/html": [
       "<div>                            <div id=\"ce51ee04-a4d2-4502-b289-81f20b90faf1\" class=\"plotly-graph-div\" style=\"height:525px; width:100%;\"></div>            <script type=\"text/javascript\">                require([\"plotly\"], function(Plotly) {                    window.PLOTLYENV=window.PLOTLYENV || {};                                    if (document.getElementById(\"ce51ee04-a4d2-4502-b289-81f20b90faf1\")) {                    Plotly.newPlot(                        \"ce51ee04-a4d2-4502-b289-81f20b90faf1\",                        [{\"hovertemplate\":\"<b>%{hovertext}</b><br><br>age=15-24 years<br>population=%{x}<br>suicides_no=%{marker.size}<extra></extra>\",\"hovertext\":[\"Albania\",\"Albania\",\"Antigua and Barbuda\",\"Antigua and Barbuda\",\"Argentina\",\"Argentina\",\"Australia\",\"Australia\",\"Austria\",\"Austria\",\"Bahamas\",\"Bahamas\",\"Bahrain\",\"Bahrain\",\"Barbados\",\"Barbados\",\"Belgium\",\"Belgium\",\"Belize\",\"Belize\",\"Brazil\",\"Brazil\",\"Bulgaria\",\"Bulgaria\",\"Canada\",\"Canada\",\"Chile\",\"Chile\",\"Colombia\",\"Colombia\",\"Costa Rica\",\"Costa Rica\",\"Ecuador\",\"Ecuador\",\"Finland\",\"Finland\",\"France\",\"France\",\"Greece\",\"Greece\",\"Guatemala\",\"Guatemala\",\"Iceland\",\"Iceland\",\"Ireland\",\"Ireland\",\"Israel\",\"Israel\",\"Italy\",\"Italy\",\"Jamaica\",\"Jamaica\",\"Japan\",\"Japan\",\"Kuwait\",\"Kuwait\",\"Luxembourg\",\"Luxembourg\",\"Malta\",\"Malta\",\"Mauritius\",\"Mauritius\",\"Mexico\",\"Mexico\",\"Netherlands\",\"Netherlands\",\"New Zealand\",\"New Zealand\",\"Norway\",\"Norway\",\"Panama\",\"Panama\",\"Paraguay\",\"Paraguay\",\"Portugal\",\"Portugal\",\"Puerto Rico\",\"Puerto Rico\",\"Republic of Korea\",\"Republic of Korea\",\"Saint Lucia\",\"Saint Lucia\",\"Saint Vincent and Grenadines\",\"Saint Vincent and Grenadines\",\"Seychelles\",\"Seychelles\",\"Singapore\",\"Singapore\",\"Spain\",\"Spain\",\"Suriname\",\"Suriname\",\"Sweden\",\"Sweden\",\"Thailand\",\"Thailand\",\"Trinidad and Tobago\",\"Trinidad and Tobago\",\"Turkmenistan\",\"Turkmenistan\",\"Ukraine\",\"Ukraine\",\"United Kingdom\",\"United Kingdom\",\"United States\",\"United States\",\"Uruguay\",\"Uruguay\"],\"legendgroup\":\"15-24 years\",\"marker\":{\"color\":\"#636efa\",\"size\":[21,14,0,0,179,93,354,73,185,49,0,0,1,0,0,0,121,35,1,0,713,291,81,35,532,100,116,38,301,118,22,7,79,78,135,26,641,175,34,12,45,21,4,0,29,7,26,7,245,63,5,0,1065,569,1,1,4,3,0,0,28,24,405,113,117,44,93,20,80,12,16,8,12,11,80,24,25,5,493,221,2,0,0,0,0,0,21,16,216,68,8,8,102,32,621,531,25,8,33,24,488,128,461,105,4109,815,18,7],\"sizemode\":\"area\",\"sizeref\":1.8577777777777778,\"symbol\":\"circle\"},\"mode\":\"markers\",\"name\":\"15-24 years\",\"orientation\":\"v\",\"showlegend\":true,\"type\":\"scatter\",\"x\":[312900,289700,7583,7421,2460600,2398400,1383900,1329700,632704,611922,25100,26200,38600,49400,26400,26400,756300,725700,18966,18791,14119488,14145640,619800,595300,2085000,2019400,1293700,1265500,3533143,3468807,306700,295000,999500,1023900,355900,341900,4370700,4228600,754200,738200,826321,831270,21700,21000,313100,301200,386400,364500,4807700,4637300,255648,255517,9167000,8757000,159300,164300,27400,26500,24000,25500,102000,105000,8726000,8559000,1268600,1216200,295500,286500,339300,322900,243100,237800,377753,389735,833470,816075,348900,344700,4536200,4265300,14600,14800,11800,12015,7400,7400,253600,240100,3362100,3213800,40204,43517,604100,575200,5884434,5761312,131200,132200,344800,340700,3543900,3459900,4665275,4483586,19327000,18925000,250800,243700],\"xaxis\":\"x\",\"y\":[21,14,0,0,179,93,354,73,185,49,0,0,1,0,0,0,121,35,1,0,713,291,81,35,532,100,116,38,301,118,22,7,79,78,135,26,641,175,34,12,45,21,4,0,29,7,26,7,245,63,5,0,1065,569,1,1,4,3,0,0,28,24,405,113,117,44,93,20,80,12,16,8,12,11,80,24,25,5,493,221,2,0,0,0,0,0,21,16,216,68,8,8,102,32,621,531,25,8,33,24,488,128,461,105,4109,815,18,7],\"yaxis\":\"y\"},{\"hovertemplate\":\"<b>%{hovertext}</b><br><br>age=35-54 years<br>population=%{x}<br>suicides_no=%{marker.size}<extra></extra>\",\"hovertext\":[\"Albania\",\"Albania\",\"Antigua and Barbuda\",\"Antigua and Barbuda\",\"Argentina\",\"Argentina\",\"Australia\",\"Australia\",\"Austria\",\"Austria\",\"Bahamas\",\"Bahamas\",\"Bahrain\",\"Bahrain\",\"Barbados\",\"Barbados\",\"Belgium\",\"Belgium\",\"Belize\",\"Belize\",\"Brazil\",\"Brazil\",\"Bulgaria\",\"Bulgaria\",\"Canada\",\"Canada\",\"Chile\",\"Chile\",\"Colombia\",\"Colombia\",\"Costa Rica\",\"Costa Rica\",\"Ecuador\",\"Ecuador\",\"Finland\",\"Finland\",\"France\",\"France\",\"Greece\",\"Greece\",\"Guatemala\",\"Guatemala\",\"Iceland\",\"Iceland\",\"Ireland\",\"Ireland\",\"Israel\",\"Israel\",\"Italy\",\"Italy\",\"Jamaica\",\"Jamaica\",\"Japan\",\"Japan\",\"Kuwait\",\"Kuwait\",\"Luxembourg\",\"Luxembourg\",\"Malta\",\"Malta\",\"Mauritius\",\"Mauritius\",\"Mexico\",\"Mexico\",\"Netherlands\",\"Netherlands\",\"New Zealand\",\"New Zealand\",\"Norway\",\"Norway\",\"Panama\",\"Panama\",\"Paraguay\",\"Paraguay\",\"Portugal\",\"Portugal\",\"Puerto Rico\",\"Puerto Rico\",\"Republic of Korea\",\"Republic of Korea\",\"Saint Lucia\",\"Saint Lucia\",\"Saint Vincent and Grenadines\",\"Saint Vincent and Grenadines\",\"Seychelles\",\"Seychelles\",\"Singapore\",\"Singapore\",\"Spain\",\"Spain\",\"Suriname\",\"Suriname\",\"Sweden\",\"Sweden\",\"Thailand\",\"Thailand\",\"Trinidad and Tobago\",\"Trinidad and Tobago\",\"Turkmenistan\",\"Turkmenistan\",\"Ukraine\",\"Ukraine\",\"United Kingdom\",\"United Kingdom\",\"United States\",\"United States\",\"Uruguay\",\"Uruguay\"],\"legendgroup\":\"35-54 years\",\"marker\":{\"color\":\"#EF553B\",\"size\":[16,6,0,0,482,209,554,145,471,155,2,0,3,0,2,1,483,215,1,0,1100,349,283,81,874,298,160,34,147,27,34,5,73,16,422,122,2855,1124,81,35,49,13,6,2,54,21,45,16,873,343,1,0,6688,2496,4,2,19,8,0,0,36,6,378,68,329,210,92,28,149,60,16,4,15,4,190,69,72,16,781,229,2,0,0,0,2,0,43,33,479,180,12,1,394,185,458,227,23,9,54,21,3093,770,1072,417,6569,2270,59,19],\"sizemode\":\"area\",\"sizeref\":1.8577777777777778,\"symbol\":\"circle\"},\"mode\":\"markers\",\"name\":\"35-54 years\",\"orientation\":\"v\",\"showlegend\":true,\"type\":\"scatter\",\"x\":[308000,278800,6059,5927,3409100,3418300,2031000,1950500,949485,947458,22700,24200,47700,27300,24400,20200,1239800,1222000,10860,10635,12796733,13229129,1181700,1197400,3179200,3176700,1268600,1338500,2567656,2755678,234100,231900,773400,775400,687900,667400,6973100,6839200,1253400,1282300,588914,625628,27100,26200,380400,366500,427100,441800,7292700,7483400,187389,179252,18218000,18301000,257900,134100,51000,48600,46400,43900,98200,100300,6187000,6389000,1950400,1860400,384800,381900,511400,489000,198200,189800,313985,301417,1126680,1230247,348000,398300,4617500,4388200,8700,10000,7471,7072,4600,4700,318100,311000,4474500,4549700,33400,33647,1124000,1085200,5107474,5381053,108600,111700,242600,247500,6206800,6881800,6997144,6986157,28222000,29359000,341200,352300],\"xaxis\":\"x\",\"y\":[16,6,0,0,482,209,554,145,471,155,2,0,3,0,2,1,483,215,1,0,1100,349,283,81,874,298,160,34,147,27,34,5,73,16,422,122,2855,1124,81,35,49,13,6,2,54,21,45,16,873,343,1,0,6688,2496,4,2,19,8,0,0,36,6,378,68,329,210,92,28,149,60,16,4,15,4,190,69,72,16,781,229,2,0,0,0,2,0,43,33,479,180,12,1,394,185,458,227,23,9,54,21,3093,770,1072,417,6569,2270,59,19],\"yaxis\":\"y\"},{\"hovertemplate\":\"<b>%{hovertext}</b><br><br>age=75+ years<br>population=%{x}<br>suicides_no=%{marker.size}<extra></extra>\",\"hovertext\":[\"Albania\",\"Albania\",\"Antigua and Barbuda\",\"Antigua and Barbuda\",\"Argentina\",\"Argentina\",\"Australia\",\"Australia\",\"Austria\",\"Austria\",\"Bahamas\",\"Bahamas\",\"Bahrain\",\"Bahrain\",\"Barbados\",\"Barbados\",\"Belgium\",\"Belgium\",\"Belize\",\"Belize\",\"Brazil\",\"Brazil\",\"Bulgaria\",\"Bulgaria\",\"Canada\",\"Canada\",\"Chile\",\"Chile\",\"Colombia\",\"Colombia\",\"Costa Rica\",\"Costa Rica\",\"Ecuador\",\"Ecuador\",\"Finland\",\"Finland\",\"France\",\"France\",\"Greece\",\"Greece\",\"Guatemala\",\"Guatemala\",\"Iceland\",\"Iceland\",\"Ireland\",\"Ireland\",\"Israel\",\"Israel\",\"Italy\",\"Italy\",\"Jamaica\",\"Jamaica\",\"Japan\",\"Japan\",\"Kuwait\",\"Kuwait\",\"Luxembourg\",\"Luxembourg\",\"Malta\",\"Malta\",\"Mauritius\",\"Mauritius\",\"Mexico\",\"Mexico\",\"Netherlands\",\"Netherlands\",\"New Zealand\",\"New Zealand\",\"Norway\",\"Norway\",\"Panama\",\"Panama\",\"Paraguay\",\"Paraguay\",\"Portugal\",\"Portugal\",\"Puerto Rico\",\"Puerto Rico\",\"Republic of Korea\",\"Republic of Korea\",\"Saint Lucia\",\"Saint Lucia\",\"Saint Vincent and Grenadines\",\"Saint Vincent and Grenadines\",\"Seychelles\",\"Seychelles\",\"Singapore\",\"Singapore\",\"Spain\",\"Spain\",\"Suriname\",\"Suriname\",\"Sweden\",\"Sweden\",\"Thailand\",\"Thailand\",\"Trinidad and Tobago\",\"Trinidad and Tobago\",\"Turkmenistan\",\"Turkmenistan\",\"Ukraine\",\"Ukraine\",\"United Kingdom\",\"United Kingdom\",\"United States\",\"United States\",\"Uruguay\",\"Uruguay\"],\"legendgroup\":\"75+ years\",\"marker\":{\"color\":\"#00cc96\",\"size\":[1,1,0,0,200,57,111,38,208,126,0,0,0,0,0,0,222,113,0,0,149,28,228,101,117,47,19,0,14,2,5,0,6,1,57,7,1491,730,54,14,5,2,2,0,5,6,32,18,563,248,0,0,1446,1718,0,0,3,3,1,0,2,0,54,4,111,66,28,9,35,6,3,0,3,1,121,44,23,4,44,30,0,0,0,0,0,0,17,16,335,127,2,1,124,73,36,20,4,0,5,8,506,486,248,174,2532,504,36,7],\"sizemode\":\"area\",\"sizeref\":1.8577777777777778,\"symbol\":\"circle\"},\"mode\":\"markers\",\"name\":\"75+ years\",\"orientation\":\"v\",\"showlegend\":true,\"type\":\"scatter\",\"x\":[21800,35600,1081,538,369800,547000,244800,421200,161591,352121,2900,1600,1500,1600,7000,4000,214800,422000,1535,1261,655621,1018461,172900,238800,408700,679400,93700,151300,183612,257621,14000,19300,52900,65600,80200,182100,1314800,2524500,243200,326300,38144,44390,4600,6500,58500,89800,73000,83500,1195000,2115000,41941,32142,1982000,3230000,3700,3300,7200,14400,5300,8000,9000,4800,456000,599100,265500,499000,51100,86700,105000,178600,15600,16600,21474,29224,174464,308299,50100,59700,163700,389400,1600,1000,1500,948,1200,500,18300,27700,736300,1261300,2919,3776,247100,397900,319010,463349,9300,12300,16500,31400,654800,1816100,1272201,2508896,4295000,7872000,47700,74100],\"xaxis\":\"x\",\"y\":[1,1,0,0,200,57,111,38,208,126,0,0,0,0,0,0,222,113,0,0,149,28,228,101,117,47,19,0,14,2,5,0,6,1,57,7,1491,730,54,14,5,2,2,0,5,6,32,18,563,248,0,0,1446,1718,0,0,3,3,1,0,2,0,54,4,111,66,28,9,35,6,3,0,3,1,121,44,23,4,44,30,0,0,0,0,0,0,17,16,335,127,2,1,124,73,36,20,4,0,5,8,506,486,248,174,2532,504,36,7],\"yaxis\":\"y\"},{\"hovertemplate\":\"<b>%{hovertext}</b><br><br>age=25-34 years<br>population=%{x}<br>suicides_no=%{marker.size}<extra></extra>\",\"hovertext\":[\"Albania\",\"Albania\",\"Antigua and Barbuda\",\"Antigua and Barbuda\",\"Argentina\",\"Argentina\",\"Australia\",\"Australia\",\"Austria\",\"Austria\",\"Bahamas\",\"Bahamas\",\"Bahrain\",\"Bahrain\",\"Barbados\",\"Barbados\",\"Belgium\",\"Belgium\",\"Belize\",\"Belize\",\"Brazil\",\"Brazil\",\"Bulgaria\",\"Bulgaria\",\"Canada\",\"Canada\",\"Chile\",\"Chile\",\"Colombia\",\"Colombia\",\"Costa Rica\",\"Costa Rica\",\"Ecuador\",\"Ecuador\",\"Finland\",\"Finland\",\"France\",\"France\",\"Greece\",\"Greece\",\"Guatemala\",\"Guatemala\",\"Iceland\",\"Iceland\",\"Ireland\",\"Ireland\",\"Israel\",\"Israel\",\"Italy\",\"Italy\",\"Jamaica\",\"Jamaica\",\"Japan\",\"Japan\",\"Kuwait\",\"Kuwait\",\"Luxembourg\",\"Luxembourg\",\"Malta\",\"Malta\",\"Mauritius\",\"Mauritius\",\"Mexico\",\"Mexico\",\"Netherlands\",\"Netherlands\",\"New Zealand\",\"New Zealand\",\"Norway\",\"Norway\",\"Panama\",\"Panama\",\"Paraguay\",\"Paraguay\",\"Portugal\",\"Portugal\",\"Puerto Rico\",\"Puerto Rico\",\"Republic of Korea\",\"Republic of Korea\",\"Saint Lucia\",\"Saint Lucia\",\"Saint Vincent and Grenadines\",\"Saint Vincent and Grenadines\",\"Seychelles\",\"Seychelles\",\"Singapore\",\"Singapore\",\"Spain\",\"Spain\",\"Suriname\",\"Suriname\",\"Sweden\",\"Sweden\",\"Thailand\",\"Thailand\",\"Trinidad and Tobago\",\"Trinidad and Tobago\",\"Turkmenistan\",\"Turkmenistan\",\"Ukraine\",\"Ukraine\",\"United Kingdom\",\"United Kingdom\",\"United States\",\"United States\",\"Uruguay\",\"Uruguay\"],\"legendgroup\":\"25-34 years\",\"marker\":{\"color\":\"#ab63fa\",\"size\":[9,4,0,0,192,89,374,70,247,62,1,0,3,1,1,0,273,100,2,0,865,266,110,28,709,178,147,29,192,29,29,8,74,26,222,44,1369,414,46,9,63,16,4,2,39,8,33,13,425,99,1,1,1904,782,6,1,10,3,0,0,21,10,382,64,189,111,79,24,94,29,18,5,6,2,90,33,46,4,675,254,3,1,0,0,1,0,48,36,277,90,13,1,174,57,454,265,30,7,50,12,1383,176,618,168,5370,1285,15,7],\"sizemode\":\"area\",\"sizeref\":1.8577777777777778,\"symbol\":\"circle\"},\"mode\":\"markers\",\"name\":\"25-34 years\",\"orientation\":\"v\",\"showlegend\":true,\"type\":\"scatter\",\"x\":[274300,257200,6101,5893,2276200,2226200,1345900,1327700,581153,573764,20900,21100,63900,27500,22200,22200,789200,759300,11815,11413,11266240,11393405,634200,625200,2290800,2317300,1050700,1044400,2615813,2651735,235100,229800,718200,708700,397800,379700,4211300,4214400,684500,692400,531366,567102,21100,19900,251100,250700,323100,323100,4142000,4091900,170248,177282,8031000,7874000,249500,150100,31100,31200,27700,28500,91300,92900,5659000,5728000,1233700,1186400,262900,269900,321100,305900,175200,166900,286352,275955,719493,731428,244900,275800,3973800,3813900,8900,10200,7722,7324,5800,4800,293500,277400,2833500,2801900,30977,29656,580200,554200,4380094,4549086,102500,102500,265600,274700,3890300,3953000,4130709,4073306,21670000,21645000,207100,206100],\"xaxis\":\"x\",\"y\":[9,4,0,0,192,89,374,70,247,62,1,0,3,1,1,0,273,100,2,0,865,266,110,28,709,178,147,29,192,29,29,8,74,26,222,44,1369,414,46,9,63,16,4,2,39,8,33,13,425,99,1,1,1904,782,6,1,10,3,0,0,21,10,382,64,189,111,79,24,94,29,18,5,6,2,90,33,46,4,675,254,3,1,0,0,1,0,48,36,277,90,13,1,174,57,454,265,30,7,50,12,1383,176,618,168,5370,1285,15,7],\"yaxis\":\"y\"},{\"hovertemplate\":\"<b>%{hovertext}</b><br><br>age=55-74 years<br>population=%{x}<br>suicides_no=%{marker.size}<extra></extra>\",\"hovertext\":[\"Albania\",\"Albania\",\"Antigua and Barbuda\",\"Antigua and Barbuda\",\"Argentina\",\"Argentina\",\"Australia\",\"Australia\",\"Austria\",\"Austria\",\"Bahamas\",\"Bahamas\",\"Bahrain\",\"Bahrain\",\"Barbados\",\"Barbados\",\"Belgium\",\"Belgium\",\"Belize\",\"Belize\",\"Brazil\",\"Brazil\",\"Bulgaria\",\"Bulgaria\",\"Canada\",\"Canada\",\"Chile\",\"Chile\",\"Colombia\",\"Colombia\",\"Costa Rica\",\"Costa Rica\",\"Ecuador\",\"Ecuador\",\"Finland\",\"Finland\",\"France\",\"France\",\"Greece\",\"Greece\",\"Guatemala\",\"Guatemala\",\"Iceland\",\"Iceland\",\"Ireland\",\"Ireland\",\"Israel\",\"Israel\",\"Italy\",\"Italy\",\"Jamaica\",\"Jamaica\",\"Japan\",\"Japan\",\"Kuwait\",\"Kuwait\",\"Luxembourg\",\"Luxembourg\",\"Malta\",\"Malta\",\"Mauritius\",\"Mauritius\",\"Mexico\",\"Mexico\",\"Netherlands\",\"Netherlands\",\"New Zealand\",\"New Zealand\",\"Norway\",\"Norway\",\"Panama\",\"Panama\",\"Paraguay\",\"Paraguay\",\"Portugal\",\"Portugal\",\"Puerto Rico\",\"Puerto Rico\",\"Republic of Korea\",\"Republic of Korea\",\"Saint Lucia\",\"Saint Lucia\",\"Saint Vincent and Grenadines\",\"Saint Vincent and Grenadines\",\"Seychelles\",\"Seychelles\",\"Singapore\",\"Singapore\",\"Spain\",\"Spain\",\"Suriname\",\"Suriname\",\"Sweden\",\"Sweden\",\"Thailand\",\"Thailand\",\"Trinidad and Tobago\",\"Trinidad and Tobago\",\"Turkmenistan\",\"Turkmenistan\",\"Ukraine\",\"Ukraine\",\"United Kingdom\",\"United Kingdom\",\"United States\",\"United States\",\"Uruguay\",\"Uruguay\"],\"legendgroup\":\"55-74 years\",\"marker\":{\"color\":\"#FFA15A\",\"size\":[1,0,0,0,532,224,328,110,332,230,0,0,1,0,1,0,433,232,0,0,647,197,346,177,535,171,120,23,86,10,7,0,20,5,225,99,2198,1122,78,43,16,3,10,5,58,17,57,24,1146,496,4,0,3988,2938,1,0,12,9,0,0,6,3,161,20,246,189,64,18,125,54,9,3,4,1,225,79,67,9,380,152,3,0,0,0,0,0,42,29,693,320,5,0,281,117,239,96,9,2,28,28,1934,1024,857,464,5482,1596,63,25],\"sizemode\":\"area\",\"sizeref\":1.8577777777777778,\"symbol\":\"circle\"},\"mode\":\"markers\",\"name\":\"55-74 years\",\"orientation\":\"v\",\"showlegend\":true,\"type\":\"scatter\",\"x\":[137500,144600,3738,2798,2034500,2347300,1227000,1318600,591322,826662,12100,10200,11800,8900,13000,19300,893500,1040900,5789,5866,5163568,5891414,849500,946200,1896900,2148300,563900,674400,1044703,1210423,97700,104200,318600,338600,380700,506400,4576100,5333200,917400,1027900,286727,293688,18100,17000,247700,272000,248000,293000,5097300,6102400,106214,116815,9718000,11656000,24300,38400,39000,31500,28600,24000,45800,49500,2409000,2727000,1134600,1318400,238500,260500,379500,426400,90700,86600,134656,145386,827812,1003976,200800,228600,1607800,2113500,4900,6300,4835,4058,3600,2700,128900,132300,3244700,3808600,15788,16552,819700,908000,2100709,2269321,52700,57900,106800,148000,3652600,6070300,5141737,5919684,18190000,21497000,239600,274100],\"xaxis\":\"x\",\"y\":[1,0,0,0,532,224,328,110,332,230,0,0,1,0,1,0,433,232,0,0,647,197,346,177,535,171,120,23,86,10,7,0,20,5,225,99,2198,1122,78,43,16,3,10,5,58,17,57,24,1146,496,4,0,3988,2938,1,0,12,9,0,0,6,3,161,20,246,189,64,18,125,54,9,3,4,1,225,79,67,9,380,152,3,0,0,0,0,0,42,29,693,320,5,0,281,117,239,96,9,2,28,28,1934,1024,857,464,5482,1596,63,25],\"yaxis\":\"y\"},{\"hovertemplate\":\"<b>%{hovertext}</b><br><br>age=5-14 years<br>population=%{x}<br>suicides_no=%{marker.size}<extra></extra>\",\"hovertext\":[\"Albania\",\"Albania\",\"Antigua and Barbuda\",\"Antigua and Barbuda\",\"Argentina\",\"Argentina\",\"Australia\",\"Australia\",\"Austria\",\"Austria\",\"Bahamas\",\"Bahamas\",\"Bahrain\",\"Bahrain\",\"Barbados\",\"Barbados\",\"Belgium\",\"Belgium\",\"Belize\",\"Belize\",\"Brazil\",\"Brazil\",\"Bulgaria\",\"Bulgaria\",\"Canada\",\"Canada\",\"Chile\",\"Chile\",\"Colombia\",\"Colombia\",\"Costa Rica\",\"Costa Rica\",\"Ecuador\",\"Ecuador\",\"Finland\",\"Finland\",\"France\",\"France\",\"Greece\",\"Greece\",\"Guatemala\",\"Guatemala\",\"Iceland\",\"Iceland\",\"Ireland\",\"Ireland\",\"Israel\",\"Israel\",\"Italy\",\"Italy\",\"Jamaica\",\"Jamaica\",\"Japan\",\"Japan\",\"Kuwait\",\"Kuwait\",\"Luxembourg\",\"Luxembourg\",\"Malta\",\"Malta\",\"Mauritius\",\"Mauritius\",\"Mexico\",\"Mexico\",\"Netherlands\",\"Netherlands\",\"New Zealand\",\"New Zealand\",\"Norway\",\"Norway\",\"Panama\",\"Panama\",\"Paraguay\",\"Paraguay\",\"Portugal\",\"Portugal\",\"Puerto Rico\",\"Puerto Rico\",\"Republic of Korea\",\"Republic of Korea\",\"Saint Lucia\",\"Saint Lucia\",\"Saint Vincent and Grenadines\",\"Saint Vincent and Grenadines\",\"Seychelles\",\"Seychelles\",\"Singapore\",\"Singapore\",\"Spain\",\"Spain\",\"Suriname\",\"Suriname\",\"Sweden\",\"Sweden\",\"Thailand\",\"Thailand\",\"Trinidad and Tobago\",\"Trinidad and Tobago\",\"Turkmenistan\",\"Turkmenistan\",\"Ukraine\",\"Ukraine\",\"United Kingdom\",\"United Kingdom\",\"United States\",\"United States\",\"Uruguay\",\"Uruguay\"],\"legendgroup\":\"5-14 years\",\"marker\":{\"color\":\"#19d3f3\",\"size\":[0,0,0,0,15,14,6,1,2,2,0,0,0,0,1,0,11,0,0,0,35,32,15,7,25,5,6,1,16,9,2,0,8,4,4,0,33,9,3,1,6,2,1,0,1,0,0,0,11,4,1,0,52,17,0,0,0,0,0,0,4,0,36,16,3,1,7,1,3,2,2,1,3,0,3,2,1,0,27,15,0,0,0,0,0,0,0,0,17,2,1,0,2,0,47,41,1,1,5,4,53,9,7,3,199,52,1,1],\"sizemode\":\"area\",\"sizeref\":1.8577777777777778,\"symbol\":\"circle\"},\"mode\":\"markers\",\"name\":\"5-14 years\",\"orientation\":\"v\",\"showlegend\":true,\"type\":\"scatter\",\"x\":[311000,338200,6623,6499,3101300,3010700,1264900,1201300,440140,461684,26400,27500,42500,43200,24300,24300,628100,599700,23345,23793,16751806,16390962,674100,640300,1843600,1752800,1255100,1209200,3924075,3796166,310000,322900,1309500,1272500,324400,309700,3752400,3562500,753600,714000,1256693,1218497,21800,20600,340100,358600,445200,469400,3826100,3633300,270343,277969,8959000,8523000,207600,213800,20200,21300,26900,28600,103900,108600,10423000,10086000,942700,901100,269800,259000,281600,268800,285900,274400,485452,500586,819857,787188,351000,338600,4259100,3986500,15000,15300,13490,13801,7700,7900,195600,211300,3161900,2977400,39799,41778,518700,494700,6175269,5985299,125100,132300,423500,417000,3683900,3560800,3625848,3435125,17486000,16660000,267000,275200],\"xaxis\":\"x\",\"y\":[0,0,0,0,15,14,6,1,2,2,0,0,0,0,1,0,11,0,0,0,35,32,15,7,25,5,6,1,16,9,2,0,8,4,4,0,33,9,3,1,6,2,1,0,1,0,0,0,11,4,1,0,52,17,0,0,0,0,0,0,4,0,36,16,3,1,7,1,3,2,2,1,3,0,3,2,1,0,27,15,0,0,0,0,0,0,0,0,17,2,1,0,2,0,47,41,1,1,5,4,53,9,7,3,199,52,1,1],\"yaxis\":\"y\"}],                        {\"legend\":{\"itemsizing\":\"constant\",\"title\":{\"text\":\"age\"},\"tracegroupgap\":0},\"margin\":{\"t\":60},\"template\":{\"data\":{\"bar\":[{\"error_x\":{\"color\":\"#2a3f5f\"},\"error_y\":{\"color\":\"#2a3f5f\"},\"marker\":{\"line\":{\"color\":\"#E5ECF6\",\"width\":0.5},\"pattern\":{\"fillmode\":\"overlay\",\"size\":10,\"solidity\":0.2}},\"type\":\"bar\"}],\"barpolar\":[{\"marker\":{\"line\":{\"color\":\"#E5ECF6\",\"width\":0.5},\"pattern\":{\"fillmode\":\"overlay\",\"size\":10,\"solidity\":0.2}},\"type\":\"barpolar\"}],\"carpet\":[{\"aaxis\":{\"endlinecolor\":\"#2a3f5f\",\"gridcolor\":\"white\",\"linecolor\":\"white\",\"minorgridcolor\":\"white\",\"startlinecolor\":\"#2a3f5f\"},\"baxis\":{\"endlinecolor\":\"#2a3f5f\",\"gridcolor\":\"white\",\"linecolor\":\"white\",\"minorgridcolor\":\"white\",\"startlinecolor\":\"#2a3f5f\"},\"type\":\"carpet\"}],\"choropleth\":[{\"colorbar\":{\"outlinewidth\":0,\"ticks\":\"\"},\"type\":\"choropleth\"}],\"contour\":[{\"colorbar\":{\"outlinewidth\":0,\"ticks\":\"\"},\"colorscale\":[[0.0,\"#0d0887\"],[0.1111111111111111,\"#46039f\"],[0.2222222222222222,\"#7201a8\"],[0.3333333333333333,\"#9c179e\"],[0.4444444444444444,\"#bd3786\"],[0.5555555555555556,\"#d8576b\"],[0.6666666666666666,\"#ed7953\"],[0.7777777777777778,\"#fb9f3a\"],[0.8888888888888888,\"#fdca26\"],[1.0,\"#f0f921\"]],\"type\":\"contour\"}],\"contourcarpet\":[{\"colorbar\":{\"outlinewidth\":0,\"ticks\":\"\"},\"type\":\"contourcarpet\"}],\"heatmap\":[{\"colorbar\":{\"outlinewidth\":0,\"ticks\":\"\"},\"colorscale\":[[0.0,\"#0d0887\"],[0.1111111111111111,\"#46039f\"],[0.2222222222222222,\"#7201a8\"],[0.3333333333333333,\"#9c179e\"],[0.4444444444444444,\"#bd3786\"],[0.5555555555555556,\"#d8576b\"],[0.6666666666666666,\"#ed7953\"],[0.7777777777777778,\"#fb9f3a\"],[0.8888888888888888,\"#fdca26\"],[1.0,\"#f0f921\"]],\"type\":\"heatmap\"}],\"heatmapgl\":[{\"colorbar\":{\"outlinewidth\":0,\"ticks\":\"\"},\"colorscale\":[[0.0,\"#0d0887\"],[0.1111111111111111,\"#46039f\"],[0.2222222222222222,\"#7201a8\"],[0.3333333333333333,\"#9c179e\"],[0.4444444444444444,\"#bd3786\"],[0.5555555555555556,\"#d8576b\"],[0.6666666666666666,\"#ed7953\"],[0.7777777777777778,\"#fb9f3a\"],[0.8888888888888888,\"#fdca26\"],[1.0,\"#f0f921\"]],\"type\":\"heatmapgl\"}],\"histogram\":[{\"marker\":{\"pattern\":{\"fillmode\":\"overlay\",\"size\":10,\"solidity\":0.2}},\"type\":\"histogram\"}],\"histogram2d\":[{\"colorbar\":{\"outlinewidth\":0,\"ticks\":\"\"},\"colorscale\":[[0.0,\"#0d0887\"],[0.1111111111111111,\"#46039f\"],[0.2222222222222222,\"#7201a8\"],[0.3333333333333333,\"#9c179e\"],[0.4444444444444444,\"#bd3786\"],[0.5555555555555556,\"#d8576b\"],[0.6666666666666666,\"#ed7953\"],[0.7777777777777778,\"#fb9f3a\"],[0.8888888888888888,\"#fdca26\"],[1.0,\"#f0f921\"]],\"type\":\"histogram2d\"}],\"histogram2dcontour\":[{\"colorbar\":{\"outlinewidth\":0,\"ticks\":\"\"},\"colorscale\":[[0.0,\"#0d0887\"],[0.1111111111111111,\"#46039f\"],[0.2222222222222222,\"#7201a8\"],[0.3333333333333333,\"#9c179e\"],[0.4444444444444444,\"#bd3786\"],[0.5555555555555556,\"#d8576b\"],[0.6666666666666666,\"#ed7953\"],[0.7777777777777778,\"#fb9f3a\"],[0.8888888888888888,\"#fdca26\"],[1.0,\"#f0f921\"]],\"type\":\"histogram2dcontour\"}],\"mesh3d\":[{\"colorbar\":{\"outlinewidth\":0,\"ticks\":\"\"},\"type\":\"mesh3d\"}],\"parcoords\":[{\"line\":{\"colorbar\":{\"outlinewidth\":0,\"ticks\":\"\"}},\"type\":\"parcoords\"}],\"pie\":[{\"automargin\":true,\"type\":\"pie\"}],\"scatter\":[{\"marker\":{\"colorbar\":{\"outlinewidth\":0,\"ticks\":\"\"}},\"type\":\"scatter\"}],\"scatter3d\":[{\"line\":{\"colorbar\":{\"outlinewidth\":0,\"ticks\":\"\"}},\"marker\":{\"colorbar\":{\"outlinewidth\":0,\"ticks\":\"\"}},\"type\":\"scatter3d\"}],\"scattercarpet\":[{\"marker\":{\"colorbar\":{\"outlinewidth\":0,\"ticks\":\"\"}},\"type\":\"scattercarpet\"}],\"scattergeo\":[{\"marker\":{\"colorbar\":{\"outlinewidth\":0,\"ticks\":\"\"}},\"type\":\"scattergeo\"}],\"scattergl\":[{\"marker\":{\"colorbar\":{\"outlinewidth\":0,\"ticks\":\"\"}},\"type\":\"scattergl\"}],\"scattermapbox\":[{\"marker\":{\"colorbar\":{\"outlinewidth\":0,\"ticks\":\"\"}},\"type\":\"scattermapbox\"}],\"scatterpolar\":[{\"marker\":{\"colorbar\":{\"outlinewidth\":0,\"ticks\":\"\"}},\"type\":\"scatterpolar\"}],\"scatterpolargl\":[{\"marker\":{\"colorbar\":{\"outlinewidth\":0,\"ticks\":\"\"}},\"type\":\"scatterpolargl\"}],\"scatterternary\":[{\"marker\":{\"colorbar\":{\"outlinewidth\":0,\"ticks\":\"\"}},\"type\":\"scatterternary\"}],\"surface\":[{\"colorbar\":{\"outlinewidth\":0,\"ticks\":\"\"},\"colorscale\":[[0.0,\"#0d0887\"],[0.1111111111111111,\"#46039f\"],[0.2222222222222222,\"#7201a8\"],[0.3333333333333333,\"#9c179e\"],[0.4444444444444444,\"#bd3786\"],[0.5555555555555556,\"#d8576b\"],[0.6666666666666666,\"#ed7953\"],[0.7777777777777778,\"#fb9f3a\"],[0.8888888888888888,\"#fdca26\"],[1.0,\"#f0f921\"]],\"type\":\"surface\"}],\"table\":[{\"cells\":{\"fill\":{\"color\":\"#EBF0F8\"},\"line\":{\"color\":\"white\"}},\"header\":{\"fill\":{\"color\":\"#C8D4E3\"},\"line\":{\"color\":\"white\"}},\"type\":\"table\"}]},\"layout\":{\"annotationdefaults\":{\"arrowcolor\":\"#2a3f5f\",\"arrowhead\":0,\"arrowwidth\":1},\"autotypenumbers\":\"strict\",\"coloraxis\":{\"colorbar\":{\"outlinewidth\":0,\"ticks\":\"\"}},\"colorscale\":{\"diverging\":[[0,\"#8e0152\"],[0.1,\"#c51b7d\"],[0.2,\"#de77ae\"],[0.3,\"#f1b6da\"],[0.4,\"#fde0ef\"],[0.5,\"#f7f7f7\"],[0.6,\"#e6f5d0\"],[0.7,\"#b8e186\"],[0.8,\"#7fbc41\"],[0.9,\"#4d9221\"],[1,\"#276419\"]],\"sequential\":[[0.0,\"#0d0887\"],[0.1111111111111111,\"#46039f\"],[0.2222222222222222,\"#7201a8\"],[0.3333333333333333,\"#9c179e\"],[0.4444444444444444,\"#bd3786\"],[0.5555555555555556,\"#d8576b\"],[0.6666666666666666,\"#ed7953\"],[0.7777777777777778,\"#fb9f3a\"],[0.8888888888888888,\"#fdca26\"],[1.0,\"#f0f921\"]],\"sequentialminus\":[[0.0,\"#0d0887\"],[0.1111111111111111,\"#46039f\"],[0.2222222222222222,\"#7201a8\"],[0.3333333333333333,\"#9c179e\"],[0.4444444444444444,\"#bd3786\"],[0.5555555555555556,\"#d8576b\"],[0.6666666666666666,\"#ed7953\"],[0.7777777777777778,\"#fb9f3a\"],[0.8888888888888888,\"#fdca26\"],[1.0,\"#f0f921\"]]},\"colorway\":[\"#636efa\",\"#EF553B\",\"#00cc96\",\"#ab63fa\",\"#FFA15A\",\"#19d3f3\",\"#FF6692\",\"#B6E880\",\"#FF97FF\",\"#FECB52\"],\"font\":{\"color\":\"#2a3f5f\"},\"geo\":{\"bgcolor\":\"white\",\"lakecolor\":\"white\",\"landcolor\":\"#E5ECF6\",\"showlakes\":true,\"showland\":true,\"subunitcolor\":\"white\"},\"hoverlabel\":{\"align\":\"left\"},\"hovermode\":\"closest\",\"mapbox\":{\"style\":\"light\"},\"paper_bgcolor\":\"white\",\"plot_bgcolor\":\"#E5ECF6\",\"polar\":{\"angularaxis\":{\"gridcolor\":\"white\",\"linecolor\":\"white\",\"ticks\":\"\"},\"bgcolor\":\"#E5ECF6\",\"radialaxis\":{\"gridcolor\":\"white\",\"linecolor\":\"white\",\"ticks\":\"\"}},\"scene\":{\"xaxis\":{\"backgroundcolor\":\"#E5ECF6\",\"gridcolor\":\"white\",\"gridwidth\":2,\"linecolor\":\"white\",\"showbackground\":true,\"ticks\":\"\",\"zerolinecolor\":\"white\"},\"yaxis\":{\"backgroundcolor\":\"#E5ECF6\",\"gridcolor\":\"white\",\"gridwidth\":2,\"linecolor\":\"white\",\"showbackground\":true,\"ticks\":\"\",\"zerolinecolor\":\"white\"},\"zaxis\":{\"backgroundcolor\":\"#E5ECF6\",\"gridcolor\":\"white\",\"gridwidth\":2,\"linecolor\":\"white\",\"showbackground\":true,\"ticks\":\"\",\"zerolinecolor\":\"white\"}},\"shapedefaults\":{\"line\":{\"color\":\"#2a3f5f\"}},\"ternary\":{\"aaxis\":{\"gridcolor\":\"white\",\"linecolor\":\"white\",\"ticks\":\"\"},\"baxis\":{\"gridcolor\":\"white\",\"linecolor\":\"white\",\"ticks\":\"\"},\"bgcolor\":\"#E5ECF6\",\"caxis\":{\"gridcolor\":\"white\",\"linecolor\":\"white\",\"ticks\":\"\"}},\"title\":{\"x\":0.05},\"xaxis\":{\"automargin\":true,\"gridcolor\":\"white\",\"linecolor\":\"white\",\"ticks\":\"\",\"title\":{\"standoff\":15},\"zerolinecolor\":\"white\",\"zerolinewidth\":2},\"yaxis\":{\"automargin\":true,\"gridcolor\":\"white\",\"linecolor\":\"white\",\"ticks\":\"\",\"title\":{\"standoff\":15},\"zerolinecolor\":\"white\",\"zerolinewidth\":2}}},\"xaxis\":{\"anchor\":\"y\",\"domain\":[0.0,1.0],\"title\":{\"text\":\"population\"}},\"yaxis\":{\"anchor\":\"x\",\"domain\":[0.0,1.0],\"title\":{\"text\":\"suicides_no\"}}},                        {\"responsive\": true}                    ).then(function(){\n",
       "                            \n",
       "var gd = document.getElementById('ce51ee04-a4d2-4502-b289-81f20b90faf1');\n",
       "var x = new MutationObserver(function (mutations, observer) {{\n",
       "        var display = window.getComputedStyle(gd).display;\n",
       "        if (!display || display === 'none') {{\n",
       "            console.log([gd, 'removed!']);\n",
       "            Plotly.purge(gd);\n",
       "            observer.disconnect();\n",
       "        }}\n",
       "}});\n",
       "\n",
       "// Listen for the removal of the full notebook cells\n",
       "var notebookContainer = gd.closest('#notebook-container');\n",
       "if (notebookContainer) {{\n",
       "    x.observe(notebookContainer, {childList: true});\n",
       "}}\n",
       "\n",
       "// Listen for the clearing of the current output cell\n",
       "var outputEl = gd.closest('.output');\n",
       "if (outputEl) {{\n",
       "    x.observe(outputEl, {childList: true});\n",
       "}}\n",
       "\n",
       "                        })                };                });            </script>        </div>"
      ]
     },
     "metadata": {},
     "output_type": "display_data"
    }
   ],
   "source": [
    "# Bubble Chart using plotly.express\n",
    "fig = px.scatter(\n",
    "                 suicide.query(\"year==1987\"), \n",
    "                 x=\"population\", \n",
    "                 y=\"suicides_no\",\n",
    "                 size=\"suicides_no\", \n",
    "                 color=\"age\",\n",
    "                 hover_name=\"country\",\n",
    "                 size_max=60\n",
    "                )\n",
    "fig.show()"
   ]
  },
  {
   "cell_type": "code",
   "execution_count": null,
   "metadata": {},
   "outputs": [],
   "source": []
  },
  {
   "cell_type": "code",
   "execution_count": null,
   "metadata": {},
   "outputs": [],
   "source": []
  }
 ],
 "metadata": {
  "kernelspec": {
   "display_name": "Python 3",
   "language": "python",
   "name": "python3"
  },
  "language_info": {
   "codemirror_mode": {
    "name": "ipython",
    "version": 3
   },
   "file_extension": ".py",
   "mimetype": "text/x-python",
   "name": "python",
   "nbconvert_exporter": "python",
   "pygments_lexer": "ipython3",
   "version": "3.7.9"
  },
  "toc": {
   "base_numbering": 1,
   "nav_menu": {},
   "number_sections": true,
   "sideBar": true,
   "skip_h1_title": false,
   "title_cell": "Table of Contents",
   "title_sidebar": "Contents",
   "toc_cell": false,
   "toc_position": {},
   "toc_section_display": true,
   "toc_window_display": false
  }
 },
 "nbformat": 4,
 "nbformat_minor": 4
}
