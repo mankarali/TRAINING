{
 "cells": [
  {
   "cell_type": "markdown",
   "metadata": {},
   "source": [
    "# ARIMA+GARCH Trading Strategy on the S&P500 Stock \n",
    "\n",
    "If you've followed our past series on [time series analysis](https://github.com/Auquan/Tutorials#time-series-analysis), you're now all familiar with the powerful ARIMA and GARCH models to model financial series.\n",
    "\n",
    "In this article, we will apply the previous knowledge in a practical example to develop a trading strategy for the S&P500 \n",
    "\n",
    "## Strategy Overview\n",
    "\n",
    "The idea of this strategy is as below:\n",
    "\n",
    "* For each day, $n$, use differenced logarithmic returns of S&P 500 for the previous $k$ days to fit an optimal ARIMA and GARCH model\n",
    "* Use the combined model to make a prediction for the next day returns\n",
    "* If the prediction is positive, go long the stock and if negative, short the stock at $n_{th}$ day's close\n",
    "* If the prediction is the same as the previous day then do nothing\n",
    "\n",
    "In this sheet we will work with $k=500$, but this is parameter that can be optimised in order to improve performance or reduce drawdown.\n",
    "\n",
    "**Note: The backtest is doesnot take comission or slippage into account, hence the performance achieved in a real trading system would be lower than what you see here.**\n",
    "\n",
    "## Strategy Implementation"
   ]
  },
  {
   "cell_type": "code",
   "execution_count": null,
   "metadata": {},
   "outputs": [],
   "source": [
    "import os\n",
    "import sys\n",
    "\n",
    "import pandas as pd\n",
    "import numpy as np\n",
    "\n",
    "import statsmodels.formula.api as smf\n",
    "import statsmodels.tsa.api as smt\n",
    "import statsmodels.api as sm\n",
    "import scipy.stats as scs\n",
    "import statsmodels.stats as sms\n",
    "from arch import arch_model\n",
    "\n",
    "import matplotlib.pyplot as plt\n",
    "import matplotlib as mpl\n",
    "%matplotlib inline"
   ]
  },
  {
   "cell_type": "code",
   "execution_count": null,
   "metadata": {},
   "outputs": [],
   "source": [
    "from backtester.dataSource.yahoo_data_source import YahooStockDataSource\n",
    "startDateStr = '2014/12/31'\n",
    "endDateStr = '2017/12/31'\n",
    "cachedFolderName = '/Users/dell/Auquan/auquantoolbox/yahooData/'\n",
    "dataSetId = 'testPairsTrading'\n",
    "instrumentIds = ['^GSPC']\n",
    "ds = YahooStockDataSource(cachedFolderName=cachedFolderName,\n",
    "                            dataSetId=dataSetId,\n",
    "                            instrumentIds=instrumentIds,\n",
    "                            startDateStr=startDateStr,\n",
    "                            endDateStr=endDateStr,\n",
    "                            event='history')\n",
    "data = ds.getBookDataByFeature()['adjClose']\n",
    "# log returns\n",
    "lrets = np.log(data/data.shift(1)).fillna(0)\n",
    "lrets.index = pd.DatetimeIndex(lrets.index.values,freq=lrets.index.inferred_freq)\n"
   ]
  },
  {
   "cell_type": "code",
   "execution_count": null,
   "metadata": {},
   "outputs": [],
   "source": [
    "def tsplot(y, lags=None, figsize=(15, 10), style='bmh'):\n",
    "    if not isinstance(y, pd.Series):\n",
    "        y = pd.Series(y)\n",
    "    with plt.style.context(style):    \n",
    "        fig = plt.figure(figsize=figsize)\n",
    "        #mpl.rcParams['font.family'] = 'Ubuntu Mono'\n",
    "        layout = (3, 2)\n",
    "        ts_ax = plt.subplot2grid(layout, (0, 0), colspan=2)\n",
    "        acf_ax = plt.subplot2grid(layout, (1, 0))\n",
    "        pacf_ax = plt.subplot2grid(layout, (1, 1))\n",
    "        qq_ax = plt.subplot2grid(layout, (2, 0))\n",
    "        pp_ax = plt.subplot2grid(layout, (2, 1))\n",
    "        \n",
    "        y.plot(ax=ts_ax)\n",
    "        ts_ax.set_title('Time Series Analysis Plots')\n",
    "        smt.graphics.plot_acf(y, lags=lags, ax=acf_ax, alpha=0.05)\n",
    "        smt.graphics.plot_pacf(y, lags=lags, ax=pacf_ax, alpha=0.05)\n",
    "        sm.qqplot(y, line='s', ax=qq_ax)\n",
    "        qq_ax.set_title('QQ Plot')        \n",
    "        scs.probplot(y, sparams=(y.mean(), y.std()), plot=pp_ax)\n",
    "\n",
    "        plt.tight_layout()\n",
    "    return"
   ]
  },
  {
   "cell_type": "code",
   "execution_count": null,
   "metadata": {},
   "outputs": [],
   "source": [
    "windowLength = 252\n",
    "foreLength = len(lrets) - windowLength"
   ]
  },
  {
   "cell_type": "markdown",
   "metadata": {},
   "source": [
    "We also use [previously defined functions](https://github.com/Auquan/Tutorials/blob/master/Time%20Series%20Analysis%20-%204.ipynb) to find best ARIMA model"
   ]
  },
  {
   "cell_type": "code",
   "execution_count": null,
   "metadata": {},
   "outputs": [],
   "source": [
    "def _get_best_model(TS):\n",
    "    best_aic = np.inf \n",
    "    best_order = None\n",
    "    best_mdl = None\n",
    "\n",
    "    pq_rng = range(1,4) # [1,2,3]\n",
    "    for i in pq_rng:\n",
    "            for j in pq_rng:\n",
    "                try:\n",
    "                    tmp_mdl = smt.ARIMA(TS, order=(i,0,j)).fit(\n",
    "                        method='mle', trend='nc'\n",
    "                    )\n",
    "                    tmp_aic = tmp_mdl.aic\n",
    "                    if tmp_aic < best_aic:\n",
    "                        best_aic = tmp_aic\n",
    "                        best_order = (i, 0, j)\n",
    "                        best_mdl = tmp_mdl\n",
    "                except: continue\n",
    "    print('aic: %6.5f | order: %s'%(best_aic, best_order))                    \n",
    "    return best_aic, best_order, best_mdl\n",
    "\n"
   ]
  },
  {
   "cell_type": "markdown",
   "metadata": {},
   "source": [
    "At this stage we need to loop through every day in the trading data and fit an appropriate ARIMA and GARCH model to the rolling window of length $k=500$. Given that we try 32 separate ARIMA fits and fit a GARCH model, for each day, the indicator can take a long time to generate."
   ]
  },
  {
   "cell_type": "code",
   "execution_count": null,
   "metadata": {},
   "outputs": [],
   "source": [
    "signal = 0*lrets[-foreLength:]\n",
    "for d in range(foreLength):\n",
    "    # create a rolling window by selecting the values between 1+d and k+d of S&P500 returns\n",
    "    TS = lrets[(1+d):(windowLength+d)] \n",
    "    # Find the best ARIMA fit (we set differencing to 0 since we've already differenced the series once)\n",
    "    res_tup = _get_best_model(TS)\n",
    "    order = res_tup[1]\n",
    "    model = res_tup[2]\n",
    "    #now that we have our ARIMA fit, we feed this to GARCH model\n",
    "    p_ = order[0]\n",
    "    o_ = order[1]\n",
    "    q_ = order[2]\n",
    "\n",
    "    am = arch_model(model.resid, p=p_, o=o_, q=q_, dist='StudentsT')\n",
    "    res = am.fit(update_freq=5, disp='off')\n",
    "    out = res.forecast(horizon=1, start=None, align='origin')\n",
    "    signal.iloc[d] = np.sign(out.mean['h.1'].iloc[-1])"
   ]
  },
  {
   "cell_type": "markdown",
   "metadata": {},
   "source": [
    "## Strategy Results\n",
    "\n",
    "Now that we have generated our signals, we need to compare its performance to \"Buy & Hold\".\n"
   ]
  },
  {
   "cell_type": "code",
   "execution_count": null,
   "metadata": {},
   "outputs": [],
   "source": [
    "rets = pd.DataFrame(index = signal.index, columns=['Buy and Hold', 'Strategy'])\n",
    "rets['Buy and Hold'] = lrets[-foreLength:]\n",
    "rets['Strategy'] = signal\n",
    "rets['Strategy'] = rets['Strategy']*rets['Buy and Hold']\n",
    "eqCurves['Buy and Hold']=rets['Buy and Hold'].cumsum()+1\n",
    "eqCurves['Strategy'] = rets['Strategy'].cumsum()+1\n",
    "eqCurves['Strategy'].plot(figsize=(10,8))\n",
    "eqCurves['Buy and Hold'].plot()\n",
    "plt.legend()\n",
    "plt.show()"
   ]
  },
  {
   "cell_type": "code",
   "execution_count": null,
   "metadata": {},
   "outputs": [],
   "source": []
  }
 ],
 "metadata": {
  "kernelspec": {
   "display_name": "Python 3",
   "language": "python",
   "name": "python3"
  },
  "language_info": {
   "codemirror_mode": {
    "name": "ipython",
    "version": 3
   },
   "file_extension": ".py",
   "mimetype": "text/x-python",
   "name": "python",
   "nbconvert_exporter": "python",
   "pygments_lexer": "ipython3",
   "version": "3.7.9"
  },
  "toc": {
   "base_numbering": 1,
   "nav_menu": {},
   "number_sections": true,
   "sideBar": true,
   "skip_h1_title": false,
   "title_cell": "Table of Contents",
   "title_sidebar": "Contents",
   "toc_cell": false,
   "toc_position": {},
   "toc_section_display": true,
   "toc_window_display": false
  }
 },
 "nbformat": 4,
 "nbformat_minor": 2
}
