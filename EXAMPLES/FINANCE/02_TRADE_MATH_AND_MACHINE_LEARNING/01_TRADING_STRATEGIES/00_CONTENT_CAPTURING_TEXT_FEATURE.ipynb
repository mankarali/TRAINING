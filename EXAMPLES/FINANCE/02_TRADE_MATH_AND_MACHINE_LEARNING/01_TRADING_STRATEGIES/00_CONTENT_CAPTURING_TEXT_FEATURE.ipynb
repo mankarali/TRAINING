{
 "cells": [
  {
   "cell_type": "markdown",
   "metadata": {},
   "source": [
    "# A Basic Guide To Creating Your First Text Feature"
   ]
  },
  {
   "cell_type": "markdown",
   "metadata": {},
   "source": [
    "In this notebook we'll be creating a feature to identify which news articles contain references to a certain semantic idea. We could do this for any idea/concept e.g. Resignation, War, Earthquakes, Corona Virus! For the sake of this example we're just going to pick one topic: 'war in the middle east' that we hypothosise might be predictive of oil prices and therefore, oil stock price."
   ]
  },
  {
   "cell_type": "markdown",
   "metadata": {},
   "source": [
    "## Let's Begin"
   ]
  },
  {
   "cell_type": "markdown",
   "metadata": {},
   "source": [
    "First of all we're going to need to capture the countries we're interested in. So, here's a list of middle eastern countries:"
   ]
  },
  {
   "cell_type": "code",
   "execution_count": 1,
   "metadata": {},
   "outputs": [],
   "source": [
    "countries_list = ['Bahrain', 'Qatar', 'Saudi Arabia', 'United Arab Emirates', 'UAE', 'Yemen', 'Egypt', 'Oman', 'Iran','Iraq', 'Israel', 'Jordan', 'Kuwait', 'Lebanon', 'Palestine', 'Syria', 'Syrian Arab Republic']"
   ]
  },
  {
   "cell_type": "markdown",
   "metadata": {},
   "source": [
    "The next step is to capture the idea of war. This is probably the hardest part for us to code out as people rarely convey ideas in a consistant or black and white manner. Whilst, we might just say 'There is a war in the middle east', we could also say 'There is an uprising in Yemen' or 'Armed forces forced to act against malitias rural Iraq' (no direct mention of war), or even 'ISIS take key foothold in Aleppo' (no direct mention of war or even soldiers). "
   ]
  },
  {
   "cell_type": "markdown",
   "metadata": {},
   "source": [
    "Your ability to create models that can successfully capture these nuances in language will largely define how effective this type of approach will be. In this example we're just going to touch the surface. Once you're happy with the basics you should do your own research and thinking to come up with ways to improve this approach.  Now let's get a few words related to war and disturbance:"
   ]
  },
  {
   "cell_type": "code",
   "execution_count": 2,
   "metadata": {},
   "outputs": [],
   "source": [
    "# to get synonyms for our hotwords\n",
    "from nltk.corpus import wordnet "
   ]
  },
  {
   "cell_type": "code",
   "execution_count": 12,
   "metadata": {},
   "outputs": [],
   "source": [
    "hotwords =  ['war', 'insurgency', 'revolt', 'coup', 'massacre']\n",
    "synonyms = [] \n",
    "  \n",
    "for word in hotwords:\n",
    "    for syn in wordnet.synsets(word): \n",
    "        for l in syn.lemmas(): \n",
    "            synonyms.append(l.name()) "
   ]
  },
  {
   "cell_type": "code",
   "execution_count": 14,
   "metadata": {},
   "outputs": [
    {
     "data": {
      "text/plain": [
       "{'butchery',\n",
       " 'carnage',\n",
       " 'churn_up',\n",
       " 'coup',\n",
       " \"coup_d'etat\",\n",
       " 'disgust',\n",
       " 'gross_out',\n",
       " 'insurgence',\n",
       " 'insurgency',\n",
       " 'insurrection',\n",
       " 'mass_murder',\n",
       " 'massacre',\n",
       " 'mow_down',\n",
       " 'nauseate',\n",
       " 'putsch',\n",
       " 'rebellion',\n",
       " 'repel',\n",
       " 'revolt',\n",
       " 'rising',\n",
       " 'sicken',\n",
       " 'slaughter',\n",
       " 'state_of_war',\n",
       " 'takeover',\n",
       " 'uprising',\n",
       " 'war',\n",
       " 'warfare'}"
      ]
     },
     "execution_count": 14,
     "metadata": {},
     "output_type": "execute_result"
    }
   ],
   "source": [
    "set(synonyms)"
   ]
  },
  {
   "cell_type": "markdown",
   "metadata": {},
   "source": [
    "To make it easy for us to work with this data, we are going to use the spacy library. Specifically, we're going to use it to speed up extracting locations within our news strings. We're also just using to sample strings (news1 and news2) to keep things simple in this notebook."
   ]
  },
  {
   "cell_type": "code",
   "execution_count": 16,
   "metadata": {},
   "outputs": [],
   "source": [
    "import spacy\n",
    "\n",
    "news1 = 'With the backing of Iran and Russia, Hezbollah successfully supported the Syrian Arab Army (SAA) in largely putting down the armed insurgency.'\n",
    "news2 = 'Iran\\'s Voters Send a Clear Message to the Regime'\n",
    "nlp = spacy.load('en_core_web_md')\n",
    "\n",
    "docs = []\n",
    "for news in [news1, news2]:\n",
    "    doc = nlp(news)\n",
    "    docs.append(doc)"
   ]
  },
  {
   "cell_type": "markdown",
   "metadata": {},
   "source": [
    "Now let's create a simple function that returns 1 if the articles contain countries in our Middle East list, and words about war from our synonyms. By making a function we could use this for several different combinations of countries and synonyms (e.g. Financial Crisis in Europe, Trump/Elections in America etc):"
   ]
  },
  {
   "cell_type": "code",
   "execution_count": 40,
   "metadata": {},
   "outputs": [],
   "source": [
    "def featurize(doc, set_countries, set_words):\n",
    "    places = []\n",
    "    for ent in doc.ents:\n",
    "        if ent.label_ == 'GPE':\n",
    "            places.append(ent.text)\n",
    "    if len(set_countries & set(places)) == 0:\n",
    "        return 0\n",
    "    \n",
    "    tokens = []\n",
    "    for token in doc:\n",
    "        if token.lemma_ in set_words:\n",
    "            return 1\n",
    "    return 0"
   ]
  },
  {
   "cell_type": "markdown",
   "metadata": {},
   "source": [
    "Once we're happy with this function we can can then use it to check for article containing references to the idea of 'war' in the Middle East:"
   ]
  },
  {
   "cell_type": "code",
   "execution_count": 41,
   "metadata": {},
   "outputs": [],
   "source": [
    "featureval = [ featurize(doc, set(countries_list), set(synonyms)) for doc in docs]"
   ]
  },
  {
   "cell_type": "markdown",
   "metadata": {},
   "source": [
    "If we then run this on the two example pieces of news above:"
   ]
  },
  {
   "cell_type": "code",
   "execution_count": 42,
   "metadata": {},
   "outputs": [
    {
     "data": {
      "text/plain": [
       "[1, 0]"
      ]
     },
     "execution_count": 42,
     "metadata": {},
     "output_type": "execute_result"
    }
   ],
   "source": [
    "featureval"
   ]
  },
  {
   "cell_type": "markdown",
   "metadata": {},
   "source": [
    "Done! Our simple feature is able to capture instances of warlike situations being reported about middle eastern countries. \n",
    "\n",
    "Obviously this is pretty naive and too simple to capture the whole context around a story. There's a lot more you can and should do:\n",
    "\n",
    "1. Instead of finding synonyms you can look at the similarties between the word embeddings (between hotwords and tokens in the news text) - as the context of a word can drastically change its meaning (What do the following words mean: left, play, bear, kind, lie, read etc etc)\n",
    "\n",
    "2. Currently our feature is binary, you can try to make it a continuous float value on the basis of number of and types of occurences. \n",
    "\n",
    "and so much more....\n",
    "\n",
    "You can work out logic to find any features that you think might be relevant to price change and test your hypothesis. Some possible features might be:\n",
    "\n",
    "1. News related to Russia or Putin\n",
    "2. Stories related to trade war between US and China\n",
    "3. Any large scale pandemics ...\n",
    "\n",
    "\n",
    "Or in more detail, here are just a few of the things that affected oil prices during the last decade: \n",
    "1. Japan earthquake and nuclear spill\n",
    "2. Arab Spring\n",
    "3. Middle Eastern Tension\n",
    "4. Eurozone Crisis / Greek Bailout\n",
    "5. Iran Tensions\n",
    "6. Refinery Fires\n",
    "\n",
    "There are plenty more things that just this list, so do a bit of research. What about the other indexes? "
   ]
  },
  {
   "cell_type": "code",
   "execution_count": null,
   "metadata": {},
   "outputs": [],
   "source": []
  }
 ],
 "metadata": {
  "kernelspec": {
   "display_name": "Python 3",
   "language": "python",
   "name": "python3"
  },
  "language_info": {
   "codemirror_mode": {
    "name": "ipython",
    "version": 3
   },
   "file_extension": ".py",
   "mimetype": "text/x-python",
   "name": "python",
   "nbconvert_exporter": "python",
   "pygments_lexer": "ipython3",
   "version": "3.7.9"
  },
  "toc": {
   "base_numbering": 1,
   "nav_menu": {},
   "number_sections": true,
   "sideBar": true,
   "skip_h1_title": false,
   "title_cell": "Table of Contents",
   "title_sidebar": "Contents",
   "toc_cell": false,
   "toc_position": {},
   "toc_section_display": true,
   "toc_window_display": false
  }
 },
 "nbformat": 4,
 "nbformat_minor": 2
}
