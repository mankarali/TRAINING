{
 "cells": [
  {
   "cell_type": "markdown",
   "metadata": {},
   "source": [
    "<p style=\"color: yellow; background-color: blue; text-align: center; font-weight: bold; font-size:36px; line-height:40px\">Les bases de Python</p>"
   ]
  },
  {
   "cell_type": "markdown",
   "metadata": {},
   "source": [
    "<p style=\"color: blue; text-align: left; font-weight: bold;font-size:30px; line-height:15px\">Les Fonctions</p>"
   ]
  },
  {
   "cell_type": "code",
   "execution_count": 3,
   "metadata": {},
   "outputs": [],
   "source": [
    "f = lambda x , y : x**2 + 2*x*y + y**2"
   ]
  },
  {
   "cell_type": "code",
   "execution_count": 4,
   "metadata": {},
   "outputs": [
    {
     "name": "stdout",
     "output_type": "stream",
     "text": [
      "64\n"
     ]
    }
   ],
   "source": [
    "print(f(3,5))"
   ]
  },
  {
   "cell_type": "code",
   "execution_count": 5,
   "metadata": {
    "ExecuteTime": {
     "end_time": "2020-04-15T15:25:33.515559Z",
     "start_time": "2020-04-15T15:25:33.508562Z"
    }
   },
   "outputs": [],
   "source": [
    "def e_potentielle(masse, hauteur, g):\n",
    "    E = masse * hauteur *g\n",
    "    print(E, \"joules\")\n",
    "    return E"
   ]
  },
  {
   "cell_type": "code",
   "execution_count": 6,
   "metadata": {},
   "outputs": [
    {
     "name": "stdout",
     "output_type": "stream",
     "text": [
      "58.86 joules\n"
     ]
    }
   ],
   "source": [
    "resultat = e_potentielle(3,2,9.81)"
   ]
  },
  {
   "cell_type": "code",
   "execution_count": 7,
   "metadata": {
    "ExecuteTime": {
     "end_time": "2020-04-15T15:30:47.156806Z",
     "start_time": "2020-04-15T15:30:47.151808Z"
    }
   },
   "outputs": [],
   "source": [
    "def e_potentielle(masse, hauteur,e_limite, g):\n",
    "    E = masse * hauteur *g\n",
    "    if E >= e_limite:\n",
    "        print('supérieur')\n",
    "    else:\n",
    "        print('inférieur')\n",
    "            \n",
    "    return E"
   ]
  },
  {
   "cell_type": "code",
   "execution_count": 8,
   "metadata": {
    "ExecuteTime": {
     "end_time": "2020-04-15T15:31:09.538866Z",
     "start_time": "2020-04-15T15:31:09.528870Z"
    }
   },
   "outputs": [
    {
     "name": "stdout",
     "output_type": "stream",
     "text": [
      "inférieur\n"
     ]
    },
    {
     "data": {
      "text/plain": [
       "135"
      ]
     },
     "execution_count": 8,
     "metadata": {},
     "output_type": "execute_result"
    }
   ],
   "source": [
    "e_potentielle(5,3,156,9)"
   ]
  },
  {
   "cell_type": "code",
   "execution_count": 9,
   "metadata": {
    "ExecuteTime": {
     "end_time": "2020-04-16T09:49:37.605196Z",
     "start_time": "2020-04-16T09:49:37.599197Z"
    }
   },
   "outputs": [],
   "source": [
    "def fibonacci(n):\n",
    "    #return lz suite de fibonacci jusqu'à n\n",
    "    a = 0\n",
    "    b = 1\n",
    "    while a< n :\n",
    "        print(a)\n",
    "        a,b = b, a+b"
   ]
  },
  {
   "cell_type": "code",
   "execution_count": 10,
   "metadata": {
    "ExecuteTime": {
     "end_time": "2020-04-16T09:49:40.205641Z",
     "start_time": "2020-04-16T09:49:40.201641Z"
    }
   },
   "outputs": [
    {
     "name": "stdout",
     "output_type": "stream",
     "text": [
      "0\n",
      "1\n",
      "1\n",
      "2\n",
      "3\n",
      "5\n",
      "8\n",
      "13\n",
      "21\n",
      "34\n",
      "55\n",
      "89\n"
     ]
    }
   ],
   "source": [
    "fibonacci(100)"
   ]
  },
  {
   "cell_type": "code",
   "execution_count": 11,
   "metadata": {
    "ExecuteTime": {
     "end_time": "2020-04-16T09:30:10.334360Z",
     "start_time": "2020-04-16T09:30:10.328362Z"
    }
   },
   "outputs": [
    {
     "name": "stdout",
     "output_type": "stream",
     "text": [
      "0\n",
      "1\n",
      "1\n",
      "2\n",
      "3\n",
      "5\n",
      "8\n"
     ]
    }
   ],
   "source": [
    "n = 12\n",
    "x = 0\n",
    "y = 1\n",
    "while x<n:\n",
    "    print(x)\n",
    "    x,y = y, x+y\n",
    "    \n",
    "    "
   ]
  },
  {
   "cell_type": "markdown",
   "metadata": {},
   "source": [
    "<p style=\"color: blue; text-align: left; font-weight: bold;font-size:30px; line-height:15px\">Les listes</p>"
   ]
  },
  {
   "cell_type": "code",
   "execution_count": 12,
   "metadata": {
    "ExecuteTime": {
     "end_time": "2020-04-16T09:00:56.800923Z",
     "start_time": "2020-04-16T09:00:56.785931Z"
    }
   },
   "outputs": [
    {
     "name": "stdout",
     "output_type": "stream",
     "text": [
      "Fat\n"
     ]
    }
   ],
   "source": [
    "prenom = 'Fatima'\n",
    "print(prenom[:3])"
   ]
  },
  {
   "cell_type": "code",
   "execution_count": 13,
   "metadata": {
    "ExecuteTime": {
     "end_time": "2020-04-16T09:03:01.967934Z",
     "start_time": "2020-04-16T09:03:01.960939Z"
    }
   },
   "outputs": [],
   "source": [
    "villes = ['Paris', 'Berlin', 'Tokyo','Rio']\n",
    "villes.append('Oslo')"
   ]
  },
  {
   "cell_type": "code",
   "execution_count": 14,
   "metadata": {
    "ExecuteTime": {
     "end_time": "2020-04-16T09:03:06.349610Z",
     "start_time": "2020-04-16T09:03:06.341613Z"
    }
   },
   "outputs": [
    {
     "data": {
      "text/plain": [
       "['Paris', 'Berlin', 'Tokyo', 'Rio', 'Oslo']"
      ]
     },
     "execution_count": 14,
     "metadata": {},
     "output_type": "execute_result"
    }
   ],
   "source": [
    "villes"
   ]
  },
  {
   "cell_type": "code",
   "execution_count": 15,
   "metadata": {
    "ExecuteTime": {
     "end_time": "2020-04-16T09:03:38.238331Z",
     "start_time": "2020-04-16T09:03:38.234332Z"
    }
   },
   "outputs": [],
   "source": [
    "villes.insert(3,'Denver')"
   ]
  },
  {
   "cell_type": "code",
   "execution_count": 16,
   "metadata": {
    "ExecuteTime": {
     "end_time": "2020-04-16T09:03:43.236882Z",
     "start_time": "2020-04-16T09:03:43.227885Z"
    }
   },
   "outputs": [
    {
     "data": {
      "text/plain": [
       "['Paris', 'Berlin', 'Tokyo', 'Denver', 'Rio', 'Oslo']"
      ]
     },
     "execution_count": 16,
     "metadata": {},
     "output_type": "execute_result"
    }
   ],
   "source": [
    "villes\n"
   ]
  },
  {
   "cell_type": "code",
   "execution_count": 17,
   "metadata": {
    "ExecuteTime": {
     "end_time": "2020-04-16T09:05:07.787197Z",
     "start_time": "2020-04-16T09:05:07.780200Z"
    }
   },
   "outputs": [],
   "source": [
    "villes_2= ['Nairobi','Stokholm']"
   ]
  },
  {
   "cell_type": "code",
   "execution_count": 18,
   "metadata": {
    "ExecuteTime": {
     "end_time": "2020-04-16T09:05:34.091864Z",
     "start_time": "2020-04-16T09:05:34.087865Z"
    }
   },
   "outputs": [],
   "source": [
    "villes.extend(villes_2)"
   ]
  },
  {
   "cell_type": "code",
   "execution_count": 19,
   "metadata": {
    "ExecuteTime": {
     "end_time": "2020-04-16T09:05:38.292920Z",
     "start_time": "2020-04-16T09:05:38.282926Z"
    }
   },
   "outputs": [
    {
     "data": {
      "text/plain": [
       "['Paris', 'Berlin', 'Tokyo', 'Denver', 'Rio', 'Oslo', 'Nairobi', 'Stokholm']"
      ]
     },
     "execution_count": 19,
     "metadata": {},
     "output_type": "execute_result"
    }
   ],
   "source": [
    "villes\n"
   ]
  },
  {
   "cell_type": "code",
   "execution_count": 20,
   "metadata": {
    "ExecuteTime": {
     "end_time": "2020-04-16T09:07:59.538997Z",
     "start_time": "2020-04-16T09:07:59.530002Z"
    }
   },
   "outputs": [
    {
     "data": {
      "text/plain": [
       "8"
      ]
     },
     "execution_count": 20,
     "metadata": {},
     "output_type": "execute_result"
    }
   ],
   "source": [
    "len(villes)"
   ]
  },
  {
   "cell_type": "code",
   "execution_count": 21,
   "metadata": {
    "ExecuteTime": {
     "end_time": "2020-04-16T09:08:53.743305Z",
     "start_time": "2020-04-16T09:08:53.739289Z"
    }
   },
   "outputs": [],
   "source": [
    "#trier par ordre alphabetique\n",
    "villes.sort()"
   ]
  },
  {
   "cell_type": "code",
   "execution_count": 22,
   "metadata": {
    "ExecuteTime": {
     "end_time": "2020-04-16T09:08:58.772499Z",
     "start_time": "2020-04-16T09:08:58.764502Z"
    }
   },
   "outputs": [
    {
     "data": {
      "text/plain": [
       "['Berlin', 'Denver', 'Nairobi', 'Oslo', 'Paris', 'Rio', 'Stokholm', 'Tokyo']"
      ]
     },
     "execution_count": 22,
     "metadata": {},
     "output_type": "execute_result"
    }
   ],
   "source": [
    "villes"
   ]
  },
  {
   "cell_type": "code",
   "execution_count": 23,
   "metadata": {
    "ExecuteTime": {
     "end_time": "2020-04-16T09:09:54.134309Z",
     "start_time": "2020-04-16T09:09:54.128313Z"
    }
   },
   "outputs": [],
   "source": [
    "villes.sort(reverse=True)"
   ]
  },
  {
   "cell_type": "code",
   "execution_count": 24,
   "metadata": {
    "ExecuteTime": {
     "end_time": "2020-04-16T09:09:57.624827Z",
     "start_time": "2020-04-16T09:09:57.618828Z"
    }
   },
   "outputs": [
    {
     "data": {
      "text/plain": [
       "['Tokyo', 'Stokholm', 'Rio', 'Paris', 'Oslo', 'Nairobi', 'Denver', 'Berlin']"
      ]
     },
     "execution_count": 24,
     "metadata": {},
     "output_type": "execute_result"
    }
   ],
   "source": [
    "villes"
   ]
  },
  {
   "cell_type": "code",
   "execution_count": 25,
   "metadata": {
    "ExecuteTime": {
     "end_time": "2020-04-16T09:10:55.969333Z",
     "start_time": "2020-04-16T09:10:55.964335Z"
    }
   },
   "outputs": [],
   "source": [
    "liste_2= [2,45,56,3,78,12,34]\n",
    "liste_2.sort()"
   ]
  },
  {
   "cell_type": "code",
   "execution_count": 26,
   "metadata": {
    "ExecuteTime": {
     "end_time": "2020-04-16T09:11:09.973686Z",
     "start_time": "2020-04-16T09:11:09.967689Z"
    }
   },
   "outputs": [
    {
     "data": {
      "text/plain": [
       "[2, 3, 12, 34, 45, 56, 78]"
      ]
     },
     "execution_count": 26,
     "metadata": {},
     "output_type": "execute_result"
    }
   ],
   "source": [
    "liste_2"
   ]
  },
  {
   "cell_type": "code",
   "execution_count": 27,
   "metadata": {
    "ExecuteTime": {
     "end_time": "2020-04-16T09:12:46.163392Z",
     "start_time": "2020-04-16T09:12:46.157396Z"
    }
   },
   "outputs": [
    {
     "data": {
      "text/plain": [
       "1"
      ]
     },
     "execution_count": 27,
     "metadata": {},
     "output_type": "execute_result"
    }
   ],
   "source": [
    "#le nombre de fois qu'u element apparait dans ma liste\n",
    "villes.count('Paris')"
   ]
  },
  {
   "cell_type": "code",
   "execution_count": 28,
   "metadata": {
    "ExecuteTime": {
     "end_time": "2020-04-16T09:14:58.993989Z",
     "start_time": "2020-04-16T09:14:58.988993Z"
    }
   },
   "outputs": [
    {
     "name": "stdout",
     "output_type": "stream",
     "text": [
      "oui\n"
     ]
    }
   ],
   "source": [
    "#verifier \n",
    "if 'Paris' in villes:\n",
    "    print('oui')\n",
    "else:\n",
    "    print('non')"
   ]
  },
  {
   "cell_type": "code",
   "execution_count": 29,
   "metadata": {
    "ExecuteTime": {
     "end_time": "2020-04-16T09:15:35.998016Z",
     "start_time": "2020-04-16T09:15:35.991024Z"
    }
   },
   "outputs": [
    {
     "name": "stdout",
     "output_type": "stream",
     "text": [
      "Tokyo\n",
      "Stokholm\n",
      "Rio\n",
      "Paris\n",
      "Oslo\n",
      "Nairobi\n",
      "Denver\n",
      "Berlin\n"
     ]
    }
   ],
   "source": [
    "for i in villes:\n",
    "    print(i)"
   ]
  },
  {
   "cell_type": "code",
   "execution_count": 30,
   "metadata": {
    "ExecuteTime": {
     "end_time": "2020-04-16T09:22:52.391951Z",
     "start_time": "2020-04-16T09:22:52.385954Z"
    }
   },
   "outputs": [
    {
     "name": "stdout",
     "output_type": "stream",
     "text": [
      "0 Tokyo\n",
      "1 Stokholm\n",
      "2 Rio\n",
      "3 Paris\n",
      "4 Oslo\n",
      "5 Nairobi\n",
      "6 Denver\n",
      "7 Berlin\n"
     ]
    }
   ],
   "source": [
    "#enumerate fait passer deux choses : l'index et le contenu\n",
    "for index, valeur in enumerate(villes):\n",
    "    print(index,valeur)"
   ]
  },
  {
   "cell_type": "code",
   "execution_count": 31,
   "metadata": {
    "ExecuteTime": {
     "end_time": "2020-04-16T09:26:33.269759Z",
     "start_time": "2020-04-16T09:26:33.263766Z"
    }
   },
   "outputs": [
    {
     "name": "stdout",
     "output_type": "stream",
     "text": [
      "Tokyo 2\n",
      "Stokholm 3\n",
      "Rio 12\n",
      "Paris 34\n",
      "Oslo 45\n",
      "Nairobi 56\n",
      "Denver 78\n"
     ]
    }
   ],
   "source": [
    "#commande Zip permet de mixer deux listes ensemble:\n",
    "for a , b in zip(villes, liste_2):\n",
    "    print(a,b)"
   ]
  },
  {
   "cell_type": "code",
   "execution_count": 32,
   "metadata": {
    "ExecuteTime": {
     "end_time": "2020-04-16T09:55:02.518036Z",
     "start_time": "2020-04-16T09:55:02.512042Z"
    }
   },
   "outputs": [],
   "source": [
    "def fibonacci_list(n):\n",
    "    #return lz suite de fibonacci jusqu'à n\n",
    "    a = 0\n",
    "    b = 1\n",
    "    liste_fib =[]\n",
    "    while a< n :\n",
    "        liste_fib.append(a)\n",
    "        a,b = b, a+b\n",
    "    print(liste_fib)"
   ]
  },
  {
   "cell_type": "code",
   "execution_count": 33,
   "metadata": {
    "ExecuteTime": {
     "end_time": "2020-04-16T09:55:05.975179Z",
     "start_time": "2020-04-16T09:55:05.969184Z"
    }
   },
   "outputs": [
    {
     "name": "stdout",
     "output_type": "stream",
     "text": [
      "[0, 1, 1, 2, 3, 5, 8, 13, 21, 34, 55, 89]\n"
     ]
    }
   ],
   "source": [
    "fibonacci_list(100)"
   ]
  },
  {
   "cell_type": "markdown",
   "metadata": {},
   "source": [
    "<p style=\"color: blue; text-align: left; font-weight: bold;font-size:30px; line-height:15px\">Les Dictionnaires</p>"
   ]
  },
  {
   "cell_type": "code",
   "execution_count": 34,
   "metadata": {
    "ExecuteTime": {
     "end_time": "2020-04-16T10:10:40.474626Z",
     "start_time": "2020-04-16T10:10:40.470629Z"
    }
   },
   "outputs": [],
   "source": [
    "traduction = {\n",
    "    \"chien\":\"dog\",\n",
    "    \"chat\": \"cat\",\n",
    "    \"souris\":\"mouse\",\n",
    "    \"oiseau\":\"bird\"\n",
    "}\n",
    "\n"
   ]
  },
  {
   "cell_type": "code",
   "execution_count": 35,
   "metadata": {
    "ExecuteTime": {
     "end_time": "2020-04-16T12:04:53.169430Z",
     "start_time": "2020-04-16T12:04:53.164438Z"
    }
   },
   "outputs": [],
   "source": [
    "inventaire = {\n",
    "    \"bananes\": 5000,\n",
    "    \"pommes\": 3000,\n",
    "    \"ananas\":1000\n",
    "}"
   ]
  },
  {
   "cell_type": "code",
   "execution_count": 36,
   "metadata": {
    "ExecuteTime": {
     "end_time": "2020-04-16T10:11:42.384264Z",
     "start_time": "2020-04-16T10:11:42.378267Z"
    }
   },
   "outputs": [],
   "source": [
    "dictionnaire_3 = {\n",
    "    \"dict_1\": traduction,\n",
    "    \"dict_2\":inventaire\n",
    "}"
   ]
  },
  {
   "cell_type": "code",
   "execution_count": 37,
   "metadata": {
    "ExecuteTime": {
     "end_time": "2020-04-16T10:14:19.205762Z",
     "start_time": "2020-04-16T10:14:19.198764Z"
    }
   },
   "outputs": [
    {
     "data": {
      "text/plain": [
       "dict_values([5000, 3000, 1000])"
      ]
     },
     "execution_count": 37,
     "metadata": {},
     "output_type": "execute_result"
    }
   ],
   "source": [
    "inventaire.values()"
   ]
  },
  {
   "cell_type": "code",
   "execution_count": 38,
   "metadata": {
    "ExecuteTime": {
     "end_time": "2020-04-16T10:14:27.660901Z",
     "start_time": "2020-04-16T10:14:27.652905Z"
    }
   },
   "outputs": [
    {
     "data": {
      "text/plain": [
       "dict_keys(['bananes', 'pommes', 'ananas'])"
      ]
     },
     "execution_count": 38,
     "metadata": {},
     "output_type": "execute_result"
    }
   ],
   "source": [
    "inventaire.keys()"
   ]
  },
  {
   "cell_type": "code",
   "execution_count": 39,
   "metadata": {
    "ExecuteTime": {
     "end_time": "2020-04-16T10:14:55.330259Z",
     "start_time": "2020-04-16T10:14:55.315267Z"
    }
   },
   "outputs": [
    {
     "data": {
      "text/plain": [
       "3"
      ]
     },
     "execution_count": 39,
     "metadata": {},
     "output_type": "execute_result"
    }
   ],
   "source": [
    "len(inventaire)"
   ]
  },
  {
   "cell_type": "code",
   "execution_count": 40,
   "metadata": {
    "ExecuteTime": {
     "end_time": "2020-04-16T10:15:21.489304Z",
     "start_time": "2020-04-16T10:15:21.482307Z"
    }
   },
   "outputs": [],
   "source": [
    "inventaire[\"abricots\"] = 6578"
   ]
  },
  {
   "cell_type": "code",
   "execution_count": 41,
   "metadata": {
    "ExecuteTime": {
     "end_time": "2020-04-16T10:15:27.348872Z",
     "start_time": "2020-04-16T10:15:27.342873Z"
    }
   },
   "outputs": [
    {
     "data": {
      "text/plain": [
       "{'bananes': 5000, 'pommes': 3000, 'ananas': 1000, 'abricots': 6578}"
      ]
     },
     "execution_count": 41,
     "metadata": {},
     "output_type": "execute_result"
    }
   ],
   "source": [
    "inventaire"
   ]
  },
  {
   "cell_type": "code",
   "execution_count": 42,
   "metadata": {
    "ExecuteTime": {
     "end_time": "2020-04-16T10:18:49.834667Z",
     "start_time": "2020-04-16T10:18:49.826669Z"
    }
   },
   "outputs": [
    {
     "data": {
      "text/plain": [
       "'ya pas'"
      ]
     },
     "execution_count": 42,
     "metadata": {},
     "output_type": "execute_result"
    }
   ],
   "source": [
    "#permet de retrouver quelque chose et sinon d'afficher une valeur par défault\n",
    "inventaire.get('peches',\"ya pas\")\n"
   ]
  },
  {
   "cell_type": "code",
   "execution_count": 43,
   "metadata": {
    "ExecuteTime": {
     "end_time": "2020-04-16T10:19:15.918157Z",
     "start_time": "2020-04-16T10:19:15.910161Z"
    }
   },
   "outputs": [
    {
     "data": {
      "text/plain": [
       "3000"
      ]
     },
     "execution_count": 43,
     "metadata": {},
     "output_type": "execute_result"
    }
   ],
   "source": [
    "inventaire.get('pommes','ya pas')"
   ]
  },
  {
   "cell_type": "code",
   "execution_count": 44,
   "metadata": {
    "ExecuteTime": {
     "end_time": "2020-04-16T10:25:04.506189Z",
     "start_time": "2020-04-16T10:25:04.501200Z"
    }
   },
   "outputs": [],
   "source": [
    "#mthod from keys : ajouter une liste au dictionnaire\n",
    "liste_1= ('Paris','Londres','Marseille')"
   ]
  },
  {
   "cell_type": "code",
   "execution_count": 45,
   "metadata": {
    "ExecuteTime": {
     "end_time": "2020-04-16T10:23:51.183467Z",
     "start_time": "2020-04-16T10:23:51.179469Z"
    }
   },
   "outputs": [],
   "source": [
    "inventaire = inventaire.fromkeys(liste_1, 'defaut')"
   ]
  },
  {
   "cell_type": "code",
   "execution_count": 46,
   "metadata": {
    "ExecuteTime": {
     "end_time": "2020-04-16T10:23:54.083865Z",
     "start_time": "2020-04-16T10:23:54.077874Z"
    }
   },
   "outputs": [
    {
     "data": {
      "text/plain": [
       "{'Paris': 'defaut', 'Londres': 'defaut', 'Marseille': 'defaut'}"
      ]
     },
     "execution_count": 46,
     "metadata": {},
     "output_type": "execute_result"
    }
   ],
   "source": [
    "inventaire"
   ]
  },
  {
   "cell_type": "code",
   "execution_count": 47,
   "metadata": {
    "ExecuteTime": {
     "end_time": "2020-04-16T12:03:17.216864Z",
     "start_time": "2020-04-16T12:03:17.196875Z"
    }
   },
   "outputs": [],
   "source": [
    "#enlever un des elts\n",
    "bananes = inventaire.pop(\"Londres\")"
   ]
  },
  {
   "cell_type": "code",
   "execution_count": 48,
   "metadata": {
    "ExecuteTime": {
     "end_time": "2020-04-16T12:04:40.027995Z",
     "start_time": "2020-04-16T12:04:40.020999Z"
    }
   },
   "outputs": [
    {
     "data": {
      "text/plain": [
       "{'Paris': 'defaut', 'Marseille': 'defaut'}"
      ]
     },
     "execution_count": 48,
     "metadata": {},
     "output_type": "execute_result"
    }
   ],
   "source": [
    "inventaire"
   ]
  },
  {
   "cell_type": "code",
   "execution_count": 49,
   "metadata": {
    "ExecuteTime": {
     "end_time": "2020-04-16T12:05:14.778443Z",
     "start_time": "2020-04-16T12:05:14.773458Z"
    }
   },
   "outputs": [
    {
     "name": "stdout",
     "output_type": "stream",
     "text": [
      "Paris\n",
      "Marseille\n"
     ]
    }
   ],
   "source": [
    "#pour afficher juste les clés\n",
    "for i in inventaire :\n",
    "    print (i) "
   ]
  },
  {
   "cell_type": "code",
   "execution_count": 50,
   "metadata": {
    "ExecuteTime": {
     "end_time": "2020-04-16T12:07:34.131760Z",
     "start_time": "2020-04-16T12:07:34.125778Z"
    }
   },
   "outputs": [
    {
     "name": "stdout",
     "output_type": "stream",
     "text": [
      "defaut\n",
      "defaut\n"
     ]
    }
   ],
   "source": [
    "#pour afficher juste les valeurs\n",
    "for i in inventaire.values() :\n",
    "    print (i) "
   ]
  },
  {
   "cell_type": "code",
   "execution_count": 51,
   "metadata": {
    "ExecuteTime": {
     "end_time": "2020-04-16T12:08:31.694553Z",
     "start_time": "2020-04-16T12:08:31.686557Z"
    }
   },
   "outputs": [
    {
     "name": "stdout",
     "output_type": "stream",
     "text": [
      "Paris defaut\n",
      "Marseille defaut\n"
     ]
    }
   ],
   "source": [
    "#pour afficher les valeurs et les clés\n",
    "for k , v in inventaire.items() :\n",
    "    print (k , v) "
   ]
  },
  {
   "cell_type": "code",
   "execution_count": 52,
   "metadata": {
    "ExecuteTime": {
     "end_time": "2020-04-22T10:07:58.059332Z",
     "start_time": "2020-04-22T10:07:58.052339Z"
    }
   },
   "outputs": [],
   "source": [
    "classeur = {\n",
    "    \"positif\": [],\n",
    "    \"negatif\":[]\n",
    "}"
   ]
  },
  {
   "cell_type": "code",
   "execution_count": 53,
   "metadata": {
    "ExecuteTime": {
     "end_time": "2020-04-22T10:07:48.078145Z",
     "start_time": "2020-04-22T10:07:48.071150Z"
    }
   },
   "outputs": [],
   "source": [
    "def trier(classeur, nombre):\n",
    "    if nombre >0:\n",
    "        classeur[\"positif\"].append(nombre)\n",
    "    else:\n",
    "        classeur[\"negatif\"].append(nombre)\n",
    "    return classeur\n",
    "    "
   ]
  },
  {
   "cell_type": "code",
   "execution_count": 54,
   "metadata": {
    "ExecuteTime": {
     "end_time": "2020-04-16T12:19:10.146581Z",
     "start_time": "2020-04-16T12:19:10.139586Z"
    }
   },
   "outputs": [
    {
     "data": {
      "text/plain": [
       "{'positif': [], 'negatif': []}"
      ]
     },
     "execution_count": 54,
     "metadata": {},
     "output_type": "execute_result"
    }
   ],
   "source": [
    "classeur"
   ]
  },
  {
   "cell_type": "code",
   "execution_count": 55,
   "metadata": {
    "ExecuteTime": {
     "end_time": "2020-04-22T10:08:24.389293Z",
     "start_time": "2020-04-22T10:08:24.378300Z"
    }
   },
   "outputs": [
    {
     "data": {
      "text/plain": [
       "{'positif': [5], 'negatif': []}"
      ]
     },
     "execution_count": 55,
     "metadata": {},
     "output_type": "execute_result"
    }
   ],
   "source": [
    "trier(classeur, 5)"
   ]
  },
  {
   "cell_type": "markdown",
   "metadata": {},
   "source": [
    "<p style=\"color: blue; text-align: left; font-weight: bold;font-size:30px; line-height:15px\">Les list comprehension</p>"
   ]
  },
  {
   "cell_type": "code",
   "execution_count": 56,
   "metadata": {
    "ExecuteTime": {
     "end_time": "2020-04-22T09:18:49.389710Z",
     "start_time": "2020-04-22T09:18:49.376719Z"
    }
   },
   "outputs": [
    {
     "name": "stdout",
     "output_type": "stream",
     "text": [
      "[0, 1, 4, 9, 16, 25, 36, 49, 64, 81]\n"
     ]
    }
   ],
   "source": [
    "liste_1 = []\n",
    "for i in range(10):\n",
    "    liste_1.append(i**2)\n",
    "print(liste_1)"
   ]
  },
  {
   "cell_type": "code",
   "execution_count": 57,
   "metadata": {
    "ExecuteTime": {
     "end_time": "2020-04-22T09:20:19.627514Z",
     "start_time": "2020-04-22T09:20:19.620519Z"
    }
   },
   "outputs": [
    {
     "name": "stdout",
     "output_type": "stream",
     "text": [
      "[0, 1, 4, 9, 16, 25, 36, 49, 64, 81]\n"
     ]
    }
   ],
   "source": [
    "liste_2 = [i**2 for i in range(10)]\n",
    "print(liste_2)"
   ]
  },
  {
   "cell_type": "code",
   "execution_count": 58,
   "metadata": {
    "ExecuteTime": {
     "end_time": "2020-04-22T09:24:01.005096Z",
     "start_time": "2020-04-22T09:24:00.995103Z"
    }
   },
   "outputs": [
    {
     "data": {
      "text/plain": [
       "[[0, 1, 2, 3, 4], [0, 1, 2, 3, 4], [0, 1, 2, 3, 4]]"
      ]
     },
     "execution_count": 58,
     "metadata": {},
     "output_type": "execute_result"
    }
   ],
   "source": [
    "#nested lists\n",
    "liste_3 = [[i for i in range(5)] for j in range (3)]\n",
    "liste_3"
   ]
  },
  {
   "cell_type": "markdown",
   "metadata": {},
   "source": [
    "<p style=\"color: blue; text-align: left; font-weight: bold;font-size:30px; line-height:15px\">Les Dict comprehension</p>"
   ]
  },
  {
   "cell_type": "code",
   "execution_count": 59,
   "metadata": {
    "ExecuteTime": {
     "end_time": "2020-04-22T09:26:56.941957Z",
     "start_time": "2020-04-22T09:26:56.936960Z"
    }
   },
   "outputs": [],
   "source": [
    "prenoms = ['Pierre', 'Guillaume', 'Fatima', 'Awa']"
   ]
  },
  {
   "cell_type": "code",
   "execution_count": 60,
   "metadata": {
    "ExecuteTime": {
     "end_time": "2020-04-22T09:27:48.887226Z",
     "start_time": "2020-04-22T09:27:48.880230Z"
    }
   },
   "outputs": [
    {
     "name": "stdout",
     "output_type": "stream",
     "text": [
      "{0: 'Pierre', 1: 'Guillaume', 2: 'Fatima', 3: 'Awa'}\n"
     ]
    }
   ],
   "source": [
    "dico = {k:v for k,v in enumerate(prenoms)}\n",
    "print(dico)"
   ]
  },
  {
   "cell_type": "code",
   "execution_count": 61,
   "metadata": {
    "ExecuteTime": {
     "end_time": "2020-04-22T09:34:21.207061Z",
     "start_time": "2020-04-22T09:34:21.200066Z"
    }
   },
   "outputs": [
    {
     "data": {
      "text/plain": [
       "dict_keys([0, 1, 2, 3])"
      ]
     },
     "execution_count": 61,
     "metadata": {},
     "output_type": "execute_result"
    }
   ],
   "source": [
    "dico.keys()"
   ]
  },
  {
   "cell_type": "code",
   "execution_count": 62,
   "metadata": {
    "ExecuteTime": {
     "end_time": "2020-04-22T09:34:42.741620Z",
     "start_time": "2020-04-22T09:34:42.733620Z"
    }
   },
   "outputs": [
    {
     "data": {
      "text/plain": [
       "dict_values(['Pierre', 'Guillaume', 'Fatima', 'Awa'])"
      ]
     },
     "execution_count": 62,
     "metadata": {},
     "output_type": "execute_result"
    }
   ],
   "source": [
    "dico.values()"
   ]
  },
  {
   "cell_type": "code",
   "execution_count": 63,
   "metadata": {
    "ExecuteTime": {
     "end_time": "2020-04-22T09:36:25.006805Z",
     "start_time": "2020-04-22T09:36:25.001809Z"
    }
   },
   "outputs": [],
   "source": [
    "ages = [24, 30, 38, 35]"
   ]
  },
  {
   "cell_type": "code",
   "execution_count": 64,
   "metadata": {
    "ExecuteTime": {
     "end_time": "2020-04-22T09:47:34.209848Z",
     "start_time": "2020-04-22T09:47:34.198855Z"
    }
   },
   "outputs": [
    {
     "data": {
      "text/plain": [
       "{'Fatima': 38, 'Awa': 35}"
      ]
     },
     "execution_count": 64,
     "metadata": {},
     "output_type": "execute_result"
    }
   ],
   "source": [
    "dico_2 = {prenom: age for prenom, age in zip(prenoms, ages)if age > 30}\n",
    "dico_2"
   ]
  },
  {
   "cell_type": "markdown",
   "metadata": {},
   "source": [
    "<p style=\"color: blue; text-align: left; font-weight: bold;font-size:30px; line-height:15px\">Les Tuple comprehension</p>"
   ]
  },
  {
   "cell_type": "code",
   "execution_count": 65,
   "metadata": {
    "ExecuteTime": {
     "end_time": "2020-04-22T09:52:32.554755Z",
     "start_time": "2020-04-22T09:52:32.547758Z"
    }
   },
   "outputs": [
    {
     "data": {
      "text/plain": [
       "(0, 1, 4, 9, 16, 25, 36, 49, 64, 81)"
      ]
     },
     "execution_count": 65,
     "metadata": {},
     "output_type": "execute_result"
    }
   ],
   "source": [
    "tuple_1 = tuple((i**2 for i in range(10)))\n",
    "tuple_1"
   ]
  },
  {
   "cell_type": "code",
   "execution_count": 66,
   "metadata": {
    "ExecuteTime": {
     "end_time": "2020-04-22T10:19:12.426724Z",
     "start_time": "2020-04-22T10:19:12.415730Z"
    }
   },
   "outputs": [
    {
     "name": "stdout",
     "output_type": "stream",
     "text": [
      "[0, 1, 2, 3, 4, 5, 6, 7, 8, 9, 10, 11, 12, 13, 14, 15, 16, 17, 18, 19]\n",
      "[0, 1, 4, 9, 16, 25, 36, 49, 64, 81, 100, 121, 144, 169, 196, 225, 256, 289, 324, 361]\n",
      "{0: 0, 1: 1, 2: 4, 3: 9, 4: 16, 5: 25, 6: 36, 7: 49, 8: 64, 9: 81, 10: 100, 11: 121, 12: 144, 13: 169, 14: 196, 15: 225, 16: 256, 17: 289, 18: 324, 19: 361}\n"
     ]
    }
   ],
   "source": [
    "# dictionnaire k:v\n",
    "# k = 0 à 20\n",
    "# v = k **2\n",
    "liste_d= [i for i in range (20)]\n",
    "print(liste_d)\n",
    "liste_e =[i**2 for i in range (20)]\n",
    "print(liste_e)\n",
    "dico_3 = {k:v for k, v in zip (liste_d, liste_e)}\n",
    "print(dico_3)"
   ]
  },
  {
   "cell_type": "code",
   "execution_count": 67,
   "metadata": {},
   "outputs": [],
   "source": [
    "#autre methode\n",
    "carres_pairs= {\n",
    "   str(k) : k**2 for k in range(0,20)\n",
    "}"
   ]
  },
  {
   "cell_type": "code",
   "execution_count": 68,
   "metadata": {},
   "outputs": [
    {
     "name": "stdout",
     "output_type": "stream",
     "text": [
      "{'0': 0, '1': 1, '2': 4, '3': 9, '4': 16, '5': 25, '6': 36, '7': 49, '8': 64, '9': 81, '10': 100, '11': 121, '12': 144, '13': 169, '14': 196, '15': 225, '16': 256, '17': 289, '18': 324, '19': 361}\n"
     ]
    }
   ],
   "source": [
    "print(carres_pairs)"
   ]
  },
  {
   "cell_type": "markdown",
   "metadata": {},
   "source": [
    "## Built in Functions"
   ]
  },
  {
   "cell_type": "code",
   "execution_count": 69,
   "metadata": {},
   "outputs": [
    {
     "data": {
      "text/plain": [
       "-6"
      ]
     },
     "execution_count": 69,
     "metadata": {},
     "output_type": "execute_result"
    }
   ],
   "source": [
    "liste_F= [3,4,-6,67,0]\n",
    "min(liste_F)"
   ]
  },
  {
   "cell_type": "code",
   "execution_count": 70,
   "metadata": {},
   "outputs": [
    {
     "data": {
      "text/plain": [
       "67"
      ]
     },
     "execution_count": 70,
     "metadata": {},
     "output_type": "execute_result"
    }
   ],
   "source": [
    "max(liste_F)"
   ]
  },
  {
   "cell_type": "code",
   "execution_count": 71,
   "metadata": {},
   "outputs": [
    {
     "data": {
      "text/plain": [
       "5"
      ]
     },
     "execution_count": 71,
     "metadata": {},
     "output_type": "execute_result"
    }
   ],
   "source": [
    "len(liste_F)"
   ]
  },
  {
   "cell_type": "code",
   "execution_count": 72,
   "metadata": {},
   "outputs": [
    {
     "data": {
      "text/plain": [
       "68"
      ]
     },
     "execution_count": 72,
     "metadata": {},
     "output_type": "execute_result"
    }
   ],
   "source": [
    "sum(liste_F)"
   ]
  },
  {
   "cell_type": "code",
   "execution_count": 73,
   "metadata": {},
   "outputs": [
    {
     "data": {
      "text/plain": [
       "True"
      ]
     },
     "execution_count": 73,
     "metadata": {},
     "output_type": "execute_result"
    }
   ],
   "source": [
    "any(liste_F)"
   ]
  },
  {
   "cell_type": "code",
   "execution_count": 74,
   "metadata": {},
   "outputs": [
    {
     "data": {
      "text/plain": [
       "False"
      ]
     },
     "execution_count": 74,
     "metadata": {},
     "output_type": "execute_result"
    }
   ],
   "source": [
    "all(liste_F)"
   ]
  },
  {
   "cell_type": "markdown",
   "metadata": {},
   "source": [
    "## Conversion"
   ]
  },
  {
   "cell_type": "code",
   "execution_count": 75,
   "metadata": {},
   "outputs": [
    {
     "data": {
      "text/plain": [
       "int"
      ]
     },
     "execution_count": 75,
     "metadata": {},
     "output_type": "execute_result"
    }
   ],
   "source": [
    "x = 10\n",
    "type(x)"
   ]
  },
  {
   "cell_type": "code",
   "execution_count": 76,
   "metadata": {},
   "outputs": [],
   "source": [
    "x = str(x)"
   ]
  },
  {
   "cell_type": "code",
   "execution_count": 77,
   "metadata": {},
   "outputs": [
    {
     "data": {
      "text/plain": [
       "str"
      ]
     },
     "execution_count": 77,
     "metadata": {},
     "output_type": "execute_result"
    }
   ],
   "source": [
    "type(x)"
   ]
  },
  {
   "cell_type": "code",
   "execution_count": 78,
   "metadata": {},
   "outputs": [],
   "source": [
    "y = '20'\n",
    "y= int(y)"
   ]
  },
  {
   "cell_type": "code",
   "execution_count": 79,
   "metadata": {},
   "outputs": [
    {
     "data": {
      "text/plain": [
       "10.0"
      ]
     },
     "execution_count": 79,
     "metadata": {},
     "output_type": "execute_result"
    }
   ],
   "source": [
    "x = 10\n",
    "float(x)"
   ]
  },
  {
   "cell_type": "code",
   "execution_count": 80,
   "metadata": {},
   "outputs": [],
   "source": [
    " tuple_F =tuple(liste_F)"
   ]
  },
  {
   "cell_type": "code",
   "execution_count": 81,
   "metadata": {},
   "outputs": [
    {
     "data": {
      "text/plain": [
       "[3, 4, -6, 67, 0]"
      ]
     },
     "execution_count": 81,
     "metadata": {},
     "output_type": "execute_result"
    }
   ],
   "source": [
    "list(tuple_F)"
   ]
  },
  {
   "cell_type": "code",
   "execution_count": 82,
   "metadata": {},
   "outputs": [
    {
     "data": {
      "text/plain": [
       "'0b1111'"
      ]
     },
     "execution_count": 82,
     "metadata": {},
     "output_type": "execute_result"
    }
   ],
   "source": [
    "bin(15)"
   ]
  },
  {
   "cell_type": "code",
   "execution_count": 83,
   "metadata": {},
   "outputs": [
    {
     "data": {
      "text/plain": [
       "'0o17'"
      ]
     },
     "execution_count": 83,
     "metadata": {},
     "output_type": "execute_result"
    }
   ],
   "source": [
    "oct(15)"
   ]
  },
  {
   "cell_type": "code",
   "execution_count": 84,
   "metadata": {},
   "outputs": [
    {
     "name": "stdout",
     "output_type": "stream",
     "text": [
      "la température est de 25 degrésC à Paris\n"
     ]
    }
   ],
   "source": [
    "## format\n",
    "x = 25\n",
    "ville = 'Paris'\n",
    "message = \"la température est de {} degrésC à {}\".format(x, ville)\n",
    "print(message)"
   ]
  },
  {
   "cell_type": "code",
   "execution_count": 85,
   "metadata": {},
   "outputs": [],
   "source": [
    "import numpy as np\n",
    "parametres = {\n",
    "    \"W1\": np.random.randn(2,4),\n",
    "    \"b1\": np.zeros((2,1)),\n",
    "    \"W2\": np.random.randn(2,2),\n",
    "    \"b2\":np.zeros((2,1))\n",
    "}"
   ]
  },
  {
   "cell_type": "code",
   "execution_count": 86,
   "metadata": {
    "scrolled": true
   },
   "outputs": [
    {
     "name": "stdout",
     "output_type": "stream",
     "text": [
      "couche 1\n",
      "[[ 0.18084931 -0.73294944  0.37963245 -0.51682132]\n",
      " [ 0.65983073 -0.66306372 -0.52575362  0.19734399]]\n",
      "couche 2\n",
      "[[0.43076086 0.38727648]\n",
      " [1.32495825 2.90844254]]\n"
     ]
    }
   ],
   "source": [
    "for i in range(1,3):\n",
    "    print('couche',i)\n",
    "    print(parametres['W{}'.format(i)])"
   ]
  },
  {
   "cell_type": "markdown",
   "metadata": {},
   "source": [
    "## Open files"
   ]
  },
  {
   "cell_type": "code",
   "execution_count": 87,
   "metadata": {},
   "outputs": [],
   "source": [
    "f = open('fichier.txt','w')"
   ]
  },
  {
   "cell_type": "code",
   "execution_count": 88,
   "metadata": {},
   "outputs": [],
   "source": [
    "f.write('bonjour')\n",
    "f.close()"
   ]
  },
  {
   "cell_type": "code",
   "execution_count": 89,
   "metadata": {},
   "outputs": [
    {
     "name": "stdout",
     "output_type": "stream",
     "text": [
      "bonjour\n"
     ]
    },
    {
     "data": {
      "text/plain": [
       "<function TextIOWrapper.close()>"
      ]
     },
     "execution_count": 89,
     "metadata": {},
     "output_type": "execute_result"
    }
   ],
   "source": [
    "f = open('fichier.txt','r')\n",
    "print(f.read())\n",
    "f.close"
   ]
  },
  {
   "cell_type": "code",
   "execution_count": 90,
   "metadata": {},
   "outputs": [],
   "source": [
    "#on utilise la boucle with open pour faire tout ce qu'il faut faire \n",
    "with open('fichier.txt', 'w') as f:\n",
    "    for i in range(10):\n",
    "        f.write(\"{}^2 = {}\\n\".format(i, i**2))"
   ]
  },
  {
   "cell_type": "code",
   "execution_count": 91,
   "metadata": {},
   "outputs": [
    {
     "data": {
      "text/plain": [
       "['0^2 = 0\\n',\n",
       " '1^2 = 1\\n',\n",
       " '2^2 = 4\\n',\n",
       " '3^2 = 9\\n',\n",
       " '4^2 = 16\\n',\n",
       " '5^2 = 25\\n',\n",
       " '6^2 = 36\\n',\n",
       " '7^2 = 49\\n',\n",
       " '8^2 = 64\\n',\n",
       " '9^2 = 81\\n']"
      ]
     },
     "execution_count": 91,
     "metadata": {},
     "output_type": "execute_result"
    }
   ],
   "source": [
    "#ouvrir tous les elements de mon fichier et les mettre dans une liste \n",
    "with open ('fichier.txt', 'r') as f :\n",
    "           listf= f.readlines()\n",
    "listf\n",
    "                "
   ]
  },
  {
   "cell_type": "code",
   "execution_count": 92,
   "metadata": {},
   "outputs": [
    {
     "data": {
      "text/plain": [
       "['0^2 = 0',\n",
       " '1^2 = 1',\n",
       " '2^2 = 4',\n",
       " '3^2 = 9',\n",
       " '4^2 = 16',\n",
       " '5^2 = 25',\n",
       " '6^2 = 36',\n",
       " '7^2 = 49',\n",
       " '8^2 = 64',\n",
       " '9^2 = 81']"
      ]
     },
     "execution_count": 92,
     "metadata": {},
     "output_type": "execute_result"
    }
   ],
   "source": [
    "#pour enlever le \\n\n",
    "with open ('fichier.txt','r') as f:\n",
    "    listf= f.read().splitlines()\n",
    "listf"
   ]
  },
  {
   "cell_type": "code",
   "execution_count": 93,
   "metadata": {},
   "outputs": [
    {
     "data": {
      "text/plain": [
       "['0^2 = 0',\n",
       " '1^2 = 1',\n",
       " '2^2 = 4',\n",
       " '3^2 = 9',\n",
       " '4^2 = 16',\n",
       " '5^2 = 25',\n",
       " '6^2 = 36',\n",
       " '7^2 = 49',\n",
       " '8^2 = 64',\n",
       " '9^2 = 81']"
      ]
     },
     "execution_count": 93,
     "metadata": {},
     "output_type": "execute_result"
    }
   ],
   "source": [
    "#avec une liste comprehension\n",
    "listf = [lines.strip() for lines in open('fichier.txt','r')]\n",
    "listf"
   ]
  },
  {
   "cell_type": "markdown",
   "metadata": {},
   "source": [
    "<p style=\"color: blue; text-align: left; font-weight: bold; font-size:25px; line-height:20px\">Modules et packages</p>\n"
   ]
  },
  {
   "cell_type": "code",
   "execution_count": 94,
   "metadata": {},
   "outputs": [],
   "source": [
    "import random"
   ]
  },
  {
   "cell_type": "code",
   "execution_count": 95,
   "metadata": {},
   "outputs": [
    {
     "name": "stdout",
     "output_type": "stream",
     "text": [
      "marc\n"
     ]
    }
   ],
   "source": [
    "random.seed(0)\n",
    "print(random.choice(['jean','marc','julie']))"
   ]
  },
  {
   "cell_type": "code",
   "execution_count": 96,
   "metadata": {},
   "outputs": [],
   "source": [
    "random.seed(3)\n",
    "random.random()#float\n",
    "random.randint(3,67)#int\n",
    "random.randrange(100)#int entre 0 et 100\n",
    "random.sample(range(100),10)#list entre 0 et 100 de 10 chiffres\n",
    "random.sample(range(100), random.randrange(10))#list entre 0 et 100 nombre de chiffres aletaoiree123\n",
    "liste123 = [3,56,78,9,4,6,8,3]\n",
    "allo = random.shuffle(liste123)"
   ]
  },
  {
   "cell_type": "code",
   "execution_count": 97,
   "metadata": {},
   "outputs": [
    {
     "name": "stdout",
     "output_type": "stream",
     "text": [
      "[56, 6, 3, 3, 9, 4, 8, 78]\n"
     ]
    }
   ],
   "source": [
    "print(liste123)"
   ]
  },
  {
   "cell_type": "code",
   "execution_count": 98,
   "metadata": {},
   "outputs": [],
   "source": [
    "import os"
   ]
  },
  {
   "cell_type": "code",
   "execution_count": 99,
   "metadata": {},
   "outputs": [
    {
     "data": {
      "text/plain": [
       "'C:\\\\Users\\\\TURBULANCE\\\\PYTHON_CLSM\\\\01_DIFFERENT\\\\01\\\\python_base_FatimaMoqran\\\\python_base-master'"
      ]
     },
     "execution_count": 99,
     "metadata": {},
     "output_type": "execute_result"
    }
   ],
   "source": [
    "os.getcwd() #savoir ou on se situe dans le répertoire"
   ]
  },
  {
   "cell_type": "code",
   "execution_count": 100,
   "metadata": {},
   "outputs": [],
   "source": [
    "import glob"
   ]
  },
  {
   "cell_type": "code",
   "execution_count": 101,
   "metadata": {},
   "outputs": [
    {
     "data": {
      "text/plain": [
       "['fichier.txt',\n",
       " 'python_basics-Copy1.ipynb',\n",
       " 'python_basics.ipynb',\n",
       " 'README.md']"
      ]
     },
     "execution_count": 101,
     "metadata": {},
     "output_type": "execute_result"
    }
   ],
   "source": [
    "glob.glob('*')#connaitre tous les fichiers de mon répertoire"
   ]
  },
  {
   "cell_type": "code",
   "execution_count": 102,
   "metadata": {},
   "outputs": [],
   "source": [
    "filesnames = glob.glob(\"*.txt\")"
   ]
  },
  {
   "cell_type": "code",
   "execution_count": 103,
   "metadata": {},
   "outputs": [
    {
     "name": "stdout",
     "output_type": "stream",
     "text": [
      "0^2 = 0\n",
      "1^2 = 1\n",
      "2^2 = 4\n",
      "3^2 = 9\n",
      "4^2 = 16\n",
      "5^2 = 25\n",
      "6^2 = 36\n",
      "7^2 = 49\n",
      "8^2 = 64\n",
      "9^2 = 81\n",
      "\n"
     ]
    }
   ],
   "source": [
    "for file in filesnames:\n",
    "    with open(file,'r') as f:\n",
    "        print(f.read())"
   ]
  },
  {
   "cell_type": "markdown",
   "metadata": {},
   "source": [
    "### petit programme utile "
   ]
  },
  {
   "cell_type": "code",
   "execution_count": 104,
   "metadata": {},
   "outputs": [],
   "source": [
    "#utiliser cette technique : enregistrer dans une varaiables tout le contenu qui nous viens de fichierer s\n",
    "#pour chaque fichier enregistrer le contenu dans nos variables\n",
    "d={}\n",
    "for file in filesnames:\n",
    "    with open(file,'r') as f:\n",
    "        d[file] = f.read().splitlines()"
   ]
  },
  {
   "cell_type": "code",
   "execution_count": 105,
   "metadata": {},
   "outputs": [
    {
     "name": "stdout",
     "output_type": "stream",
     "text": [
      "{'fichier.txt': ['0^2 = 0', '1^2 = 1', '2^2 = 4', '3^2 = 9', '4^2 = 16', '5^2 = 25', '6^2 = 36', '7^2 = 49', '8^2 = 64', '9^2 = 81']}\n"
     ]
    }
   ],
   "source": [
    "print(d)"
   ]
  },
  {
   "cell_type": "code",
   "execution_count": null,
   "metadata": {},
   "outputs": [],
   "source": []
  }
 ],
 "metadata": {
  "hide_input": false,
  "kernelspec": {
   "display_name": "Python 3 (ipykernel)",
   "language": "python",
   "name": "python3"
  },
  "language_info": {
   "codemirror_mode": {
    "name": "ipython",
    "version": 3
   },
   "file_extension": ".py",
   "mimetype": "text/x-python",
   "name": "python",
   "nbconvert_exporter": "python",
   "pygments_lexer": "ipython3",
   "version": "3.9.7"
  },
  "toc": {
   "base_numbering": 1,
   "nav_menu": {},
   "number_sections": true,
   "sideBar": true,
   "skip_h1_title": false,
   "title_cell": "Table of Contents",
   "title_sidebar": "Contents",
   "toc_cell": false,
   "toc_position": {},
   "toc_section_display": true,
   "toc_window_display": true
  },
  "varInspector": {
   "cols": {
    "lenName": 16,
    "lenType": 16,
    "lenVar": 40
   },
   "kernels_config": {
    "python": {
     "delete_cmd_postfix": "",
     "delete_cmd_prefix": "del ",
     "library": "var_list.py",
     "varRefreshCmd": "print(var_dic_list())"
    },
    "r": {
     "delete_cmd_postfix": ") ",
     "delete_cmd_prefix": "rm(",
     "library": "var_list.r",
     "varRefreshCmd": "cat(var_dic_list()) "
    }
   },
   "position": {
    "height": "222.86px",
    "left": "977px",
    "right": "20px",
    "top": "120px",
    "width": "369px"
   },
   "types_to_exclude": [
    "module",
    "function",
    "builtin_function_or_method",
    "instance",
    "_Feature"
   ],
   "window_display": false
  }
 },
 "nbformat": 4,
 "nbformat_minor": 4
}
