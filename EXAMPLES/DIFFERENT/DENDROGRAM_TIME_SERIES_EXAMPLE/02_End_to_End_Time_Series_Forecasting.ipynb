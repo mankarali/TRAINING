{
 "cells": [
  {
   "cell_type": "markdown",
   "id": "877c4f48",
   "metadata": {},
   "source": [
    "# End-to-End Time Series Forecasting Project with TBATS and Pandas in Python"
   ]
  },
  {
   "cell_type": "markdown",
   "id": "850097b2",
   "metadata": {},
   "source": [
    "TBATS is a very powerful and flexible time series modelling method. It allows for multiple seasonalities and data with non-constant variance (heteroscedastic). A theoretical treatment of the model is given here, and this article focuses on its implementation in a larger project. In python, this powerful technique can be implemented in just a few lines of code. The following exercise was given as an interview question to me, and it is an interesting problem due to the anomalies and complexity of the data."
   ]
  },
  {
   "cell_type": "markdown",
   "id": "2aad3b40",
   "metadata": {},
   "source": [
    "**The Data**"
   ]
  },
  {
   "cell_type": "markdown",
   "id": "2f937875",
   "metadata": {},
   "source": [
    "The Data\n",
    "The Austin MetroBike dataset contains every bike trip in the Austin MetroBike system from 2014 until the present. In this exercise, we will use 2014–2020 to train the model and predict 2021 values, which can be compared with the published data for 2021 to validate the model."
   ]
  },
  {
   "cell_type": "code",
   "execution_count": null,
   "id": "37774ed1",
   "metadata": {},
   "outputs": [],
   "source": []
  },
  {
   "cell_type": "markdown",
   "id": "8d19232c",
   "metadata": {},
   "source": [
    "**Required Packages**\n",
    "- Pandas\n",
    "- numpy\n",
    "- matplotlib\n",
    "- TBATS\n",
    "\n",
    "\n",
    "-\n",
    "\n",
    "\n",
    "\n",
    "**Data Preparation**\n",
    "\n",
    "After we have downloaded Austin_MetroBike_Trips.csv, we import it using pandas."
   ]
  },
  {
   "cell_type": "code",
   "execution_count": null,
   "id": "a377e09e",
   "metadata": {},
   "outputs": [],
   "source": []
  },
  {
   "cell_type": "code",
   "execution_count": null,
   "id": "8e6cfa39",
   "metadata": {},
   "outputs": [],
   "source": []
  },
  {
   "cell_type": "code",
   "execution_count": 1,
   "id": "2b3a7c0a",
   "metadata": {},
   "outputs": [],
   "source": [
    "import pandas as pd\n",
    "import numpy as np\n",
    "from matplotlib import pyplot as plt\n",
    "from tbats import TBATS"
   ]
  },
  {
   "cell_type": "markdown",
   "id": "13bc9dcd",
   "metadata": {},
   "source": [
    "The dates need to be converted from strings to datetime objects to be useful. The following code converts the checkout dates to datetimes and then adds the checkout time to them to get a datetime object."
   ]
  },
  {
   "cell_type": "code",
   "execution_count": 3,
   "id": "77b35942",
   "metadata": {},
   "outputs": [
    {
     "name": "stderr",
     "output_type": "stream",
     "text": [
      "C:\\Users\\TURBULENCE\\anaconda3\\lib\\site-packages\\IPython\\core\\interactiveshell.py:3444: DtypeWarning: Columns (2,8) have mixed types.Specify dtype option on import or set low_memory=False.\n",
      "  exec(code_obj, self.user_global_ns, self.user_ns)\n"
     ]
    }
   ],
   "source": [
    "df = pd.read_csv('Austin_MetroBike_Trips.csv')"
   ]
  },
  {
   "cell_type": "code",
   "execution_count": 4,
   "id": "dfb202ff",
   "metadata": {},
   "outputs": [
    {
     "data": {
      "text/html": [
       "<div>\n",
       "<style scoped>\n",
       "    .dataframe tbody tr th:only-of-type {\n",
       "        vertical-align: middle;\n",
       "    }\n",
       "\n",
       "    .dataframe tbody tr th {\n",
       "        vertical-align: top;\n",
       "    }\n",
       "\n",
       "    .dataframe thead th {\n",
       "        text-align: right;\n",
       "    }\n",
       "</style>\n",
       "<table border=\"1\" class=\"dataframe\">\n",
       "  <thead>\n",
       "    <tr style=\"text-align: right;\">\n",
       "      <th></th>\n",
       "      <th>Trip ID</th>\n",
       "      <th>Membership Type</th>\n",
       "      <th>Bicycle ID</th>\n",
       "      <th>Bike Type</th>\n",
       "      <th>Checkout Date</th>\n",
       "      <th>Checkout Time</th>\n",
       "      <th>Checkout Kiosk ID</th>\n",
       "      <th>Checkout Kiosk</th>\n",
       "      <th>Return Kiosk ID</th>\n",
       "      <th>Return Kiosk</th>\n",
       "      <th>Trip Duration Minutes</th>\n",
       "      <th>Month</th>\n",
       "      <th>Year</th>\n",
       "    </tr>\n",
       "  </thead>\n",
       "  <tbody>\n",
       "    <tr>\n",
       "      <th>0</th>\n",
       "      <td>9900285854</td>\n",
       "      <td>Annual (San Antonio B-cycle)</td>\n",
       "      <td>207.0</td>\n",
       "      <td>NaN</td>\n",
       "      <td>10/26/2014</td>\n",
       "      <td>13:12:00</td>\n",
       "      <td>2537.0</td>\n",
       "      <td>West &amp; 6th St.</td>\n",
       "      <td>2707.0</td>\n",
       "      <td>Rainey St @ Cummings</td>\n",
       "      <td>76</td>\n",
       "      <td>10.0</td>\n",
       "      <td>2014.0</td>\n",
       "    </tr>\n",
       "    <tr>\n",
       "      <th>1</th>\n",
       "      <td>9900285855</td>\n",
       "      <td>24-Hour Kiosk (Austin B-cycle)</td>\n",
       "      <td>969.0</td>\n",
       "      <td>NaN</td>\n",
       "      <td>10/26/2014</td>\n",
       "      <td>13:12:00</td>\n",
       "      <td>2498.0</td>\n",
       "      <td>Convention Center / 4th St. @ MetroRail</td>\n",
       "      <td>2566.0</td>\n",
       "      <td>Pfluger Bridge @ W 2nd Street</td>\n",
       "      <td>58</td>\n",
       "      <td>10.0</td>\n",
       "      <td>2014.0</td>\n",
       "    </tr>\n",
       "    <tr>\n",
       "      <th>2</th>\n",
       "      <td>9900285856</td>\n",
       "      <td>Annual Membership (Austin B-cycle)</td>\n",
       "      <td>214.0</td>\n",
       "      <td>NaN</td>\n",
       "      <td>10/26/2014</td>\n",
       "      <td>13:12:00</td>\n",
       "      <td>2537.0</td>\n",
       "      <td>West &amp; 6th St.</td>\n",
       "      <td>2496.0</td>\n",
       "      <td>8th &amp; Congress</td>\n",
       "      <td>8</td>\n",
       "      <td>10.0</td>\n",
       "      <td>2014.0</td>\n",
       "    </tr>\n",
       "    <tr>\n",
       "      <th>3</th>\n",
       "      <td>9900285857</td>\n",
       "      <td>24-Hour Kiosk (Austin B-cycle)</td>\n",
       "      <td>745.0</td>\n",
       "      <td>NaN</td>\n",
       "      <td>10/26/2014</td>\n",
       "      <td>13:12:00</td>\n",
       "      <td>NaN</td>\n",
       "      <td>Zilker Park at Barton Springs &amp; William Barton...</td>\n",
       "      <td>NaN</td>\n",
       "      <td>Zilker Park at Barton Springs &amp; William Barton...</td>\n",
       "      <td>28</td>\n",
       "      <td>10.0</td>\n",
       "      <td>2014.0</td>\n",
       "    </tr>\n",
       "    <tr>\n",
       "      <th>4</th>\n",
       "      <td>9900285858</td>\n",
       "      <td>24-Hour Kiosk (Austin B-cycle)</td>\n",
       "      <td>164.0</td>\n",
       "      <td>NaN</td>\n",
       "      <td>10/26/2014</td>\n",
       "      <td>13:12:00</td>\n",
       "      <td>2538.0</td>\n",
       "      <td>Bullock Museum @ Congress &amp; MLK</td>\n",
       "      <td>NaN</td>\n",
       "      <td>Convention Center/ 3rd &amp; Trinity</td>\n",
       "      <td>15</td>\n",
       "      <td>10.0</td>\n",
       "      <td>2014.0</td>\n",
       "    </tr>\n",
       "  </tbody>\n",
       "</table>\n",
       "</div>"
      ],
      "text/plain": [
       "      Trip ID                     Membership Type Bicycle ID  Bike Type  \\\n",
       "0  9900285854        Annual (San Antonio B-cycle)      207.0        NaN   \n",
       "1  9900285855      24-Hour Kiosk (Austin B-cycle)      969.0        NaN   \n",
       "2  9900285856  Annual Membership (Austin B-cycle)      214.0        NaN   \n",
       "3  9900285857      24-Hour Kiosk (Austin B-cycle)      745.0        NaN   \n",
       "4  9900285858      24-Hour Kiosk (Austin B-cycle)      164.0        NaN   \n",
       "\n",
       "  Checkout Date Checkout Time  Checkout Kiosk ID  \\\n",
       "0    10/26/2014      13:12:00             2537.0   \n",
       "1    10/26/2014      13:12:00             2498.0   \n",
       "2    10/26/2014      13:12:00             2537.0   \n",
       "3    10/26/2014      13:12:00                NaN   \n",
       "4    10/26/2014      13:12:00             2538.0   \n",
       "\n",
       "                                      Checkout Kiosk Return Kiosk ID  \\\n",
       "0                                     West & 6th St.          2707.0   \n",
       "1            Convention Center / 4th St. @ MetroRail          2566.0   \n",
       "2                                     West & 6th St.          2496.0   \n",
       "3  Zilker Park at Barton Springs & William Barton...             NaN   \n",
       "4                    Bullock Museum @ Congress & MLK             NaN   \n",
       "\n",
       "                                        Return Kiosk  Trip Duration Minutes  \\\n",
       "0                               Rainey St @ Cummings                     76   \n",
       "1                      Pfluger Bridge @ W 2nd Street                     58   \n",
       "2                                     8th & Congress                      8   \n",
       "3  Zilker Park at Barton Springs & William Barton...                     28   \n",
       "4                   Convention Center/ 3rd & Trinity                     15   \n",
       "\n",
       "   Month    Year  \n",
       "0   10.0  2014.0  \n",
       "1   10.0  2014.0  \n",
       "2   10.0  2014.0  \n",
       "3   10.0  2014.0  \n",
       "4   10.0  2014.0  "
      ]
     },
     "execution_count": 4,
     "metadata": {},
     "output_type": "execute_result"
    }
   ],
   "source": [
    "df.head()"
   ]
  },
  {
   "cell_type": "code",
   "execution_count": 5,
   "id": "c9406c29",
   "metadata": {},
   "outputs": [
    {
     "data": {
      "text/plain": [
       "<bound method DataFrame.info of             Trip ID                     Membership Type Bicycle ID  Bike Type  \\\n",
       "0        9900285854        Annual (San Antonio B-cycle)      207.0        NaN   \n",
       "1        9900285855      24-Hour Kiosk (Austin B-cycle)      969.0        NaN   \n",
       "2        9900285856  Annual Membership (Austin B-cycle)      214.0        NaN   \n",
       "3        9900285857      24-Hour Kiosk (Austin B-cycle)      745.0        NaN   \n",
       "4        9900285858      24-Hour Kiosk (Austin B-cycle)      164.0        NaN   \n",
       "...             ...                                 ...        ...        ...   \n",
       "1424781    24702889                     3-Day Weekender      19199        NaN   \n",
       "1424782    24712544                             Local31      19645        NaN   \n",
       "1424783    24717888                24 Hour Walk Up Pass      21630        NaN   \n",
       "1424784    24504080                             Local31      19090        NaN   \n",
       "1424785    24679122                             Local31      21772        NaN   \n",
       "\n",
       "        Checkout Date Checkout Time  Checkout Kiosk ID  \\\n",
       "0          10/26/2014      13:12:00             2537.0   \n",
       "1          10/26/2014      13:12:00             2498.0   \n",
       "2          10/26/2014      13:12:00             2537.0   \n",
       "3          10/26/2014      13:12:00                NaN   \n",
       "4          10/26/2014      13:12:00             2538.0   \n",
       "...               ...           ...                ...   \n",
       "1424781    07/29/2021      18:28:22             3390.0   \n",
       "1424782    07/30/2021      20:52:00             3793.0   \n",
       "1424783    07/31/2021      13:43:47             4061.0   \n",
       "1424784    07/05/2021      19:27:13             3621.0   \n",
       "1424785    07/26/2021      16:18:45             4938.0   \n",
       "\n",
       "                                            Checkout Kiosk Return Kiosk ID  \\\n",
       "0                                           West & 6th St.          2707.0   \n",
       "1                  Convention Center / 4th St. @ MetroRail          2566.0   \n",
       "2                                           West & 6th St.          2496.0   \n",
       "3        Zilker Park at Barton Springs & William Barton...             NaN   \n",
       "4                          Bullock Museum @ Congress & MLK             NaN   \n",
       "...                                                    ...             ...   \n",
       "1424781                                         6th/Brazos            2565   \n",
       "1424782                                    28th/Rio Grande            3793   \n",
       "1424783                            Lakeshore/Austin Hostel            4061   \n",
       "1424784                                         3rd/Nueces            4050   \n",
       "1424785                                    22.5/Rio Grande            3793   \n",
       "\n",
       "                                              Return Kiosk  \\\n",
       "0                                     Rainey St @ Cummings   \n",
       "1                            Pfluger Bridge @ W 2nd Street   \n",
       "2                                           8th & Congress   \n",
       "3        Zilker Park at Barton Springs & William Barton...   \n",
       "4                         Convention Center/ 3rd & Trinity   \n",
       "...                                                    ...   \n",
       "1424781                                        6th/Trinity   \n",
       "1424782                                    28th/Rio Grande   \n",
       "1424783                            Lakeshore/Austin Hostel   \n",
       "1424784                                       5th/Campbell   \n",
       "1424785                                    28th/Rio Grande   \n",
       "\n",
       "         Trip Duration Minutes  Month    Year  \n",
       "0                           76   10.0  2014.0  \n",
       "1                           58   10.0  2014.0  \n",
       "2                            8   10.0  2014.0  \n",
       "3                           28   10.0  2014.0  \n",
       "4                           15   10.0  2014.0  \n",
       "...                        ...    ...     ...  \n",
       "1424781                     27    NaN     NaN  \n",
       "1424782                     55    NaN     NaN  \n",
       "1424783                     84    NaN     NaN  \n",
       "1424784                     11    NaN     NaN  \n",
       "1424785                      3    NaN     NaN  \n",
       "\n",
       "[1424786 rows x 13 columns]>"
      ]
     },
     "execution_count": 5,
     "metadata": {},
     "output_type": "execute_result"
    }
   ],
   "source": [
    "df.info"
   ]
  },
  {
   "cell_type": "code",
   "execution_count": 6,
   "id": "da806760",
   "metadata": {},
   "outputs": [],
   "source": [
    "df['start_dt'] = pd.to_datetime(df['Checkout Date']) + pd.to_timedelta(df['Checkout Time'])"
   ]
  },
  {
   "cell_type": "markdown",
   "id": "56f5e34c",
   "metadata": {},
   "source": [
    "To make the data useful, converting it from a list of points to a frequency per time period is necessary. I chose monthly frequency here, but weekly frequency can work too."
   ]
  },
  {
   "cell_type": "code",
   "execution_count": 7,
   "id": "e75dd834",
   "metadata": {},
   "outputs": [
    {
     "data": {
      "text/plain": [
       "[<matplotlib.lines.Line2D at 0x22746779640>]"
      ]
     },
     "execution_count": 7,
     "metadata": {},
     "output_type": "execute_result"
    },
    {
     "data": {
      "image/png": "[encoded data removed]",
      "text/plain": [
       "<Figure size 432x288 with 1 Axes>"
      ]
     },
     "metadata": {
      "needs_background": "light"
     },
     "output_type": "display_data"
    }
   ],
   "source": [
    "df = df.sort_values('start_dt').set_index('start_dt')\n",
    "monthly_freq = df.resample('m').size()\n",
    "plt.plot(monthly_freq)"
   ]
  },
  {
   "cell_type": "markdown",
   "id": "9d898ba9",
   "metadata": {},
   "source": [
    "This visualization informs us of a few characteristics of this data\n",
    "\n",
    "\n",
    "* Seasonality — Bike trips peak at certain types of the year and dip at others, and this pattern is repeated every year. This is intuitive given changes in weather over the year.\n",
    "* Heteroscedasticity— There are ways to test for heteroscedasticity, but the massive spike in rides compared to the rest of the data in 2018 and the relatively constant year of 2020 inform us of this visually. This limits the range of models we can use\n",
    "* Anomalies — During 2016 and 2017, we see a month of zero rides. We can assume that this is not due to every cyclist giving up bike riding in those months, and rather due to a data anomaly. We will interpolate over those points to improve the accuracy of our forecast\n",
    "\n",
    "\n",
    "The following lines fill weeks of 0 ridership with NaNs, and interpolate them using the surrounding weeks"
   ]
  },
  {
   "cell_type": "code",
   "execution_count": 8,
   "id": "bd541779",
   "metadata": {},
   "outputs": [],
   "source": [
    "monthly_freq[monthly_freq == 0] = np.nan\n",
    "monthly_freq = monthly_freq.interpolate()"
   ]
  },
  {
   "cell_type": "markdown",
   "id": "647e8b57",
   "metadata": {},
   "source": [
    "**Seasonality**\n",
    "\n",
    "We should expect roughly a 1 year seasonality in biking due to changes in the seasons. We can confirm this via the autocorrelation function."
   ]
  },
  {
   "cell_type": "code",
   "execution_count": 9,
   "id": "b19b176f",
   "metadata": {},
   "outputs": [
    {
     "data": {
      "text/plain": [
       "<AxesSubplot:xlabel='Lag', ylabel='Autocorrelation'>"
      ]
     },
     "execution_count": 9,
     "metadata": {},
     "output_type": "execute_result"
    },
    {
     "data": {
      "image/png": "[encoded data removed]",
      "text/plain": [
       "<Figure size 432x288 with 1 Axes>"
      ]
     },
     "metadata": {
      "needs_background": "light"
     },
     "output_type": "display_data"
    }
   ],
   "source": [
    "pd.plotting.autocorrelation_plot(monthly_freq)"
   ]
  },
  {
   "cell_type": "code",
   "execution_count": null,
   "id": "96f9cd46",
   "metadata": {},
   "outputs": [],
   "source": []
  },
  {
   "cell_type": "markdown",
   "id": "a389d6cd",
   "metadata": {},
   "source": [
    "The spike at 12 months confirms this. What this plot is showing is that ridership will correlate with ridership 12 months ahead of it — since our data is in monthly frequency, this is a year.\n",
    "\n",
    "**Forecasting with TBATS**\n",
    "\n",
    "The last step was done since we need to know the seasonality of the data for TBATS to work. The following code creates our estimator object.\n",
    "estimator = TBATS(seasonal_periods=[12])"
   ]
  },
  {
   "cell_type": "code",
   "execution_count": null,
   "id": "49751895",
   "metadata": {},
   "outputs": [],
   "source": []
  },
  {
   "cell_type": "code",
   "execution_count": 10,
   "id": "d5766b32",
   "metadata": {},
   "outputs": [],
   "source": [
    "estimator = TBATS(seasonal_periods=[12])"
   ]
  },
  {
   "cell_type": "markdown",
   "id": "79912cb8",
   "metadata": {},
   "source": [
    "We want to create a training set to forecast from, using data from 2014–2020."
   ]
  },
  {
   "cell_type": "code",
   "execution_count": 11,
   "id": "5c11d02c",
   "metadata": {},
   "outputs": [],
   "source": [
    "train_set = monthly_freq[:'2020-12-31']"
   ]
  },
  {
   "cell_type": "markdown",
   "id": "0de9d70d",
   "metadata": {},
   "source": [
    "The following code fits our TBATS model to our data."
   ]
  },
  {
   "cell_type": "code",
   "execution_count": 12,
   "id": "f67915e9",
   "metadata": {},
   "outputs": [],
   "source": [
    "fitted_model = estimator.fit(train_set)"
   ]
  },
  {
   "cell_type": "markdown",
   "id": "760a4976",
   "metadata": {},
   "source": [
    "Now we can forecast 1 year (12 periods) ahead"
   ]
  },
  {
   "cell_type": "code",
   "execution_count": 13,
   "id": "7008c1c1",
   "metadata": {},
   "outputs": [],
   "source": [
    "y_forecasted = fitted_model.forecast(steps=12)"
   ]
  },
  {
   "cell_type": "markdown",
   "id": "5ee2ad5e",
   "metadata": {},
   "source": [
    "We want to attach dates to these forecasts for easier plotting. pd.date_range creates a range of dates from a start date, number of periods, and a frequency."
   ]
  },
  {
   "cell_type": "code",
   "execution_count": 18,
   "id": "6e1a9603",
   "metadata": {},
   "outputs": [],
   "source": [
    "monthly_index = pd.date_range(\n",
    "            pd.to_datetime('2021-01-01'),\n",
    "            periods=12,\n",
    "            freq='m')\n",
    "forecasted_data = pd.DataFrame(\n",
    "            y_forecasted,\n",
    "            index=monthly_index)"
   ]
  },
  {
   "cell_type": "markdown",
   "id": "29990f44",
   "metadata": {},
   "source": [
    "**Results and Analysis**\n",
    "\n",
    "Plotting our forecast against the ridership data for 2021 is done in matplotlib"
   ]
  },
  {
   "cell_type": "code",
   "execution_count": 15,
   "id": "3bd74049",
   "metadata": {},
   "outputs": [
    {
     "data": {
      "text/plain": [
       "<matplotlib.legend.Legend at 0x22746acee50>"
      ]
     },
     "execution_count": 15,
     "metadata": {},
     "output_type": "execute_result"
    },
    {
     "data": {
      "image/png": "[encoded data removed]",
      "text/plain": [
       "<Figure size 432x288 with 1 Axes>"
      ]
     },
     "metadata": {
      "needs_background": "light"
     },
     "output_type": "display_data"
    }
   ],
   "source": [
    "plt.plot(forecasted_data, label='Forecasted')\n",
    "plt.plot(monthly_freq['2021-01-01':], label='Actual')\n",
    "plt.xlabel('Date')\n",
    "plt.ylabel('Monthly Ridership')\n",
    "plt.ylim(bottom=0)\n",
    "plt.legend()"
   ]
  },
  {
   "cell_type": "markdown",
   "id": "11ab64ab",
   "metadata": {},
   "source": [
    "There are a range of metrics for quantifying time series error. In this example, I will use Mean Absolute Percentage Error (MAPE) since percentage errors eliminate the scale of the data. This can be done since the data is always positive, but in cases where the data can be 0, this metric cannot be used due to potential division by zero errors. In that case, Root Mean Squared Error (RMSE) or similar metrics can be used. Since there are only 7 data points from 2021 published so far, we will take the first 7 months of 2021’s forecasted data for this metric."
   ]
  },
  {
   "cell_type": "code",
   "execution_count": 19,
   "id": "927c23fc",
   "metadata": {},
   "outputs": [
    {
     "name": "stdout",
     "output_type": "stream",
     "text": [
      "MAPE: 23.668170602385217%\n"
     ]
    }
   ],
   "source": [
    "y_true = np.array(monthly_freq['2021-01-01':].to_numpy())\n",
    "y_pred = y_forecasted[:7]\n",
    "MAPE = np.mean(np.abs((y_true - y_pred) / y_true)) * 100\n",
    "print(f\"MAPE: {MAPE}%\")"
   ]
  },
  {
   "cell_type": "markdown",
   "id": "2f14d5b8",
   "metadata": {},
   "source": [
    "Gives a MAPE of 23.6%. This number can then be used to compare the efficacy of this approach vs other types of suitable time series models such as GARCH."
   ]
  },
  {
   "cell_type": "code",
   "execution_count": null,
   "id": "56128689",
   "metadata": {},
   "outputs": [],
   "source": []
  }
 ],
 "metadata": {
  "kernelspec": {
   "display_name": "Python 3 (ipykernel)",
   "language": "python",
   "name": "python3"
  },
  "language_info": {
   "codemirror_mode": {
    "name": "ipython",
    "version": 3
   },
   "file_extension": ".py",
   "mimetype": "text/x-python",
   "name": "python",
   "nbconvert_exporter": "python",
   "pygments_lexer": "ipython3",
   "version": "3.9.7"
  },
  "toc": {
   "base_numbering": 1,
   "nav_menu": {},
   "number_sections": true,
   "sideBar": true,
   "skip_h1_title": false,
   "title_cell": "Table of Contents",
   "title_sidebar": "Contents",
   "toc_cell": false,
   "toc_position": {},
   "toc_section_display": true,
   "toc_window_display": false
  }
 },
 "nbformat": 4,
 "nbformat_minor": 5
}
