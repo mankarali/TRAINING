{
 "cells": [
  {
   "cell_type": "code",
   "execution_count": 1,
   "metadata": {},
   "outputs": [
    {
     "name": "stdout",
     "output_type": "stream",
     "text": [
      "[813.72492805]\n"
     ]
    },
    {
     "data": {
      "text/plain": [
       "'\\n[1289.34225619]\\n'"
      ]
     },
     "execution_count": 1,
     "metadata": {},
     "output_type": "execute_result"
    }
   ],
   "source": [
    "# Neural Network Analysis in One Line\n",
    "\n",
    "\n",
    "## Dependencies\n",
    "from sklearn.neural_network import MLPRegressor\n",
    "import numpy as np\n",
    "\n",
    "## Questionaire data (WEEK, YEARS, BOOKS, PROJECTS, EARN, RATING)\n",
    "X = np.array(\n",
    "    [[20, 11, 20, 30, 4000, 3000],\n",
    "     [12, 4, 0, 0, 1000, 1500],\n",
    "     [2, 0, 1, 10, 0, 1400],\n",
    "     [35, 5, 10, 70, 6000, 3800],\n",
    "     [30, 1, 4, 65, 0, 3900],\n",
    "     [35, 1, 0, 0, 0, 100],\n",
    "     [15, 1, 2, 25, 0, 3700],\n",
    "     [40, 3, -1, 60, 1000, 2000],\n",
    "     [40, 1, 2, 95, 0, 1000],\n",
    "     [10, 0, 0, 0, 0, 1400],\n",
    "     [30, 1, 0, 50, 0, 1700],\n",
    "     [1, 0, 0, 45, 0, 1762],\n",
    "     [10, 32, 10, 5, 0, 2400],\n",
    "     [5, 35, 4, 0, 13000, 3900],\n",
    "     [8, 9, 40, 30, 1000, 2625],\n",
    "     [1, 0, 1, 0, 0, 1900],\n",
    "     [1, 30, 10, 0, 1000, 1900],\n",
    "     [7, 16, 5, 0, 0, 3000]])\n",
    "\n",
    "## One-liner\n",
    "neural_net = MLPRegressor(max_iter=10000).fit(X[:,:-1], X[:,-1])\n",
    "\n",
    "## Result\n",
    "res = neural_net.predict([[0, 0, 0, 0, 0]])\n",
    "print(res)\n",
    "'''\n",
    "[1289.34225619]\n",
    "'''"
   ]
  },
  {
   "cell_type": "code",
   "execution_count": null,
   "metadata": {},
   "outputs": [],
   "source": []
  }
 ],
 "metadata": {
  "kernelspec": {
   "display_name": "Python 3",
   "language": "python",
   "name": "python3"
  },
  "language_info": {
   "codemirror_mode": {
    "name": "ipython",
    "version": 3
   },
   "file_extension": ".py",
   "mimetype": "text/x-python",
   "name": "python",
   "nbconvert_exporter": "python",
   "pygments_lexer": "ipython3",
   "version": "3.7.9"
  },
  "toc": {
   "base_numbering": 1,
   "nav_menu": {},
   "number_sections": true,
   "sideBar": true,
   "skip_h1_title": false,
   "title_cell": "Table of Contents",
   "title_sidebar": "Contents",
   "toc_cell": false,
   "toc_position": {},
   "toc_section_display": true,
   "toc_window_display": false
  }
 },
 "nbformat": 4,
 "nbformat_minor": 4
}
