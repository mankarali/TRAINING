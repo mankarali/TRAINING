{
 "cells": [
  {
   "cell_type": "code",
   "execution_count": 2,
   "metadata": {},
   "outputs": [
    {
     "name": "stdout",
     "output_type": "stream",
     "text": [
      "['computer science' 'literature' 'art']\n"
     ]
    },
    {
     "data": {
      "text/plain": [
       "\"\\n['computer science' 'art' 'literature']\\n\""
      ]
     },
     "execution_count": 2,
     "metadata": {},
     "output_type": "execute_result"
    }
   ],
   "source": [
    "# Classification with Random Forests in One Line\n",
    "\n",
    "\n",
    "## Dependencies\n",
    "import numpy as np\n",
    "from sklearn.ensemble import RandomForestClassifier\n",
    "\n",
    "## Data: student scores in (math, language, creativity) --> study field\n",
    "X = np.array([[9, 5, 6, \"computer science\"],\n",
    "              [5, 1, 5, \"computer science\"],\n",
    "              [8, 8, 8, \"computer science\"],\n",
    "              [1, 10, 7, \"literature\"],\n",
    "              [1, 8, 1, \"literature\"],\n",
    "              [5, 7, 9, \"art\"],\n",
    "              [1, 1, 6, \"art\"]])\n",
    "\n",
    "## One-liner\n",
    "Forest = RandomForestClassifier(n_estimators=10).fit(X[:,:-1], X[:,-1])\n",
    "\n",
    "## Result\n",
    "students = Forest.predict([[8, 6, 5],\n",
    "                           [3, 7, 9],\n",
    "                           [2, 2, 1]])\n",
    "print(students)\n",
    "'''\n",
    "['computer science' 'art' 'literature']\n",
    "'''\n"
   ]
  },
  {
   "cell_type": "code",
   "execution_count": null,
   "metadata": {},
   "outputs": [],
   "source": []
  }
 ],
 "metadata": {
  "kernelspec": {
   "display_name": "Python 3",
   "language": "python",
   "name": "python3"
  },
  "language_info": {
   "codemirror_mode": {
    "name": "ipython",
    "version": 3
   },
   "file_extension": ".py",
   "mimetype": "text/x-python",
   "name": "python",
   "nbconvert_exporter": "python",
   "pygments_lexer": "ipython3",
   "version": "3.7.9"
  },
  "toc": {
   "base_numbering": 1,
   "nav_menu": {},
   "number_sections": true,
   "sideBar": true,
   "skip_h1_title": false,
   "title_cell": "Table of Contents",
   "title_sidebar": "Contents",
   "toc_cell": false,
   "toc_position": {},
   "toc_section_display": true,
   "toc_window_display": false
  }
 },
 "nbformat": 4,
 "nbformat_minor": 4
}
