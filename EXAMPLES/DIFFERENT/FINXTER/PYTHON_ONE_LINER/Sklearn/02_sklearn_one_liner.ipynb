{
 "cells": [
  {
   "cell_type": "code",
   "execution_count": 1,
   "metadata": {},
   "outputs": [
    {
     "name": "stdout",
     "output_type": "stream",
     "text": [
      "['No' 'No' 'No' 'Yes' 'Yes']\n"
     ]
    },
    {
     "data": {
      "text/plain": [
       "\"\\n['No' 'No' 'Yes' 'Yes' 'Yes']\\n\""
      ]
     },
     "execution_count": 1,
     "metadata": {},
     "output_type": "execute_result"
    }
   ],
   "source": [
    "# Logistic Regression in One Line\n",
    "from sklearn.linear_model import LogisticRegression\n",
    "import numpy as np\n",
    "\n",
    "## Data (#cigarettes, cancer)\n",
    "X = np.array([[0, \"No\"],\n",
    "              [10, \"No\"],\n",
    "              [60, \"Yes\"],\n",
    "              [90, \"Yes\"]])\n",
    "\n",
    "## One-liner\n",
    "model = LogisticRegression().fit(X[:,0].reshape(-1,1), X[:,1])\n",
    "\n",
    "## Result & puzzle\n",
    "print(model.predict([[2],[12],[13],[40],[90]]))\n",
    "'''\n",
    "['No' 'No' 'Yes' 'Yes' 'Yes']\n",
    "'''\n"
   ]
  },
  {
   "cell_type": "code",
   "execution_count": null,
   "metadata": {},
   "outputs": [],
   "source": []
  }
 ],
 "metadata": {
  "kernelspec": {
   "display_name": "Python 3",
   "language": "python",
   "name": "python3"
  },
  "language_info": {
   "codemirror_mode": {
    "name": "ipython",
    "version": 3
   },
   "file_extension": ".py",
   "mimetype": "text/x-python",
   "name": "python",
   "nbconvert_exporter": "python",
   "pygments_lexer": "ipython3",
   "version": "3.7.9"
  },
  "toc": {
   "base_numbering": 1,
   "nav_menu": {},
   "number_sections": true,
   "sideBar": true,
   "skip_h1_title": false,
   "title_cell": "Table of Contents",
   "title_sidebar": "Contents",
   "toc_cell": false,
   "toc_position": {},
   "toc_section_display": true,
   "toc_window_display": false
  }
 },
 "nbformat": 4,
 "nbformat_minor": 4
}
