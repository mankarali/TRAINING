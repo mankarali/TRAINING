{
 "cells": [
  {
   "cell_type": "code",
   "execution_count": 1,
   "metadata": {},
   "outputs": [
    {
     "name": "stdout",
     "output_type": "stream",
     "text": [
      "Averages: [10.   1.5  7.   6.   3. ]\n",
      "Variances: [2.5  0.25 8.5  4.5  0.  ]\n",
      "Standard Deviations: [1.58113883 0.5        2.91547595 2.12132034 0.        ]\n"
     ]
    },
    {
     "data": {
      "text/plain": [
       "'\\nAverages: [10.   1.5  7.   6.   3. ]\\nVariances: [2.5  0.25 8.5  4.5  0.  ]\\nStandard Deviations: [1.58113883 0.5        2.91547595 2.12132034 0.        ]\\n'"
      ]
     },
     "execution_count": 1,
     "metadata": {},
     "output_type": "execute_result"
    }
   ],
   "source": [
    "# Basic Statistics in One Line\n",
    "\n",
    "\n",
    "## Dependencies\n",
    "import numpy as np\n",
    "\n",
    "## Stock Price Data: 5 companies\n",
    "# (row=[price_day_1, price_day_2, ...])\n",
    "x = np.array([[8, 9, 11, 12],\n",
    "              [1, 2, 2, 1],\n",
    "              [2, 8, 9, 9],\n",
    "              [9, 6, 6, 3],\n",
    "              [3, 3, 3, 3]])\n",
    "\n",
    "## One-liner\n",
    "avg, var, std = np.average(x, axis=1), np.var(x, axis=1), np.std(x, axis=1)\n",
    "\n",
    "## Result & puzzle\n",
    "print(\"Averages: \" + str(avg))\n",
    "print(\"Variances: \" + str(var))\n",
    "print(\"Standard Deviations: \" + str(std))\n",
    "'''\n",
    "Averages: [10.   1.5  7.   6.   3. ]\n",
    "Variances: [2.5  0.25 8.5  4.5  0.  ]\n",
    "Standard Deviations: [1.58113883 0.5        2.91547595 2.12132034 0.        ]\n",
    "'''\n"
   ]
  },
  {
   "cell_type": "code",
   "execution_count": null,
   "metadata": {},
   "outputs": [],
   "source": []
  }
 ],
 "metadata": {
  "kernelspec": {
   "display_name": "Python 3",
   "language": "python",
   "name": "python3"
  },
  "language_info": {
   "codemirror_mode": {
    "name": "ipython",
    "version": 3
   },
   "file_extension": ".py",
   "mimetype": "text/x-python",
   "name": "python",
   "nbconvert_exporter": "python",
   "pygments_lexer": "ipython3",
   "version": "3.7.9"
  },
  "toc": {
   "base_numbering": 1,
   "nav_menu": {},
   "number_sections": true,
   "sideBar": true,
   "skip_h1_title": false,
   "title_cell": "Table of Contents",
   "title_sidebar": "Contents",
   "toc_cell": false,
   "toc_position": {},
   "toc_section_display": true,
   "toc_window_display": false
  }
 },
 "nbformat": 4,
 "nbformat_minor": 4
}
