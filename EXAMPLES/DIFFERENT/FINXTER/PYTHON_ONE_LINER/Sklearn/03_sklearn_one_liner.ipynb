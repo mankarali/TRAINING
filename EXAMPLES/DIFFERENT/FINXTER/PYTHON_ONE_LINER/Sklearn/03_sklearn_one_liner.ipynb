{
 "cells": [
  {
   "cell_type": "code",
   "execution_count": 1,
   "metadata": {},
   "outputs": [
    {
     "name": "stdout",
     "output_type": "stream",
     "text": [
      "[[  50. 7000.]\n",
      " [  20. 2000.]]\n"
     ]
    },
    {
     "data": {
      "text/plain": [
       "'\\n[[  20. 2000.]\\n [  50. 7000.]]\\n'"
      ]
     },
     "execution_count": 1,
     "metadata": {},
     "output_type": "execute_result"
    }
   ],
   "source": [
    "# K-Means Clustering in One Line\n",
    "\n",
    "\n",
    "## Dependencies\n",
    "from sklearn.cluster import KMeans\n",
    "import numpy as np\n",
    "\n",
    "## Data (Work (h) / Salary ($))\n",
    "X = np.array([[35, 7000], [45, 6900], [70, 7100],\n",
    "              [20, 2000], [25, 2200], [15, 1800]])\n",
    "\n",
    "## One-liner\n",
    "kmeans = KMeans(n_clusters=2).fit(X)\n",
    "\n",
    "## Result & puzzle\n",
    "cc = kmeans.cluster_centers_\n",
    "print(cc)\n",
    "'''\n",
    "[[  20. 2000.]\n",
    " [  50. 7000.]]\n",
    "'''\n"
   ]
  },
  {
   "cell_type": "code",
   "execution_count": null,
   "metadata": {},
   "outputs": [],
   "source": []
  }
 ],
 "metadata": {
  "kernelspec": {
   "display_name": "Python 3",
   "language": "python",
   "name": "python3"
  },
  "language_info": {
   "codemirror_mode": {
    "name": "ipython",
    "version": 3
   },
   "file_extension": ".py",
   "mimetype": "text/x-python",
   "name": "python",
   "nbconvert_exporter": "python",
   "pygments_lexer": "ipython3",
   "version": "3.7.9"
  },
  "toc": {
   "base_numbering": 1,
   "nav_menu": {},
   "number_sections": true,
   "sideBar": true,
   "skip_h1_title": false,
   "title_cell": "Table of Contents",
   "title_sidebar": "Contents",
   "toc_cell": false,
   "toc_position": {},
   "toc_section_display": true,
   "toc_window_display": false
  }
 },
 "nbformat": 4,
 "nbformat_minor": 4
}
