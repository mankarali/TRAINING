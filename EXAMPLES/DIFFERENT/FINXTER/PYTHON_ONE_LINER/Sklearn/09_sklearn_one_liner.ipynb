{
 "cells": [
  {
   "cell_type": "code",
   "execution_count": 1,
   "metadata": {},
   "outputs": [
    {
     "name": "stdout",
     "output_type": "stream",
     "text": [
      "['art']\n",
      "['computer science']\n"
     ]
    },
    {
     "data": {
      "text/plain": [
       "\"\\n['art']\\n['computer science']\\n\""
      ]
     },
     "execution_count": 1,
     "metadata": {},
     "output_type": "execute_result"
    }
   ],
   "source": [
    "# Classification with Support-Vector Machines in One Line\n",
    "\n",
    "\n",
    "## Dependencies\n",
    "from sklearn import svm\n",
    "import numpy as np\n",
    "\n",
    "## Data: student scores in (math, language, creativity) --> study field\n",
    "X = np.array([[9, 5, 6, \"computer science\"],\n",
    "              [10, 1, 2, \"computer science\"],\n",
    "              [1, 8, 1, \"literature\"],\n",
    "              [4, 9, 3, \"literature\"],\n",
    "              [0, 1, 10, \"art\"],\n",
    "              [5, 7, 9, \"art\"]])\n",
    "\n",
    "## One-liner\n",
    "svm = svm.SVC().fit(X[:,:-1], X[:,-1])\n",
    "\n",
    "## Result & puzzle\n",
    "student_0 = svm.predict([[3, 3, 6]])\n",
    "print(student_0)\n",
    "\n",
    "student_1 = svm.predict([[8, 1, 1]])\n",
    "print(student_1)\n",
    "\n",
    "'''\n",
    "['art']\n",
    "['computer science']\n",
    "'''\n"
   ]
  },
  {
   "cell_type": "code",
   "execution_count": null,
   "metadata": {},
   "outputs": [],
   "source": []
  }
 ],
 "metadata": {
  "kernelspec": {
   "display_name": "Python 3",
   "language": "python",
   "name": "python3"
  },
  "language_info": {
   "codemirror_mode": {
    "name": "ipython",
    "version": 3
   },
   "file_extension": ".py",
   "mimetype": "text/x-python",
   "name": "python",
   "nbconvert_exporter": "python",
   "pygments_lexer": "ipython3",
   "version": "3.7.9"
  },
  "toc": {
   "base_numbering": 1,
   "nav_menu": {},
   "number_sections": true,
   "sideBar": true,
   "skip_h1_title": false,
   "title_cell": "Table of Contents",
   "title_sidebar": "Contents",
   "toc_cell": false,
   "toc_position": {},
   "toc_section_display": true,
   "toc_window_display": false
  }
 },
 "nbformat": 4,
 "nbformat_minor": 4
}
