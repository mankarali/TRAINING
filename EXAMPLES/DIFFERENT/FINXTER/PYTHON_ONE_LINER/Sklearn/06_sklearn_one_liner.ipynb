{
 "cells": [
  {
   "cell_type": "code",
   "execution_count": 2,
   "metadata": {},
   "outputs": [
    {
     "name": "stdout",
     "output_type": "stream",
     "text": [
      "['computer science']\n",
      "['art']\n"
     ]
    },
    {
     "data": {
      "text/plain": [
       "\"\\n['computer science']\\n['linguistics']\\n\""
      ]
     },
     "execution_count": 2,
     "metadata": {},
     "output_type": "execute_result"
    }
   ],
   "source": [
    "# Decision-Tree Learning in One Line\n",
    "\n",
    "\n",
    "## Dependencies\n",
    "from sklearn import tree\n",
    "import numpy as np\n",
    "\n",
    "## Data: student scores in (math, language, creativity) --> study field\n",
    "X = np.array([[9, 5, 6, \"computer science\"],\n",
    "              [1, 8, 1, \"linguistics\"],\n",
    "              [5, 7, 9, \"art\"]])\n",
    "\n",
    "## One-liner\n",
    "Tree = tree.DecisionTreeClassifier().fit(X[:,:-1], X[:,-1])\n",
    "\n",
    "## Result & puzzle\n",
    "student_0 = Tree.predict([[8, 6, 5]])\n",
    "print(student_0)\n",
    "\n",
    "student_1 = Tree.predict([[3, 7, 9]])\n",
    "print(student_1)\n",
    "\n",
    "'''\n",
    "['computer science']\n",
    "['linguistics']\n",
    "'''\n"
   ]
  },
  {
   "cell_type": "code",
   "execution_count": null,
   "metadata": {},
   "outputs": [],
   "source": []
  }
 ],
 "metadata": {
  "kernelspec": {
   "display_name": "Python 3",
   "language": "python",
   "name": "python3"
  },
  "language_info": {
   "codemirror_mode": {
    "name": "ipython",
    "version": 3
   },
   "file_extension": ".py",
   "mimetype": "text/x-python",
   "name": "python",
   "nbconvert_exporter": "python",
   "pygments_lexer": "ipython3",
   "version": "3.7.9"
  },
  "toc": {
   "base_numbering": 1,
   "nav_menu": {},
   "number_sections": true,
   "sideBar": true,
   "skip_h1_title": false,
   "title_cell": "Table of Contents",
   "title_sidebar": "Contents",
   "toc_cell": false,
   "toc_position": {},
   "toc_section_display": true,
   "toc_window_display": false
  }
 },
 "nbformat": 4,
 "nbformat_minor": 4
}
