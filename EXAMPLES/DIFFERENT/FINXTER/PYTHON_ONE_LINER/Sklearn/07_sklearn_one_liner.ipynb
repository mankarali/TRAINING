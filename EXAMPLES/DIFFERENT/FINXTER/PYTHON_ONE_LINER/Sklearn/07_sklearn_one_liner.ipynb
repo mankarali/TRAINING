{
 "cells": [
  {
   "cell_type": "code",
   "execution_count": 3,
   "metadata": {},
   "outputs": [
    {
     "name": "stdout",
     "output_type": "stream",
     "text": [
      "Row with minimum variance: 3\n",
      "Variance: 0.25\n"
     ]
    },
    {
     "data": {
      "text/plain": [
       "'\\nRow with minimum variance: 3\\nVariance: 0.25\\n'"
      ]
     },
     "execution_count": 3,
     "metadata": {},
     "output_type": "execute_result"
    }
   ],
   "source": [
    "# Get Row with Minimal Variance in One Line\n",
    "\n",
    "\n",
    "## Dependencies\n",
    "import numpy as np\n",
    "\n",
    "## Data (rows: stocks / cols: stock prices)\n",
    "X = np.array([[25,27,29,30],\n",
    "              [1,5,3,2],\n",
    "              [12,11,8,3],\n",
    "              [1,1,2,2],\n",
    "              [2,6,2,2]])\n",
    "\n",
    "## One-liner: Find the stock with smallest variance\n",
    "min_row = min([(i,np.var(X[i,:])) for i in range(len(X))], key=lambda x: x[1])\n",
    "\n",
    "## Result & puzzle\n",
    "print(\"Row with minimum variance: \" + str(min_row[0]))\n",
    "print(\"Variance: \" + str(min_row[1]))\n",
    "'''\n",
    "Row with minimum variance: 3\n",
    "Variance: 0.25\n",
    "'''\n"
   ]
  },
  {
   "cell_type": "code",
   "execution_count": null,
   "metadata": {},
   "outputs": [],
   "source": []
  }
 ],
 "metadata": {
  "kernelspec": {
   "display_name": "Python 3",
   "language": "python",
   "name": "python3"
  },
  "language_info": {
   "codemirror_mode": {
    "name": "ipython",
    "version": 3
   },
   "file_extension": ".py",
   "mimetype": "text/x-python",
   "name": "python",
   "nbconvert_exporter": "python",
   "pygments_lexer": "ipython3",
   "version": "3.7.9"
  },
  "toc": {
   "base_numbering": 1,
   "nav_menu": {},
   "number_sections": true,
   "sideBar": true,
   "skip_h1_title": false,
   "title_cell": "Table of Contents",
   "title_sidebar": "Contents",
   "toc_cell": false,
   "toc_position": {},
   "toc_section_display": true,
   "toc_window_display": false
  }
 },
 "nbformat": 4,
 "nbformat_minor": 4
}
