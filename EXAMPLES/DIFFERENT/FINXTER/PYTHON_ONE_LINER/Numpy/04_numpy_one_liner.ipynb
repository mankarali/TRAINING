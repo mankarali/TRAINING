{
 "cells": [
  {
   "cell_type": "code",
   "execution_count": 3,
   "metadata": {},
   "outputs": [
    {
     "name": "stdout",
     "output_type": "stream",
     "text": [
      "['@instagram' '@selenagomez' '@cristiano' '@beyonce']\n"
     ]
    },
    {
     "data": {
      "text/plain": [
       "\"\\n['@instagram' '@selenagomez' '@cristiano' '@beyonce']\\n\""
      ]
     },
     "execution_count": 3,
     "metadata": {},
     "output_type": "execute_result"
    }
   ],
   "source": [
    "# Boolean Indexing to Filter Two-Dimensional Arrays\n",
    "\n",
    "\n",
    "## Dependencies\n",
    "import numpy as np\n",
    "\n",
    "## Data: popular Instagram accounts (millions followers)\n",
    "inst = np.array([[232, \"@instagram\"],\n",
    "                 [133, \"@selenagomez\"],\n",
    "                 [59, \"@victoriassecret\"],\n",
    "                 [120, \"@cristiano\"],\n",
    "                 [111, \"@beyonce\"],\n",
    "                 [76, \"@nike\"]])\n",
    "\n",
    "## One-liner\n",
    "superstars = inst[inst[:,0].astype(float) > 100, 1]\n",
    "\n",
    "## Results\n",
    "print(superstars)\n",
    "'''\n",
    "['@instagram' '@selenagomez' '@cristiano' '@beyonce']\n",
    "'''\n"
   ]
  },
  {
   "cell_type": "code",
   "execution_count": null,
   "metadata": {},
   "outputs": [],
   "source": []
  }
 ],
 "metadata": {
  "kernelspec": {
   "display_name": "Python 3",
   "language": "python",
   "name": "python3"
  },
  "language_info": {
   "codemirror_mode": {
    "name": "ipython",
    "version": 3
   },
   "file_extension": ".py",
   "mimetype": "text/x-python",
   "name": "python",
   "nbconvert_exporter": "python",
   "pygments_lexer": "ipython3",
   "version": "3.7.9"
  },
  "toc": {
   "base_numbering": 1,
   "nav_menu": {},
   "number_sections": true,
   "sideBar": true,
   "skip_h1_title": false,
   "title_cell": "Table of Contents",
   "title_sidebar": "Contents",
   "toc_cell": false,
   "toc_position": {},
   "toc_section_display": true,
   "toc_window_display": false
  }
 },
 "nbformat": 4,
 "nbformat_minor": 4
}
