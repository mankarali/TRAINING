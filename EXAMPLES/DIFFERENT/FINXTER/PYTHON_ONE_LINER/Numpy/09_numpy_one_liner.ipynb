{
 "cells": [
  {
   "cell_type": "code",
   "execution_count": 2,
   "metadata": {},
   "outputs": [
    {
     "name": "stdout",
     "output_type": "stream",
     "text": [
      "0.25\n"
     ]
    },
    {
     "data": {
      "text/plain": [
       "'\\n0.25\\n'"
      ]
     },
     "execution_count": 2,
     "metadata": {},
     "output_type": "execute_result"
    }
   ],
   "source": [
    "# Simple Association Analysis: People Who Bought X Also Bought Y\n",
    "\n",
    "\n",
    "## Dependencies\n",
    "import numpy as np\n",
    "\n",
    "## Data: row is customer shopping basket\n",
    "## row = [course 1, course 2, ebook 1, ebook 2]\n",
    "## value 1 indicates that an item was bought.\n",
    "basket = np.array([[0, 1, 1, 0],\n",
    "                   [0, 0, 0, 1],\n",
    "                   [1, 1, 0, 0],\n",
    "                   [0, 1, 1, 1],\n",
    "                   [1, 1, 1, 0],\n",
    "                   [0, 1, 1, 0],\n",
    "                   [1, 1, 0, 1],\n",
    "                   [1, 1, 1, 1]])\n",
    "\n",
    "## One-liner\n",
    "copurchases = np.sum(np.all(basket[:,2:], axis = 1)) / basket.shape[0]\n",
    "\n",
    "## Result\n",
    "print(copurchases)\n",
    "'''\n",
    "0.25\n",
    "'''\n"
   ]
  },
  {
   "cell_type": "code",
   "execution_count": null,
   "metadata": {},
   "outputs": [],
   "source": []
  }
 ],
 "metadata": {
  "kernelspec": {
   "display_name": "Python 3",
   "language": "python",
   "name": "python3"
  },
  "language_info": {
   "codemirror_mode": {
    "name": "ipython",
    "version": 3
   },
   "file_extension": ".py",
   "mimetype": "text/x-python",
   "name": "python",
   "nbconvert_exporter": "python",
   "pygments_lexer": "ipython3",
   "version": "3.7.9"
  },
  "toc": {
   "base_numbering": 1,
   "nav_menu": {},
   "number_sections": true,
   "sideBar": true,
   "skip_h1_title": false,
   "title_cell": "Table of Contents",
   "title_sidebar": "Contents",
   "toc_cell": false,
   "toc_position": {},
   "toc_section_display": true,
   "toc_window_display": false
  }
 },
 "nbformat": 4,
 "nbformat_minor": 4
}
