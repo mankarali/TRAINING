{
 "cells": [
  {
   "cell_type": "code",
   "execution_count": 1,
   "metadata": {},
   "outputs": [
    {
     "name": "stdout",
     "output_type": "stream",
     "text": [
      "[['Coffee Break NumPy' '4.6']\n",
      " ['Lord of the Rings' '5.0']\n",
      " ['Harry Potter' '4.3']\n",
      " ['Coffee Break Python' '4.7']]\n"
     ]
    },
    {
     "data": {
      "text/plain": [
       "\"\\n[['Coffee Break NumPy' '4.6']\\n ['Lord of the Rings' '5.0']\\n ['Harry Potter' '4.3']\\n ['Coffee Break Python' '4.7']]\\n\""
      ]
     },
     "execution_count": 1,
     "metadata": {},
     "output_type": "execute_result"
    }
   ],
   "source": [
    "# How to Use Lambda Functions and Boolean Indexing to Filter Arrays\n",
    "\n",
    "\n",
    "## Dependencies\n",
    "import numpy as np\n",
    "\n",
    "## Data (row = [title, rating])\n",
    "books = np.array([['Coffee Break NumPy', 4.6],\n",
    "                  ['Lord of the Rings', 5.0],\n",
    "                  ['Harry Potter', 4.3],\n",
    "                  ['Winnie-the-Pooh', 3.9],\n",
    "                  ['The Clown of God', 2.2],\n",
    "                  ['Coffee Break Python', 4.7]])\n",
    "\n",
    "## One-liner\n",
    "predict_bestseller = lambda x, y : x[x[:,1].astype(float) > y]\n",
    "\n",
    "## Results\n",
    "print(predict_bestseller(books, 3.9))\n",
    "'''\n",
    "[['Coffee Break NumPy' '4.6']\n",
    " ['Lord of the Rings' '5.0']\n",
    " ['Harry Potter' '4.3']\n",
    " ['Coffee Break Python' '4.7']]\n",
    "'''\n"
   ]
  },
  {
   "cell_type": "code",
   "execution_count": null,
   "metadata": {},
   "outputs": [],
   "source": []
  }
 ],
 "metadata": {
  "kernelspec": {
   "display_name": "Python 3",
   "language": "python",
   "name": "python3"
  },
  "language_info": {
   "codemirror_mode": {
    "name": "ipython",
    "version": 3
   },
   "file_extension": ".py",
   "mimetype": "text/x-python",
   "name": "python",
   "nbconvert_exporter": "python",
   "pygments_lexer": "ipython3",
   "version": "3.7.9"
  },
  "toc": {
   "base_numbering": 1,
   "nav_menu": {},
   "number_sections": true,
   "sideBar": true,
   "skip_h1_title": false,
   "title_cell": "Table of Contents",
   "title_sidebar": "Contents",
   "toc_cell": false,
   "toc_position": {},
   "toc_section_display": true,
   "toc_window_display": false
  }
 },
 "nbformat": 4,
 "nbformat_minor": 4
}
