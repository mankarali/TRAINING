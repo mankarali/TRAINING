{
 "cells": [
  {
   "cell_type": "code",
   "execution_count": 2,
   "metadata": {},
   "outputs": [
    {
     "name": "stdout",
     "output_type": "stream",
     "text": [
      "[1 2 3 4 3 4 3 5 3 3 4 3 4 4 6 5 5 5 4 5 5]\n"
     ]
    },
    {
     "data": {
      "text/plain": [
       "'\\n[1 2 3 4 3 4 3 5 3 3 4 3 4 4 6 5 5 5 4 5 5]\\n'"
      ]
     },
     "execution_count": 2,
     "metadata": {},
     "output_type": "execute_result"
    }
   ],
   "source": [
    "# Broadcasting, Slice Assignment, and Reshaping to Clean Every i-th Array Element\n",
    "\n",
    "\n",
    "## Dependencies\n",
    "import numpy as np\n",
    "\n",
    "## Sensor data (Mo, Tu, We, Th, Fr, Sa, Su)\n",
    "tmp = np.array([1, 2, 3, 4, 3, 4, 4,\n",
    "                5, 3, 3, 4, 3, 4, 6,\n",
    "                6, 5, 5, 5, 4, 5, 5])\n",
    "\n",
    "## One-liner\n",
    "tmp[6::7] = np.average(tmp.reshape((-1,7)), axis=1)\n",
    "\n",
    "## Result\n",
    "print(tmp)\n",
    "'''\n",
    "[1 2 3 4 3 4 3 5 3 3 4 3 4 4 6 5 5 5 4 5 5]\n",
    "'''\n"
   ]
  },
  {
   "cell_type": "code",
   "execution_count": null,
   "metadata": {},
   "outputs": [],
   "source": []
  }
 ],
 "metadata": {
  "kernelspec": {
   "display_name": "Python 3",
   "language": "python",
   "name": "python3"
  },
  "language_info": {
   "codemirror_mode": {
    "name": "ipython",
    "version": 3
   },
   "file_extension": ".py",
   "mimetype": "text/x-python",
   "name": "python",
   "nbconvert_exporter": "python",
   "pygments_lexer": "ipython3",
   "version": "3.7.9"
  },
  "toc": {
   "base_numbering": 1,
   "nav_menu": {},
   "number_sections": true,
   "sideBar": true,
   "skip_h1_title": false,
   "title_cell": "Table of Contents",
   "title_sidebar": "Contents",
   "toc_cell": false,
   "toc_position": {},
   "toc_section_display": true,
   "toc_window_display": false
  }
 },
 "nbformat": 4,
 "nbformat_minor": 4
}
