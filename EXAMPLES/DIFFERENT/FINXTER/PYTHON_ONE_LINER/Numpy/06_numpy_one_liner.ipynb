{
 "cells": [
  {
   "cell_type": "code",
   "execution_count": 1,
   "metadata": {},
   "outputs": [
    {
     "name": "stdout",
     "output_type": "stream",
     "text": [
      "['Alice' 'Frank' 'Carl']\n"
     ]
    },
    {
     "data": {
      "text/plain": [
       "\"\\n['Alice' 'Frank' 'Carl']\\n\""
      ]
     },
     "execution_count": 1,
     "metadata": {},
     "output_type": "execute_result"
    }
   ],
   "source": [
    "# When to Use the sort() Function and When to Use the argsort() Function in NumPy\n",
    "\n",
    "\n",
    "## Dependencies\n",
    "import numpy as np\n",
    "\n",
    "## Data: SAT scores for different students\n",
    "sat_scores = np.array([1100, 1256, 1543,\n",
    "                       1043, 989, 1412, 1343])\n",
    "students = np.array([\"John\", \"Bob\", \"Alice\",\n",
    "                     \"Joe\", \"Jane\", \"Frank\", \"Carl\"])\n",
    "\n",
    "## One-liner\n",
    "top_3 = students[np.argsort(sat_scores)][:-4:-1]\n",
    "\n",
    "## Result\n",
    "print(top_3)\n",
    "'''\n",
    "['Alice' 'Frank' 'Carl']\n",
    "'''\n"
   ]
  },
  {
   "cell_type": "code",
   "execution_count": null,
   "metadata": {},
   "outputs": [],
   "source": []
  }
 ],
 "metadata": {
  "kernelspec": {
   "display_name": "Python 3",
   "language": "python",
   "name": "python3"
  },
  "language_info": {
   "codemirror_mode": {
    "name": "ipython",
    "version": 3
   },
   "file_extension": ".py",
   "mimetype": "text/x-python",
   "name": "python",
   "nbconvert_exporter": "python",
   "pygments_lexer": "ipython3",
   "version": "3.7.9"
  },
  "toc": {
   "base_numbering": 1,
   "nav_menu": {},
   "number_sections": true,
   "sideBar": true,
   "skip_h1_title": false,
   "title_cell": "Table of Contents",
   "title_sidebar": "Contents",
   "toc_cell": false,
   "toc_position": {},
   "toc_section_display": true,
   "toc_window_display": false
  }
 },
 "nbformat": 4,
 "nbformat_minor": 4
}
