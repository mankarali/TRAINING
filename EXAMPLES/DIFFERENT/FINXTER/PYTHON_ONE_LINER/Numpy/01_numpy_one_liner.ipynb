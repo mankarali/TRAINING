{
 "cells": [
  {
   "cell_type": "code",
   "execution_count": 3,
   "metadata": {},
   "outputs": [
    {
     "name": "stdout",
     "output_type": "stream",
     "text": [
      "81.0\n"
     ]
    },
    {
     "data": {
      "text/plain": [
       "'\\n81.0\\n'"
      ]
     },
     "execution_count": 3,
     "metadata": {},
     "output_type": "execute_result"
    }
   ],
   "source": [
    "# Basic Two-Dimensional Array Arithmetic\n",
    "\n",
    "\n",
    "## Dependencies\n",
    "import numpy as np\n",
    "\n",
    "## Data: yearly salary in ($1000) [2017, 2018, 2019]\n",
    "alice = [99, 101, 103]\n",
    "bob = [110, 108, 105]\n",
    "tim = [90, 88, 85]\n",
    "salaries = np.array([alice, bob, tim])\n",
    "taxation = np.array([[0.2, 0.25, 0.22],\n",
    "                     [0.4, 0.5, 0.5],\n",
    "                     [0.1, 0.2, 0.1]])\n",
    "\n",
    "## One-liner\n",
    "max_income = np.max(salaries - salaries * taxation)\n",
    "\n",
    "## Result\n",
    "print(max_income)\n",
    "'''\n",
    "81.0\n",
    "'''\n"
   ]
  },
  {
   "cell_type": "code",
   "execution_count": null,
   "metadata": {},
   "outputs": [],
   "source": []
  }
 ],
 "metadata": {
  "kernelspec": {
   "display_name": "Python 3",
   "language": "python",
   "name": "python3"
  },
  "language_info": {
   "codemirror_mode": {
    "name": "ipython",
    "version": 3
   },
   "file_extension": ".py",
   "mimetype": "text/x-python",
   "name": "python",
   "nbconvert_exporter": "python",
   "pygments_lexer": "ipython3",
   "version": "3.7.9"
  },
  "toc": {
   "base_numbering": 1,
   "nav_menu": {},
   "number_sections": true,
   "sideBar": true,
   "skip_h1_title": false,
   "title_cell": "Table of Contents",
   "title_sidebar": "Contents",
   "toc_cell": false,
   "toc_position": {},
   "toc_section_display": true,
   "toc_window_display": false
  }
 },
 "nbformat": 4,
 "nbformat_minor": 4
}
