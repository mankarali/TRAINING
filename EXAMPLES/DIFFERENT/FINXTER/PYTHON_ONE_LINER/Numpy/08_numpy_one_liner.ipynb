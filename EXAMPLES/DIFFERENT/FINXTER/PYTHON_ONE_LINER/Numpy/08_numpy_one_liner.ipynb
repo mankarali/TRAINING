{
 "cells": [
  {
   "cell_type": "code",
   "execution_count": 1,
   "metadata": {},
   "outputs": [
    {
     "name": "stdout",
     "output_type": "stream",
     "text": [
      "[[1008   65  128]]\n"
     ]
    },
    {
     "data": {
      "text/plain": [
       "'\\n[[1008   65  128]]\\n'"
      ]
     },
     "execution_count": 1,
     "metadata": {},
     "output_type": "execute_result"
    }
   ],
   "source": [
    "# How to Create Advanced Array Filters with Statistics, Math, and Logic\n",
    "\n",
    "\n",
    "## Dependencies\n",
    "import numpy as np\n",
    "\n",
    "## Website analytics data:\n",
    "## (row = day), (col = users, bounce, duration)\n",
    "a = np.array([[815, 70, 115],\n",
    "              [767, 80, 50],\n",
    "              [912, 74, 77],\n",
    "              [554, 88, 70],\n",
    "              [1008, 65, 128]])\n",
    "mean, stdev = np.mean(a, axis=0), np.std(a, axis=0)\n",
    "# [811.2 76.4 88. ], [152.97764543 6.85857128 29.04479299]\n",
    "\n",
    "## One-liner\n",
    "outliers = ((np.abs(a[:,0] - mean[0]) > stdev[0])\n",
    "            * (np.abs(a[:,1] - mean[1]) > stdev[1])\n",
    "            * (np.abs(a[:,2] - mean[2]) > stdev[2]))\n",
    "\n",
    "## Result\n",
    "print(a[outliers])\n",
    "'''\n",
    "[[1008   65  128]]\n",
    "'''\n"
   ]
  },
  {
   "cell_type": "code",
   "execution_count": null,
   "metadata": {},
   "outputs": [],
   "source": []
  }
 ],
 "metadata": {
  "kernelspec": {
   "display_name": "Python 3",
   "language": "python",
   "name": "python3"
  },
  "language_info": {
   "codemirror_mode": {
    "name": "ipython",
    "version": 3
   },
   "file_extension": ".py",
   "mimetype": "text/x-python",
   "name": "python",
   "nbconvert_exporter": "python",
   "pygments_lexer": "ipython3",
   "version": "3.7.9"
  },
  "toc": {
   "base_numbering": 1,
   "nav_menu": {},
   "number_sections": true,
   "sideBar": true,
   "skip_h1_title": false,
   "title_cell": "Table of Contents",
   "title_sidebar": "Contents",
   "toc_cell": false,
   "toc_position": {},
   "toc_section_display": true,
   "toc_window_display": false
  }
 },
 "nbformat": 4,
 "nbformat_minor": 4
}
