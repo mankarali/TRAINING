{
 "cells": [
  {
   "cell_type": "code",
   "execution_count": 1,
   "metadata": {},
   "outputs": [
    {
     "name": "stdout",
     "output_type": "stream",
     "text": [
      "{'Hong Kong', 'New York', 'Berlin'}\n"
     ]
    },
    {
     "data": {
      "text/plain": [
       "\"\\n{'Berlin', 'Hong Kong', 'New York'}\\n\""
      ]
     },
     "execution_count": 1,
     "metadata": {},
     "output_type": "execute_result"
    }
   ],
   "source": [
    "# Conditional Array Search, Filtering, and Broadcasting to Detect Outliers\n",
    "\n",
    "\n",
    "## Dependencies\n",
    "import numpy as np\n",
    "\n",
    "## Data: air quality index AQI data (row = city)\n",
    "X = np.array(\n",
    "    [[ 42, 40, 41, 43, 44, 43 ], # Hong Kong\n",
    "     [ 30, 31, 29, 29, 29, 30 ], # New York\n",
    "     [ 8, 13, 31, 11, 11, 9 ], # Berlin\n",
    "     [ 11, 11, 12, 13, 11, 12 ]]) # Montreal\n",
    "cities = np.array([\"Hong Kong\", \"New York\", \"Berlin\", \"Montreal\"])\n",
    "\n",
    "## One-liner\n",
    "polluted = set(cities[np.nonzero(X > np.average(X))[0]])\n",
    "\n",
    "## Result\n",
    "print(polluted)\n",
    "'''\n",
    "{'Berlin', 'Hong Kong', 'New York'}\n",
    "'''\n"
   ]
  },
  {
   "cell_type": "code",
   "execution_count": null,
   "metadata": {},
   "outputs": [],
   "source": []
  }
 ],
 "metadata": {
  "kernelspec": {
   "display_name": "Python 3",
   "language": "python",
   "name": "python3"
  },
  "language_info": {
   "codemirror_mode": {
    "name": "ipython",
    "version": 3
   },
   "file_extension": ".py",
   "mimetype": "text/x-python",
   "name": "python",
   "nbconvert_exporter": "python",
   "pygments_lexer": "ipython3",
   "version": "3.7.9"
  },
  "toc": {
   "base_numbering": 1,
   "nav_menu": {},
   "number_sections": true,
   "sideBar": true,
   "skip_h1_title": false,
   "title_cell": "Table of Contents",
   "title_sidebar": "Contents",
   "toc_cell": false,
   "toc_position": {},
   "toc_section_display": true,
   "toc_window_display": false
  }
 },
 "nbformat": 4,
 "nbformat_minor": 4
}
