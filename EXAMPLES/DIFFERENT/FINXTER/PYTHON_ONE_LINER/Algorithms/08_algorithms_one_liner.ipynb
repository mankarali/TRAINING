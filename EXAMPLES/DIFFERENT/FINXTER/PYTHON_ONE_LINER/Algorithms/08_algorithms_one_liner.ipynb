{
 "cells": [
  {
   "cell_type": "code",
   "execution_count": 1,
   "metadata": {},
   "outputs": [
    {
     "name": "stdout",
     "output_type": "stream",
     "text": [
      "[0, 1, 1, 2, 3, 5, 8, 13, 21, 34]\n"
     ]
    },
    {
     "data": {
      "text/plain": [
       "'\\n[0, 1, 1, 2, 3, 5, 8, 13, 21, 34]\\n'"
      ]
     },
     "execution_count": 1,
     "metadata": {},
     "output_type": "execute_result"
    }
   ],
   "source": [
    "# Calculating the Fibonacci Series with the reduce() Function\n",
    "\n",
    "\n",
    "# Dependencies\n",
    "from functools import reduce\n",
    "\n",
    "# The Data\n",
    "n = 10\n",
    "\n",
    "# The One-Liner\n",
    "fibs = reduce(lambda x, _: x + [x[-2] + x[-1]], [0] * (n-2), [0, 1])\n",
    "\n",
    "# The Result\n",
    "print(fibs)\n",
    "'''\n",
    "[0, 1, 1, 2, 3, 5, 8, 13, 21, 34]\n",
    "'''"
   ]
  },
  {
   "cell_type": "code",
   "execution_count": null,
   "metadata": {},
   "outputs": [],
   "source": []
  }
 ],
 "metadata": {
  "kernelspec": {
   "display_name": "Python 3",
   "language": "python",
   "name": "python3"
  },
  "language_info": {
   "codemirror_mode": {
    "name": "ipython",
    "version": 3
   },
   "file_extension": ".py",
   "mimetype": "text/x-python",
   "name": "python",
   "nbconvert_exporter": "python",
   "pygments_lexer": "ipython3",
   "version": "3.7.9"
  },
  "toc": {
   "base_numbering": 1,
   "nav_menu": {},
   "number_sections": true,
   "sideBar": true,
   "skip_h1_title": false,
   "title_cell": "Table of Contents",
   "title_sidebar": "Contents",
   "toc_cell": false,
   "toc_position": {},
   "toc_section_display": true,
   "toc_window_display": false
  }
 },
 "nbformat": 4,
 "nbformat_minor": 4
}
