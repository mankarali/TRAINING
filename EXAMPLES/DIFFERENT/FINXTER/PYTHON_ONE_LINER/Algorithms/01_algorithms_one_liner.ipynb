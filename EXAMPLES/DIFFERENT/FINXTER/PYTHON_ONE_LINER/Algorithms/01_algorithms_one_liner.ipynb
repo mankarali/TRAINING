{
 "cells": [
  {
   "cell_type": "code",
   "execution_count": 2,
   "metadata": {},
   "outputs": [
    {
     "name": "stdout",
     "output_type": "stream",
     "text": [
      "True\n",
      "True\n",
      "False\n"
     ]
    },
    {
     "data": {
      "text/plain": [
       "'\\nTrue\\nTrue\\nFalse\\n'"
      ]
     },
     "execution_count": 2,
     "metadata": {},
     "output_type": "execute_result"
    }
   ],
   "source": [
    "# Finding Anagrams with Lambda Functions and Sorting\n",
    "\n",
    "\n",
    "## One-Liner\n",
    "is_anagram = lambda x1, x2: sorted(x1) == sorted(x2)\n",
    "\n",
    "## Results\n",
    "print(is_anagram(\"elvis\", \"lives\"))\n",
    "print(is_anagram(\"elvise\", \"livees\"))\n",
    "print(is_anagram(\"elvis\", \"dead\"))\n",
    "'''\n",
    "True\n",
    "True\n",
    "False\n",
    "'''"
   ]
  },
  {
   "cell_type": "code",
   "execution_count": null,
   "metadata": {},
   "outputs": [],
   "source": []
  }
 ],
 "metadata": {
  "kernelspec": {
   "display_name": "Python 3",
   "language": "python",
   "name": "python3"
  },
  "language_info": {
   "codemirror_mode": {
    "name": "ipython",
    "version": 3
   },
   "file_extension": ".py",
   "mimetype": "text/x-python",
   "name": "python",
   "nbconvert_exporter": "python",
   "pygments_lexer": "ipython3",
   "version": "3.7.9"
  },
  "toc": {
   "base_numbering": 1,
   "nav_menu": {},
   "number_sections": true,
   "sideBar": true,
   "skip_h1_title": false,
   "title_cell": "Table of Contents",
   "title_sidebar": "Contents",
   "toc_cell": false,
   "toc_position": {},
   "toc_section_display": true,
   "toc_window_display": false
  }
 },
 "nbformat": 4,
 "nbformat_minor": 4
}
