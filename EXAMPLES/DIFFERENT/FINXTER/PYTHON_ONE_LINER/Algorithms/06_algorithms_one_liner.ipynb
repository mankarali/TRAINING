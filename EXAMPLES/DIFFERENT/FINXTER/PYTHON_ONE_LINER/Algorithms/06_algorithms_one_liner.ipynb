{
 "cells": [
  {
   "cell_type": "code",
   "execution_count": 1,
   "metadata": {},
   "outputs": [
    {
     "name": "stdout",
     "output_type": "stream",
     "text": [
      "kgurkehffvnafknerkpbzvat\n",
      "xthexrussiansxarexcoming\n"
     ]
    },
    {
     "data": {
      "text/plain": [
       "'\\nkgurkehffvnafknerkpbzvat\\nxthexrussiansxarexcoming\\n'"
      ]
     },
     "execution_count": 1,
     "metadata": {},
     "output_type": "execute_result"
    }
   ],
   "source": [
    "# Caesar’s Cipher Encryption Using Advanced Indexing and List Comprehension\n",
    "\n",
    "\n",
    "## Data\n",
    "abc = \"abcdefghijklmnopqrstuvwxyz\"\n",
    "s = \"xthexrussiansxarexcoming\"\n",
    "\n",
    "## One-Liner\n",
    "rt13 = lambda x: \"\".join([abc[(abc.find(c) + 13) % 26] for c in x])\n",
    "\n",
    "## Result\n",
    "print(rt13(s))\n",
    "print(rt13(rt13(s)))\n",
    "'''\n",
    "kgurkehffvnafknerkpbzvat\n",
    "xthexrussiansxarexcoming\n",
    "'''\n"
   ]
  },
  {
   "cell_type": "code",
   "execution_count": null,
   "metadata": {},
   "outputs": [],
   "source": []
  }
 ],
 "metadata": {
  "kernelspec": {
   "display_name": "Python 3",
   "language": "python",
   "name": "python3"
  },
  "language_info": {
   "codemirror_mode": {
    "name": "ipython",
    "version": 3
   },
   "file_extension": ".py",
   "mimetype": "text/x-python",
   "name": "python",
   "nbconvert_exporter": "python",
   "pygments_lexer": "ipython3",
   "version": "3.7.9"
  },
  "toc": {
   "base_numbering": 1,
   "nav_menu": {},
   "number_sections": true,
   "sideBar": true,
   "skip_h1_title": false,
   "title_cell": "Table of Contents",
   "title_sidebar": "Contents",
   "toc_cell": false,
   "toc_position": {},
   "toc_section_display": true,
   "toc_window_display": false
  }
 },
 "nbformat": 4,
 "nbformat_minor": 4
}
