{
 "cells": [
  {
   "cell_type": "code",
   "execution_count": 2,
   "metadata": {},
   "outputs": [
    {
     "name": "stdout",
     "output_type": "stream",
     "text": [
      "5\n",
      "4\n",
      "3\n"
     ]
    },
    {
     "data": {
      "text/plain": [
       "'\\n5\\n4\\n3\\n'"
      ]
     },
     "execution_count": 2,
     "metadata": {},
     "output_type": "execute_result"
    }
   ],
   "source": [
    "# Finding the Levenshtein Distance\n",
    "\n",
    "\n",
    "## The Data\n",
    "a = \"cat\"\n",
    "b = \"chello\"\n",
    "c = \"chess\"\n",
    "\n",
    "## The One-Liner\n",
    "ls = lambda a, b: len(b) if not a else len(a) if not b else min(\n",
    "    ls(a[1:], b[1:])+(a[0] != b[0]),\n",
    "    ls(a[1:], b)+1,\n",
    "    ls(a, b[1:])+1)\n",
    "\n",
    "## The Result\n",
    "print(ls(a,b))\n",
    "print(ls(a,c))\n",
    "print(ls(b,c))\n",
    "'''\n",
    "5\n",
    "4\n",
    "3\n",
    "'''\n"
   ]
  },
  {
   "cell_type": "code",
   "execution_count": null,
   "metadata": {},
   "outputs": [],
   "source": []
  },
  {
   "cell_type": "code",
   "execution_count": null,
   "metadata": {},
   "outputs": [],
   "source": []
  }
 ],
 "metadata": {
  "kernelspec": {
   "display_name": "Python 3",
   "language": "python",
   "name": "python3"
  },
  "language_info": {
   "codemirror_mode": {
    "name": "ipython",
    "version": 3
   },
   "file_extension": ".py",
   "mimetype": "text/x-python",
   "name": "python",
   "nbconvert_exporter": "python",
   "pygments_lexer": "ipython3",
   "version": "3.7.9"
  },
  "toc": {
   "base_numbering": 1,
   "nav_menu": {},
   "number_sections": true,
   "sideBar": true,
   "skip_h1_title": false,
   "title_cell": "Table of Contents",
   "title_sidebar": "Contents",
   "toc_cell": false,
   "toc_position": {},
   "toc_section_display": true,
   "toc_window_display": false
  }
 },
 "nbformat": 4,
 "nbformat_minor": 4
}
