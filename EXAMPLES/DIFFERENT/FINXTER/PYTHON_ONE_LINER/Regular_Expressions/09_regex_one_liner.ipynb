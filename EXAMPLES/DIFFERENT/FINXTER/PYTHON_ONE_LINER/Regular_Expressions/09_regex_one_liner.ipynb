{
 "cells": [
  {
   "cell_type": "code",
   "execution_count": 1,
   "metadata": {},
   "outputs": [
    {
     "name": "stdout",
     "output_type": "stream",
     "text": [
      "<re.Match object; span=(11, 34), match=' words too often words '>\n"
     ]
    },
    {
     "data": {
      "text/plain": [
       "\"\\n<re.Match object; span=(11, 34), match=' words too often words '>\\n\""
      ]
     },
     "execution_count": 1,
     "metadata": {},
     "output_type": "execute_result"
    }
   ],
   "source": [
    "# Detecting Word Repetitions\n",
    "\n",
    "\n",
    "## Dependencies\n",
    "import re\n",
    "\n",
    "## Data\n",
    "text = 'if you use words too often words become used'\n",
    "\n",
    "## One-Liner\n",
    "style_problems = re.search('\\s(?P<x>[a-z]+)\\s+([a-z]+\\s+){0,10}(?P=x)\\s', ' ' + text + ' ')\n",
    "\n",
    "## Results\n",
    "print(style_problems)\n",
    "'''\n",
    "<re.Match object; span=(11, 34), match=' words too often words '>\n",
    "'''\n"
   ]
  },
  {
   "cell_type": "code",
   "execution_count": null,
   "metadata": {},
   "outputs": [],
   "source": []
  }
 ],
 "metadata": {
  "kernelspec": {
   "display_name": "Python 3",
   "language": "python",
   "name": "python3"
  },
  "language_info": {
   "codemirror_mode": {
    "name": "ipython",
    "version": 3
   },
   "file_extension": ".py",
   "mimetype": "text/x-python",
   "name": "python",
   "nbconvert_exporter": "python",
   "pygments_lexer": "ipython3",
   "version": "3.7.9"
  },
  "toc": {
   "base_numbering": 1,
   "nav_menu": {},
   "number_sections": true,
   "sideBar": true,
   "skip_h1_title": false,
   "title_cell": "Table of Contents",
   "title_sidebar": "Contents",
   "toc_cell": false,
   "toc_position": {},
   "toc_section_display": true,
   "toc_window_display": false
  }
 },
 "nbformat": 4,
 "nbformat_minor": 4
}
