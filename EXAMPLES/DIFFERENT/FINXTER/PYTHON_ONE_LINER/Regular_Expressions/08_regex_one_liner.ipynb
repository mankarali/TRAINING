{
 "cells": [
  {
   "cell_type": "code",
   "execution_count": 1,
   "metadata": {},
   "outputs": [
    {
     "name": "stdout",
     "output_type": "stream",
     "text": [
      "[('thirteen.', 'e'), ('nuzzled', 'z'), ('effort', 'f'), ('slipped', 'p'), ('glass', 's'), ('doors', 'o'), ('gritty', 't'), ('--', '-'), ('Orwell,', 'l')]\n"
     ]
    },
    {
     "data": {
      "text/plain": [
       "\"\\n[('thirteen.', 'e'), ('nuzzled', 'z'), ('effort', 'f'),\\n('slipped', 'p'), ('glass', 's'), ('doors', 'o'),\\n('gritty', 't'), ('--', '-'), ('Orwell,', 'l')]\\n\""
      ]
     },
     "execution_count": 1,
     "metadata": {},
     "output_type": "execute_result"
    }
   ],
   "source": [
    "# Duplicate Detection in Strings\n",
    "\n",
    "\n",
    "## Dependencies\n",
    "import re\n",
    "\n",
    "## Data\n",
    "text = '''\n",
    "It was a bright cold day in April, and the clocks were\n",
    "striking thirteen. Winston Smith, his chin nuzzled into\n",
    "his breast in an effort to escape the vile wind, slipped\n",
    "quickly through the glass doors of Victory Mansions,\n",
    "though not quickly enough to prevent a swirl of gritty\n",
    "dust from entering along with him.\n",
    "-- George Orwell, 1984\n",
    "'''\n",
    "\n",
    "## One-Liner\n",
    "duplicates = re.findall('([^\\s]*(?P<x>[^\\s])(?P=x)[^\\s]*)', text)\n",
    "\n",
    "## Results\n",
    "print(duplicates)\n",
    "'''\n",
    "[('thirteen.', 'e'), ('nuzzled', 'z'), ('effort', 'f'),\n",
    "('slipped', 'p'), ('glass', 's'), ('doors', 'o'),\n",
    "('gritty', 't'), ('--', '-'), ('Orwell,', 'l')]\n",
    "'''\n"
   ]
  },
  {
   "cell_type": "code",
   "execution_count": null,
   "metadata": {},
   "outputs": [],
   "source": []
  }
 ],
 "metadata": {
  "kernelspec": {
   "display_name": "Python 3",
   "language": "python",
   "name": "python3"
  },
  "language_info": {
   "codemirror_mode": {
    "name": "ipython",
    "version": 3
   },
   "file_extension": ".py",
   "mimetype": "text/x-python",
   "name": "python",
   "nbconvert_exporter": "python",
   "pygments_lexer": "ipython3",
   "version": "3.7.9"
  },
  "toc": {
   "base_numbering": 1,
   "nav_menu": {},
   "number_sections": true,
   "sideBar": true,
   "skip_h1_title": false,
   "title_cell": "Table of Contents",
   "title_sidebar": "Contents",
   "toc_cell": false,
   "toc_position": {},
   "toc_section_display": true,
   "toc_window_display": false
  }
 },
 "nbformat": 4,
 "nbformat_minor": 4
}
