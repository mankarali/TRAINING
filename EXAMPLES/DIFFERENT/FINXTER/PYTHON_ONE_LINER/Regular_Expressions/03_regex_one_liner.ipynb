{
 "cells": [
  {
   "cell_type": "code",
   "execution_count": 1,
   "metadata": {},
   "outputs": [
    {
     "name": "stdout",
     "output_type": "stream",
     "text": [
      "[('<a href=\"https://app.finxter.com/\">test your Python skills</a>', 'test'), ('<a href=\"http://finxter.com/\">Solve more Python puzzles</a>', 'puzzle')]\n"
     ]
    },
    {
     "data": {
      "text/plain": [
       "'\\n[(\\'<a href=\"https://app.finxter.com/\">test your Python skills</a>\\', \\'test\\'),\\n (\\'<a href=\"http://finxter.com/\">Solve more Python puzzles</a>\\', \\'puzzle\\')]\\n'"
      ]
     },
     "execution_count": 1,
     "metadata": {},
     "output_type": "execute_result"
    }
   ],
   "source": [
    "# Analyzing Hyperlinks of HTML Documents\n",
    "\n",
    "\n",
    "## Dependencies\n",
    "import re\n",
    "\n",
    "## Data\n",
    "page = '''\n",
    "<!DOCTYPE html>\n",
    "<html>\n",
    "<body>\n",
    "<h1>My Programming Links</h1>\n",
    "<a href=\"https://app.finxter.com/\">test your Python skills</a>\n",
    "<a href=\"https://blog.finxter.com/recursion/\">Learn recursion</a>\n",
    "<a href=\"https://nostarch.com/\">Great books from NoStarchPress</a>\n",
    "<a href=\"http://finxter.com/\">Solve more Python puzzles</a>\n",
    "</body>\n",
    "</html>\n",
    "'''\n",
    "\n",
    "## One-Liner\n",
    "practice_tests = re.findall(\"(<a.*?finxter.*?(test|puzzle).*?>)\", page)\n",
    "\n",
    "## Result\n",
    "print(practice_tests)\n",
    "'''\n",
    "[('<a href=\"https://app.finxter.com/\">test your Python skills</a>', 'test'),\n",
    " ('<a href=\"http://finxter.com/\">Solve more Python puzzles</a>', 'puzzle')]\n",
    "'''\n"
   ]
  },
  {
   "cell_type": "code",
   "execution_count": null,
   "metadata": {},
   "outputs": [],
   "source": []
  }
 ],
 "metadata": {
  "kernelspec": {
   "display_name": "Python 3",
   "language": "python",
   "name": "python3"
  },
  "language_info": {
   "codemirror_mode": {
    "name": "ipython",
    "version": 3
   },
   "file_extension": ".py",
   "mimetype": "text/x-python",
   "name": "python",
   "nbconvert_exporter": "python",
   "pygments_lexer": "ipython3",
   "version": "3.7.9"
  },
  "toc": {
   "base_numbering": 1,
   "nav_menu": {},
   "number_sections": true,
   "sideBar": true,
   "skip_h1_title": false,
   "title_cell": "Table of Contents",
   "title_sidebar": "Contents",
   "toc_cell": false,
   "toc_position": {},
   "toc_section_display": true,
   "toc_window_display": false
  }
 },
 "nbformat": 4,
 "nbformat_minor": 4
}
