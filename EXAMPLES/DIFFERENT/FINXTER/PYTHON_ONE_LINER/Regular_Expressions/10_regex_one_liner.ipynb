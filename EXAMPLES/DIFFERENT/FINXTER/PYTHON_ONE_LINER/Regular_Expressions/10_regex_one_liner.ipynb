{
 "cells": [
  {
   "cell_type": "code",
   "execution_count": 2,
   "metadata": {},
   "outputs": [
    {
     "name": "stdout",
     "output_type": "stream",
     "text": [
      "\n",
      "Alice Doe married John Doe.\n",
      "The new name of former 'Alice Wonderland' is Alice Doe.\n",
      "Alice Doe replaces her old name 'Wonderland' with her new name 'Doe'.\n",
      "Alice's sister Jane Wonderland still keeps her old name.\n",
      "\n"
     ]
    },
    {
     "data": {
      "text/plain": [
       "\"\\n\\nAlice Doe married John Doe.\\nThe new name of former 'Alice Wonderland' is Alice Doe.\\nAlice Doe replaces her old name 'Wonderland' with her new name 'Doe'.\\nAlice's sister Jane Wonderland still keeps her old name.\\n\\n\\n\""
      ]
     },
     "execution_count": 2,
     "metadata": {},
     "output_type": "execute_result"
    }
   ],
   "source": [
    "# Modifying Regex Patterns in a Multiline String\n",
    "\n",
    "\n",
    "## Dependencies\n",
    "import re\n",
    "\n",
    "## Data\n",
    "text = '''\n",
    "Alice Wonderland married John Doe.\n",
    "The new name of former 'Alice Wonderland' is Alice Doe.\n",
    "Alice Wonderland replaces her old name 'Wonderland' with her new name 'Doe'.\n",
    "Alice's sister Jane Wonderland still keeps her old name.\n",
    "'''\n",
    "\n",
    "## One-Liner\n",
    "updated_text = re.sub(\"Alice Wonderland(?!')\", 'Alice Doe', text)\n",
    "\n",
    "## Result\n",
    "print(updated_text)\n",
    "'''\n",
    "\n",
    "Alice Doe married John Doe.\n",
    "The new name of former 'Alice Wonderland' is Alice Doe.\n",
    "Alice Doe replaces her old name 'Wonderland' with her new name 'Doe'.\n",
    "Alice's sister Jane Wonderland still keeps her old name.\n",
    "\n",
    "\n",
    "'''\n"
   ]
  },
  {
   "cell_type": "code",
   "execution_count": null,
   "metadata": {},
   "outputs": [],
   "source": []
  }
 ],
 "metadata": {
  "kernelspec": {
   "display_name": "Python 3",
   "language": "python",
   "name": "python3"
  },
  "language_info": {
   "codemirror_mode": {
    "name": "ipython",
    "version": 3
   },
   "file_extension": ".py",
   "mimetype": "text/x-python",
   "name": "python",
   "nbconvert_exporter": "python",
   "pygments_lexer": "ipython3",
   "version": "3.7.9"
  },
  "toc": {
   "base_numbering": 1,
   "nav_menu": {},
   "number_sections": true,
   "sideBar": true,
   "skip_h1_title": false,
   "title_cell": "Table of Contents",
   "title_sidebar": "Contents",
   "toc_cell": false,
   "toc_position": {},
   "toc_section_display": true,
   "toc_window_display": false
  }
 },
 "nbformat": 4,
 "nbformat_minor": 4
}
