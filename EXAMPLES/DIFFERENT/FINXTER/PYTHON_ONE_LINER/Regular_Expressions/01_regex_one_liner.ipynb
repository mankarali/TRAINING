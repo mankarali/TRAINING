{
 "cells": [
  {
   "cell_type": "code",
   "execution_count": null,
   "metadata": {},
   "outputs": [],
   "source": [
    "# Finding Basic Textual Patterns in Strings\n",
    "\n",
    "\n",
    "## Dependencies\n",
    "import re\n",
    "\n",
    "## Data\n",
    "text = 'peter piper picked a peck of pickled peppers'\n",
    "\n",
    "## One-Liner\n",
    "result = re.findall('p.*?e.*?r', text)\n",
    "\n",
    "## Result\n",
    "print(result)\n",
    "'''\n",
    "['peter', 'piper', 'picked a peck of pickled pepper']\n",
    "'''\n"
   ]
  }
 ],
 "metadata": {
  "kernelspec": {
   "display_name": "Python 3",
   "language": "python",
   "name": "python3"
  },
  "language_info": {
   "codemirror_mode": {
    "name": "ipython",
    "version": 3
   },
   "file_extension": ".py",
   "mimetype": "text/x-python",
   "name": "python",
   "nbconvert_exporter": "python",
   "pygments_lexer": "ipython3",
   "version": "3.7.9"
  }
 },
 "nbformat": 4,
 "nbformat_minor": 4
}
