{
 "cells": [
  {
   "cell_type": "code",
   "execution_count": 4,
   "metadata": {},
   "outputs": [
    {
     "name": "stdout",
     "output_type": "stream",
     "text": [
      "['http://blog.finxter.com/applications/', 'http://blog.finxter.com/', 'http://bo.bo.bo.bo.bo.bo/', 'http://bo.bo.bo.bo.bo.bo/333483--33343-/']\n"
     ]
    },
    {
     "data": {
      "text/plain": [
       "\"\\n['http://blog.finxter.com/applications/', 'http://blog.finxter.com/',\\n'http://bo.bo.bo.bo.bo.bo/', 'http://bo.bo.bo.bo.bo.bo/333483--33343-/']\\n\""
      ]
     },
     "execution_count": 4,
     "metadata": {},
     "output_type": "execute_result"
    }
   ],
   "source": [
    "# Finding Nonsecure HTTP URLs\n",
    "\n",
    "\n",
    "## Dependencies\n",
    "import re\n",
    "\n",
    "## Data\n",
    "article = '''\n",
    "The algorithm has important practical applications\n",
    "http://blog.finxter.com/applications/\n",
    "in many basic data structures such as sets, trees,\n",
    "dictionaries, bags, bag trees, bag dictionaries,\n",
    "hash sets, https://blog.finxter.com/sets-in-python/\n",
    "hash tables, maps, and arrays. http://blog.finxter.com/\n",
    "http://not-a-valid-url\n",
    "http:/bla.ba.com\n",
    "http://bo.bo.bo.bo.bo.bo/\n",
    "http://bo.bo.bo.bo.bo.bo/333483--33343-/\n",
    "'''\n",
    "\n",
    "## One-Liner\n",
    "stale_links = re.findall('http://[a-z0-9_\\-.]+\\.[a-z0-9_\\-/]+', article)\n",
    "\n",
    "## Results\n",
    "print(stale_links)\n",
    "'''\n",
    "['http://blog.finxter.com/applications/', 'http://blog.finxter.com/',\n",
    "'http://bo.bo.bo.bo.bo.bo/', 'http://bo.bo.bo.bo.bo.bo/333483--33343-/']\n",
    "'''\n"
   ]
  },
  {
   "cell_type": "code",
   "execution_count": null,
   "metadata": {},
   "outputs": [],
   "source": []
  }
 ],
 "metadata": {
  "kernelspec": {
   "display_name": "Python 3",
   "language": "python",
   "name": "python3"
  },
  "language_info": {
   "codemirror_mode": {
    "name": "ipython",
    "version": 3
   },
   "file_extension": ".py",
   "mimetype": "text/x-python",
   "name": "python",
   "nbconvert_exporter": "python",
   "pygments_lexer": "ipython3",
   "version": "3.7.9"
  },
  "toc": {
   "base_numbering": 1,
   "nav_menu": {},
   "number_sections": true,
   "sideBar": true,
   "skip_h1_title": false,
   "title_cell": "Table of Contents",
   "title_sidebar": "Contents",
   "toc_cell": false,
   "toc_position": {},
   "toc_section_display": true,
   "toc_window_display": false
  }
 },
 "nbformat": 4,
 "nbformat_minor": 4
}
