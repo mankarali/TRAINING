{
 "cells": [
  {
   "cell_type": "code",
   "execution_count": 1,
   "metadata": {},
   "outputs": [
    {
     "name": "stdout",
     "output_type": "stream",
     "text": [
      "<re.Match object; span=(0, 34), match='crypto-bot that is trading Bitcoin'>\n",
      "None\n"
     ]
    },
    {
     "data": {
      "text/plain": [
       "\"\\n<re.Match object; span=(0, 34), match='crypto-bot that is trading Bitcoin'>\\nNone\\n\""
      ]
     },
     "execution_count": 1,
     "metadata": {},
     "output_type": "execute_result"
    }
   ],
   "source": [
    "# Writing Your First Web Scraper with Regular Expressions\n",
    "\n",
    "\n",
    "## Dependencies\n",
    "import re\n",
    "\n",
    "## Data\n",
    "text_1 = \"crypto-bot that is trading Bitcoin and other currencies\"\n",
    "text_2 = \"cryptographic encryption methods that can be cracked easily with quantum computers\"\n",
    "\n",
    "## One-Liner\n",
    "pattern = re.compile(\"crypto(.{1,30})coin\")\n",
    "\n",
    "## Result\n",
    "print(pattern.match(text_1))\n",
    "print(pattern.match(text_2))\n",
    "'''\n",
    "<re.Match object; span=(0, 34), match='crypto-bot that is trading Bitcoin'>\n",
    "None\n",
    "'''\n"
   ]
  },
  {
   "cell_type": "code",
   "execution_count": null,
   "metadata": {},
   "outputs": [],
   "source": []
  }
 ],
 "metadata": {
  "kernelspec": {
   "display_name": "Python 3",
   "language": "python",
   "name": "python3"
  },
  "language_info": {
   "codemirror_mode": {
    "name": "ipython",
    "version": 3
   },
   "file_extension": ".py",
   "mimetype": "text/x-python",
   "name": "python",
   "nbconvert_exporter": "python",
   "pygments_lexer": "ipython3",
   "version": "3.7.9"
  },
  "toc": {
   "base_numbering": 1,
   "nav_menu": {},
   "number_sections": true,
   "sideBar": true,
   "skip_h1_title": false,
   "title_cell": "Table of Contents",
   "title_sidebar": "Contents",
   "toc_cell": false,
   "toc_position": {},
   "toc_section_display": true,
   "toc_window_display": false
  }
 },
 "nbformat": 4,
 "nbformat_minor": 4
}
