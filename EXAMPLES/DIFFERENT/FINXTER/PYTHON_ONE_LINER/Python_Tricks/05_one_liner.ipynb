{
 "cells": [
  {
   "cell_type": "code",
   "execution_count": 1,
   "metadata": {},
   "outputs": [
    {
     "name": "stdout",
     "output_type": "stream",
     "text": [
      "a fully-managed MySQL and PostgreSQL\n"
     ]
    },
    {
     "data": {
      "text/plain": [
       "'\\na fully-managed MySQL and PostgreSQL\\n'"
      ]
     },
     "execution_count": 1,
     "metadata": {},
     "output_type": "execute_result"
    }
   ],
   "source": [
    "# Using Slicing to Extract Matching Substring Environments\n",
    "\n",
    "## Data\n",
    "letters_amazon = '''\n",
    "We spent several years building our own database engine,\n",
    "Amazon Aurora, a fully-managed MySQL and PostgreSQL-compatible\n",
    "service with the same or better durability and availability as\n",
    "the commercial engines, but at one-tenth of the cost. We were\n",
    "not surprised when this worked.\n",
    "'''\n",
    "\n",
    "## One-Liner\n",
    "find = lambda x, q: x[x.find(q)-18:x.find(q)+18] if q in x else -1\n",
    "\n",
    "## Result\n",
    "print(find(letters_amazon, 'SQL'))\n",
    "'''\n",
    "a fully-managed MySQL and PostgreSQL\n",
    "'''\n"
   ]
  },
  {
   "cell_type": "code",
   "execution_count": null,
   "metadata": {},
   "outputs": [],
   "source": []
  }
 ],
 "metadata": {
  "kernelspec": {
   "display_name": "Python 3",
   "language": "python",
   "name": "python3"
  },
  "language_info": {
   "codemirror_mode": {
    "name": "ipython",
    "version": 3
   },
   "file_extension": ".py",
   "mimetype": "text/x-python",
   "name": "python",
   "nbconvert_exporter": "python",
   "pygments_lexer": "ipython3",
   "version": "3.7.9"
  },
  "toc": {
   "base_numbering": 1,
   "nav_menu": {},
   "number_sections": true,
   "sideBar": true,
   "skip_h1_title": false,
   "title_cell": "Table of Contents",
   "title_sidebar": "Contents",
   "toc_cell": false,
   "toc_position": {},
   "toc_section_display": true,
   "toc_window_display": false
  }
 },
 "nbformat": 4,
 "nbformat_minor": 4
}
