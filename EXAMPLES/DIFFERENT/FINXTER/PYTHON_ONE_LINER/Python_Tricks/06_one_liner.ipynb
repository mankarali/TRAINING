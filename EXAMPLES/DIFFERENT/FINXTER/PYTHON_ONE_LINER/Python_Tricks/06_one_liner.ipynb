{
 "cells": [
  {
   "cell_type": "code",
   "execution_count": 2,
   "metadata": {},
   "outputs": [
    {
     "name": "stdout",
     "output_type": "stream",
     "text": [
      "[[9.9, 9.8, 9.5], [9.5, 9.4, 9.2], [8.4, 7.9, 8.0], [7.1, 4.8, 4.7]]\n"
     ]
    },
    {
     "data": {
      "text/plain": [
       "'\\n[[9.9, 9.8, 9.5],\\n [9.5, 9.4, 9.2],\\n [8.4, 7.9, 8.0],\\n [7.1, 4.8, 4.7]]\\n'"
      ]
     },
     "execution_count": 2,
     "metadata": {},
     "output_type": "execute_result"
    }
   ],
   "source": [
    "# Combining List Comprehension and Slicing\n",
    "\n",
    "## Data (daily stock prices ($))\n",
    "price = [[9.9, 9.8, 9.8, 9.4, 9.5, 9.7],\n",
    "         [9.5, 9.4, 9.4, 9.3, 9.2, 9.1],\n",
    "         [8.4, 7.9, 7.9, 8.1, 8.0, 8.0],\n",
    "         [7.1, 5.9, 4.8, 4.8, 4.7, 3.9]]\n",
    "\n",
    "## One-Liner\n",
    "sample = [line[::2] for line in price]\n",
    "\n",
    "## Result\n",
    "print(sample)\n",
    "'''\n",
    "[[9.9, 9.8, 9.5],\n",
    " [9.5, 9.4, 9.2],\n",
    " [8.4, 7.9, 8.0],\n",
    " [7.1, 4.8, 4.7]]\n",
    "'''\n"
   ]
  },
  {
   "cell_type": "code",
   "execution_count": null,
   "metadata": {},
   "outputs": [],
   "source": []
  }
 ],
 "metadata": {
  "kernelspec": {
   "display_name": "Python 3",
   "language": "python",
   "name": "python3"
  },
  "language_info": {
   "codemirror_mode": {
    "name": "ipython",
    "version": 3
   },
   "file_extension": ".py",
   "mimetype": "text/x-python",
   "name": "python",
   "nbconvert_exporter": "python",
   "pygments_lexer": "ipython3",
   "version": "3.7.9"
  },
  "toc": {
   "base_numbering": 1,
   "nav_menu": {},
   "number_sections": true,
   "sideBar": true,
   "skip_h1_title": false,
   "title_cell": "Table of Contents",
   "title_sidebar": "Contents",
   "toc_cell": false,
   "toc_position": {},
   "toc_section_display": true,
   "toc_window_display": false
  }
 },
 "nbformat": 4,
 "nbformat_minor": 4
}
