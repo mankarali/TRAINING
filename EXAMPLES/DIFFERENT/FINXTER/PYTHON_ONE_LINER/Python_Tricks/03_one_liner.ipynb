{
 "cells": [
  {
   "cell_type": "code",
   "execution_count": 1,
   "metadata": {},
   "outputs": [
    {
     "name": "stdout",
     "output_type": "stream",
     "text": [
      "['{', '\"cells\": [', '{', '\"cell_type\": \"code\",', '\"execution_count\": 4,', '\"metadata\": {},', '\"outputs\": [', '{', '\"name\": \"stdout\",', '\"output_type\": \"stream\",', '\"text\": [', '\"[\\'{\\', \\'\\\\\"cells\\\\\": [\\', \\'{\\', \\'\\\\\"cell_type\\\\\": \\\\\"code\\\\\",\\', \\'\\\\\"execution_count\\\\\": 1,\\', \\'\\\\\"metadata\\\\\": {},\\', \\'\\\\\"outputs\\\\\": [\\', \\'{\\', \\'\\\\\"ename\\\\\": \\\\\"FileNotFoundError\\\\\",\\', \\'\\\\\"evalue\\\\\": \\\\\"[Errno 2] No such file or directory: \\\\\\\\\\'one_liner_3.py\\\\\\\\\\'\\\\\",\\', \\'\\\\\"output_type\\\\\": \\\\\"error\\\\\",\\', \\'\\\\\"traceback\\\\\": [\\', \\'\\\\\"\\\\\\\\\\\\\\\\u001b[1;31m---------------------------------------------------------------------------\\\\\\\\\\\\\\\\u001b[0m\\\\\",\\', \\'\\\\\"\\\\\\\\\\\\\\\\u001b[1;31mFileNotFoundError\\\\\\\\\\\\\\\\u001b[0m                         Traceback (most recent call last)\\\\\",\\', \\'\\\\\"\\\\\\\\\\\\\\\\u001b[1;32m<ipython-input-1-391eead8433c>\\\\\\\\\\\\\\\\u001b[0m in \\\\\\\\\\\\\\\\u001b[0;36m<module>\\\\\\\\\\\\\\\\u001b[1;34m\\\\\\\\\\\\\\\\u001b[0m\\\\\\\\\\\\\\\\n\\\\\\\\\\\\\\\\u001b[0;32m      1\\\\\\\\\\\\\\\\u001b[0m \\\\\\\\\\\\\\\\u001b[1;31m# Reading a File\\\\\\\\\\\\\\\\u001b[0m\\\\\\\\\\\\\\\\u001b[1;33m\\\\\\\\\\\\\\\\u001b[0m\\\\\\\\\\\\\\\\u001b[1;33m\\\\\\\\\\\\\\\\u001b[0m\\\\\\\\\\\\\\\\u001b[1;33m\\\\\\\\\\\\\\\\u001b[0m\\\\\\\\\\\\\\\\u001b[0m\\\\\\\\\\\\\\\\n\\\\\\\\\\\\\\\\u001b[0;32m      2\\\\\\\\\\\\\\\\u001b[0m \\\\\\\\\\\\\\\\u001b[1;33m\\\\\\\\\\\\\\\\u001b[0m\\\\\\\\\\\\\\\\u001b[0m\\\\\\\\\\\\\\\\n\\\\\\\\\\\\\\\\u001b[1;32m----> 3\\\\\\\\\\\\\\\\u001b[1;33m \\\\\\\\\\\\\\\\u001b[0mprint\\\\\\\\\\\\\\\\u001b[0m\\\\\\\\\\\\\\\\u001b[1;33m(\\\\\\\\\\\\\\\\u001b[0m\\\\\\\\\\\\\\\\u001b[1;33m[\\\\\\\\\\\\\\\\u001b[0m\\\\\\\\\\\\\\\\u001b[0mline\\\\\\\\\\\\\\\\u001b[0m\\\\\\\\\\\\\\\\u001b[1;33m.\\\\\\\\\\\\\\\\u001b[0m\\\\\\\\\\\\\\\\u001b[0mstrip\\\\\\\\\\\\\\\\u001b[0m\\\\\\\\\\\\\\\\u001b[1;33m(\\\\\\\\\\\\\\\\u001b[0m\\\\\\\\\\\\\\\\u001b[1;33m)\\\\\\\\\\\\\\\\u001b[0m \\\\\\\\\\\\\\\\u001b[1;32mfor\\\\\\\\\\\\\\\\u001b[0m \\\\\\\\\\\\\\\\u001b[0mline\\\\\\\\\\\\\\\\u001b[0m \\\\\\\\\\\\\\\\u001b[1;32min\\\\\\\\\\\\\\\\u001b[0m \\\\\\\\\\\\\\\\u001b[0mopen\\\\\\\\\\\\\\\\u001b[0m\\\\\\\\\\\\\\\\u001b[1;33m(\\\\\\\\\\\\\\\\u001b[0m\\\\\\\\\\\\\\\\u001b[1;34m\\\\\\\\\\\\\\\\\\\\\"one_liner_3.py\\\\\\\\\\\\\\\\\\\\\"\\\\\\\\\\\\\\\\u001b[0m\\\\\\\\\\\\\\\\u001b[1;33m)\\\\\\\\\\\\\\\\u001b[0m\\\\\\\\\\\\\\\\u001b[1;33m]\\\\\\\\\\\\\\\\u001b[0m\\\\\\\\\\\\\\\\u001b[1;33m)\\\\\\\\\\\\\\\\u001b[0m\\\\\\\\\\\\\\\\u001b[1;33m\\\\\\\\\\\\\\\\u001b[0m\\\\\\\\\\\\\\\\u001b[1;33m\\\\\\\\\\\\\\\\u001b[0m\\\\\\\\\\\\\\\\u001b[0m\\\\\\\\\\\\\\\\n\\\\\\\\\\\\\\\\u001b[0m\\\\\\\\\\\\\\\\u001b[0;32m      4\\\\\\\\\\\\\\\\u001b[0m \\\\\\\\\\\\\\\\u001b[1;31m# Output: <This file content>\\\\\\\\\\\\\\\\u001b[0m\\\\\\\\\\\\\\\\u001b[1;33m\\\\\\\\\\\\\\\\u001b[0m\\\\\\\\\\\\\\\\u001b[1;33m\\\\\\\\\\\\\\\\u001b[0m\\\\\\\\\\\\\\\\u001b[1;33m\\\\\\\\\\\\\\\\u001b[0m\\\\\\\\\\\\\\\\u001b[0m\\\\\\\\\\\\\\\\n\\\\\",\\', \\'\\\\\"\\\\\\\\\\\\\\\\u001b[1;31mFileNotFoundError\\\\\\\\\\\\\\\\u001b[0m: [Errno 2] No such file or directory: \\\\\\\\\\'one_liner_3.py\\\\\\\\\\'\\\\\"\\', \\']\\', \\'}\\', \\'],\\', \\'\\\\\"source\\\\\": [\\', \\'\\\\\"# Reading a File\\\\\\\\\\\\\\\\n\\\\\",\\', \\'\\\\\"\\\\\\\\\\\\\\\\n\\\\\",\\', \\'\\\\\"print([line.strip() for line in open(\\\\\\\\\\\\\\\\\\\\\"one_liner_3.py\\\\\\\\\\\\\\\\\\\\\")])\\\\\\\\\\\\\\\\n\\\\\",\\', \\'\\\\\"# Output: <This file content>\\\\\\\\\\\\\\\\n\\\\\"\\', \\']\\', \\'},\\', \\'{\\', \\'\\\\\"cell_type\\\\\": \\\\\"code\\\\\",\\', \\'\\\\\"execution_count\\\\\": null,\\', \\'\\\\\"metadata\\\\\": {},\\', \\'\\\\\"outputs\\\\\": [],\\', \\'\\\\\"source\\\\\": []\\', \\'}\\', \\'],\\', \\'\\\\\"metadata\\\\\": {\\', \\'\\\\\"kernelspec\\\\\": {\\', \\'\\\\\"display_name\\\\\": \\\\\"Python 3\\\\\",\\', \\'\\\\\"language\\\\\": \\\\\"python\\\\\",\\', \\'\\\\\"name\\\\\": \\\\\"python3\\\\\"\\', \\'},\\', \\'\\\\\"language_info\\\\\": {\\', \\'\\\\\"codemirror_mode\\\\\": {\\', \\'\\\\\"name\\\\\": \\\\\"ipython\\\\\",\\', \\'\\\\\"version\\\\\": 3\\', \\'},\\', \\'\\\\\"file_extension\\\\\": \\\\\".py\\\\\",\\', \\'\\\\\"mimetype\\\\\": \\\\\"text/x-python\\\\\",\\', \\'\\\\\"name\\\\\": \\\\\"python\\\\\",\\', \\'\\\\\"nbconvert_exporter\\\\\": \\\\\"python\\\\\",\\', \\'\\\\\"pygments_lexer\\\\\": \\\\\"ipython3\\\\\",\\', \\'\\\\\"version\\\\\": \\\\\"3.7.9\\\\\"\\', \\'},\\', \\'\\\\\"toc\\\\\": {\\', \\'\\\\\"base_numbering\\\\\": 1,\\', \\'\\\\\"nav_menu\\\\\": {},\\', \\'\\\\\"number_sections\\\\\": true,\\', \\'\\\\\"sideBar\\\\\": true,\\', \\'\\\\\"skip_h1_title\\\\\": false,\\', \\'\\\\\"title_cell\\\\\": \\\\\"Table of Contents\\\\\",\\', \\'\\\\\"title_sidebar\\\\\": \\\\\"Contents\\\\\",\\', \\'\\\\\"toc_cell\\\\\": false,\\', \\'\\\\\"toc_position\\\\\": {},\\', \\'\\\\\"toc_section_display\\\\\": true,\\', \\'\\\\\"toc_window_display\\\\\": false\\', \\'}\\', \\'},\\', \\'\\\\\"nbformat\\\\\": 4,\\', \\'\\\\\"nbformat_minor\\\\\": 4\\', \\'}\\']\\\\n\"', ']', '}', '],', '\"source\": [', '\"# Reading a File\\\\n\",', '\"\\\\n\",', '\"print([line.strip() for line in open(\\\\\"03_one_liner.ipynb\\\\\")])\\\\n\",', '\"# Output: <This file content>   :))\\\\n\"', ']', '},', '{', '\"cell_type\": \"code\",', '\"execution_count\": null,', '\"metadata\": {},', '\"outputs\": [],', '\"source\": []', '}', '],', '\"metadata\": {', '\"kernelspec\": {', '\"display_name\": \"Python 3\",', '\"language\": \"python\",', '\"name\": \"python3\"', '},', '\"language_info\": {', '\"codemirror_mode\": {', '\"name\": \"ipython\",', '\"version\": 3', '},', '\"file_extension\": \".py\",', '\"mimetype\": \"text/x-python\",', '\"name\": \"python\",', '\"nbconvert_exporter\": \"python\",', '\"pygments_lexer\": \"ipython3\",', '\"version\": \"3.7.9\"', '},', '\"toc\": {', '\"base_numbering\": 1,', '\"nav_menu\": {},', '\"number_sections\": true,', '\"sideBar\": true,', '\"skip_h1_title\": false,', '\"title_cell\": \"Table of Contents\",', '\"title_sidebar\": \"Contents\",', '\"toc_cell\": false,', '\"toc_position\": {},', '\"toc_section_display\": true,', '\"toc_window_display\": false', '}', '},', '\"nbformat\": 4,', '\"nbformat_minor\": 4', '}']\n"
     ]
    }
   ],
   "source": [
    "# Reading a File\n",
    "\n",
    "print([line.strip() for line in open(\"03_one_liner.ipynb\")])\n",
    "# Output: <This file content>   :))\n"
   ]
  },
  {
   "cell_type": "code",
   "execution_count": null,
   "metadata": {},
   "outputs": [],
   "source": []
  }
 ],
 "metadata": {
  "kernelspec": {
   "display_name": "Python 3",
   "language": "python",
   "name": "python3"
  },
  "language_info": {
   "codemirror_mode": {
    "name": "ipython",
    "version": 3
   },
   "file_extension": ".py",
   "mimetype": "text/x-python",
   "name": "python",
   "nbconvert_exporter": "python",
   "pygments_lexer": "ipython3",
   "version": "3.7.9"
  },
  "toc": {
   "base_numbering": 1,
   "nav_menu": {},
   "number_sections": true,
   "sideBar": true,
   "skip_h1_title": false,
   "title_cell": "Table of Contents",
   "title_sidebar": "Contents",
   "toc_cell": false,
   "toc_position": {},
   "toc_section_display": true,
   "toc_window_display": false
  }
 },
 "nbformat": 4,
 "nbformat_minor": 4
}
