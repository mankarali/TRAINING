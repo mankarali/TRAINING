{
 "cells": [
  {
   "cell_type": "code",
   "execution_count": 3,
   "metadata": {},
   "outputs": [
    {
     "name": "stdout",
     "output_type": "stream",
     "text": [
      "['CheapCompany', 'SosoCompany']\n"
     ]
    },
    {
     "data": {
      "text/plain": [
       "\"\\n['CheapCompany', 'SosoCompany']\\n\""
      ]
     },
     "execution_count": 3,
     "metadata": {},
     "output_type": "execute_result"
    }
   ],
   "source": [
    "# Using Generator Expressions to Find Companies That Pay Below Minimum Wage\n",
    "\n",
    "## Data\n",
    "companies = {\n",
    "    'CoolCompany' : {'Alice' : 33, 'Bob' : 28, 'Frank' : 29},\n",
    "    'CheapCompany' : {'Ann' : 4, 'Lee' : 9, 'Chrisi' : 7},\n",
    "    'SosoCompany' : {'Esther' : 38, 'Cole' : 8, 'Paris' : 18}\n",
    "    }\n",
    "\n",
    "## One-Liner\n",
    "illegal = [x for x in companies if any(y<9 for y in companies[x].values())]\n",
    "\n",
    "## Result\n",
    "print(illegal)\n",
    "'''\n",
    "['CheapCompany', 'SosoCompany']\n",
    "'''\n",
    "\n"
   ]
  },
  {
   "cell_type": "code",
   "execution_count": null,
   "metadata": {},
   "outputs": [],
   "source": []
  }
 ],
 "metadata": {
  "kernelspec": {
   "display_name": "Python 3",
   "language": "python",
   "name": "python3"
  },
  "language_info": {
   "codemirror_mode": {
    "name": "ipython",
    "version": 3
   },
   "file_extension": ".py",
   "mimetype": "text/x-python",
   "name": "python",
   "nbconvert_exporter": "python",
   "pygments_lexer": "ipython3",
   "version": "3.7.9"
  },
  "toc": {
   "base_numbering": 1,
   "nav_menu": {},
   "number_sections": true,
   "sideBar": true,
   "skip_h1_title": false,
   "title_cell": "Table of Contents",
   "title_sidebar": "Contents",
   "toc_cell": false,
   "toc_position": {},
   "toc_section_display": true,
   "toc_window_display": false
  }
 },
 "nbformat": 4,
 "nbformat_minor": 4
}
