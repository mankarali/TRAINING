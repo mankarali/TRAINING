{
 "cells": [
  {
   "cell_type": "code",
   "execution_count": 1,
   "metadata": {},
   "outputs": [
    {
     "name": "stdout",
     "output_type": "stream",
     "text": [
      "[(True, 'lambda functions are anonymous functions.'), (True, 'anonymous functions dont have a name.'), (False, 'functions are objects in Python.')]\n"
     ]
    },
    {
     "data": {
      "text/plain": [
       "\"\\n[(True, 'lambda functions are anonymous functions.'),\\n(True, 'anonymous functions dont have a name.'),\\n(False, 'functions are objects in Python.')]\\n\""
      ]
     },
     "execution_count": 1,
     "metadata": {},
     "output_type": "execute_result"
    }
   ],
   "source": [
    "# Using Lambda and Map Functions\n",
    "\n",
    "## Data\n",
    "txt = ['lambda functions are anonymous functions.',\n",
    "       'anonymous functions dont have a name.',\n",
    "       'functions are objects in Python.']\n",
    "\n",
    "## One-Liner\n",
    "mark = map(lambda s: (True, s) if 'anonymous' in s else (False, s), txt)\n",
    "\n",
    "## Result\n",
    "print(list(mark))\n",
    "'''\n",
    "[(True, 'lambda functions are anonymous functions.'),\n",
    "(True, 'anonymous functions dont have a name.'),\n",
    "(False, 'functions are objects in Python.')]\n",
    "'''\n"
   ]
  },
  {
   "cell_type": "code",
   "execution_count": null,
   "metadata": {},
   "outputs": [],
   "source": []
  },
  {
   "cell_type": "code",
   "execution_count": null,
   "metadata": {},
   "outputs": [],
   "source": []
  }
 ],
 "metadata": {
  "kernelspec": {
   "display_name": "Python 3",
   "language": "python",
   "name": "python3"
  },
  "language_info": {
   "codemirror_mode": {
    "name": "ipython",
    "version": 3
   },
   "file_extension": ".py",
   "mimetype": "text/x-python",
   "name": "python",
   "nbconvert_exporter": "python",
   "pygments_lexer": "ipython3",
   "version": "3.7.9"
  },
  "toc": {
   "base_numbering": 1,
   "nav_menu": {},
   "number_sections": true,
   "sideBar": true,
   "skip_h1_title": false,
   "title_cell": "Table of Contents",
   "title_sidebar": "Contents",
   "toc_cell": false,
   "toc_position": {},
   "toc_section_display": true,
   "toc_window_display": false
  }
 },
 "nbformat": 4,
 "nbformat_minor": 4
}
