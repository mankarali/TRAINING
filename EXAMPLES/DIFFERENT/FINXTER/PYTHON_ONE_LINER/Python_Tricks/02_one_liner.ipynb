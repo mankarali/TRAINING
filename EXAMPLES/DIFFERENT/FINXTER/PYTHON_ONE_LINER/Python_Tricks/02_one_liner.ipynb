{
 "cells": [
  {
   "cell_type": "code",
   "execution_count": 1,
   "metadata": {},
   "outputs": [
    {
     "name": "stdout",
     "output_type": "stream",
     "text": [
      "[[], ['Call', 'Ishmael.', 'Some', 'years', 'never', 'mind', 'long', 'precisely', 'having'], ['little', 'money', 'purse,', 'nothing', 'particular', 'interest'], ['shore,', 'thought', 'would', 'sail', 'about', 'little', 'watery', 'part'], ['world.', 'have', 'driving', 'spleen,', 'regulating'], ['circulation.', 'Moby', 'Dick']]\n"
     ]
    },
    {
     "data": {
      "text/plain": [
       "\"\\n[[], ['Call', 'Ishmael.', 'Some', 'years', 'never', 'mind', 'long', 'precisely', 'having'], \\n['little', 'money', 'purse,', 'nothing', 'particular', 'interest'], \\n['shore,', 'thought', 'would', 'sail', 'about', 'little', 'watery', 'part'], \\n['world.', 'have', 'driving', 'spleen,', 'regulating'], ['circulation.', 'Moby', 'Dick']]\\n\""
      ]
     },
     "execution_count": 1,
     "metadata": {},
     "output_type": "execute_result"
    }
   ],
   "source": [
    "# Using List Comprehension to Find Words with High Information Value\n",
    "\n",
    "\n",
    "## Data\n",
    "text = '''\n",
    "Call me Ishmael. Some years ago - never mind how long precisely - having\n",
    "little or no money in my purse, and nothing particular to interest me\n",
    "on shore, I thought I would sail about a little and see the watery part\n",
    "of the world. It is a way I have of driving off the spleen, and regulating\n",
    "the circulation. - Moby Dick'''\n",
    "\n",
    "## One-Liner\n",
    "w = [[x for x in line.split() if len(x)>3] for line in text.split('\\n')]\n",
    "\n",
    "## Result\n",
    "print(w)\n",
    "'''\n",
    "[[], ['Call', 'Ishmael.', 'Some', 'years', 'never', 'mind', 'long', 'precisely', 'having'], \n",
    "['little', 'money', 'purse,', 'nothing', 'particular', 'interest'], \n",
    "['shore,', 'thought', 'would', 'sail', 'about', 'little', 'watery', 'part'], \n",
    "['world.', 'have', 'driving', 'spleen,', 'regulating'], ['circulation.', 'Moby', 'Dick']]\n",
    "'''"
   ]
  },
  {
   "cell_type": "code",
   "execution_count": null,
   "metadata": {},
   "outputs": [],
   "source": []
  },
  {
   "cell_type": "code",
   "execution_count": null,
   "metadata": {},
   "outputs": [],
   "source": []
  }
 ],
 "metadata": {
  "kernelspec": {
   "display_name": "Python 3",
   "language": "python",
   "name": "python3"
  },
  "language_info": {
   "codemirror_mode": {
    "name": "ipython",
    "version": 3
   },
   "file_extension": ".py",
   "mimetype": "text/x-python",
   "name": "python",
   "nbconvert_exporter": "python",
   "pygments_lexer": "ipython3",
   "version": "3.7.9"
  },
  "toc": {
   "base_numbering": 1,
   "nav_menu": {},
   "number_sections": true,
   "sideBar": true,
   "skip_h1_title": false,
   "title_cell": "Table of Contents",
   "title_sidebar": "Contents",
   "toc_cell": false,
   "toc_position": {},
   "toc_section_display": true,
   "toc_window_display": false
  }
 },
 "nbformat": 4,
 "nbformat_minor": 4
}
