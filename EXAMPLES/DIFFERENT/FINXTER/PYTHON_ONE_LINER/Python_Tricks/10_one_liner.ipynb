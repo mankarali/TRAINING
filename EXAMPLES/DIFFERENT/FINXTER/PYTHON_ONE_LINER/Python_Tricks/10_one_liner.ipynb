{
 "cells": [
  {
   "cell_type": "code",
   "execution_count": 2,
   "metadata": {},
   "outputs": [
    {
     "name": "stdout",
     "output_type": "stream",
     "text": [
      "[{'name': 'Alice', 'salary': 180000, 'job': 'data scientist'}, {'name': 'Bob', 'salary': 99000, 'job': 'mid-level manager'}, {'name': 'Frank', 'salary': 87000, 'job': 'CEO'}]\n"
     ]
    },
    {
     "data": {
      "text/plain": [
       "\"\\n[{'name': 'Alice', 'salary': 180000, 'job': 'data scientist'},\\n {'name': 'Bob', 'salary': 99000, 'job': 'mid-level manager'},\\n {'name': 'Frank', 'salary': 87000, 'job': 'CEO'}]\\n\""
      ]
     },
     "execution_count": 2,
     "metadata": {},
     "output_type": "execute_result"
    }
   ],
   "source": [
    "# Formatting Databases with the zip() Function\n",
    "\n",
    "\n",
    "## Data\n",
    "column_names = ['name', 'salary', 'job']\n",
    "db_rows = [('Alice', 180000, 'data scientist'),\n",
    "           ('Bob', 99000, 'mid-level manager'),\n",
    "           ('Frank', 87000, 'CEO')]\n",
    "\n",
    "## One-Liner\n",
    "db = [dict(zip(column_names, row)) for row in db_rows]\n",
    "\n",
    "## Result\n",
    "print(db)\n",
    "'''\n",
    "[{'name': 'Alice', 'salary': 180000, 'job': 'data scientist'},\n",
    " {'name': 'Bob', 'salary': 99000, 'job': 'mid-level manager'},\n",
    " {'name': 'Frank', 'salary': 87000, 'job': 'CEO'}]\n",
    "'''\n",
    "\n"
   ]
  },
  {
   "cell_type": "code",
   "execution_count": null,
   "metadata": {},
   "outputs": [],
   "source": []
  }
 ],
 "metadata": {
  "kernelspec": {
   "display_name": "Python 3",
   "language": "python",
   "name": "python3"
  },
  "language_info": {
   "codemirror_mode": {
    "name": "ipython",
    "version": 3
   },
   "file_extension": ".py",
   "mimetype": "text/x-python",
   "name": "python",
   "nbconvert_exporter": "python",
   "pygments_lexer": "ipython3",
   "version": "3.7.9"
  },
  "toc": {
   "base_numbering": 1,
   "nav_menu": {},
   "number_sections": true,
   "sideBar": true,
   "skip_h1_title": false,
   "title_cell": "Table of Contents",
   "title_sidebar": "Contents",
   "toc_cell": false,
   "toc_position": {},
   "toc_section_display": true,
   "toc_window_display": false
  }
 },
 "nbformat": 4,
 "nbformat_minor": 4
}
