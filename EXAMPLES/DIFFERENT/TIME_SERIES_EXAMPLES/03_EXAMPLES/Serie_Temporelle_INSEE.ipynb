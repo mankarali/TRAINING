{
 "cells": [
  {
   "cell_type": "markdown",
   "metadata": {},
   "source": [
    "## Importation des librairies"
   ]
  },
  {
   "cell_type": "code",
   "execution_count": 1,
   "metadata": {},
   "outputs": [],
   "source": [
    "import pandas as pd\n",
    "import statsmodels"
   ]
  },
  {
   "cell_type": "markdown",
   "metadata": {},
   "source": [
    "## Données de l'insee chiffres d'affaires des entreprises"
   ]
  },
  {
   "cell_type": "code",
   "execution_count": 2,
   "metadata": {},
   "outputs": [],
   "source": [
    "data = pd.read_csv(\"valeurs_mensuelles.csv\", sep=\";\",skiprows= 2, index_col = 0, parse_dates = True)"
   ]
  },
  {
   "cell_type": "code",
   "execution_count": 3,
   "metadata": {},
   "outputs": [
    {
     "data": {
      "text/plain": [
       "(251, 2)"
      ]
     },
     "execution_count": 3,
     "metadata": {},
     "output_type": "execute_result"
    }
   ],
   "source": [
    "data.shape"
   ]
  },
  {
   "cell_type": "markdown",
   "metadata": {},
   "source": [
    "## Data cleaning"
   ]
  },
  {
   "cell_type": "code",
   "execution_count": 4,
   "metadata": {},
   "outputs": [
    {
     "data": {
      "text/html": [
       "<div>\n",
       "<style scoped>\n",
       "    .dataframe tbody tr th:only-of-type {\n",
       "        vertical-align: middle;\n",
       "    }\n",
       "\n",
       "    .dataframe tbody tr th {\n",
       "        vertical-align: top;\n",
       "    }\n",
       "\n",
       "    .dataframe thead th {\n",
       "        text-align: right;\n",
       "    }\n",
       "</style>\n",
       "<table border=\"1\" class=\"dataframe\">\n",
       "  <thead>\n",
       "    <tr style=\"text-align: right;\">\n",
       "      <th></th>\n",
       "      <th>Unnamed: 1</th>\n",
       "      <th>Unnamed: 2</th>\n",
       "    </tr>\n",
       "    <tr>\n",
       "      <th>Période</th>\n",
       "      <th></th>\n",
       "      <th></th>\n",
       "    </tr>\n",
       "  </thead>\n",
       "  <tbody>\n",
       "    <tr>\n",
       "      <th>2019-11-01</th>\n",
       "      <td>115.90</td>\n",
       "      <td>A</td>\n",
       "    </tr>\n",
       "    <tr>\n",
       "      <th>2019-10-01</th>\n",
       "      <td>123.81</td>\n",
       "      <td>A</td>\n",
       "    </tr>\n",
       "    <tr>\n",
       "      <th>2019-09-01</th>\n",
       "      <td>114.43</td>\n",
       "      <td>A</td>\n",
       "    </tr>\n",
       "    <tr>\n",
       "      <th>2019-08-01</th>\n",
       "      <td>114.47</td>\n",
       "      <td>A</td>\n",
       "    </tr>\n",
       "    <tr>\n",
       "      <th>2019-07-01</th>\n",
       "      <td>109.02</td>\n",
       "      <td>A</td>\n",
       "    </tr>\n",
       "  </tbody>\n",
       "</table>\n",
       "</div>"
      ],
      "text/plain": [
       "            Unnamed: 1 Unnamed: 2\n",
       "Période                          \n",
       "2019-11-01      115.90          A\n",
       "2019-10-01      123.81          A\n",
       "2019-09-01      114.43          A\n",
       "2019-08-01      114.47          A\n",
       "2019-07-01      109.02          A"
      ]
     },
     "execution_count": 4,
     "metadata": {},
     "output_type": "execute_result"
    }
   ],
   "source": [
    "data.head()"
   ]
  },
  {
   "cell_type": "code",
   "execution_count": 5,
   "metadata": {},
   "outputs": [
    {
     "data": {
      "text/html": [
       "<div>\n",
       "<style scoped>\n",
       "    .dataframe tbody tr th:only-of-type {\n",
       "        vertical-align: middle;\n",
       "    }\n",
       "\n",
       "    .dataframe tbody tr th {\n",
       "        vertical-align: top;\n",
       "    }\n",
       "\n",
       "    .dataframe thead th {\n",
       "        text-align: right;\n",
       "    }\n",
       "</style>\n",
       "<table border=\"1\" class=\"dataframe\">\n",
       "  <thead>\n",
       "    <tr style=\"text-align: right;\">\n",
       "      <th></th>\n",
       "      <th>Unnamed: 1</th>\n",
       "      <th>Unnamed: 2</th>\n",
       "    </tr>\n",
       "    <tr>\n",
       "      <th>Période</th>\n",
       "      <th></th>\n",
       "      <th></th>\n",
       "    </tr>\n",
       "  </thead>\n",
       "  <tbody>\n",
       "    <tr>\n",
       "      <th>1999-05-01</th>\n",
       "      <td>60.21</td>\n",
       "      <td>A</td>\n",
       "    </tr>\n",
       "    <tr>\n",
       "      <th>1999-04-01</th>\n",
       "      <td>63.06</td>\n",
       "      <td>A</td>\n",
       "    </tr>\n",
       "    <tr>\n",
       "      <th>1999-03-01</th>\n",
       "      <td>66.56</td>\n",
       "      <td>A</td>\n",
       "    </tr>\n",
       "    <tr>\n",
       "      <th>1999-02-01</th>\n",
       "      <td>57.36</td>\n",
       "      <td>A</td>\n",
       "    </tr>\n",
       "    <tr>\n",
       "      <th>1999-01-01</th>\n",
       "      <td>57.57</td>\n",
       "      <td>A</td>\n",
       "    </tr>\n",
       "  </tbody>\n",
       "</table>\n",
       "</div>"
      ],
      "text/plain": [
       "            Unnamed: 1 Unnamed: 2\n",
       "Période                          \n",
       "1999-05-01       60.21          A\n",
       "1999-04-01       63.06          A\n",
       "1999-03-01       66.56          A\n",
       "1999-02-01       57.36          A\n",
       "1999-01-01       57.57          A"
      ]
     },
     "execution_count": 5,
     "metadata": {},
     "output_type": "execute_result"
    }
   ],
   "source": [
    "data.tail()"
   ]
  },
  {
   "cell_type": "code",
   "execution_count": 6,
   "metadata": {},
   "outputs": [],
   "source": [
    "data = data.drop(\"Unnamed: 2\", axis = 1)\n"
   ]
  },
  {
   "cell_type": "code",
   "execution_count": 7,
   "metadata": {},
   "outputs": [
    {
     "data": {
      "text/html": [
       "<div>\n",
       "<style scoped>\n",
       "    .dataframe tbody tr th:only-of-type {\n",
       "        vertical-align: middle;\n",
       "    }\n",
       "\n",
       "    .dataframe tbody tr th {\n",
       "        vertical-align: top;\n",
       "    }\n",
       "\n",
       "    .dataframe thead th {\n",
       "        text-align: right;\n",
       "    }\n",
       "</style>\n",
       "<table border=\"1\" class=\"dataframe\">\n",
       "  <thead>\n",
       "    <tr style=\"text-align: right;\">\n",
       "      <th></th>\n",
       "      <th>valeur</th>\n",
       "    </tr>\n",
       "    <tr>\n",
       "      <th>Période</th>\n",
       "      <th></th>\n",
       "    </tr>\n",
       "  </thead>\n",
       "  <tbody>\n",
       "    <tr>\n",
       "      <th>2019-11-01</th>\n",
       "      <td>115.90</td>\n",
       "    </tr>\n",
       "    <tr>\n",
       "      <th>2019-10-01</th>\n",
       "      <td>123.81</td>\n",
       "    </tr>\n",
       "    <tr>\n",
       "      <th>2019-09-01</th>\n",
       "      <td>114.43</td>\n",
       "    </tr>\n",
       "    <tr>\n",
       "      <th>2019-08-01</th>\n",
       "      <td>114.47</td>\n",
       "    </tr>\n",
       "    <tr>\n",
       "      <th>2019-07-01</th>\n",
       "      <td>109.02</td>\n",
       "    </tr>\n",
       "  </tbody>\n",
       "</table>\n",
       "</div>"
      ],
      "text/plain": [
       "            valeur\n",
       "Période           \n",
       "2019-11-01  115.90\n",
       "2019-10-01  123.81\n",
       "2019-09-01  114.43\n",
       "2019-08-01  114.47\n",
       "2019-07-01  109.02"
      ]
     },
     "execution_count": 7,
     "metadata": {},
     "output_type": "execute_result"
    }
   ],
   "source": [
    "data = data.rename(columns= {'Unnamed: 1':'valeur'})\n",
    "data.head()"
   ]
  },
  {
   "cell_type": "markdown",
   "metadata": {},
   "source": [
    "## Méthode 1 : tester la stationarité de la série avec statsmodels"
   ]
  },
  {
   "cell_type": "code",
   "execution_count": 8,
   "metadata": {},
   "outputs": [],
   "source": [
    "#rendre la serie stationnaire en enlèvant la tendance\n",
    "from statsmodels.tsa.tsatools import detrend\n",
    "notrend = detrend(data['valeur'])\n",
    "data[\"notrend\"]= notrend"
   ]
  },
  {
   "cell_type": "code",
   "execution_count": 9,
   "metadata": {},
   "outputs": [
    {
     "data": {
      "text/html": [
       "<div>\n",
       "<style scoped>\n",
       "    .dataframe tbody tr th:only-of-type {\n",
       "        vertical-align: middle;\n",
       "    }\n",
       "\n",
       "    .dataframe tbody tr th {\n",
       "        vertical-align: top;\n",
       "    }\n",
       "\n",
       "    .dataframe thead th {\n",
       "        text-align: right;\n",
       "    }\n",
       "</style>\n",
       "<table border=\"1\" class=\"dataframe\">\n",
       "  <thead>\n",
       "    <tr style=\"text-align: right;\">\n",
       "      <th></th>\n",
       "      <th>valeur</th>\n",
       "      <th>notrend</th>\n",
       "    </tr>\n",
       "    <tr>\n",
       "      <th>Période</th>\n",
       "      <th></th>\n",
       "      <th></th>\n",
       "    </tr>\n",
       "  </thead>\n",
       "  <tbody>\n",
       "    <tr>\n",
       "      <th>2019-11-01</th>\n",
       "      <td>115.90</td>\n",
       "      <td>2.059811</td>\n",
       "    </tr>\n",
       "    <tr>\n",
       "      <th>2019-10-01</th>\n",
       "      <td>123.81</td>\n",
       "      <td>10.154529</td>\n",
       "    </tr>\n",
       "    <tr>\n",
       "      <th>2019-09-01</th>\n",
       "      <td>114.43</td>\n",
       "      <td>0.959246</td>\n",
       "    </tr>\n",
       "    <tr>\n",
       "      <th>2019-08-01</th>\n",
       "      <td>114.47</td>\n",
       "      <td>1.183963</td>\n",
       "    </tr>\n",
       "    <tr>\n",
       "      <th>2019-07-01</th>\n",
       "      <td>109.02</td>\n",
       "      <td>-4.081319</td>\n",
       "    </tr>\n",
       "  </tbody>\n",
       "</table>\n",
       "</div>"
      ],
      "text/plain": [
       "            valeur    notrend\n",
       "Période                      \n",
       "2019-11-01  115.90   2.059811\n",
       "2019-10-01  123.81  10.154529\n",
       "2019-09-01  114.43   0.959246\n",
       "2019-08-01  114.47   1.183963\n",
       "2019-07-01  109.02  -4.081319"
      ]
     },
     "execution_count": 9,
     "metadata": {},
     "output_type": "execute_result"
    }
   ],
   "source": [
    "data.head()"
   ]
  },
  {
   "cell_type": "code",
   "execution_count": 10,
   "metadata": {},
   "outputs": [
    {
     "data": {
      "text/plain": [
       "<AxesSubplot:xlabel='Période'>"
      ]
     },
     "execution_count": 10,
     "metadata": {},
     "output_type": "execute_result"
    },
    {
     "data": {
      "image/png": "[encoded data removed]",
      "text/plain": [
       "<Figure size 1008x288 with 1 Axes>"
      ]
     },
     "metadata": {
      "needs_background": "light"
     },
     "output_type": "display_data"
    }
   ],
   "source": [
    "#visualisation de la série\n",
    "import matplotlib.pyplot as plt\n",
    "data.plot(y= [\"valeur\", \"notrend\"], figsize = (14,4))"
   ]
  },
  {
   "cell_type": "code",
   "execution_count": 11,
   "metadata": {},
   "outputs": [
    {
     "name": "stdout",
     "output_type": "stream",
     "text": [
      "Période\n",
      "2019-11-01   NaN\n",
      "2019-10-01   NaN\n",
      "2019-09-01   NaN\n",
      "2019-08-01   NaN\n",
      "2019-07-01   NaN\n",
      "              ..\n",
      "1999-05-01   NaN\n",
      "1999-04-01   NaN\n",
      "1999-03-01   NaN\n",
      "1999-02-01   NaN\n",
      "1999-01-01   NaN\n",
      "Name: trend, Length: 251, dtype: float64\n",
      "Période\n",
      "2019-11-01    0.555686\n",
      "2019-10-01    4.925019\n",
      "2019-09-01    0.758228\n",
      "2019-08-01   -3.405835\n",
      "2019-07-01   -5.494897\n",
      "                ...   \n",
      "1999-05-01   -2.690272\n",
      "1999-04-01    0.472436\n",
      "1999-03-01    4.038665\n",
      "1999-02-01   -7.282689\n",
      "1999-01-01   -4.770210\n",
      "Name: seasonal, Length: 251, dtype: float64\n",
      "Période\n",
      "2019-11-01   NaN\n",
      "2019-10-01   NaN\n",
      "2019-09-01   NaN\n",
      "2019-08-01   NaN\n",
      "2019-07-01   NaN\n",
      "              ..\n",
      "1999-05-01   NaN\n",
      "1999-04-01   NaN\n",
      "1999-03-01   NaN\n",
      "1999-02-01   NaN\n",
      "1999-01-01   NaN\n",
      "Name: resid, Length: 251, dtype: float64\n",
      "Période\n",
      "2019-11-01    115.90\n",
      "2019-10-01    123.81\n",
      "2019-09-01    114.43\n",
      "2019-08-01    114.47\n",
      "2019-07-01    109.02\n",
      "               ...  \n",
      "1999-05-01     60.21\n",
      "1999-04-01     63.06\n",
      "1999-03-01     66.56\n",
      "1999-02-01     57.36\n",
      "1999-01-01     57.57\n",
      "Name: valeur, Length: 251, dtype: float64\n"
     ]
    }
   ],
   "source": [
    "#utiliser seasonal_decompose pour analyser la serie temporelle et decomposer la tendance la saisonalité et le résidu\n",
    "from statsmodels.tsa.seasonal import seasonal_decompose\n",
    "data_decompose = seasonal_decompose(data['valeur'])\n",
    "print(data_decompose.trend)\n",
    "print(data_decompose.seasonal)\n",
    "print(data_decompose.resid)\n",
    "print(data_decompose.observed)"
   ]
  },
  {
   "cell_type": "code",
   "execution_count": 12,
   "metadata": {},
   "outputs": [
    {
     "data": {
      "image/png": "[encoded data removed]",
      "text/plain": [
       "<Figure size 432x288 with 4 Axes>"
      ]
     },
     "metadata": {
      "needs_background": "light"
     },
     "output_type": "display_data"
    }
   ],
   "source": [
    "data_decompose.plot()\n",
    "plt.show()"
   ]
  },
  {
   "cell_type": "code",
   "execution_count": 13,
   "metadata": {},
   "outputs": [
    {
     "data": {
      "text/html": [
       "<div>\n",
       "<style scoped>\n",
       "    .dataframe tbody tr th:only-of-type {\n",
       "        vertical-align: middle;\n",
       "    }\n",
       "\n",
       "    .dataframe tbody tr th {\n",
       "        vertical-align: top;\n",
       "    }\n",
       "\n",
       "    .dataframe thead th {\n",
       "        text-align: right;\n",
       "    }\n",
       "</style>\n",
       "<table border=\"1\" class=\"dataframe\">\n",
       "  <thead>\n",
       "    <tr style=\"text-align: right;\">\n",
       "      <th></th>\n",
       "      <th>valeur</th>\n",
       "      <th>notrend</th>\n",
       "      <th>trend</th>\n",
       "      <th>seasonal</th>\n",
       "      <th>resid</th>\n",
       "    </tr>\n",
       "    <tr>\n",
       "      <th>Période</th>\n",
       "      <th></th>\n",
       "      <th></th>\n",
       "      <th></th>\n",
       "      <th></th>\n",
       "      <th></th>\n",
       "    </tr>\n",
       "  </thead>\n",
       "  <tbody>\n",
       "    <tr>\n",
       "      <th>2019-11-01</th>\n",
       "      <td>115.90</td>\n",
       "      <td>2.059811</td>\n",
       "      <td>NaN</td>\n",
       "      <td>0.555686</td>\n",
       "      <td>NaN</td>\n",
       "    </tr>\n",
       "    <tr>\n",
       "      <th>2019-10-01</th>\n",
       "      <td>123.81</td>\n",
       "      <td>10.154529</td>\n",
       "      <td>NaN</td>\n",
       "      <td>4.925019</td>\n",
       "      <td>NaN</td>\n",
       "    </tr>\n",
       "    <tr>\n",
       "      <th>2019-09-01</th>\n",
       "      <td>114.43</td>\n",
       "      <td>0.959246</td>\n",
       "      <td>NaN</td>\n",
       "      <td>0.758228</td>\n",
       "      <td>NaN</td>\n",
       "    </tr>\n",
       "    <tr>\n",
       "      <th>2019-08-01</th>\n",
       "      <td>114.47</td>\n",
       "      <td>1.183963</td>\n",
       "      <td>NaN</td>\n",
       "      <td>-3.405835</td>\n",
       "      <td>NaN</td>\n",
       "    </tr>\n",
       "    <tr>\n",
       "      <th>2019-07-01</th>\n",
       "      <td>109.02</td>\n",
       "      <td>-4.081319</td>\n",
       "      <td>NaN</td>\n",
       "      <td>-5.494897</td>\n",
       "      <td>NaN</td>\n",
       "    </tr>\n",
       "    <tr>\n",
       "      <th>2019-06-01</th>\n",
       "      <td>115.40</td>\n",
       "      <td>2.483398</td>\n",
       "      <td>NaN</td>\n",
       "      <td>0.980536</td>\n",
       "      <td>NaN</td>\n",
       "    </tr>\n",
       "    <tr>\n",
       "      <th>2019-05-01</th>\n",
       "      <td>114.46</td>\n",
       "      <td>1.728115</td>\n",
       "      <td>114.611667</td>\n",
       "      <td>-2.690272</td>\n",
       "      <td>2.538606</td>\n",
       "    </tr>\n",
       "    <tr>\n",
       "      <th>2019-04-01</th>\n",
       "      <td>116.49</td>\n",
       "      <td>3.942833</td>\n",
       "      <td>114.515000</td>\n",
       "      <td>0.472436</td>\n",
       "      <td>1.502564</td>\n",
       "    </tr>\n",
       "    <tr>\n",
       "      <th>2019-03-01</th>\n",
       "      <td>117.39</td>\n",
       "      <td>5.027550</td>\n",
       "      <td>114.186250</td>\n",
       "      <td>4.038665</td>\n",
       "      <td>-0.834915</td>\n",
       "    </tr>\n",
       "    <tr>\n",
       "      <th>2019-02-01</th>\n",
       "      <td>103.70</td>\n",
       "      <td>-8.477732</td>\n",
       "      <td>113.873333</td>\n",
       "      <td>-7.282689</td>\n",
       "      <td>-2.890644</td>\n",
       "    </tr>\n",
       "  </tbody>\n",
       "</table>\n",
       "</div>"
      ],
      "text/plain": [
       "            valeur    notrend       trend  seasonal     resid\n",
       "Période                                                      \n",
       "2019-11-01  115.90   2.059811         NaN  0.555686       NaN\n",
       "2019-10-01  123.81  10.154529         NaN  4.925019       NaN\n",
       "2019-09-01  114.43   0.959246         NaN  0.758228       NaN\n",
       "2019-08-01  114.47   1.183963         NaN -3.405835       NaN\n",
       "2019-07-01  109.02  -4.081319         NaN -5.494897       NaN\n",
       "2019-06-01  115.40   2.483398         NaN  0.980536       NaN\n",
       "2019-05-01  114.46   1.728115  114.611667 -2.690272  2.538606\n",
       "2019-04-01  116.49   3.942833  114.515000  0.472436  1.502564\n",
       "2019-03-01  117.39   5.027550  114.186250  4.038665 -0.834915\n",
       "2019-02-01  103.70  -8.477732  113.873333 -7.282689 -2.890644"
      ]
     },
     "execution_count": 13,
     "metadata": {},
     "output_type": "execute_result"
    }
   ],
   "source": [
    "data['trend']= data_decompose.trend\n",
    "data['seasonal'] = data_decompose.seasonal\n",
    "data['resid'] = data_decompose.resid\n",
    "\n",
    "data.head(10)"
   ]
  },
  {
   "cell_type": "code",
   "execution_count": 14,
   "metadata": {},
   "outputs": [
    {
     "name": "stdout",
     "output_type": "stream",
     "text": [
      "ADF Statistic: -3.466618\n",
      "p-value: 0.008887\n",
      "Critical Values:\n",
      "\t1%: -3.458\n",
      "\t5%: -2.874\n",
      "\t10%: -2.573\n"
     ]
    }
   ],
   "source": [
    "#test de dickeyfuller\n",
    "from statsmodels.tsa.stattools import adfuller\n",
    "X = data.notrend\n",
    "result = adfuller(X)\n",
    "print('ADF Statistic: %f' % result[0])\n",
    "print('p-value: %f' % result[1])\n",
    "print('Critical Values:')\n",
    "for key, value in result[4].items():\n",
    "\tprint('\\t%s: %.3f' % (key, value))"
   ]
  },
  {
   "cell_type": "markdown",
   "metadata": {},
   "source": [
    "## Méthode 2 faire les transformations à la main pour obtenir une série stationnaire"
   ]
  },
  {
   "cell_type": "code",
   "execution_count": 15,
   "metadata": {},
   "outputs": [
    {
     "data": {
      "text/html": [
       "<div>\n",
       "<style scoped>\n",
       "    .dataframe tbody tr th:only-of-type {\n",
       "        vertical-align: middle;\n",
       "    }\n",
       "\n",
       "    .dataframe tbody tr th {\n",
       "        vertical-align: top;\n",
       "    }\n",
       "\n",
       "    .dataframe thead th {\n",
       "        text-align: right;\n",
       "    }\n",
       "</style>\n",
       "<table border=\"1\" class=\"dataframe\">\n",
       "  <thead>\n",
       "    <tr style=\"text-align: right;\">\n",
       "      <th></th>\n",
       "      <th>valeur</th>\n",
       "    </tr>\n",
       "    <tr>\n",
       "      <th>Période</th>\n",
       "      <th></th>\n",
       "    </tr>\n",
       "  </thead>\n",
       "  <tbody>\n",
       "    <tr>\n",
       "      <th>2019-11-01</th>\n",
       "      <td>115.90</td>\n",
       "    </tr>\n",
       "    <tr>\n",
       "      <th>2019-10-01</th>\n",
       "      <td>123.81</td>\n",
       "    </tr>\n",
       "    <tr>\n",
       "      <th>2019-09-01</th>\n",
       "      <td>114.43</td>\n",
       "    </tr>\n",
       "    <tr>\n",
       "      <th>2019-08-01</th>\n",
       "      <td>114.47</td>\n",
       "    </tr>\n",
       "    <tr>\n",
       "      <th>2019-07-01</th>\n",
       "      <td>109.02</td>\n",
       "    </tr>\n",
       "  </tbody>\n",
       "</table>\n",
       "</div>"
      ],
      "text/plain": [
       "            valeur\n",
       "Période           \n",
       "2019-11-01  115.90\n",
       "2019-10-01  123.81\n",
       "2019-09-01  114.43\n",
       "2019-08-01  114.47\n",
       "2019-07-01  109.02"
      ]
     },
     "execution_count": 15,
     "metadata": {},
     "output_type": "execute_result"
    }
   ],
   "source": [
    "# récup les données\n",
    "data2 =  pd.read_csv(\"valeurs_mensuelles.csv\", sep=\";\",skiprows= 2, index_col = 0, parse_dates = True)\n",
    "data2 = data2.drop(\"Unnamed: 2\", axis = 1)\n",
    "data2 = data2.rename(columns= {'Unnamed: 1':'valeur'})\n",
    "data2.head()\n"
   ]
  },
  {
   "cell_type": "code",
   "execution_count": 16,
   "metadata": {},
   "outputs": [
    {
     "data": {
      "text/html": [
       "<div>\n",
       "<style scoped>\n",
       "    .dataframe tbody tr th:only-of-type {\n",
       "        vertical-align: middle;\n",
       "    }\n",
       "\n",
       "    .dataframe tbody tr th {\n",
       "        vertical-align: top;\n",
       "    }\n",
       "\n",
       "    .dataframe thead th {\n",
       "        text-align: right;\n",
       "    }\n",
       "</style>\n",
       "<table border=\"1\" class=\"dataframe\">\n",
       "  <thead>\n",
       "    <tr style=\"text-align: right;\">\n",
       "      <th></th>\n",
       "      <th>valeur</th>\n",
       "      <th>diff première</th>\n",
       "    </tr>\n",
       "    <tr>\n",
       "      <th>Période</th>\n",
       "      <th></th>\n",
       "      <th></th>\n",
       "    </tr>\n",
       "  </thead>\n",
       "  <tbody>\n",
       "    <tr>\n",
       "      <th>2019-11-01</th>\n",
       "      <td>115.90</td>\n",
       "      <td>NaN</td>\n",
       "    </tr>\n",
       "    <tr>\n",
       "      <th>2019-10-01</th>\n",
       "      <td>123.81</td>\n",
       "      <td>7.91</td>\n",
       "    </tr>\n",
       "    <tr>\n",
       "      <th>2019-09-01</th>\n",
       "      <td>114.43</td>\n",
       "      <td>-9.38</td>\n",
       "    </tr>\n",
       "    <tr>\n",
       "      <th>2019-08-01</th>\n",
       "      <td>114.47</td>\n",
       "      <td>0.04</td>\n",
       "    </tr>\n",
       "    <tr>\n",
       "      <th>2019-07-01</th>\n",
       "      <td>109.02</td>\n",
       "      <td>-5.45</td>\n",
       "    </tr>\n",
       "  </tbody>\n",
       "</table>\n",
       "</div>"
      ],
      "text/plain": [
       "            valeur  diff première\n",
       "Période                          \n",
       "2019-11-01  115.90            NaN\n",
       "2019-10-01  123.81           7.91\n",
       "2019-09-01  114.43          -9.38\n",
       "2019-08-01  114.47           0.04\n",
       "2019-07-01  109.02          -5.45"
      ]
     },
     "execution_count": 16,
     "metadata": {},
     "output_type": "execute_result"
    }
   ],
   "source": [
    "#difference première à la main\n",
    "data2['diff première']=data2.diff(axis = 0, periods = 1) \n",
    "#difference second\n",
    "\n",
    "data2.head()"
   ]
  },
  {
   "cell_type": "code",
   "execution_count": 17,
   "metadata": {},
   "outputs": [
    {
     "data": {
      "text/html": [
       "<div>\n",
       "<style scoped>\n",
       "    .dataframe tbody tr th:only-of-type {\n",
       "        vertical-align: middle;\n",
       "    }\n",
       "\n",
       "    .dataframe tbody tr th {\n",
       "        vertical-align: top;\n",
       "    }\n",
       "\n",
       "    .dataframe thead th {\n",
       "        text-align: right;\n",
       "    }\n",
       "</style>\n",
       "<table border=\"1\" class=\"dataframe\">\n",
       "  <thead>\n",
       "    <tr style=\"text-align: right;\">\n",
       "      <th></th>\n",
       "      <th>valeur</th>\n",
       "      <th>diff première</th>\n",
       "      <th>diff second</th>\n",
       "    </tr>\n",
       "    <tr>\n",
       "      <th>Période</th>\n",
       "      <th></th>\n",
       "      <th></th>\n",
       "      <th></th>\n",
       "    </tr>\n",
       "  </thead>\n",
       "  <tbody>\n",
       "    <tr>\n",
       "      <th>2019-09-01</th>\n",
       "      <td>114.43</td>\n",
       "      <td>-9.38</td>\n",
       "      <td>-17.29</td>\n",
       "    </tr>\n",
       "    <tr>\n",
       "      <th>2019-08-01</th>\n",
       "      <td>114.47</td>\n",
       "      <td>0.04</td>\n",
       "      <td>9.42</td>\n",
       "    </tr>\n",
       "    <tr>\n",
       "      <th>2019-07-01</th>\n",
       "      <td>109.02</td>\n",
       "      <td>-5.45</td>\n",
       "      <td>-5.49</td>\n",
       "    </tr>\n",
       "    <tr>\n",
       "      <th>2019-06-01</th>\n",
       "      <td>115.40</td>\n",
       "      <td>6.38</td>\n",
       "      <td>11.83</td>\n",
       "    </tr>\n",
       "    <tr>\n",
       "      <th>2019-05-01</th>\n",
       "      <td>114.46</td>\n",
       "      <td>-0.94</td>\n",
       "      <td>-7.32</td>\n",
       "    </tr>\n",
       "  </tbody>\n",
       "</table>\n",
       "</div>"
      ],
      "text/plain": [
       "            valeur  diff première  diff second\n",
       "Période                                       \n",
       "2019-09-01  114.43          -9.38       -17.29\n",
       "2019-08-01  114.47           0.04         9.42\n",
       "2019-07-01  109.02          -5.45        -5.49\n",
       "2019-06-01  115.40           6.38        11.83\n",
       "2019-05-01  114.46          -0.94        -7.32"
      ]
     },
     "execution_count": 17,
     "metadata": {},
     "output_type": "execute_result"
    }
   ],
   "source": [
    "data2['diff second'] = data2['diff première'].diff(1)\n",
    "data2.dropna(inplace = True)\n",
    "data2.head()"
   ]
  },
  {
   "cell_type": "code",
   "execution_count": 18,
   "metadata": {},
   "outputs": [
    {
     "data": {
      "text/html": [
       "<div>\n",
       "<style scoped>\n",
       "    .dataframe tbody tr th:only-of-type {\n",
       "        vertical-align: middle;\n",
       "    }\n",
       "\n",
       "    .dataframe tbody tr th {\n",
       "        vertical-align: top;\n",
       "    }\n",
       "\n",
       "    .dataframe thead th {\n",
       "        text-align: right;\n",
       "    }\n",
       "</style>\n",
       "<table border=\"1\" class=\"dataframe\">\n",
       "  <thead>\n",
       "    <tr style=\"text-align: right;\">\n",
       "      <th></th>\n",
       "      <th>valeur</th>\n",
       "      <th>diff première</th>\n",
       "      <th>diff second</th>\n",
       "      <th>diff 12</th>\n",
       "    </tr>\n",
       "    <tr>\n",
       "      <th>Période</th>\n",
       "      <th></th>\n",
       "      <th></th>\n",
       "      <th></th>\n",
       "      <th></th>\n",
       "    </tr>\n",
       "  </thead>\n",
       "  <tbody>\n",
       "    <tr>\n",
       "      <th>2018-09-01</th>\n",
       "      <td>109.06</td>\n",
       "      <td>-12.23</td>\n",
       "      <td>-17.42</td>\n",
       "      <td>-5.37</td>\n",
       "    </tr>\n",
       "    <tr>\n",
       "      <th>2018-08-01</th>\n",
       "      <td>112.33</td>\n",
       "      <td>3.27</td>\n",
       "      <td>15.50</td>\n",
       "      <td>-2.14</td>\n",
       "    </tr>\n",
       "    <tr>\n",
       "      <th>2018-07-01</th>\n",
       "      <td>103.07</td>\n",
       "      <td>-9.26</td>\n",
       "      <td>-12.53</td>\n",
       "      <td>-5.95</td>\n",
       "    </tr>\n",
       "    <tr>\n",
       "      <th>2018-06-01</th>\n",
       "      <td>116.51</td>\n",
       "      <td>13.44</td>\n",
       "      <td>22.70</td>\n",
       "      <td>1.11</td>\n",
       "    </tr>\n",
       "    <tr>\n",
       "      <th>2018-05-01</th>\n",
       "      <td>109.31</td>\n",
       "      <td>-7.20</td>\n",
       "      <td>-20.64</td>\n",
       "      <td>-5.15</td>\n",
       "    </tr>\n",
       "  </tbody>\n",
       "</table>\n",
       "</div>"
      ],
      "text/plain": [
       "            valeur  diff première  diff second  diff 12\n",
       "Période                                                \n",
       "2018-09-01  109.06         -12.23       -17.42    -5.37\n",
       "2018-08-01  112.33           3.27        15.50    -2.14\n",
       "2018-07-01  103.07          -9.26       -12.53    -5.95\n",
       "2018-06-01  116.51          13.44        22.70     1.11\n",
       "2018-05-01  109.31          -7.20       -20.64    -5.15"
      ]
     },
     "execution_count": 18,
     "metadata": {},
     "output_type": "execute_result"
    }
   ],
   "source": [
    "data2['diff 12'] = data2['valeur'].diff(12)\n",
    "data2.dropna(inplace = True)\n",
    "data2.head()"
   ]
  },
  {
   "cell_type": "code",
   "execution_count": 19,
   "metadata": {},
   "outputs": [
    {
     "data": {
      "text/plain": [
       "valeur           109.06\n",
       "diff première    -12.23\n",
       "diff second      -17.42\n",
       "diff 12           -5.37\n",
       "Name: 2018-09-01 00:00:00, dtype: float64"
      ]
     },
     "execution_count": 19,
     "metadata": {},
     "output_type": "execute_result"
    }
   ],
   "source": [
    "(data2.iloc[0])"
   ]
  },
  {
   "cell_type": "code",
   "execution_count": 20,
   "metadata": {},
   "outputs": [
    {
     "data": {
      "text/html": [
       "<div>\n",
       "<style scoped>\n",
       "    .dataframe tbody tr th:only-of-type {\n",
       "        vertical-align: middle;\n",
       "    }\n",
       "\n",
       "    .dataframe tbody tr th {\n",
       "        vertical-align: top;\n",
       "    }\n",
       "\n",
       "    .dataframe thead th {\n",
       "        text-align: right;\n",
       "    }\n",
       "</style>\n",
       "<table border=\"1\" class=\"dataframe\">\n",
       "  <thead>\n",
       "    <tr style=\"text-align: right;\">\n",
       "      <th></th>\n",
       "      <th>valeur</th>\n",
       "      <th>diff première</th>\n",
       "      <th>diff second</th>\n",
       "      <th>diff 12</th>\n",
       "      <th>diff12_1</th>\n",
       "      <th>date</th>\n",
       "    </tr>\n",
       "    <tr>\n",
       "      <th>Période</th>\n",
       "      <th></th>\n",
       "      <th></th>\n",
       "      <th></th>\n",
       "      <th></th>\n",
       "      <th></th>\n",
       "      <th></th>\n",
       "    </tr>\n",
       "  </thead>\n",
       "  <tbody>\n",
       "    <tr>\n",
       "      <th>2018-08-01</th>\n",
       "      <td>112.33</td>\n",
       "      <td>3.27</td>\n",
       "      <td>15.50</td>\n",
       "      <td>-2.14</td>\n",
       "      <td>3.23</td>\n",
       "      <td>0</td>\n",
       "    </tr>\n",
       "    <tr>\n",
       "      <th>2018-07-01</th>\n",
       "      <td>103.07</td>\n",
       "      <td>-9.26</td>\n",
       "      <td>-12.53</td>\n",
       "      <td>-5.95</td>\n",
       "      <td>-3.81</td>\n",
       "      <td>1</td>\n",
       "    </tr>\n",
       "    <tr>\n",
       "      <th>2018-06-01</th>\n",
       "      <td>116.51</td>\n",
       "      <td>13.44</td>\n",
       "      <td>22.70</td>\n",
       "      <td>1.11</td>\n",
       "      <td>7.06</td>\n",
       "      <td>2</td>\n",
       "    </tr>\n",
       "    <tr>\n",
       "      <th>2018-05-01</th>\n",
       "      <td>109.31</td>\n",
       "      <td>-7.20</td>\n",
       "      <td>-20.64</td>\n",
       "      <td>-5.15</td>\n",
       "      <td>-6.26</td>\n",
       "      <td>3</td>\n",
       "    </tr>\n",
       "    <tr>\n",
       "      <th>2018-04-01</th>\n",
       "      <td>108.75</td>\n",
       "      <td>-0.56</td>\n",
       "      <td>6.64</td>\n",
       "      <td>-7.74</td>\n",
       "      <td>-2.59</td>\n",
       "      <td>4</td>\n",
       "    </tr>\n",
       "  </tbody>\n",
       "</table>\n",
       "</div>"
      ],
      "text/plain": [
       "            valeur  diff première  diff second  diff 12  diff12_1  date\n",
       "Période                                                                \n",
       "2018-08-01  112.33           3.27        15.50    -2.14      3.23     0\n",
       "2018-07-01  103.07          -9.26       -12.53    -5.95     -3.81     1\n",
       "2018-06-01  116.51          13.44        22.70     1.11      7.06     2\n",
       "2018-05-01  109.31          -7.20       -20.64    -5.15     -6.26     3\n",
       "2018-04-01  108.75          -0.56         6.64    -7.74     -2.59     4"
      ]
     },
     "execution_count": 20,
     "metadata": {},
     "output_type": "execute_result"
    }
   ],
   "source": [
    "import numpy as np\n",
    "data2['diff12_1'] = data2['diff 12'].diff(1)\n",
    "data2.dropna(inplace = True)\n",
    "data2['date']= np.arange(len(data2.index))\n",
    "data2.head()\n"
   ]
  },
  {
   "cell_type": "code",
   "execution_count": 23,
   "metadata": {},
   "outputs": [
    {
     "data": {
      "text/plain": [
       "<AxesSubplot:xlabel='Période'>"
      ]
     },
     "execution_count": 23,
     "metadata": {},
     "output_type": "execute_result"
    },
    {
     "data": {
      "image/png": "[encoded data removed]",
      "text/plain": [
       "<Figure size 1008x288 with 1 Axes>"
      ]
     },
     "metadata": {
      "needs_background": "light"
     },
     "output_type": "display_data"
    }
   ],
   "source": [
    "data2.plot(y=['valeur', 'diff première', 'diff second', 'diff 12', 'diff12_1'], figsize=(14,4)) "
   ]
  },
  {
   "cell_type": "code",
   "execution_count": 24,
   "metadata": {},
   "outputs": [
    {
     "name": "stdout",
     "output_type": "stream",
     "text": [
      "ADF Statistic: -2.906771\n",
      "p-value: 0.044566\n",
      "Critical Values:\n",
      "\t1%: -3.460\n",
      "\t5%: -2.875\n",
      "\t10%: -2.574\n"
     ]
    }
   ],
   "source": [
    "#test de dickeyfuller\n",
    "from statsmodels.tsa.stattools import adfuller\n",
    "data2 = data2.dropna()\n",
    "data2.head()\n",
    "X = data2['diff première']\n",
    "result = adfuller(X)\n",
    "print('ADF Statistic: %f' % result[0])\n",
    "print('p-value: %f' % result[1])\n",
    "print('Critical Values:')\n",
    "for key, value in result[4].items():\n",
    "\tprint('\\t%s: %.3f' % (key, value))"
   ]
  },
  {
   "cell_type": "code",
   "execution_count": 25,
   "metadata": {},
   "outputs": [
    {
     "name": "stdout",
     "output_type": "stream",
     "text": [
      "ADF Statistic: -19.650979\n",
      "p-value: 0.000000\n",
      "Critical Values:\n",
      "\t1%: -3.460\n",
      "\t5%: -2.875\n",
      "\t10%: -2.574\n"
     ]
    }
   ],
   "source": [
    "#test dickey fuller diff second\n",
    "from statsmodels.tsa.stattools import adfuller\n",
    "data2 = data2.dropna()\n",
    "data2.head()\n",
    "Z = data2['diff second']\n",
    "result = adfuller(Z)\n",
    "print('ADF Statistic: %f' % result[0])\n",
    "print('p-value: %f' % result[1])\n",
    "print('Critical Values:')\n",
    "for key, value in result[4].items():\n",
    "\tprint('\\t%s: %.3f' % (key, value))"
   ]
  },
  {
   "cell_type": "code",
   "execution_count": 26,
   "metadata": {},
   "outputs": [
    {
     "name": "stdout",
     "output_type": "stream",
     "text": [
      "ADF Statistic: -3.800554\n",
      "p-value: 0.002902\n",
      "Critical Values:\n",
      "\t1%: -3.460\n",
      "\t5%: -2.875\n",
      "\t10%: -2.574\n"
     ]
    }
   ],
   "source": [
    "#tesdickey fuller diff 12\n",
    "from statsmodels.tsa.stattools import adfuller\n",
    "data2 = data2.dropna()\n",
    "data2.head()\n",
    "T = data2['diff 12']\n",
    "result = adfuller(T)\n",
    "print('ADF Statistic: %f' % result[0])\n",
    "print('p-value: %f' % result[1])\n",
    "print('Critical Values:')\n",
    "for key, value in result[4].items():\n",
    "\tprint('\\t%s: %.3f' % (key, value))"
   ]
  },
  {
   "cell_type": "code",
   "execution_count": 27,
   "metadata": {},
   "outputs": [
    {
     "name": "stdout",
     "output_type": "stream",
     "text": [
      "ADF Statistic: -5.475371\n",
      "p-value: 0.000002\n",
      "Critical Values:\n",
      "\t1%: -3.460\n",
      "\t5%: -2.875\n",
      "\t10%: -2.574\n"
     ]
    }
   ],
   "source": [
    "#tesdickey fuller diff 12 et 1\n",
    "from statsmodels.tsa.stattools import adfuller\n",
    "data2 = data2.dropna()\n",
    "data2.head()\n",
    "R = data2['diff12_1']\n",
    "result = adfuller(R)\n",
    "print('ADF Statistic: %f' % result[0])\n",
    "print('p-value: %f' % result[1])\n",
    "print('Critical Values:')\n",
    "for key, value in result[4].items():\n",
    "\tprint('\\t%s: %.3f' % (key, value))"
   ]
  },
  {
   "cell_type": "markdown",
   "metadata": {},
   "source": [
    "## Tracer les autocorelations et les autocorelations partielles"
   ]
  },
  {
   "cell_type": "code",
   "execution_count": 28,
   "metadata": {},
   "outputs": [
    {
     "data": {
      "image/png": "[encoded data removed]",
      "text/plain": [
       "<Figure size 432x288 with 1 Axes>"
      ]
     },
     "metadata": {
      "needs_background": "light"
     },
     "output_type": "display_data"
    }
   ],
   "source": [
    "#trace les autocorelations\n",
    "from statsmodels.graphics.tsaplots import plot_acf\n",
    "from matplotlib import pyplot\n",
    "plot_acf(R)\n",
    "pyplot.show()\n"
   ]
  },
  {
   "cell_type": "code",
   "execution_count": 29,
   "metadata": {},
   "outputs": [
    {
     "data": {
      "image/png": "[encoded data removed]",
      "text/plain": [
       "<Figure size 432x288 with 1 Axes>"
      ]
     },
     "metadata": {
      "needs_background": "light"
     },
     "output_type": "display_data"
    }
   ],
   "source": [
    "#envie de zommer sur quelques valeurs\n",
    "plot_acf(R, lags = 50)\n",
    "pyplot.show()"
   ]
  },
  {
   "cell_type": "code",
   "execution_count": 30,
   "metadata": {},
   "outputs": [
    {
     "data": {
      "image/png": "[encoded data removed]",
      "text/plain": [
       "<Figure size 432x288 with 1 Axes>"
      ]
     },
     "metadata": {
      "needs_background": "light"
     },
     "output_type": "display_data"
    }
   ],
   "source": [
    "#trace les autocorelations partielles\n",
    "from statsmodels.graphics.tsaplots import plot_pacf\n",
    "plot_pacf(R, lags=50)\n",
    "pyplot.show()"
   ]
  },
  {
   "cell_type": "markdown",
   "metadata": {},
   "source": [
    "## Modèle ARMA"
   ]
  },
  {
   "cell_type": "code",
   "execution_count": 31,
   "metadata": {},
   "outputs": [
    {
     "name": "stderr",
     "output_type": "stream",
     "text": [
      "C:\\Users\\TURBULANCE\\anaconda3\\lib\\site-packages\\statsmodels\\tsa\\arima_model.py:472: FutureWarning: \n",
      "statsmodels.tsa.arima_model.ARMA and statsmodels.tsa.arima_model.ARIMA have\n",
      "been deprecated in favor of statsmodels.tsa.arima.model.ARIMA (note the .\n",
      "between arima and model) and\n",
      "statsmodels.tsa.SARIMAX. These will be removed after the 0.12 release.\n",
      "\n",
      "statsmodels.tsa.arima.model.ARIMA makes use of the statespace framework and\n",
      "is both well tested and maintained.\n",
      "\n",
      "To silence this warning and continue using ARMA and ARIMA until they are\n",
      "removed, use:\n",
      "\n",
      "import warnings\n",
      "warnings.filterwarnings('ignore', 'statsmodels.tsa.arima_model.ARMA',\n",
      "                        FutureWarning)\n",
      "warnings.filterwarnings('ignore', 'statsmodels.tsa.arima_model.ARIMA',\n",
      "                        FutureWarning)\n",
      "\n",
      "  warnings.warn(ARIMA_DEPRECATION_WARN, FutureWarning)\n",
      "C:\\Users\\TURBULANCE\\anaconda3\\lib\\site-packages\\statsmodels\\tsa\\base\\tsa_model.py:524: ValueWarning: No frequency information was provided, so inferred frequency -1MS will be used.\n",
      "  warnings.warn('No frequency information was'\n",
      "C:\\Users\\TURBULANCE\\anaconda3\\lib\\site-packages\\statsmodels\\tsa\\base\\tsa_model.py:585: ValueWarning: A date index has been provided, but it is not monotonic and so will be ignored when e.g. forecasting.\n",
      "  warnings.warn('A date index has been provided, but it is not'\n"
     ]
    },
    {
     "name": "stdout",
     "output_type": "stream",
     "text": [
      "                              ARMA Model Results                              \n",
      "==============================================================================\n",
      "Dep. Variable:               diff12_1   No. Observations:                  236\n",
      "Model:                     ARMA(3, 0)   Log Likelihood                -531.151\n",
      "Method:                       css-mle   S.D. of innovations              2.292\n",
      "Date:                Wed, 16 Feb 2022   AIC                           1072.301\n",
      "Time:                        00:05:13   BIC                           1089.620\n",
      "Sample:                             0   HQIC                          1079.283\n",
      "                                                                              \n",
      "==================================================================================\n",
      "                     coef    std err          z      P>|z|      [0.025      0.975]\n",
      "----------------------------------------------------------------------------------\n",
      "const             -0.0016      0.065     -0.024      0.981      -0.130       0.127\n",
      "ar.L1.diff12_1    -0.8308      0.065    -12.720      0.000      -0.959      -0.703\n",
      "ar.L2.diff12_1    -0.5144      0.078     -6.617      0.000      -0.667      -0.362\n",
      "ar.L3.diff12_1     0.0589      0.066      0.895      0.371      -0.070       0.188\n",
      "                                    Roots                                    \n",
      "=============================================================================\n",
      "                  Real          Imaginary           Modulus         Frequency\n",
      "-----------------------------------------------------------------------------\n",
      "AR.1           -0.7674           -1.0319j            1.2860           -0.3518\n",
      "AR.2           -0.7674           +1.0319j            1.2860            0.3518\n",
      "AR.3           10.2743           -0.0000j           10.2743           -0.0000\n",
      "-----------------------------------------------------------------------------\n",
      "Période\n",
      "2018-08-01    3.231550\n",
      "2018-07-01   -2.024519\n",
      "2018-06-01    5.597370\n",
      "2018-05-01   -2.540907\n",
      "2018-04-01   -3.931539\n",
      "                ...   \n",
      "1999-05-01   -4.396493\n",
      "1999-04-01    0.750850\n",
      "1999-03-01   -0.211714\n",
      "1999-02-01    0.635582\n",
      "1999-01-01   -0.323556\n",
      "Length: 236, dtype: float64\n"
     ]
    }
   ],
   "source": [
    "from statsmodels.tsa.arima_model import ARMA\n",
    "model = ARMA(data2.diff12_1,(3,0))\n",
    "train = model.fit()\n",
    "print(train.summary())\n",
    "\n",
    "print(train.resid)"
   ]
  },
  {
   "cell_type": "code",
   "execution_count": 32,
   "metadata": {},
   "outputs": [],
   "source": [
    "residus = train.resid"
   ]
  },
  {
   "cell_type": "code",
   "execution_count": 33,
   "metadata": {},
   "outputs": [],
   "source": [
    "#imprimer le summary\n",
    "#Tester les résidus si ils sont stationnaires\n",
    "#si modèle bon on doit fitter "
   ]
  }
 ],
 "metadata": {
  "kernelspec": {
   "display_name": "Python 3 (ipykernel)",
   "language": "python",
   "name": "python3"
  },
  "language_info": {
   "codemirror_mode": {
    "name": "ipython",
    "version": 3
   },
   "file_extension": ".py",
   "mimetype": "text/x-python",
   "name": "python",
   "nbconvert_exporter": "python",
   "pygments_lexer": "ipython3",
   "version": "3.9.7"
  }
 },
 "nbformat": 4,
 "nbformat_minor": 2
}
